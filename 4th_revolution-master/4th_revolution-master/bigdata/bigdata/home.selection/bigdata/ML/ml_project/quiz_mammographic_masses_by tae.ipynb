{
 "cells": [
  {
   "cell_type": "markdown",
   "metadata": {},
   "source": [
    "# mammographic_masses analysis (유방 뢴트겐 조영 집단 분석???)"
   ]
  },
  {
   "cell_type": "code",
   "execution_count": null,
   "metadata": {},
   "outputs": [],
   "source": []
  },
  {
   "cell_type": "code",
   "execution_count": null,
   "metadata": {},
   "outputs": [],
   "source": [
    "import pandas as pd\n",
    "import numpy as np\n",
    "import matplotlib.pyplot as plt\n",
    "import seaborn as sns\n",
    "%matplotlib inline"
   ]
  },
  {
   "cell_type": "code",
   "execution_count": null,
   "metadata": {},
   "outputs": [],
   "source": [
    "# data load\n",
    "# data에는 컬럼이 지정되어 있지 않아, 각 컬럼별 [유방결절 평가, 나이, 유방 질량의 모양, 여백, 밀도, 심각도] 지정를 해준다.\n",
    "columns = ['BI_RADS', 'age', 'shape', 'margin', 'density','severity']\n",
    "data = pd.read_csv('mammographic_masses.data.txt', names = columns)"
   ]
  },
  {
   "cell_type": "code",
   "execution_count": null,
   "metadata": {},
   "outputs": [],
   "source": [
    "data.head()"
   ]
  },
  {
   "cell_type": "code",
   "execution_count": 4,
   "metadata": {},
   "outputs": [
    {
     "name": "stdout",
     "output_type": "stream",
     "text": [
      "<class 'pandas.core.frame.DataFrame'>\n",
      "RangeIndex: 961 entries, 0 to 960\n",
      "Data columns (total 6 columns):\n",
      "BI_RADS     961 non-null object\n",
      "age         961 non-null object\n",
      "shape       961 non-null object\n",
      "margin      961 non-null object\n",
      "density     961 non-null object\n",
      "severity    961 non-null int64\n",
      "dtypes: int64(1), object(5)\n",
      "memory usage: 45.1+ KB\n"
     ]
    }
   ],
   "source": [
    "data.info()"
   ]
  },
  {
   "cell_type": "code",
   "execution_count": 5,
   "metadata": {},
   "outputs": [
    {
     "data": {
      "text/html": [
       "<div>\n",
       "<style scoped>\n",
       "    .dataframe tbody tr th:only-of-type {\n",
       "        vertical-align: middle;\n",
       "    }\n",
       "\n",
       "    .dataframe tbody tr th {\n",
       "        vertical-align: top;\n",
       "    }\n",
       "\n",
       "    .dataframe thead th {\n",
       "        text-align: right;\n",
       "    }\n",
       "</style>\n",
       "<table border=\"1\" class=\"dataframe\">\n",
       "  <thead>\n",
       "    <tr style=\"text-align: right;\">\n",
       "      <th></th>\n",
       "      <th>severity</th>\n",
       "    </tr>\n",
       "  </thead>\n",
       "  <tbody>\n",
       "    <tr>\n",
       "      <th>count</th>\n",
       "      <td>961.000000</td>\n",
       "    </tr>\n",
       "    <tr>\n",
       "      <th>mean</th>\n",
       "      <td>0.463059</td>\n",
       "    </tr>\n",
       "    <tr>\n",
       "      <th>std</th>\n",
       "      <td>0.498893</td>\n",
       "    </tr>\n",
       "    <tr>\n",
       "      <th>min</th>\n",
       "      <td>0.000000</td>\n",
       "    </tr>\n",
       "    <tr>\n",
       "      <th>25%</th>\n",
       "      <td>0.000000</td>\n",
       "    </tr>\n",
       "    <tr>\n",
       "      <th>50%</th>\n",
       "      <td>0.000000</td>\n",
       "    </tr>\n",
       "    <tr>\n",
       "      <th>75%</th>\n",
       "      <td>1.000000</td>\n",
       "    </tr>\n",
       "    <tr>\n",
       "      <th>max</th>\n",
       "      <td>1.000000</td>\n",
       "    </tr>\n",
       "  </tbody>\n",
       "</table>\n",
       "</div>"
      ],
      "text/plain": [
       "         severity\n",
       "count  961.000000\n",
       "mean     0.463059\n",
       "std      0.498893\n",
       "min      0.000000\n",
       "25%      0.000000\n",
       "50%      0.000000\n",
       "75%      1.000000\n",
       "max      1.000000"
      ]
     },
     "execution_count": 5,
     "metadata": {},
     "output_type": "execute_result"
    }
   ],
   "source": [
    "data.describe()"
   ]
  },
  {
   "cell_type": "code",
   "execution_count": 6,
   "metadata": {
    "scrolled": false
   },
   "outputs": [
    {
     "name": "stdout",
     "output_type": "stream",
     "text": [
      "0    516\n",
      "1    445\n",
      "Name: severity, dtype: int64\n"
     ]
    },
    {
     "data": {
      "text/plain": [
       "<matplotlib.axes._subplots.AxesSubplot at 0x2186a020d68>"
      ]
     },
     "execution_count": 6,
     "metadata": {},
     "output_type": "execute_result"
    },
    {
     "data": {
      "image/png": "[encoded data removed]",
      "text/plain": [
       "<Figure size 432x288 with 1 Axes>"
      ]
     },
     "metadata": {
      "needs_background": "light"
     },
     "output_type": "display_data"
    }
   ],
   "source": [
    "# 우리가 classification 해야 할 라벨 데이터가 각각 몇개 있는지 확인 ~_~ yes or no인 binary classification 문제\n",
    "print(data['severity'].value_counts())\n",
    "sns.countplot(x='severity', data=data)"
   ]
  },
  {
   "cell_type": "code",
   "execution_count": 7,
   "metadata": {},
   "outputs": [],
   "source": [
    "# data 전처리를 통해 one_hot_encoding을 해준다.. 학습을 위해\n",
    "data = pd.get_dummies(data)"
   ]
  },
  {
   "cell_type": "code",
   "execution_count": 8,
   "metadata": {},
   "outputs": [
    {
     "data": {
      "text/html": [
       "<div>\n",
       "<style scoped>\n",
       "    .dataframe tbody tr th:only-of-type {\n",
       "        vertical-align: middle;\n",
       "    }\n",
       "\n",
       "    .dataframe tbody tr th {\n",
       "        vertical-align: top;\n",
       "    }\n",
       "\n",
       "    .dataframe thead th {\n",
       "        text-align: right;\n",
       "    }\n",
       "</style>\n",
       "<table border=\"1\" class=\"dataframe\">\n",
       "  <thead>\n",
       "    <tr style=\"text-align: right;\">\n",
       "      <th></th>\n",
       "      <th>severity</th>\n",
       "      <th>BI_RADS_0</th>\n",
       "      <th>BI_RADS_2</th>\n",
       "      <th>BI_RADS_3</th>\n",
       "      <th>BI_RADS_4</th>\n",
       "      <th>BI_RADS_5</th>\n",
       "      <th>BI_RADS_55</th>\n",
       "      <th>BI_RADS_6</th>\n",
       "      <th>BI_RADS_?</th>\n",
       "      <th>age_18</th>\n",
       "      <th>...</th>\n",
       "      <th>margin_2</th>\n",
       "      <th>margin_3</th>\n",
       "      <th>margin_4</th>\n",
       "      <th>margin_5</th>\n",
       "      <th>margin_?</th>\n",
       "      <th>density_1</th>\n",
       "      <th>density_2</th>\n",
       "      <th>density_3</th>\n",
       "      <th>density_4</th>\n",
       "      <th>density_?</th>\n",
       "    </tr>\n",
       "  </thead>\n",
       "  <tbody>\n",
       "    <tr>\n",
       "      <th>0</th>\n",
       "      <td>1</td>\n",
       "      <td>0</td>\n",
       "      <td>0</td>\n",
       "      <td>0</td>\n",
       "      <td>0</td>\n",
       "      <td>1</td>\n",
       "      <td>0</td>\n",
       "      <td>0</td>\n",
       "      <td>0</td>\n",
       "      <td>0</td>\n",
       "      <td>...</td>\n",
       "      <td>0</td>\n",
       "      <td>0</td>\n",
       "      <td>0</td>\n",
       "      <td>1</td>\n",
       "      <td>0</td>\n",
       "      <td>0</td>\n",
       "      <td>0</td>\n",
       "      <td>1</td>\n",
       "      <td>0</td>\n",
       "      <td>0</td>\n",
       "    </tr>\n",
       "    <tr>\n",
       "      <th>1</th>\n",
       "      <td>1</td>\n",
       "      <td>0</td>\n",
       "      <td>0</td>\n",
       "      <td>0</td>\n",
       "      <td>1</td>\n",
       "      <td>0</td>\n",
       "      <td>0</td>\n",
       "      <td>0</td>\n",
       "      <td>0</td>\n",
       "      <td>0</td>\n",
       "      <td>...</td>\n",
       "      <td>0</td>\n",
       "      <td>0</td>\n",
       "      <td>0</td>\n",
       "      <td>0</td>\n",
       "      <td>0</td>\n",
       "      <td>0</td>\n",
       "      <td>0</td>\n",
       "      <td>0</td>\n",
       "      <td>0</td>\n",
       "      <td>1</td>\n",
       "    </tr>\n",
       "    <tr>\n",
       "      <th>2</th>\n",
       "      <td>1</td>\n",
       "      <td>0</td>\n",
       "      <td>0</td>\n",
       "      <td>0</td>\n",
       "      <td>0</td>\n",
       "      <td>1</td>\n",
       "      <td>0</td>\n",
       "      <td>0</td>\n",
       "      <td>0</td>\n",
       "      <td>0</td>\n",
       "      <td>...</td>\n",
       "      <td>0</td>\n",
       "      <td>0</td>\n",
       "      <td>0</td>\n",
       "      <td>1</td>\n",
       "      <td>0</td>\n",
       "      <td>0</td>\n",
       "      <td>0</td>\n",
       "      <td>1</td>\n",
       "      <td>0</td>\n",
       "      <td>0</td>\n",
       "    </tr>\n",
       "    <tr>\n",
       "      <th>3</th>\n",
       "      <td>0</td>\n",
       "      <td>0</td>\n",
       "      <td>0</td>\n",
       "      <td>0</td>\n",
       "      <td>1</td>\n",
       "      <td>0</td>\n",
       "      <td>0</td>\n",
       "      <td>0</td>\n",
       "      <td>0</td>\n",
       "      <td>0</td>\n",
       "      <td>...</td>\n",
       "      <td>0</td>\n",
       "      <td>0</td>\n",
       "      <td>0</td>\n",
       "      <td>0</td>\n",
       "      <td>0</td>\n",
       "      <td>0</td>\n",
       "      <td>0</td>\n",
       "      <td>1</td>\n",
       "      <td>0</td>\n",
       "      <td>0</td>\n",
       "    </tr>\n",
       "    <tr>\n",
       "      <th>4</th>\n",
       "      <td>1</td>\n",
       "      <td>0</td>\n",
       "      <td>0</td>\n",
       "      <td>0</td>\n",
       "      <td>0</td>\n",
       "      <td>1</td>\n",
       "      <td>0</td>\n",
       "      <td>0</td>\n",
       "      <td>0</td>\n",
       "      <td>0</td>\n",
       "      <td>...</td>\n",
       "      <td>0</td>\n",
       "      <td>0</td>\n",
       "      <td>0</td>\n",
       "      <td>1</td>\n",
       "      <td>0</td>\n",
       "      <td>0</td>\n",
       "      <td>0</td>\n",
       "      <td>0</td>\n",
       "      <td>0</td>\n",
       "      <td>1</td>\n",
       "    </tr>\n",
       "  </tbody>\n",
       "</table>\n",
       "<p>5 rows × 99 columns</p>\n",
       "</div>"
      ],
      "text/plain": [
       "   severity  BI_RADS_0  BI_RADS_2  BI_RADS_3  BI_RADS_4  BI_RADS_5  \\\n",
       "0         1          0          0          0          0          1   \n",
       "1         1          0          0          0          1          0   \n",
       "2         1          0          0          0          0          1   \n",
       "3         0          0          0          0          1          0   \n",
       "4         1          0          0          0          0          1   \n",
       "\n",
       "   BI_RADS_55  BI_RADS_6  BI_RADS_?  age_18  ...  margin_2  margin_3  \\\n",
       "0           0          0          0       0  ...         0         0   \n",
       "1           0          0          0       0  ...         0         0   \n",
       "2           0          0          0       0  ...         0         0   \n",
       "3           0          0          0       0  ...         0         0   \n",
       "4           0          0          0       0  ...         0         0   \n",
       "\n",
       "   margin_4  margin_5  margin_?  density_1  density_2  density_3  density_4  \\\n",
       "0         0         1         0          0          0          1          0   \n",
       "1         0         0         0          0          0          0          0   \n",
       "2         0         1         0          0          0          1          0   \n",
       "3         0         0         0          0          0          1          0   \n",
       "4         0         1         0          0          0          0          0   \n",
       "\n",
       "   density_?  \n",
       "0          0  \n",
       "1          1  \n",
       "2          0  \n",
       "3          0  \n",
       "4          1  \n",
       "\n",
       "[5 rows x 99 columns]"
      ]
     },
     "execution_count": 8,
     "metadata": {},
     "output_type": "execute_result"
    }
   ],
   "source": [
    "data.head()"
   ]
  },
  {
   "cell_type": "code",
   "execution_count": 9,
   "metadata": {},
   "outputs": [],
   "source": [
    "# severity를 예측해야 되므로, severity data를 y로, 나머지 데이터를 x로 ...\n",
    "x = data.drop('severity', axis = 1)\n",
    "y = data['severity']"
   ]
  },
  {
   "cell_type": "code",
   "execution_count": 10,
   "metadata": {},
   "outputs": [],
   "source": [
    "# data를 train, test data set으로 분류 하는데 비율은 train:7 test:3\n",
    "from sklearn.model_selection import train_test_split\n",
    "x_train, x_test, y_train, y_test = train_test_split(x,y, test_size=0.3, random_state=77)"
   ]
  },
  {
   "cell_type": "code",
   "execution_count": null,
   "metadata": {},
   "outputs": [],
   "source": []
  },
  {
   "cell_type": "code",
   "execution_count": 11,
   "metadata": {},
   "outputs": [],
   "source": [
    "from sklearn.ensemble import RandomForestClassifier\n",
    "from sklearn.tree import DecisionTreeClassifier\n",
    "from sklearn.linear_model import LogisticRegression\n",
    "from sklearn.neighbors import KNeighborsClassifier\n",
    "from sklearn.svm import SVC\n",
    "from sklearn.metrics import f1_score\n",
    "from sklearn.metrics import accuracy_score"
   ]
  },
  {
   "cell_type": "code",
   "execution_count": 12,
   "metadata": {},
   "outputs": [
    {
     "name": "stderr",
     "output_type": "stream",
     "text": [
      "C:\\Users\\kimta\\Anaconda3\\lib\\site-packages\\sklearn\\linear_model\\logistic.py:433: FutureWarning: Default solver will be changed to 'lbfgs' in 0.22. Specify a solver to silence this warning.\n",
      "  FutureWarning)\n",
      "C:\\Users\\kimta\\Anaconda3\\lib\\site-packages\\sklearn\\ensemble\\forest.py:246: FutureWarning: The default value of n_estimators will change from 10 in version 0.20 to 100 in 0.22.\n",
      "  \"10 in version 0.20 to 100 in 0.22.\", FutureWarning)\n",
      "C:\\Users\\kimta\\Anaconda3\\lib\\site-packages\\sklearn\\svm\\base.py:196: FutureWarning: The default value of gamma will change from 'auto' to 'scale' in version 0.22 to account better for unscaled features. Set gamma explicitly to 'auto' or 'scale' to avoid this warning.\n",
      "  \"avoid this warning.\", FutureWarning)\n"
     ]
    }
   ],
   "source": [
    "# 각 모델(logistic, knn, decisiontree, randomforest, svm)별 default 값으로 학습 결과를 확인해본다. \n",
    "\n",
    "f1_scores = [] # f1_score를 담을 list\n",
    "accuracy_score = [] # accuracy를 담을 list\n",
    "\n",
    "# 각 모델별 default 값으로 모델을 만든다.\n",
    "logistic_model = LogisticRegression()\n",
    "knn_model = KNeighborsClassifier()\n",
    "dtree_model = DecisionTreeClassifier()\n",
    "randomforest_model = RandomForestClassifier()\n",
    "svm_model = SVC()\n",
    "\n",
    "for model in [logistic_model, knn_model, dtree_model, randomforest_model, svm_model]:\n",
    "    model.fit(x_train, y_train)\n",
    "    predictions = model.predict(x_test)\n",
    "    score = f1_score(y_test, predictions)\n",
    "    f1_scores.append(score)\n",
    "    accuracy_score.append(f1_score(y_test, predictions))"
   ]
  },
  {
   "cell_type": "code",
   "execution_count": 13,
   "metadata": {},
   "outputs": [
    {
     "data": {
      "text/plain": [
       "[0.7851851851851852,\n",
       " 0.7956989247311828,\n",
       " 0.7049808429118773,\n",
       " 0.7715355805243446,\n",
       " 0.7791164658634538]"
      ]
     },
     "execution_count": 13,
     "metadata": {},
     "output_type": "execute_result"
    }
   ],
   "source": [
    "f1_scores"
   ]
  },
  {
   "cell_type": "code",
   "execution_count": 14,
   "metadata": {},
   "outputs": [
    {
     "data": {
      "text/plain": [
       "[0.7851851851851852,\n",
       " 0.7956989247311828,\n",
       " 0.7049808429118773,\n",
       " 0.7715355805243446,\n",
       " 0.7791164658634538]"
      ]
     },
     "execution_count": 14,
     "metadata": {},
     "output_type": "execute_result"
    }
   ],
   "source": [
    "# logistic, knn, decisiontree, randomforest, svm 순으로 정확도 -> default는 knn이 가장 좋다??\n",
    "accuracy_score"
   ]
  },
  {
   "cell_type": "code",
   "execution_count": null,
   "metadata": {},
   "outputs": [],
   "source": []
  },
  {
   "cell_type": "markdown",
   "metadata": {},
   "source": [
    "# Parameter tuning<br>\n",
    "`randomforest model, svm model 두 가지 모델을 tuning 할 예정임` <br>\n",
    "\n"
   ]
  },
  {
   "cell_type": "code",
   "execution_count": 15,
   "metadata": {},
   "outputs": [],
   "source": [
    "from sklearn.model_selection import GridSearchCV"
   ]
  },
  {
   "cell_type": "code",
   "execution_count": 16,
   "metadata": {},
   "outputs": [],
   "source": [
    "param_grid = {'C': [0.0001, 0.001, 0.01, 0.1, 1.0, 10.0, 100.0, 1000.0], 'gamma': [1000.0, 100.0, 10.0, 1.0, 0.1, 0.01, 0.001, 0.0001]} "
   ]
  },
  {
   "cell_type": "code",
   "execution_count": 17,
   "metadata": {},
   "outputs": [
    {
     "name": "stderr",
     "output_type": "stream",
     "text": [
      "C:\\Users\\kimta\\Anaconda3\\lib\\site-packages\\sklearn\\model_selection\\_split.py:2053: FutureWarning: You should specify a value for 'cv' instead of relying on the default value. The default value will change from 3 to 5 in version 0.22.\n",
      "  warnings.warn(CV_WARNING, FutureWarning)\n",
      "[Parallel(n_jobs=1)]: Using backend SequentialBackend with 1 concurrent workers.\n",
      "[Parallel(n_jobs=1)]: Done   1 out of   1 | elapsed:    0.0s remaining:    0.0s\n",
      "[Parallel(n_jobs=1)]: Done   2 out of   2 | elapsed:    0.0s remaining:    0.0s\n"
     ]
    },
    {
     "name": "stdout",
     "output_type": "stream",
     "text": [
      "Fitting 3 folds for each of 64 candidates, totalling 192 fits\n",
      "[CV] C=0.0001, gamma=1000.0 ..........................................\n",
      "[CV] . C=0.0001, gamma=1000.0, score=0.5377777777777778, total=   0.0s\n",
      "[CV] C=0.0001, gamma=1000.0 ..........................................\n",
      "[CV] . C=0.0001, gamma=1000.0, score=0.5357142857142857, total=   0.0s\n",
      "[CV] C=0.0001, gamma=1000.0 ..........................................\n",
      "[CV] . C=0.0001, gamma=1000.0, score=0.5381165919282511, total=   0.0s\n",
      "[CV] C=0.0001, gamma=100.0 ...........................................\n",
      "[CV] .. C=0.0001, gamma=100.0, score=0.5377777777777778, total=   0.0s\n",
      "[CV] C=0.0001, gamma=100.0 ...........................................\n",
      "[CV] .. C=0.0001, gamma=100.0, score=0.5357142857142857, total=   0.0s\n",
      "[CV] C=0.0001, gamma=100.0 ...........................................\n",
      "[CV] .. C=0.0001, gamma=100.0, score=0.5381165919282511, total=   0.0s\n",
      "[CV] C=0.0001, gamma=10.0 ............................................\n",
      "[CV] ... C=0.0001, gamma=10.0, score=0.5377777777777778, total=   0.0s\n",
      "[CV] C=0.0001, gamma=10.0 ............................................\n",
      "[CV] ... C=0.0001, gamma=10.0, score=0.5357142857142857, total=   0.0s\n",
      "[CV] C=0.0001, gamma=10.0 ............................................\n",
      "[CV] ... C=0.0001, gamma=10.0, score=0.5381165919282511, total=   0.0s\n",
      "[CV] C=0.0001, gamma=1.0 .............................................\n",
      "[CV] .... C=0.0001, gamma=1.0, score=0.5377777777777778, total=   0.0s\n",
      "[CV] C=0.0001, gamma=1.0 .............................................\n",
      "[CV] .... C=0.0001, gamma=1.0, score=0.5357142857142857, total=   0.0s\n",
      "[CV] C=0.0001, gamma=1.0 .............................................\n",
      "[CV] .... C=0.0001, gamma=1.0, score=0.5381165919282511, total=   0.0s\n",
      "[CV] C=0.0001, gamma=0.1 .............................................\n",
      "[CV] .... C=0.0001, gamma=0.1, score=0.5377777777777778, total=   0.0s\n",
      "[CV] C=0.0001, gamma=0.1 .............................................\n",
      "[CV] .... C=0.0001, gamma=0.1, score=0.5357142857142857, total=   0.0s\n",
      "[CV] C=0.0001, gamma=0.1 .............................................\n",
      "[CV] .... C=0.0001, gamma=0.1, score=0.5381165919282511, total=   0.0s\n",
      "[CV] C=0.0001, gamma=0.01 ............................................\n",
      "[CV] ... C=0.0001, gamma=0.01, score=0.5377777777777778, total=   0.0s\n",
      "[CV] C=0.0001, gamma=0.01 ............................................\n",
      "[CV] ... C=0.0001, gamma=0.01, score=0.5357142857142857, total=   0.0s\n",
      "[CV] C=0.0001, gamma=0.01 ............................................\n",
      "[CV] ... C=0.0001, gamma=0.01, score=0.5381165919282511, total=   0.0s\n",
      "[CV] C=0.0001, gamma=0.001 ...........................................\n",
      "[CV] .. C=0.0001, gamma=0.001, score=0.5377777777777778, total=   0.0s\n",
      "[CV] C=0.0001, gamma=0.001 ...........................................\n",
      "[CV] .. C=0.0001, gamma=0.001, score=0.5357142857142857, total=   0.0s\n",
      "[CV] C=0.0001, gamma=0.001 ...........................................\n",
      "[CV] .. C=0.0001, gamma=0.001, score=0.5381165919282511, total=   0.0s\n",
      "[CV] C=0.0001, gamma=0.0001 ..........................................\n",
      "[CV] . C=0.0001, gamma=0.0001, score=0.5377777777777778, total=   0.0s\n",
      "[CV] C=0.0001, gamma=0.0001 ..........................................\n",
      "[CV] . C=0.0001, gamma=0.0001, score=0.5357142857142857, total=   0.0s\n",
      "[CV] C=0.0001, gamma=0.0001 ..........................................\n",
      "[CV] . C=0.0001, gamma=0.0001, score=0.5381165919282511, total=   0.0s\n",
      "[CV] C=0.001, gamma=1000.0 ...........................................\n",
      "[CV] .. C=0.001, gamma=1000.0, score=0.5377777777777778, total=   0.0s\n",
      "[CV] C=0.001, gamma=1000.0 ...........................................\n",
      "[CV] .. C=0.001, gamma=1000.0, score=0.5357142857142857, total=   0.0s\n",
      "[CV] C=0.001, gamma=1000.0 ...........................................\n",
      "[CV] .. C=0.001, gamma=1000.0, score=0.5381165919282511, total=   0.0s\n",
      "[CV] C=0.001, gamma=100.0 ............................................\n",
      "[CV] ... C=0.001, gamma=100.0, score=0.5377777777777778, total=   0.0s\n",
      "[CV] C=0.001, gamma=100.0 ............................................\n",
      "[CV] ... C=0.001, gamma=100.0, score=0.5357142857142857, total=   0.0s\n",
      "[CV] C=0.001, gamma=100.0 ............................................\n",
      "[CV] ... C=0.001, gamma=100.0, score=0.5381165919282511, total=   0.0s\n",
      "[CV] C=0.001, gamma=10.0 .............................................\n",
      "[CV] .... C=0.001, gamma=10.0, score=0.5377777777777778, total=   0.0s\n",
      "[CV] C=0.001, gamma=10.0 .............................................\n",
      "[CV] .... C=0.001, gamma=10.0, score=0.5357142857142857, total=   0.0s\n",
      "[CV] C=0.001, gamma=10.0 .............................................\n",
      "[CV] .... C=0.001, gamma=10.0, score=0.5381165919282511, total=   0.0s\n",
      "[CV] C=0.001, gamma=1.0 ..............................................\n",
      "[CV] ..... C=0.001, gamma=1.0, score=0.5377777777777778, total=   0.0s\n",
      "[CV] C=0.001, gamma=1.0 ..............................................\n",
      "[CV] ..... C=0.001, gamma=1.0, score=0.5357142857142857, total=   0.0s\n",
      "[CV] C=0.001, gamma=1.0 ..............................................\n",
      "[CV] ..... C=0.001, gamma=1.0, score=0.5381165919282511, total=   0.0s\n",
      "[CV] C=0.001, gamma=0.1 ..............................................\n",
      "[CV] ..... C=0.001, gamma=0.1, score=0.5377777777777778, total=   0.0s\n",
      "[CV] C=0.001, gamma=0.1 ..............................................\n",
      "[CV] ..... C=0.001, gamma=0.1, score=0.5357142857142857, total=   0.0s\n",
      "[CV] C=0.001, gamma=0.1 ..............................................\n",
      "[CV] ..... C=0.001, gamma=0.1, score=0.5381165919282511, total=   0.0s\n",
      "[CV] C=0.001, gamma=0.01 .............................................\n",
      "[CV] .... C=0.001, gamma=0.01, score=0.5377777777777778, total=   0.0s\n",
      "[CV] C=0.001, gamma=0.01 .............................................\n",
      "[CV] .... C=0.001, gamma=0.01, score=0.5357142857142857, total=   0.0s\n",
      "[CV] C=0.001, gamma=0.01 .............................................\n",
      "[CV] .... C=0.001, gamma=0.01, score=0.5381165919282511, total=   0.0s\n",
      "[CV] C=0.001, gamma=0.001 ............................................\n",
      "[CV] ... C=0.001, gamma=0.001, score=0.5377777777777778, total=   0.0s\n",
      "[CV] C=0.001, gamma=0.001 ............................................\n",
      "[CV] ... C=0.001, gamma=0.001, score=0.5357142857142857, total=   0.0s\n",
      "[CV] C=0.001, gamma=0.001 ............................................\n",
      "[CV] ... C=0.001, gamma=0.001, score=0.5381165919282511, total=   0.0s\n",
      "[CV] C=0.001, gamma=0.0001 ...........................................\n",
      "[CV] .. C=0.001, gamma=0.0001, score=0.5377777777777778, total=   0.0s\n",
      "[CV] C=0.001, gamma=0.0001 ...........................................\n",
      "[CV] .. C=0.001, gamma=0.0001, score=0.5357142857142857, total=   0.0s\n",
      "[CV] C=0.001, gamma=0.0001 ...........................................\n",
      "[CV] .. C=0.001, gamma=0.0001, score=0.5381165919282511, total=   0.0s\n",
      "[CV] C=0.01, gamma=1000.0 ............................................\n",
      "[CV] ... C=0.01, gamma=1000.0, score=0.5377777777777778, total=   0.0s\n",
      "[CV] C=0.01, gamma=1000.0 ............................................\n",
      "[CV] ... C=0.01, gamma=1000.0, score=0.5357142857142857, total=   0.0s\n",
      "[CV] C=0.01, gamma=1000.0 ............................................\n",
      "[CV] ... C=0.01, gamma=1000.0, score=0.5381165919282511, total=   0.0s\n",
      "[CV] C=0.01, gamma=100.0 .............................................\n",
      "[CV] .... C=0.01, gamma=100.0, score=0.5377777777777778, total=   0.0s\n",
      "[CV] C=0.01, gamma=100.0 .............................................\n",
      "[CV] .... C=0.01, gamma=100.0, score=0.5357142857142857, total=   0.0s\n",
      "[CV] C=0.01, gamma=100.0 .............................................\n",
      "[CV] .... C=0.01, gamma=100.0, score=0.5381165919282511, total=   0.0s\n",
      "[CV] C=0.01, gamma=10.0 ..............................................\n",
      "[CV] ..... C=0.01, gamma=10.0, score=0.5377777777777778, total=   0.0s\n",
      "[CV] C=0.01, gamma=10.0 ..............................................\n",
      "[CV] ..... C=0.01, gamma=10.0, score=0.5357142857142857, total=   0.0s\n",
      "[CV] C=0.01, gamma=10.0 ..............................................\n",
      "[CV] ..... C=0.01, gamma=10.0, score=0.5381165919282511, total=   0.0s\n",
      "[CV] C=0.01, gamma=1.0 ...............................................\n"
     ]
    },
    {
     "name": "stdout",
     "output_type": "stream",
     "text": [
      "[CV] ...... C=0.01, gamma=1.0, score=0.5377777777777778, total=   0.0s\n",
      "[CV] C=0.01, gamma=1.0 ...............................................\n",
      "[CV] ...... C=0.01, gamma=1.0, score=0.5357142857142857, total=   0.0s\n",
      "[CV] C=0.01, gamma=1.0 ...............................................\n",
      "[CV] ...... C=0.01, gamma=1.0, score=0.5381165919282511, total=   0.0s\n",
      "[CV] C=0.01, gamma=0.1 ...............................................\n",
      "[CV] ...... C=0.01, gamma=0.1, score=0.5377777777777778, total=   0.0s\n",
      "[CV] C=0.01, gamma=0.1 ...............................................\n",
      "[CV] ...... C=0.01, gamma=0.1, score=0.5357142857142857, total=   0.0s\n",
      "[CV] C=0.01, gamma=0.1 ...............................................\n",
      "[CV] ...... C=0.01, gamma=0.1, score=0.5381165919282511, total=   0.0s\n",
      "[CV] C=0.01, gamma=0.01 ..............................................\n",
      "[CV] ..... C=0.01, gamma=0.01, score=0.5377777777777778, total=   0.0s\n",
      "[CV] C=0.01, gamma=0.01 ..............................................\n",
      "[CV] ..... C=0.01, gamma=0.01, score=0.5357142857142857, total=   0.0s\n",
      "[CV] C=0.01, gamma=0.01 ..............................................\n",
      "[CV] ..... C=0.01, gamma=0.01, score=0.5381165919282511, total=   0.0s\n",
      "[CV] C=0.01, gamma=0.001 .............................................\n",
      "[CV] .... C=0.01, gamma=0.001, score=0.5377777777777778, total=   0.0s\n",
      "[CV] C=0.01, gamma=0.001 .............................................\n",
      "[CV] .... C=0.01, gamma=0.001, score=0.5357142857142857, total=   0.0s\n",
      "[CV] C=0.01, gamma=0.001 .............................................\n",
      "[CV] .... C=0.01, gamma=0.001, score=0.5381165919282511, total=   0.0s\n",
      "[CV] C=0.01, gamma=0.0001 ............................................\n",
      "[CV] ... C=0.01, gamma=0.0001, score=0.5377777777777778, total=   0.0s\n",
      "[CV] C=0.01, gamma=0.0001 ............................................\n",
      "[CV] ... C=0.01, gamma=0.0001, score=0.5357142857142857, total=   0.0s\n",
      "[CV] C=0.01, gamma=0.0001 ............................................\n",
      "[CV] ... C=0.01, gamma=0.0001, score=0.5381165919282511, total=   0.0s\n",
      "[CV] C=0.1, gamma=1000.0 .............................................\n",
      "[CV] .... C=0.1, gamma=1000.0, score=0.5377777777777778, total=   0.0s\n",
      "[CV] C=0.1, gamma=1000.0 .............................................\n",
      "[CV] .... C=0.1, gamma=1000.0, score=0.5357142857142857, total=   0.0s\n",
      "[CV] C=0.1, gamma=1000.0 .............................................\n",
      "[CV] .... C=0.1, gamma=1000.0, score=0.5381165919282511, total=   0.0s\n",
      "[CV] C=0.1, gamma=100.0 ..............................................\n",
      "[CV] ..... C=0.1, gamma=100.0, score=0.5377777777777778, total=   0.0s\n",
      "[CV] C=0.1, gamma=100.0 ..............................................\n",
      "[CV] ..... C=0.1, gamma=100.0, score=0.5357142857142857, total=   0.0s\n",
      "[CV] C=0.1, gamma=100.0 ..............................................\n",
      "[CV] ..... C=0.1, gamma=100.0, score=0.5381165919282511, total=   0.0s\n",
      "[CV] C=0.1, gamma=10.0 ...............................................\n",
      "[CV] ...... C=0.1, gamma=10.0, score=0.5377777777777778, total=   0.0s\n",
      "[CV] C=0.1, gamma=10.0 ...............................................\n",
      "[CV] ...... C=0.1, gamma=10.0, score=0.5357142857142857, total=   0.0s\n",
      "[CV] C=0.1, gamma=10.0 ...............................................\n",
      "[CV] ...... C=0.1, gamma=10.0, score=0.5381165919282511, total=   0.0s\n",
      "[CV] C=0.1, gamma=1.0 ................................................\n",
      "[CV] ....... C=0.1, gamma=1.0, score=0.7244444444444444, total=   0.0s\n",
      "[CV] C=0.1, gamma=1.0 ................................................\n",
      "[CV] .................. C=0.1, gamma=1.0, score=0.71875, total=   0.0s\n",
      "[CV] C=0.1, gamma=1.0 ................................................\n",
      "[CV] ....... C=0.1, gamma=1.0, score=0.7443946188340808, total=   0.0s\n",
      "[CV] C=0.1, gamma=0.1 ................................................\n",
      "[CV] ....... C=0.1, gamma=0.1, score=0.8133333333333334, total=   0.0s\n",
      "[CV] C=0.1, gamma=0.1 ................................................\n",
      "[CV] ....... C=0.1, gamma=0.1, score=0.8258928571428571, total=   0.0s\n",
      "[CV] C=0.1, gamma=0.1 ................................................\n",
      "[CV] ....... C=0.1, gamma=0.1, score=0.8385650224215246, total=   0.0s\n",
      "[CV] C=0.1, gamma=0.01 ...............................................\n",
      "[CV] ...... C=0.1, gamma=0.01, score=0.7066666666666667, total=   0.0s\n",
      "[CV] C=0.1, gamma=0.01 ...............................................\n",
      "[CV] ...... C=0.1, gamma=0.01, score=0.6919642857142857, total=   0.0s\n",
      "[CV] C=0.1, gamma=0.01 ...............................................\n",
      "[CV] ...... C=0.1, gamma=0.01, score=0.7174887892376681, total=   0.0s\n",
      "[CV] C=0.1, gamma=0.001 ..............................................\n",
      "[CV] ..... C=0.1, gamma=0.001, score=0.5377777777777778, total=   0.0s\n",
      "[CV] C=0.1, gamma=0.001 ..............................................\n",
      "[CV] ..... C=0.1, gamma=0.001, score=0.5357142857142857, total=   0.0s\n",
      "[CV] C=0.1, gamma=0.001 ..............................................\n",
      "[CV] ..... C=0.1, gamma=0.001, score=0.5381165919282511, total=   0.0s\n",
      "[CV] C=0.1, gamma=0.0001 .............................................\n",
      "[CV] .... C=0.1, gamma=0.0001, score=0.5377777777777778, total=   0.0s\n",
      "[CV] C=0.1, gamma=0.0001 .............................................\n",
      "[CV] .... C=0.1, gamma=0.0001, score=0.5357142857142857, total=   0.0s\n",
      "[CV] C=0.1, gamma=0.0001 .............................................\n",
      "[CV] .... C=0.1, gamma=0.0001, score=0.5381165919282511, total=   0.0s\n",
      "[CV] C=1.0, gamma=1000.0 .............................................\n",
      "[CV] .... C=1.0, gamma=1000.0, score=0.6311111111111111, total=   0.0s\n",
      "[CV] C=1.0, gamma=1000.0 .............................................\n",
      "[CV] .... C=1.0, gamma=1000.0, score=0.6517857142857143, total=   0.0s\n",
      "[CV] C=1.0, gamma=1000.0 .............................................\n",
      "[CV] .... C=1.0, gamma=1000.0, score=0.6457399103139013, total=   0.0s\n",
      "[CV] C=1.0, gamma=100.0 ..............................................\n",
      "[CV] ..... C=1.0, gamma=100.0, score=0.6311111111111111, total=   0.0s\n",
      "[CV] C=1.0, gamma=100.0 ..............................................\n",
      "[CV] ..... C=1.0, gamma=100.0, score=0.6517857142857143, total=   0.0s\n",
      "[CV] C=1.0, gamma=100.0 ..............................................\n",
      "[CV] ..... C=1.0, gamma=100.0, score=0.6457399103139013, total=   0.0s\n",
      "[CV] C=1.0, gamma=10.0 ...............................................\n",
      "[CV] ...... C=1.0, gamma=10.0, score=0.6311111111111111, total=   0.0s\n",
      "[CV] C=1.0, gamma=10.0 ...............................................\n",
      "[CV] ...... C=1.0, gamma=10.0, score=0.6517857142857143, total=   0.0s\n",
      "[CV] C=1.0, gamma=10.0 ...............................................\n",
      "[CV] ...... C=1.0, gamma=10.0, score=0.6457399103139013, total=   0.0s\n",
      "[CV] C=1.0, gamma=1.0 ................................................\n",
      "[CV] ..................... C=1.0, gamma=1.0, score=0.84, total=   0.0s\n",
      "[CV] C=1.0, gamma=1.0 ................................................\n",
      "[CV] ....... C=1.0, gamma=1.0, score=0.8214285714285714, total=   0.0s\n",
      "[CV] C=1.0, gamma=1.0 ................................................\n",
      "[CV] ....... C=1.0, gamma=1.0, score=0.8295964125560538, total=   0.0s\n",
      "[CV] C=1.0, gamma=0.1 ................................................\n",
      "[CV] ....... C=1.0, gamma=0.1, score=0.8355555555555556, total=   0.0s\n",
      "[CV] C=1.0, gamma=0.1 ................................................\n",
      "[CV] ....... C=1.0, gamma=0.1, score=0.8348214285714286, total=   0.0s\n",
      "[CV] C=1.0, gamma=0.1 ................................................\n",
      "[CV] ....... C=1.0, gamma=0.1, score=0.8385650224215246, total=   0.0s\n",
      "[CV] C=1.0, gamma=0.01 ...............................................\n",
      "[CV] ...... C=1.0, gamma=0.01, score=0.8177777777777778, total=   0.0s\n",
      "[CV] C=1.0, gamma=0.01 ...............................................\n",
      "[CV] ...... C=1.0, gamma=0.01, score=0.8392857142857143, total=   0.0s\n",
      "[CV] C=1.0, gamma=0.01 ...............................................\n",
      "[CV] ...... C=1.0, gamma=0.01, score=0.8430493273542601, total=   0.0s\n",
      "[CV] C=1.0, gamma=0.001 ..............................................\n",
      "[CV] ..... C=1.0, gamma=0.001, score=0.7555555555555555, total=   0.0s\n",
      "[CV] C=1.0, gamma=0.001 ..............................................\n",
      "[CV] ..... C=1.0, gamma=0.001, score=0.7455357142857143, total=   0.0s\n",
      "[CV] C=1.0, gamma=0.001 ..............................................\n",
      "[CV] ..... C=1.0, gamma=0.001, score=0.7668161434977578, total=   0.0s\n",
      "[CV] C=1.0, gamma=0.0001 .............................................\n",
      "[CV] .... C=1.0, gamma=0.0001, score=0.5377777777777778, total=   0.0s\n",
      "[CV] C=1.0, gamma=0.0001 .............................................\n"
     ]
    },
    {
     "name": "stdout",
     "output_type": "stream",
     "text": [
      "[CV] .... C=1.0, gamma=0.0001, score=0.5357142857142857, total=   0.0s\n",
      "[CV] C=1.0, gamma=0.0001 .............................................\n",
      "[CV] .... C=1.0, gamma=0.0001, score=0.5381165919282511, total=   0.0s\n",
      "[CV] C=10.0, gamma=1000.0 ............................................\n",
      "[CV] ... C=10.0, gamma=1000.0, score=0.6311111111111111, total=   0.0s\n",
      "[CV] C=10.0, gamma=1000.0 ............................................\n",
      "[CV] ... C=10.0, gamma=1000.0, score=0.6517857142857143, total=   0.0s\n",
      "[CV] C=10.0, gamma=1000.0 ............................................\n",
      "[CV] ... C=10.0, gamma=1000.0, score=0.6457399103139013, total=   0.0s\n",
      "[CV] C=10.0, gamma=100.0 .............................................\n",
      "[CV] .... C=10.0, gamma=100.0, score=0.6311111111111111, total=   0.0s\n",
      "[CV] C=10.0, gamma=100.0 .............................................\n",
      "[CV] .... C=10.0, gamma=100.0, score=0.6517857142857143, total=   0.0s\n",
      "[CV] C=10.0, gamma=100.0 .............................................\n",
      "[CV] .... C=10.0, gamma=100.0, score=0.6457399103139013, total=   0.0s\n",
      "[CV] C=10.0, gamma=10.0 ..............................................\n",
      "[CV] ..... C=10.0, gamma=10.0, score=0.6311111111111111, total=   0.0s\n",
      "[CV] C=10.0, gamma=10.0 ..............................................\n",
      "[CV] ..... C=10.0, gamma=10.0, score=0.6517857142857143, total=   0.0s\n",
      "[CV] C=10.0, gamma=10.0 ..............................................\n",
      "[CV] ..... C=10.0, gamma=10.0, score=0.6457399103139013, total=   0.0s\n",
      "[CV] C=10.0, gamma=1.0 ...............................................\n",
      "[CV] ...... C=10.0, gamma=1.0, score=0.8311111111111111, total=   0.0s\n",
      "[CV] C=10.0, gamma=1.0 ...............................................\n",
      "[CV] .................. C=10.0, gamma=1.0, score=0.8125, total=   0.0s\n",
      "[CV] C=10.0, gamma=1.0 ...............................................\n",
      "[CV] ...... C=10.0, gamma=1.0, score=0.8340807174887892, total=   0.0s\n",
      "[CV] C=10.0, gamma=0.1 ...............................................\n",
      "[CV] ...... C=10.0, gamma=0.1, score=0.8222222222222222, total=   0.0s\n",
      "[CV] C=10.0, gamma=0.1 ...............................................\n",
      "[CV] ...... C=10.0, gamma=0.1, score=0.8392857142857143, total=   0.0s\n",
      "[CV] C=10.0, gamma=0.1 ...............................................\n",
      "[CV] ...... C=10.0, gamma=0.1, score=0.8026905829596412, total=   0.0s\n",
      "[CV] C=10.0, gamma=0.01 ..............................................\n",
      "[CV] ..... C=10.0, gamma=0.01, score=0.8177777777777778, total=   0.0s\n",
      "[CV] C=10.0, gamma=0.01 ..............................................\n",
      "[CV] ..... C=10.0, gamma=0.01, score=0.8258928571428571, total=   0.0s\n",
      "[CV] C=10.0, gamma=0.01 ..............................................\n",
      "[CV] ..... C=10.0, gamma=0.01, score=0.8565022421524664, total=   0.0s\n",
      "[CV] C=10.0, gamma=0.001 .............................................\n",
      "[CV] .... C=10.0, gamma=0.001, score=0.8177777777777778, total=   0.0s\n",
      "[CV] C=10.0, gamma=0.001 .............................................\n",
      "[CV] .... C=10.0, gamma=0.001, score=0.8348214285714286, total=   0.0s\n",
      "[CV] C=10.0, gamma=0.001 .............................................\n",
      "[CV] .... C=10.0, gamma=0.001, score=0.8430493273542601, total=   0.0s\n",
      "[CV] C=10.0, gamma=0.0001 ............................................\n",
      "[CV] ... C=10.0, gamma=0.0001, score=0.7555555555555555, total=   0.0s\n",
      "[CV] C=10.0, gamma=0.0001 ............................................\n",
      "[CV] ... C=10.0, gamma=0.0001, score=0.7544642857142857, total=   0.0s\n",
      "[CV] C=10.0, gamma=0.0001 ............................................\n",
      "[CV] ... C=10.0, gamma=0.0001, score=0.7668161434977578, total=   0.0s\n",
      "[CV] C=100.0, gamma=1000.0 ...........................................\n",
      "[CV] .. C=100.0, gamma=1000.0, score=0.6311111111111111, total=   0.0s\n",
      "[CV] C=100.0, gamma=1000.0 ...........................................\n",
      "[CV] .. C=100.0, gamma=1000.0, score=0.6517857142857143, total=   0.0s\n",
      "[CV] C=100.0, gamma=1000.0 ...........................................\n",
      "[CV] .. C=100.0, gamma=1000.0, score=0.6457399103139013, total=   0.0s\n",
      "[CV] C=100.0, gamma=100.0 ............................................\n",
      "[CV] ... C=100.0, gamma=100.0, score=0.6311111111111111, total=   0.0s\n",
      "[CV] C=100.0, gamma=100.0 ............................................\n",
      "[CV] ... C=100.0, gamma=100.0, score=0.6517857142857143, total=   0.0s\n",
      "[CV] C=100.0, gamma=100.0 ............................................\n",
      "[CV] ... C=100.0, gamma=100.0, score=0.6457399103139013, total=   0.0s\n",
      "[CV] C=100.0, gamma=10.0 .............................................\n",
      "[CV] .... C=100.0, gamma=10.0, score=0.6311111111111111, total=   0.0s\n",
      "[CV] C=100.0, gamma=10.0 .............................................\n",
      "[CV] .... C=100.0, gamma=10.0, score=0.6517857142857143, total=   0.0s\n",
      "[CV] C=100.0, gamma=10.0 .............................................\n",
      "[CV] .... C=100.0, gamma=10.0, score=0.6457399103139013, total=   0.0s\n",
      "[CV] C=100.0, gamma=1.0 ..............................................\n",
      "[CV] ..... C=100.0, gamma=1.0, score=0.8311111111111111, total=   0.0s\n",
      "[CV] C=100.0, gamma=1.0 ..............................................\n",
      "[CV] ................. C=100.0, gamma=1.0, score=0.8125, total=   0.0s\n",
      "[CV] C=100.0, gamma=1.0 ..............................................\n",
      "[CV] ..... C=100.0, gamma=1.0, score=0.8340807174887892, total=   0.0s\n",
      "[CV] C=100.0, gamma=0.1 ..............................................\n",
      "[CV] .................... C=100.0, gamma=0.1, score=0.8, total=   0.0s\n",
      "[CV] C=100.0, gamma=0.1 ..............................................\n",
      "[CV] ..... C=100.0, gamma=0.1, score=0.8348214285714286, total=   0.0s\n",
      "[CV] C=100.0, gamma=0.1 ..............................................\n",
      "[CV] ..... C=100.0, gamma=0.1, score=0.7892376681614349, total=   0.0s\n",
      "[CV] C=100.0, gamma=0.01 .............................................\n",
      "[CV] .... C=100.0, gamma=0.01, score=0.8266666666666667, total=   0.0s\n",
      "[CV] C=100.0, gamma=0.01 .............................................\n",
      "[CV] .... C=100.0, gamma=0.01, score=0.8348214285714286, total=   0.0s\n",
      "[CV] C=100.0, gamma=0.01 .............................................\n",
      "[CV] ..... C=100.0, gamma=0.01, score=0.820627802690583, total=   0.0s\n",
      "[CV] C=100.0, gamma=0.001 ............................................\n",
      "[CV] ... C=100.0, gamma=0.001, score=0.8177777777777778, total=   0.0s\n",
      "[CV] C=100.0, gamma=0.001 ............................................\n",
      "[CV] ... C=100.0, gamma=0.001, score=0.8348214285714286, total=   0.0s\n",
      "[CV] C=100.0, gamma=0.001 ............................................\n",
      "[CV] .... C=100.0, gamma=0.001, score=0.852017937219731, total=   0.0s\n",
      "[CV] C=100.0, gamma=0.0001 ...........................................\n",
      "[CV] .. C=100.0, gamma=0.0001, score=0.8177777777777778, total=   0.0s\n",
      "[CV] C=100.0, gamma=0.0001 ...........................................\n",
      "[CV] .. C=100.0, gamma=0.0001, score=0.8348214285714286, total=   0.0s\n",
      "[CV] C=100.0, gamma=0.0001 ...........................................\n",
      "[CV] .. C=100.0, gamma=0.0001, score=0.8430493273542601, total=   0.0s\n",
      "[CV] C=1000.0, gamma=1000.0 ..........................................\n",
      "[CV] . C=1000.0, gamma=1000.0, score=0.6311111111111111, total=   0.0s\n",
      "[CV] C=1000.0, gamma=1000.0 ..........................................\n",
      "[CV] . C=1000.0, gamma=1000.0, score=0.6517857142857143, total=   0.0s\n",
      "[CV] C=1000.0, gamma=1000.0 ..........................................\n",
      "[CV] . C=1000.0, gamma=1000.0, score=0.6457399103139013, total=   0.0s\n",
      "[CV] C=1000.0, gamma=100.0 ...........................................\n",
      "[CV] .. C=1000.0, gamma=100.0, score=0.6311111111111111, total=   0.0s\n",
      "[CV] C=1000.0, gamma=100.0 ...........................................\n",
      "[CV] .. C=1000.0, gamma=100.0, score=0.6517857142857143, total=   0.0s\n",
      "[CV] C=1000.0, gamma=100.0 ...........................................\n",
      "[CV] .. C=1000.0, gamma=100.0, score=0.6457399103139013, total=   0.0s\n",
      "[CV] C=1000.0, gamma=10.0 ............................................\n",
      "[CV] ... C=1000.0, gamma=10.0, score=0.6311111111111111, total=   0.0s\n",
      "[CV] C=1000.0, gamma=10.0 ............................................\n",
      "[CV] ... C=1000.0, gamma=10.0, score=0.6517857142857143, total=   0.0s\n",
      "[CV] C=1000.0, gamma=10.0 ............................................\n",
      "[CV] ... C=1000.0, gamma=10.0, score=0.6457399103139013, total=   0.0s\n",
      "[CV] C=1000.0, gamma=1.0 .............................................\n"
     ]
    },
    {
     "name": "stdout",
     "output_type": "stream",
     "text": [
      "[CV] .... C=1000.0, gamma=1.0, score=0.8311111111111111, total=   0.0s\n",
      "[CV] C=1000.0, gamma=1.0 .............................................\n",
      "[CV] ................ C=1000.0, gamma=1.0, score=0.8125, total=   0.0s\n",
      "[CV] C=1000.0, gamma=1.0 .............................................\n",
      "[CV] .... C=1000.0, gamma=1.0, score=0.8340807174887892, total=   0.0s\n",
      "[CV] C=1000.0, gamma=0.1 .............................................\n",
      "[CV] ................... C=1000.0, gamma=0.1, score=0.8, total=   0.0s\n",
      "[CV] C=1000.0, gamma=0.1 .............................................\n",
      "[CV] .... C=1000.0, gamma=0.1, score=0.8348214285714286, total=   0.0s\n",
      "[CV] C=1000.0, gamma=0.1 .............................................\n",
      "[CV] .... C=1000.0, gamma=0.1, score=0.7892376681614349, total=   0.0s\n",
      "[CV] C=1000.0, gamma=0.01 ............................................\n",
      "[CV] ... C=1000.0, gamma=0.01, score=0.8088888888888889, total=   0.0s\n",
      "[CV] C=1000.0, gamma=0.01 ............................................\n",
      "[CV] ... C=1000.0, gamma=0.01, score=0.8258928571428571, total=   0.0s\n",
      "[CV] C=1000.0, gamma=0.01 ............................................\n",
      "[CV] ... C=1000.0, gamma=0.01, score=0.7892376681614349, total=   0.0s\n",
      "[CV] C=1000.0, gamma=0.001 ...........................................\n",
      "[CV] .. C=1000.0, gamma=0.001, score=0.8133333333333334, total=   0.0s\n",
      "[CV] C=1000.0, gamma=0.001 ...........................................\n",
      "[CV] .. C=1000.0, gamma=0.001, score=0.8214285714285714, total=   0.0s\n",
      "[CV] C=1000.0, gamma=0.001 ...........................................\n",
      "[CV] ... C=1000.0, gamma=0.001, score=0.820627802690583, total=   0.0s\n",
      "[CV] C=1000.0, gamma=0.0001 ..........................................\n",
      "[CV] . C=1000.0, gamma=0.0001, score=0.8177777777777778, total=   0.0s\n",
      "[CV] C=1000.0, gamma=0.0001 ..........................................\n",
      "[CV] . C=1000.0, gamma=0.0001, score=0.8348214285714286, total=   0.0s\n",
      "[CV] C=1000.0, gamma=0.0001 ..........................................\n",
      "[CV] .. C=1000.0, gamma=0.0001, score=0.852017937219731, total=   0.0s\n"
     ]
    },
    {
     "name": "stderr",
     "output_type": "stream",
     "text": [
      "[Parallel(n_jobs=1)]: Done 192 out of 192 | elapsed:    8.8s finished\n"
     ]
    },
    {
     "data": {
      "text/plain": [
       "GridSearchCV(cv='warn', error_score='raise-deprecating',\n",
       "       estimator=SVC(C=1.0, cache_size=200, class_weight=None, coef0=0.0,\n",
       "  decision_function_shape='ovr', degree=3, gamma='auto_deprecated',\n",
       "  kernel='rbf', max_iter=-1, probability=False, random_state=None,\n",
       "  shrinking=True, tol=0.001, verbose=False),\n",
       "       fit_params=None, iid='warn', n_jobs=None,\n",
       "       param_grid={'C': [0.0001, 0.001, 0.01, 0.1, 1.0, 10.0, 100.0, 1000.0], 'gamma': [1000.0, 100.0, 10.0, 1.0, 0.1, 0.01, 0.001, 0.0001]},\n",
       "       pre_dispatch='2*n_jobs', refit=True, return_train_score='warn',\n",
       "       scoring=None, verbose=3)"
      ]
     },
     "execution_count": 17,
     "metadata": {},
     "output_type": "execute_result"
    }
   ],
   "source": [
    "# SVM 모델 TUNING\n",
    "grid = GridSearchCV(SVC(), param_grid, refit=True, verbose=3)\n",
    "grid.fit(x_train, y_train)"
   ]
  },
  {
   "cell_type": "code",
   "execution_count": 18,
   "metadata": {},
   "outputs": [
    {
     "data": {
      "text/plain": [
       "{'C': 1.0, 'gamma': 0.1}"
      ]
     },
     "execution_count": 18,
     "metadata": {},
     "output_type": "execute_result"
    }
   ],
   "source": [
    "# 최적을 param 을 확인해보면 c는 1.0, gamma는 0.1 인것을 확인할 수 있다.\n",
    "grid.best_params_"
   ]
  },
  {
   "cell_type": "code",
   "execution_count": 19,
   "metadata": {},
   "outputs": [],
   "source": [
    "preds_grid = grid.predict(x_test)"
   ]
  },
  {
   "cell_type": "code",
   "execution_count": 20,
   "metadata": {},
   "outputs": [],
   "source": [
    "score_grid = f1_score(y_test, preds_grid)"
   ]
  },
  {
   "cell_type": "code",
   "execution_count": 21,
   "metadata": {},
   "outputs": [
    {
     "data": {
      "text/plain": [
       "0.8153310104529616"
      ]
     },
     "execution_count": 21,
     "metadata": {},
     "output_type": "execute_result"
    }
   ],
   "source": [
    "# tuning 시 accuracy가 81.5% 까지 상승했다 ~_~\n",
    "score_grid"
   ]
  },
  {
   "cell_type": "code",
   "execution_count": null,
   "metadata": {},
   "outputs": [],
   "source": []
  },
  {
   "cell_type": "code",
   "execution_count": null,
   "metadata": {},
   "outputs": [],
   "source": []
  },
  {
   "cell_type": "markdown",
   "metadata": {},
   "source": [
    "# Radom Forest Tuning"
   ]
  },
  {
   "cell_type": "code",
   "execution_count": 22,
   "metadata": {},
   "outputs": [
    {
     "name": "stderr",
     "output_type": "stream",
     "text": [
      "C:\\Users\\kimta\\Anaconda3\\lib\\site-packages\\sklearn\\model_selection\\_split.py:2053: FutureWarning: You should specify a value for 'cv' instead of relying on the default value. The default value will change from 3 to 5 in version 0.22.\n",
      "  warnings.warn(CV_WARNING, FutureWarning)\n",
      "[Parallel(n_jobs=1)]: Using backend SequentialBackend with 1 concurrent workers.\n",
      "[Parallel(n_jobs=1)]: Done   1 out of   1 | elapsed:    0.0s remaining:    0.0s\n",
      "[Parallel(n_jobs=1)]: Done   2 out of   2 | elapsed:    0.0s remaining:    0.0s\n"
     ]
    },
    {
     "name": "stdout",
     "output_type": "stream",
     "text": [
      "Fitting 3 folds for each of 8 candidates, totalling 24 fits\n",
      "[CV] criterion=gini, n_estimators=10 .................................\n",
      "[CV]  criterion=gini, n_estimators=10, score=0.8355555555555556, total=   0.0s\n",
      "[CV] criterion=gini, n_estimators=10 .................................\n",
      "[CV]  criterion=gini, n_estimators=10, score=0.8258928571428571, total=   0.0s\n",
      "[CV] criterion=gini, n_estimators=10 .................................\n",
      "[CV]  criterion=gini, n_estimators=10, score=0.8026905829596412, total=   0.0s\n",
      "[CV] criterion=gini, n_estimators=100 ................................\n",
      "[CV]  criterion=gini, n_estimators=100, score=0.8222222222222222, total=   0.0s\n",
      "[CV] criterion=gini, n_estimators=100 ................................\n",
      "[CV]  criterion=gini, n_estimators=100, score=0.8348214285714286, total=   0.0s\n",
      "[CV] criterion=gini, n_estimators=100 ................................\n",
      "[CV]  criterion=gini, n_estimators=100, score=0.8116591928251121, total=   0.0s\n",
      "[CV] criterion=gini, n_estimators=1000 ...............................\n",
      "[CV]  criterion=gini, n_estimators=1000, score=0.8222222222222222, total=   0.7s\n",
      "[CV] criterion=gini, n_estimators=1000 ...............................\n",
      "[CV]  criterion=gini, n_estimators=1000, score=0.8303571428571429, total=   0.7s\n",
      "[CV] criterion=gini, n_estimators=1000 ...............................\n",
      "[CV]  criterion=gini, n_estimators=1000, score=0.8295964125560538, total=   0.6s\n",
      "[CV] criterion=gini, n_estimators=10000 ..............................\n",
      "[CV]  criterion=gini, n_estimators=10000, score=0.8266666666666667, total=   7.5s\n",
      "[CV] criterion=gini, n_estimators=10000 ..............................\n",
      "[CV]  criterion=gini, n_estimators=10000, score=0.8258928571428571, total=   7.7s\n",
      "[CV] criterion=gini, n_estimators=10000 ..............................\n",
      "[CV]  criterion=gini, n_estimators=10000, score=0.8295964125560538, total=   7.4s\n",
      "[CV] criterion=entropy, n_estimators=10 ..............................\n",
      "[CV]  criterion=entropy, n_estimators=10, score=0.8222222222222222, total=   0.0s\n",
      "[CV] criterion=entropy, n_estimators=10 ..............................\n",
      "[CV] . criterion=entropy, n_estimators=10, score=0.8125, total=   0.0s\n",
      "[CV] criterion=entropy, n_estimators=10 ..............................\n",
      "[CV]  criterion=entropy, n_estimators=10, score=0.7757847533632287, total=   0.0s\n",
      "[CV] criterion=entropy, n_estimators=100 .............................\n",
      "[CV]  criterion=entropy, n_estimators=100, score=0.8222222222222222, total=   0.0s\n",
      "[CV] criterion=entropy, n_estimators=100 .............................\n",
      "[CV]  criterion=entropy, n_estimators=100, score=0.8258928571428571, total=   0.0s\n",
      "[CV] criterion=entropy, n_estimators=100 .............................\n",
      "[CV]  criterion=entropy, n_estimators=100, score=0.8161434977578476, total=   0.0s\n",
      "[CV] criterion=entropy, n_estimators=1000 ............................\n",
      "[CV]  criterion=entropy, n_estimators=1000, score=0.8222222222222222, total=   0.7s\n",
      "[CV] criterion=entropy, n_estimators=1000 ............................\n",
      "[CV]  criterion=entropy, n_estimators=1000, score=0.8303571428571429, total=   0.8s\n",
      "[CV] criterion=entropy, n_estimators=1000 ............................\n",
      "[CV]  criterion=entropy, n_estimators=1000, score=0.8161434977578476, total=   0.7s\n",
      "[CV] criterion=entropy, n_estimators=10000 ...........................\n",
      "[CV]  criterion=entropy, n_estimators=10000, score=0.8177777777777778, total=   7.8s\n",
      "[CV] criterion=entropy, n_estimators=10000 ...........................\n",
      "[CV]  criterion=entropy, n_estimators=10000, score=0.8303571428571429, total=   7.7s\n",
      "[CV] criterion=entropy, n_estimators=10000 ...........................\n",
      "[CV]  criterion=entropy, n_estimators=10000, score=0.8251121076233184, total=   7.9s\n"
     ]
    },
    {
     "name": "stderr",
     "output_type": "stream",
     "text": [
      "[Parallel(n_jobs=1)]: Done  24 out of  24 | elapsed:   57.9s finished\n"
     ]
    },
    {
     "data": {
      "text/plain": [
       "GridSearchCV(cv='warn', error_score='raise-deprecating',\n",
       "       estimator=RandomForestClassifier(bootstrap=True, class_weight=None, criterion='gini',\n",
       "            max_depth=None, max_features='auto', max_leaf_nodes=None,\n",
       "            min_impurity_decrease=0.0, min_impurity_split=None,\n",
       "            min_samples_leaf=1, min_samples_split=2,\n",
       "            min_weight_fraction_leaf=0.0, n_estimators='warn', n_jobs=None,\n",
       "            oob_score=False, random_state=77, verbose=0, warm_start=False),\n",
       "       fit_params=None, iid='warn', n_jobs=None,\n",
       "       param_grid={'n_estimators': [10, 100, 1000, 10000], 'criterion': ['gini', 'entropy']},\n",
       "       pre_dispatch='2*n_jobs', refit=True, return_train_score='warn',\n",
       "       scoring=None, verbose=3)"
      ]
     },
     "execution_count": 22,
     "metadata": {},
     "output_type": "execute_result"
    }
   ],
   "source": [
    "from sklearn.ensemble import RandomForestClassifier\n",
    "\n",
    "clf = RandomForestClassifier(random_state = 77)\n",
    "\n",
    "estimator_param = [10, 100, 1000, 10000]\n",
    "param_grid = {\"n_estimators\": estimator_param, \"criterion\": [\"gini\", \"entropy\"]}\n",
    "grid_search = GridSearchCV(clf, param_grid = param_grid, refit=True, verbose=3)\n",
    "grid_search.fit(x_train, y_train)"
   ]
  },
  {
   "cell_type": "code",
   "execution_count": 23,
   "metadata": {},
   "outputs": [
    {
     "data": {
      "text/plain": [
       "{'criterion': 'gini', 'n_estimators': 1000}"
      ]
     },
     "execution_count": 23,
     "metadata": {},
     "output_type": "execute_result"
    }
   ],
   "source": [
    "# 최적을 param 을 확인해보면 criterion는 gini, n_estimators 1000 인것을 확인할 수 있다.\n",
    "grid_search.best_params_"
   ]
  },
  {
   "cell_type": "code",
   "execution_count": 24,
   "metadata": {},
   "outputs": [
    {
     "name": "stdout",
     "output_type": "stream",
     "text": [
      "0.7870036101083031\n"
     ]
    }
   ],
   "source": [
    "clf_pred = grid_search.predict(x_test)\n",
    "clf_score = f1_score(y_test, clf_pred)\n",
    "\n",
    "print(clf_score) # 78.7% ㅠㅠ... "
   ]
  },
  {
   "cell_type": "code",
   "execution_count": null,
   "metadata": {},
   "outputs": [],
   "source": []
  },
  {
   "cell_type": "code",
   "execution_count": 25,
   "metadata": {},
   "outputs": [],
   "source": [
    "# end : svm # tuning 시 accuracy가 81.5% 까지 상승했다 ~_~"
   ]
  },
  {
   "cell_type": "code",
   "execution_count": null,
   "metadata": {},
   "outputs": [],
   "source": []
  }
 ],
 "metadata": {
  "kernelspec": {
   "display_name": "Python 3",
   "language": "python",
   "name": "python3"
  },
  "language_info": {
   "codemirror_mode": {
    "name": "ipython",
    "version": 3
   },
   "file_extension": ".py",
   "mimetype": "text/x-python",
   "name": "python",
   "nbconvert_exporter": "python",
   "pygments_lexer": "ipython3",
   "version": "3.7.3"
  }
 },
 "nbformat": 4,
 "nbformat_minor": 2
}
