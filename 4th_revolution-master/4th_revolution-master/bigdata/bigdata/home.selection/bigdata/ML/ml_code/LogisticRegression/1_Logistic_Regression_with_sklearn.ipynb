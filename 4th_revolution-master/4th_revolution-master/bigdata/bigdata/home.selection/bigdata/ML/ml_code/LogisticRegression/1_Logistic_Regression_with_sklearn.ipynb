{
 "cells": [
  {
   "cell_type": "code",
   "execution_count": 4,
   "metadata": {
    "ExecuteTime": {
     "end_time": "2018-03-04T05:06:58.788470Z",
     "start_time": "2018-03-04T05:06:58.785932Z"
    }
   },
   "outputs": [],
   "source": [
    "import pandas as pd"
   ]
  },
  {
   "cell_type": "code",
   "execution_count": 5,
   "metadata": {
    "ExecuteTime": {
     "end_time": "2018-03-04T05:07:01.009508Z",
     "start_time": "2018-03-04T05:07:00.970512Z"
    }
   },
   "outputs": [
    {
     "name": "stderr",
     "output_type": "stream",
     "text": [
      "C:\\Users\\user\\Anaconda3\\lib\\site-packages\\ipykernel_launcher.py:3: FutureWarning: read_table is deprecated, use read_csv instead, passing sep='\\t'.\n",
      "  This is separate from the ipykernel package so we can avoid doing imports until\n"
     ]
    }
   ],
   "source": [
    "data_url= \"./uva.txt\"\n",
    "\n",
    "dataframe = pd.read_table(data_url)"
   ]
  },
  {
   "cell_type": "code",
   "execution_count": 6,
   "metadata": {
    "ExecuteTime": {
     "end_time": "2018-03-04T05:07:01.672407Z",
     "start_time": "2018-03-04T05:07:01.659483Z"
    }
   },
   "outputs": [
    {
     "data": {
      "text/html": [
       "<div>\n",
       "<style scoped>\n",
       "    .dataframe tbody tr th:only-of-type {\n",
       "        vertical-align: middle;\n",
       "    }\n",
       "\n",
       "    .dataframe tbody tr th {\n",
       "        vertical-align: top;\n",
       "    }\n",
       "\n",
       "    .dataframe thead th {\n",
       "        text-align: right;\n",
       "    }\n",
       "</style>\n",
       "<table border=\"1\" class=\"dataframe\">\n",
       "  <thead>\n",
       "    <tr style=\"text-align: right;\">\n",
       "      <th></th>\n",
       "      <th>who</th>\n",
       "      <th>Newbie</th>\n",
       "      <th>Age</th>\n",
       "      <th>Gender</th>\n",
       "      <th>Household Income</th>\n",
       "      <th>Sexual Preference</th>\n",
       "      <th>Country</th>\n",
       "      <th>Education Attainment</th>\n",
       "      <th>Major Occupation</th>\n",
       "      <th>Marital Status</th>\n",
       "      <th>Years on Internet</th>\n",
       "    </tr>\n",
       "  </thead>\n",
       "  <tbody>\n",
       "    <tr>\n",
       "      <th>0</th>\n",
       "      <td>id74364</td>\n",
       "      <td>0</td>\n",
       "      <td>54.0</td>\n",
       "      <td>Male</td>\n",
       "      <td>$50-74</td>\n",
       "      <td>Gay male</td>\n",
       "      <td>Ontario</td>\n",
       "      <td>Some College</td>\n",
       "      <td>Computer</td>\n",
       "      <td>Other</td>\n",
       "      <td>4-6 yr</td>\n",
       "    </tr>\n",
       "    <tr>\n",
       "      <th>1</th>\n",
       "      <td>id84505</td>\n",
       "      <td>0</td>\n",
       "      <td>39.0</td>\n",
       "      <td>Female</td>\n",
       "      <td>Over $100</td>\n",
       "      <td>Heterosexual</td>\n",
       "      <td>Sweden</td>\n",
       "      <td>Professional</td>\n",
       "      <td>Other</td>\n",
       "      <td>Other</td>\n",
       "      <td>1-3 yr</td>\n",
       "    </tr>\n",
       "    <tr>\n",
       "      <th>2</th>\n",
       "      <td>id84509</td>\n",
       "      <td>1</td>\n",
       "      <td>49.0</td>\n",
       "      <td>Female</td>\n",
       "      <td>$40-49</td>\n",
       "      <td>Heterosexual</td>\n",
       "      <td>Washington</td>\n",
       "      <td>Some College</td>\n",
       "      <td>Management</td>\n",
       "      <td>Other</td>\n",
       "      <td>Under 6 mo</td>\n",
       "    </tr>\n",
       "    <tr>\n",
       "      <th>3</th>\n",
       "      <td>id87028</td>\n",
       "      <td>1</td>\n",
       "      <td>22.0</td>\n",
       "      <td>Female</td>\n",
       "      <td>$40-49</td>\n",
       "      <td>Heterosexual</td>\n",
       "      <td>Florida</td>\n",
       "      <td>Some College</td>\n",
       "      <td>Computer</td>\n",
       "      <td>Married</td>\n",
       "      <td>6-12 mo</td>\n",
       "    </tr>\n",
       "    <tr>\n",
       "      <th>4</th>\n",
       "      <td>id76087</td>\n",
       "      <td>0</td>\n",
       "      <td>20.0</td>\n",
       "      <td>Male</td>\n",
       "      <td>$30-39</td>\n",
       "      <td>Bisexual</td>\n",
       "      <td>New Jersey</td>\n",
       "      <td>Some College</td>\n",
       "      <td>Education</td>\n",
       "      <td>Single</td>\n",
       "      <td>1-3 yr</td>\n",
       "    </tr>\n",
       "  </tbody>\n",
       "</table>\n",
       "</div>"
      ],
      "text/plain": [
       "       who  Newbie   Age  Gender Household Income Sexual Preference  \\\n",
       "0  id74364       0  54.0    Male           $50-74          Gay male   \n",
       "1  id84505       0  39.0  Female        Over $100      Heterosexual   \n",
       "2  id84509       1  49.0  Female           $40-49      Heterosexual   \n",
       "3  id87028       1  22.0  Female           $40-49      Heterosexual   \n",
       "4  id76087       0  20.0    Male           $30-39          Bisexual   \n",
       "\n",
       "      Country Education Attainment Major Occupation Marital Status  \\\n",
       "0     Ontario         Some College         Computer          Other   \n",
       "1      Sweden         Professional            Other          Other   \n",
       "2  Washington         Some College       Management          Other   \n",
       "3     Florida         Some College         Computer        Married   \n",
       "4  New Jersey         Some College        Education         Single   \n",
       "\n",
       "  Years on Internet  \n",
       "0            4-6 yr  \n",
       "1            1-3 yr  \n",
       "2        Under 6 mo  \n",
       "3           6-12 mo  \n",
       "4            1-3 yr  "
      ]
     },
     "execution_count": 6,
     "metadata": {},
     "output_type": "execute_result"
    }
   ],
   "source": [
    "dataframe[:5]"
   ]
  },
  {
   "cell_type": "code",
   "execution_count": 7,
   "metadata": {
    "ExecuteTime": {
     "end_time": "2018-03-04T05:07:02.747749Z",
     "start_time": "2018-03-04T05:07:02.744462Z"
    }
   },
   "outputs": [
    {
     "data": {
      "text/plain": [
       "(19583, 11)"
      ]
     },
     "execution_count": 7,
     "metadata": {},
     "output_type": "execute_result"
    }
   ],
   "source": [
    "dataframe.shape"
   ]
  },
  {
   "cell_type": "code",
   "execution_count": 8,
   "metadata": {
    "ExecuteTime": {
     "end_time": "2018-03-04T05:07:03.767267Z",
     "start_time": "2018-03-04T05:07:03.761817Z"
    }
   },
   "outputs": [
    {
     "data": {
      "text/plain": [
       "who                      object\n",
       "Newbie                    int64\n",
       "Age                     float64\n",
       "Gender                   object\n",
       "Household Income         object\n",
       "Sexual Preference        object\n",
       "Country                  object\n",
       "Education Attainment     object\n",
       "Major Occupation         object\n",
       "Marital Status           object\n",
       "Years on Internet        object\n",
       "dtype: object"
      ]
     },
     "execution_count": 8,
     "metadata": {},
     "output_type": "execute_result"
    }
   ],
   "source": [
    "dataframe.dtypes"
   ]
  },
  {
   "cell_type": "code",
   "execution_count": 9,
   "metadata": {
    "ExecuteTime": {
     "end_time": "2018-03-04T05:07:05.255684Z",
     "start_time": "2018-03-04T05:07:05.248669Z"
    }
   },
   "outputs": [
    {
     "data": {
      "text/plain": [
       "array(['Other', 'Married', 'Single', 'Divorced', 'Widowed', nan,\n",
       "       'Separated'], dtype=object)"
      ]
     },
     "execution_count": 9,
     "metadata": {},
     "output_type": "execute_result"
    }
   ],
   "source": [
    "dataframe[\"Marital Status\"].unique()"
   ]
  },
  {
   "cell_type": "code",
   "execution_count": 10,
   "metadata": {
    "ExecuteTime": {
     "end_time": "2018-03-04T05:07:06.891179Z",
     "start_time": "2018-03-04T05:07:06.882089Z"
    }
   },
   "outputs": [
    {
     "data": {
      "text/plain": [
       "Newbie                    int64\n",
       "Age                     float64\n",
       "Gender                   object\n",
       "Household Income         object\n",
       "Sexual Preference        object\n",
       "Country                  object\n",
       "Education Attainment     object\n",
       "Major Occupation         object\n",
       "Marital Status           object\n",
       "Years on Internet        object\n",
       "dtype: object"
      ]
     },
     "execution_count": 10,
     "metadata": {},
     "output_type": "execute_result"
    }
   ],
   "source": [
    "dataframe.pop('who') # dataframe = dataframe.ix[:, 1:]\n",
    "\n",
    "dataframe.dtypes"
   ]
  },
  {
   "cell_type": "code",
   "execution_count": 11,
   "metadata": {
    "ExecuteTime": {
     "end_time": "2018-03-04T05:07:06.891179Z",
     "start_time": "2018-03-04T05:07:06.882089Z"
    }
   },
   "outputs": [
    {
     "data": {
      "text/plain": [
       "Newbie                    int64\n",
       "Age                     float64\n",
       "Gender                   object\n",
       "Household Income         object\n",
       "Sexual Preference        object\n",
       "Education Attainment     object\n",
       "Major Occupation         object\n",
       "Marital Status           object\n",
       "Years on Internet        object\n",
       "dtype: object"
      ]
     },
     "execution_count": 11,
     "metadata": {},
     "output_type": "execute_result"
    }
   ],
   "source": [
    "dataframe.pop('Country')\n",
    "\n",
    "dataframe.dtypes"
   ]
  },
  {
   "cell_type": "code",
   "execution_count": 12,
   "metadata": {
    "ExecuteTime": {
     "end_time": "2018-03-04T05:07:06.891179Z",
     "start_time": "2018-03-04T05:07:06.882089Z"
    }
   },
   "outputs": [
    {
     "data": {
      "text/plain": [
       "Newbie                    int64\n",
       "Age                     float64\n",
       "Gender                   object\n",
       "Household Income         object\n",
       "Sexual Preference        object\n",
       "Education Attainment     object\n",
       "Major Occupation         object\n",
       "Marital Status           object\n",
       "dtype: object"
      ]
     },
     "execution_count": 12,
     "metadata": {},
     "output_type": "execute_result"
    }
   ],
   "source": [
    "dataframe.pop('Years on Internet')\n",
    "\n",
    "dataframe.dtypes"
   ]
  },
  {
   "cell_type": "code",
   "execution_count": 42,
   "metadata": {
    "ExecuteTime": {
     "end_time": "2018-03-04T05:07:07.600784Z",
     "start_time": "2018-03-04T05:07:07.593302Z"
    }
   },
   "outputs": [
    {
     "data": {
      "text/plain": [
       "Newbie                     int64\n",
       "Age                      float64\n",
       "Gender                  category\n",
       "Household Income          object\n",
       "Sexual Preference         object\n",
       "Education Attainment      object\n",
       "Major Occupation          object\n",
       "Marital Status            object\n",
       "dtype: object"
      ]
     },
     "execution_count": 42,
     "metadata": {},
     "output_type": "execute_result"
    }
   ],
   "source": [
    "dataframe[\"Gender\"] = dataframe[\"Gender\"].astype(\"category\")\n",
    "dataframe.dtypes"
   ]
  },
  {
   "cell_type": "code",
   "execution_count": 43,
   "metadata": {
    "ExecuteTime": {
     "end_time": "2018-03-04T05:07:08.497007Z",
     "start_time": "2018-03-04T05:07:08.483616Z"
    }
   },
   "outputs": [
    {
     "data": {
      "text/plain": [
       "Newbie                     int64\n",
       "Age                      float64\n",
       "Gender                  category\n",
       "Household Income        category\n",
       "Sexual Preference       category\n",
       "Education Attainment    category\n",
       "Major Occupation        category\n",
       "Marital Status          category\n",
       "dtype: object"
      ]
     },
     "execution_count": 43,
     "metadata": {},
     "output_type": "execute_result"
    }
   ],
   "source": [
    "for col in ['Household Income', 'Sexual Preference', 'Education Attainment', \\\n",
    "            'Major Occupation', \"Marital Status\"]:\n",
    "    dataframe[col] = dataframe[col].astype('category')\n",
    "dataframe.dtypes    "
   ]
  },
  {
   "cell_type": "code",
   "execution_count": 44,
   "metadata": {},
   "outputs": [
    {
     "data": {
      "text/html": [
       "<div>\n",
       "<style scoped>\n",
       "    .dataframe tbody tr th:only-of-type {\n",
       "        vertical-align: middle;\n",
       "    }\n",
       "\n",
       "    .dataframe tbody tr th {\n",
       "        vertical-align: top;\n",
       "    }\n",
       "\n",
       "    .dataframe thead th {\n",
       "        text-align: right;\n",
       "    }\n",
       "</style>\n",
       "<table border=\"1\" class=\"dataframe\">\n",
       "  <thead>\n",
       "    <tr style=\"text-align: right;\">\n",
       "      <th></th>\n",
       "      <th>Newbie</th>\n",
       "      <th>Age</th>\n",
       "      <th>Gender</th>\n",
       "      <th>Household Income</th>\n",
       "      <th>Sexual Preference</th>\n",
       "      <th>Education Attainment</th>\n",
       "      <th>Major Occupation</th>\n",
       "      <th>Marital Status</th>\n",
       "    </tr>\n",
       "  </thead>\n",
       "  <tbody>\n",
       "    <tr>\n",
       "      <th>0</th>\n",
       "      <td>0</td>\n",
       "      <td>54.0</td>\n",
       "      <td>Male</td>\n",
       "      <td>$50-74</td>\n",
       "      <td>Gay male</td>\n",
       "      <td>Some College</td>\n",
       "      <td>Computer</td>\n",
       "      <td>Other</td>\n",
       "    </tr>\n",
       "    <tr>\n",
       "      <th>1</th>\n",
       "      <td>0</td>\n",
       "      <td>39.0</td>\n",
       "      <td>Female</td>\n",
       "      <td>Over $100</td>\n",
       "      <td>Heterosexual</td>\n",
       "      <td>Professional</td>\n",
       "      <td>Other</td>\n",
       "      <td>Other</td>\n",
       "    </tr>\n",
       "    <tr>\n",
       "      <th>2</th>\n",
       "      <td>1</td>\n",
       "      <td>49.0</td>\n",
       "      <td>Female</td>\n",
       "      <td>$40-49</td>\n",
       "      <td>Heterosexual</td>\n",
       "      <td>Some College</td>\n",
       "      <td>Management</td>\n",
       "      <td>Other</td>\n",
       "    </tr>\n",
       "    <tr>\n",
       "      <th>3</th>\n",
       "      <td>1</td>\n",
       "      <td>22.0</td>\n",
       "      <td>Female</td>\n",
       "      <td>$40-49</td>\n",
       "      <td>Heterosexual</td>\n",
       "      <td>Some College</td>\n",
       "      <td>Computer</td>\n",
       "      <td>Married</td>\n",
       "    </tr>\n",
       "    <tr>\n",
       "      <th>4</th>\n",
       "      <td>0</td>\n",
       "      <td>20.0</td>\n",
       "      <td>Male</td>\n",
       "      <td>$30-39</td>\n",
       "      <td>Bisexual</td>\n",
       "      <td>Some College</td>\n",
       "      <td>Education</td>\n",
       "      <td>Single</td>\n",
       "    </tr>\n",
       "  </tbody>\n",
       "</table>\n",
       "</div>"
      ],
      "text/plain": [
       "   Newbie   Age  Gender Household Income Sexual Preference  \\\n",
       "0       0  54.0    Male           $50-74          Gay male   \n",
       "1       0  39.0  Female        Over $100      Heterosexual   \n",
       "2       1  49.0  Female           $40-49      Heterosexual   \n",
       "3       1  22.0  Female           $40-49      Heterosexual   \n",
       "4       0  20.0    Male           $30-39          Bisexual   \n",
       "\n",
       "  Education Attainment Major Occupation Marital Status  \n",
       "0         Some College         Computer          Other  \n",
       "1         Professional            Other          Other  \n",
       "2         Some College       Management          Other  \n",
       "3         Some College         Computer        Married  \n",
       "4         Some College        Education         Single  "
      ]
     },
     "execution_count": 44,
     "metadata": {},
     "output_type": "execute_result"
    }
   ],
   "source": [
    "dataframe.head()"
   ]
  },
  {
   "cell_type": "code",
   "execution_count": 13,
   "metadata": {
    "ExecuteTime": {
     "end_time": "2018-03-04T05:07:09.517211Z",
     "start_time": "2018-03-04T05:07:09.490132Z"
    }
   },
   "outputs": [
    {
     "data": {
      "text/html": [
       "<div>\n",
       "<style scoped>\n",
       "    .dataframe tbody tr th:only-of-type {\n",
       "        vertical-align: middle;\n",
       "    }\n",
       "\n",
       "    .dataframe tbody tr th {\n",
       "        vertical-align: top;\n",
       "    }\n",
       "\n",
       "    .dataframe thead th {\n",
       "        text-align: right;\n",
       "    }\n",
       "</style>\n",
       "<table border=\"1\" class=\"dataframe\">\n",
       "  <thead>\n",
       "    <tr style=\"text-align: right;\">\n",
       "      <th></th>\n",
       "      <th>Newbie</th>\n",
       "      <th>Age</th>\n",
       "      <th>Gender_Female</th>\n",
       "      <th>Gender_Male</th>\n",
       "      <th>Household Income_$10-19</th>\n",
       "      <th>Household Income_$20-29</th>\n",
       "      <th>Household Income_$30-39</th>\n",
       "      <th>Household Income_$40-49</th>\n",
       "      <th>Household Income_$50-74</th>\n",
       "      <th>Household Income_$75-99</th>\n",
       "      <th>...</th>\n",
       "      <th>Major Occupation_Education</th>\n",
       "      <th>Major Occupation_Management</th>\n",
       "      <th>Major Occupation_Other</th>\n",
       "      <th>Major Occupation_Professional</th>\n",
       "      <th>Marital Status_Divorced</th>\n",
       "      <th>Marital Status_Married</th>\n",
       "      <th>Marital Status_Other</th>\n",
       "      <th>Marital Status_Separated</th>\n",
       "      <th>Marital Status_Single</th>\n",
       "      <th>Marital Status_Widowed</th>\n",
       "    </tr>\n",
       "  </thead>\n",
       "  <tbody>\n",
       "    <tr>\n",
       "      <th>0</th>\n",
       "      <td>0</td>\n",
       "      <td>54.0</td>\n",
       "      <td>0</td>\n",
       "      <td>1</td>\n",
       "      <td>0</td>\n",
       "      <td>0</td>\n",
       "      <td>0</td>\n",
       "      <td>0</td>\n",
       "      <td>1</td>\n",
       "      <td>0</td>\n",
       "      <td>...</td>\n",
       "      <td>0</td>\n",
       "      <td>0</td>\n",
       "      <td>0</td>\n",
       "      <td>0</td>\n",
       "      <td>0</td>\n",
       "      <td>0</td>\n",
       "      <td>1</td>\n",
       "      <td>0</td>\n",
       "      <td>0</td>\n",
       "      <td>0</td>\n",
       "    </tr>\n",
       "    <tr>\n",
       "      <th>1</th>\n",
       "      <td>0</td>\n",
       "      <td>39.0</td>\n",
       "      <td>1</td>\n",
       "      <td>0</td>\n",
       "      <td>0</td>\n",
       "      <td>0</td>\n",
       "      <td>0</td>\n",
       "      <td>0</td>\n",
       "      <td>0</td>\n",
       "      <td>0</td>\n",
       "      <td>...</td>\n",
       "      <td>0</td>\n",
       "      <td>0</td>\n",
       "      <td>1</td>\n",
       "      <td>0</td>\n",
       "      <td>0</td>\n",
       "      <td>0</td>\n",
       "      <td>1</td>\n",
       "      <td>0</td>\n",
       "      <td>0</td>\n",
       "      <td>0</td>\n",
       "    </tr>\n",
       "    <tr>\n",
       "      <th>2</th>\n",
       "      <td>1</td>\n",
       "      <td>49.0</td>\n",
       "      <td>1</td>\n",
       "      <td>0</td>\n",
       "      <td>0</td>\n",
       "      <td>0</td>\n",
       "      <td>0</td>\n",
       "      <td>1</td>\n",
       "      <td>0</td>\n",
       "      <td>0</td>\n",
       "      <td>...</td>\n",
       "      <td>0</td>\n",
       "      <td>1</td>\n",
       "      <td>0</td>\n",
       "      <td>0</td>\n",
       "      <td>0</td>\n",
       "      <td>0</td>\n",
       "      <td>1</td>\n",
       "      <td>0</td>\n",
       "      <td>0</td>\n",
       "      <td>0</td>\n",
       "    </tr>\n",
       "    <tr>\n",
       "      <th>3</th>\n",
       "      <td>1</td>\n",
       "      <td>22.0</td>\n",
       "      <td>1</td>\n",
       "      <td>0</td>\n",
       "      <td>0</td>\n",
       "      <td>0</td>\n",
       "      <td>0</td>\n",
       "      <td>1</td>\n",
       "      <td>0</td>\n",
       "      <td>0</td>\n",
       "      <td>...</td>\n",
       "      <td>0</td>\n",
       "      <td>0</td>\n",
       "      <td>0</td>\n",
       "      <td>0</td>\n",
       "      <td>0</td>\n",
       "      <td>1</td>\n",
       "      <td>0</td>\n",
       "      <td>0</td>\n",
       "      <td>0</td>\n",
       "      <td>0</td>\n",
       "    </tr>\n",
       "    <tr>\n",
       "      <th>4</th>\n",
       "      <td>0</td>\n",
       "      <td>20.0</td>\n",
       "      <td>0</td>\n",
       "      <td>1</td>\n",
       "      <td>0</td>\n",
       "      <td>0</td>\n",
       "      <td>1</td>\n",
       "      <td>0</td>\n",
       "      <td>0</td>\n",
       "      <td>0</td>\n",
       "      <td>...</td>\n",
       "      <td>1</td>\n",
       "      <td>0</td>\n",
       "      <td>0</td>\n",
       "      <td>0</td>\n",
       "      <td>0</td>\n",
       "      <td>0</td>\n",
       "      <td>0</td>\n",
       "      <td>0</td>\n",
       "      <td>1</td>\n",
       "      <td>0</td>\n",
       "    </tr>\n",
       "  </tbody>\n",
       "</table>\n",
       "<p>5 rows × 38 columns</p>\n",
       "</div>"
      ],
      "text/plain": [
       "   Newbie   Age  Gender_Female  Gender_Male  Household Income_$10-19  \\\n",
       "0       0  54.0              0            1                        0   \n",
       "1       0  39.0              1            0                        0   \n",
       "2       1  49.0              1            0                        0   \n",
       "3       1  22.0              1            0                        0   \n",
       "4       0  20.0              0            1                        0   \n",
       "\n",
       "   Household Income_$20-29  Household Income_$30-39  Household Income_$40-49  \\\n",
       "0                        0                        0                        0   \n",
       "1                        0                        0                        0   \n",
       "2                        0                        0                        1   \n",
       "3                        0                        0                        1   \n",
       "4                        0                        1                        0   \n",
       "\n",
       "   Household Income_$50-74  Household Income_$75-99  ...  \\\n",
       "0                        1                        0  ...   \n",
       "1                        0                        0  ...   \n",
       "2                        0                        0  ...   \n",
       "3                        0                        0  ...   \n",
       "4                        0                        0  ...   \n",
       "\n",
       "   Major Occupation_Education  Major Occupation_Management  \\\n",
       "0                           0                            0   \n",
       "1                           0                            0   \n",
       "2                           0                            1   \n",
       "3                           0                            0   \n",
       "4                           1                            0   \n",
       "\n",
       "   Major Occupation_Other  Major Occupation_Professional  \\\n",
       "0                       0                              0   \n",
       "1                       1                              0   \n",
       "2                       0                              0   \n",
       "3                       0                              0   \n",
       "4                       0                              0   \n",
       "\n",
       "   Marital Status_Divorced  Marital Status_Married  Marital Status_Other  \\\n",
       "0                        0                       0                     1   \n",
       "1                        0                       0                     1   \n",
       "2                        0                       0                     1   \n",
       "3                        0                       1                     0   \n",
       "4                        0                       0                     0   \n",
       "\n",
       "   Marital Status_Separated  Marital Status_Single  Marital Status_Widowed  \n",
       "0                         0                      0                       0  \n",
       "1                         0                      0                       0  \n",
       "2                         0                      0                       0  \n",
       "3                         0                      0                       0  \n",
       "4                         0                      1                       0  \n",
       "\n",
       "[5 rows x 38 columns]"
      ]
     },
     "execution_count": 13,
     "metadata": {},
     "output_type": "execute_result"
    }
   ],
   "source": [
    "dataframe_modified = pd.get_dummies(dataframe)\n",
    "dataframe_modified[:5]"
   ]
  },
  {
   "cell_type": "code",
   "execution_count": 14,
   "metadata": {
    "ExecuteTime": {
     "end_time": "2018-03-04T05:07:12.221435Z",
     "start_time": "2018-03-04T05:07:12.217827Z"
    }
   },
   "outputs": [
    {
     "data": {
      "text/plain": [
       "(19583, 38)"
      ]
     },
     "execution_count": 14,
     "metadata": {},
     "output_type": "execute_result"
    }
   ],
   "source": [
    "dataframe_modified.shape"
   ]
  },
  {
   "cell_type": "code",
   "execution_count": 15,
   "metadata": {
    "ExecuteTime": {
     "end_time": "2018-03-04T05:07:14.359068Z",
     "start_time": "2018-03-04T05:07:14.337636Z"
    }
   },
   "outputs": [
    {
     "data": {
      "text/plain": [
       "Newbie                                 0\n",
       "Age                                  561\n",
       "Gender_Female                          0\n",
       "Gender_Male                            0\n",
       "Household Income_$10-19                0\n",
       "Household Income_$20-29                0\n",
       "Household Income_$30-39                0\n",
       "Household Income_$40-49                0\n",
       "Household Income_$50-74                0\n",
       "Household Income_$75-99                0\n",
       "Household Income_Over $100             0\n",
       "Household Income_Under $10             0\n",
       "Sexual Preference_Bisexual             0\n",
       "Sexual Preference_Gay male             0\n",
       "Sexual Preference_Heterosexual         0\n",
       "Sexual Preference_Lesbian              0\n",
       "Sexual Preference_Transgender          0\n",
       "Sexual Preference_na                   0\n",
       "Education Attainment_College           0\n",
       "Education Attainment_Doctoral          0\n",
       "Education Attainment_Grammar           0\n",
       "Education Attainment_High School       0\n",
       "Education Attainment_Masters           0\n",
       "Education Attainment_Other             0\n",
       "Education Attainment_Professional      0\n",
       "Education Attainment_Some College      0\n",
       "Education Attainment_Special           0\n",
       "Major Occupation_Computer              0\n",
       "Major Occupation_Education             0\n",
       "Major Occupation_Management            0\n",
       "Major Occupation_Other                 0\n",
       "Major Occupation_Professional          0\n",
       "Marital Status_Divorced                0\n",
       "Marital Status_Married                 0\n",
       "Marital Status_Other                   0\n",
       "Marital Status_Separated               0\n",
       "Marital Status_Single                  0\n",
       "Marital Status_Widowed                 0\n",
       "dtype: int64"
      ]
     },
     "execution_count": 15,
     "metadata": {},
     "output_type": "execute_result"
    }
   ],
   "source": [
    "dataframe_modified.isnull().sum()"
   ]
  },
  {
   "cell_type": "code",
   "execution_count": 18,
   "metadata": {
    "ExecuteTime": {
     "end_time": "2018-03-04T05:08:38.926133Z",
     "start_time": "2018-03-04T05:08:38.888080Z"
    }
   },
   "outputs": [
    {
     "data": {
      "text/plain": [
       "0        False\n",
       "1        False\n",
       "2        False\n",
       "3        False\n",
       "4        False\n",
       "5        False\n",
       "6        False\n",
       "7        False\n",
       "8        False\n",
       "9        False\n",
       "10       False\n",
       "11       False\n",
       "12       False\n",
       "13       False\n",
       "14       False\n",
       "15       False\n",
       "16       False\n",
       "17       False\n",
       "18       False\n",
       "19       False\n",
       "20       False\n",
       "21       False\n",
       "22       False\n",
       "23       False\n",
       "24       False\n",
       "25       False\n",
       "26       False\n",
       "27       False\n",
       "28       False\n",
       "29       False\n",
       "         ...  \n",
       "19553    False\n",
       "19554    False\n",
       "19555    False\n",
       "19556    False\n",
       "19557    False\n",
       "19558    False\n",
       "19559    False\n",
       "19560    False\n",
       "19561    False\n",
       "19562    False\n",
       "19563    False\n",
       "19564    False\n",
       "19565     True\n",
       "19566    False\n",
       "19567    False\n",
       "19568    False\n",
       "19569    False\n",
       "19570    False\n",
       "19571    False\n",
       "19572    False\n",
       "19573    False\n",
       "19574    False\n",
       "19575    False\n",
       "19576    False\n",
       "19577    False\n",
       "19578    False\n",
       "19579    False\n",
       "19580    False\n",
       "19581    False\n",
       "19582    False\n",
       "Name: Age, Length: 19583, dtype: bool"
      ]
     },
     "execution_count": 18,
     "metadata": {},
     "output_type": "execute_result"
    }
   ],
   "source": [
    "pd.isnull(dataframe_modified['Age'])"
   ]
  },
  {
   "cell_type": "code",
   "execution_count": 22,
   "metadata": {
    "ExecuteTime": {
     "end_time": "2018-03-04T05:08:38.926133Z",
     "start_time": "2018-03-04T05:08:38.888080Z"
    }
   },
   "outputs": [
    {
     "data": {
      "text/html": [
       "<div>\n",
       "<style scoped>\n",
       "    .dataframe tbody tr th:only-of-type {\n",
       "        vertical-align: middle;\n",
       "    }\n",
       "\n",
       "    .dataframe tbody tr th {\n",
       "        vertical-align: top;\n",
       "    }\n",
       "\n",
       "    .dataframe thead th {\n",
       "        text-align: right;\n",
       "    }\n",
       "</style>\n",
       "<table border=\"1\" class=\"dataframe\">\n",
       "  <thead>\n",
       "    <tr style=\"text-align: right;\">\n",
       "      <th></th>\n",
       "      <th>Newbie</th>\n",
       "      <th>Age</th>\n",
       "      <th>Gender_Female</th>\n",
       "      <th>Gender_Male</th>\n",
       "      <th>Household Income_$10-19</th>\n",
       "      <th>Household Income_$20-29</th>\n",
       "      <th>Household Income_$30-39</th>\n",
       "      <th>Household Income_$40-49</th>\n",
       "      <th>Household Income_$50-74</th>\n",
       "      <th>Household Income_$75-99</th>\n",
       "      <th>...</th>\n",
       "      <th>Major Occupation_Education</th>\n",
       "      <th>Major Occupation_Management</th>\n",
       "      <th>Major Occupation_Other</th>\n",
       "      <th>Major Occupation_Professional</th>\n",
       "      <th>Marital Status_Divorced</th>\n",
       "      <th>Marital Status_Married</th>\n",
       "      <th>Marital Status_Other</th>\n",
       "      <th>Marital Status_Separated</th>\n",
       "      <th>Marital Status_Single</th>\n",
       "      <th>Marital Status_Widowed</th>\n",
       "    </tr>\n",
       "  </thead>\n",
       "  <tbody>\n",
       "    <tr>\n",
       "      <th>42</th>\n",
       "      <td>0</td>\n",
       "      <td>NaN</td>\n",
       "      <td>1</td>\n",
       "      <td>0</td>\n",
       "      <td>0</td>\n",
       "      <td>0</td>\n",
       "      <td>0</td>\n",
       "      <td>0</td>\n",
       "      <td>0</td>\n",
       "      <td>0</td>\n",
       "      <td>...</td>\n",
       "      <td>0</td>\n",
       "      <td>0</td>\n",
       "      <td>0</td>\n",
       "      <td>1</td>\n",
       "      <td>0</td>\n",
       "      <td>0</td>\n",
       "      <td>0</td>\n",
       "      <td>0</td>\n",
       "      <td>1</td>\n",
       "      <td>0</td>\n",
       "    </tr>\n",
       "    <tr>\n",
       "      <th>98</th>\n",
       "      <td>0</td>\n",
       "      <td>NaN</td>\n",
       "      <td>0</td>\n",
       "      <td>1</td>\n",
       "      <td>0</td>\n",
       "      <td>0</td>\n",
       "      <td>0</td>\n",
       "      <td>0</td>\n",
       "      <td>0</td>\n",
       "      <td>0</td>\n",
       "      <td>...</td>\n",
       "      <td>0</td>\n",
       "      <td>1</td>\n",
       "      <td>0</td>\n",
       "      <td>0</td>\n",
       "      <td>0</td>\n",
       "      <td>1</td>\n",
       "      <td>0</td>\n",
       "      <td>0</td>\n",
       "      <td>0</td>\n",
       "      <td>0</td>\n",
       "    </tr>\n",
       "    <tr>\n",
       "      <th>160</th>\n",
       "      <td>0</td>\n",
       "      <td>NaN</td>\n",
       "      <td>0</td>\n",
       "      <td>1</td>\n",
       "      <td>0</td>\n",
       "      <td>0</td>\n",
       "      <td>0</td>\n",
       "      <td>0</td>\n",
       "      <td>0</td>\n",
       "      <td>0</td>\n",
       "      <td>...</td>\n",
       "      <td>0</td>\n",
       "      <td>0</td>\n",
       "      <td>0</td>\n",
       "      <td>1</td>\n",
       "      <td>0</td>\n",
       "      <td>1</td>\n",
       "      <td>0</td>\n",
       "      <td>0</td>\n",
       "      <td>0</td>\n",
       "      <td>0</td>\n",
       "    </tr>\n",
       "    <tr>\n",
       "      <th>227</th>\n",
       "      <td>1</td>\n",
       "      <td>NaN</td>\n",
       "      <td>1</td>\n",
       "      <td>0</td>\n",
       "      <td>0</td>\n",
       "      <td>0</td>\n",
       "      <td>0</td>\n",
       "      <td>0</td>\n",
       "      <td>0</td>\n",
       "      <td>0</td>\n",
       "      <td>...</td>\n",
       "      <td>0</td>\n",
       "      <td>0</td>\n",
       "      <td>1</td>\n",
       "      <td>0</td>\n",
       "      <td>1</td>\n",
       "      <td>0</td>\n",
       "      <td>0</td>\n",
       "      <td>0</td>\n",
       "      <td>0</td>\n",
       "      <td>0</td>\n",
       "    </tr>\n",
       "    <tr>\n",
       "      <th>278</th>\n",
       "      <td>0</td>\n",
       "      <td>NaN</td>\n",
       "      <td>0</td>\n",
       "      <td>1</td>\n",
       "      <td>0</td>\n",
       "      <td>0</td>\n",
       "      <td>0</td>\n",
       "      <td>0</td>\n",
       "      <td>0</td>\n",
       "      <td>0</td>\n",
       "      <td>...</td>\n",
       "      <td>0</td>\n",
       "      <td>0</td>\n",
       "      <td>0</td>\n",
       "      <td>0</td>\n",
       "      <td>0</td>\n",
       "      <td>1</td>\n",
       "      <td>0</td>\n",
       "      <td>0</td>\n",
       "      <td>0</td>\n",
       "      <td>0</td>\n",
       "    </tr>\n",
       "  </tbody>\n",
       "</table>\n",
       "<p>5 rows × 38 columns</p>\n",
       "</div>"
      ],
      "text/plain": [
       "     Newbie  Age  Gender_Female  Gender_Male  Household Income_$10-19  \\\n",
       "42        0  NaN              1            0                        0   \n",
       "98        0  NaN              0            1                        0   \n",
       "160       0  NaN              0            1                        0   \n",
       "227       1  NaN              1            0                        0   \n",
       "278       0  NaN              0            1                        0   \n",
       "\n",
       "     Household Income_$20-29  Household Income_$30-39  \\\n",
       "42                         0                        0   \n",
       "98                         0                        0   \n",
       "160                        0                        0   \n",
       "227                        0                        0   \n",
       "278                        0                        0   \n",
       "\n",
       "     Household Income_$40-49  Household Income_$50-74  \\\n",
       "42                         0                        0   \n",
       "98                         0                        0   \n",
       "160                        0                        0   \n",
       "227                        0                        0   \n",
       "278                        0                        0   \n",
       "\n",
       "     Household Income_$75-99  ...  Major Occupation_Education  \\\n",
       "42                         0  ...                           0   \n",
       "98                         0  ...                           0   \n",
       "160                        0  ...                           0   \n",
       "227                        0  ...                           0   \n",
       "278                        0  ...                           0   \n",
       "\n",
       "     Major Occupation_Management  Major Occupation_Other  \\\n",
       "42                             0                       0   \n",
       "98                             1                       0   \n",
       "160                            0                       0   \n",
       "227                            0                       1   \n",
       "278                            0                       0   \n",
       "\n",
       "     Major Occupation_Professional  Marital Status_Divorced  \\\n",
       "42                               1                        0   \n",
       "98                               0                        0   \n",
       "160                              1                        0   \n",
       "227                              0                        1   \n",
       "278                              0                        0   \n",
       "\n",
       "     Marital Status_Married  Marital Status_Other  Marital Status_Separated  \\\n",
       "42                        0                     0                         0   \n",
       "98                        1                     0                         0   \n",
       "160                       1                     0                         0   \n",
       "227                       0                     0                         0   \n",
       "278                       1                     0                         0   \n",
       "\n",
       "     Marital Status_Single  Marital Status_Widowed  \n",
       "42                       1                       0  \n",
       "98                       0                       0  \n",
       "160                      0                       0  \n",
       "227                      0                       0  \n",
       "278                      0                       0  \n",
       "\n",
       "[5 rows x 38 columns]"
      ]
     },
     "execution_count": 22,
     "metadata": {},
     "output_type": "execute_result"
    }
   ],
   "source": [
    "dataframe_modified[pd.isnull(dataframe_modified['Age'])].head()"
   ]
  },
  {
   "cell_type": "code",
   "execution_count": 61,
   "metadata": {
    "ExecuteTime": {
     "end_time": "2018-03-04T05:08:38.926133Z",
     "start_time": "2018-03-04T05:08:38.888080Z"
    }
   },
   "outputs": [
    {
     "data": {
      "text/html": [
       "<div>\n",
       "<style scoped>\n",
       "    .dataframe tbody tr th:only-of-type {\n",
       "        vertical-align: middle;\n",
       "    }\n",
       "\n",
       "    .dataframe tbody tr th {\n",
       "        vertical-align: top;\n",
       "    }\n",
       "\n",
       "    .dataframe thead th {\n",
       "        text-align: right;\n",
       "    }\n",
       "</style>\n",
       "<table border=\"1\" class=\"dataframe\">\n",
       "  <thead>\n",
       "    <tr style=\"text-align: right;\">\n",
       "      <th></th>\n",
       "      <th>Newbie</th>\n",
       "      <th>Age</th>\n",
       "      <th>Gender_Female</th>\n",
       "      <th>Gender_Male</th>\n",
       "      <th>Household Income_$10-19</th>\n",
       "      <th>Household Income_$20-29</th>\n",
       "      <th>Household Income_$30-39</th>\n",
       "      <th>Household Income_$40-49</th>\n",
       "      <th>Household Income_$50-74</th>\n",
       "      <th>Household Income_$75-99</th>\n",
       "      <th>...</th>\n",
       "      <th>Major Occupation_Education</th>\n",
       "      <th>Major Occupation_Management</th>\n",
       "      <th>Major Occupation_Other</th>\n",
       "      <th>Major Occupation_Professional</th>\n",
       "      <th>Marital Status_Divorced</th>\n",
       "      <th>Marital Status_Married</th>\n",
       "      <th>Marital Status_Other</th>\n",
       "      <th>Marital Status_Separated</th>\n",
       "      <th>Marital Status_Single</th>\n",
       "      <th>Marital Status_Widowed</th>\n",
       "    </tr>\n",
       "  </thead>\n",
       "  <tbody>\n",
       "    <tr>\n",
       "      <th>42</th>\n",
       "      <td>0</td>\n",
       "      <td>NaN</td>\n",
       "      <td>1</td>\n",
       "      <td>0</td>\n",
       "      <td>0</td>\n",
       "      <td>0</td>\n",
       "      <td>0</td>\n",
       "      <td>0</td>\n",
       "      <td>0</td>\n",
       "      <td>0</td>\n",
       "      <td>...</td>\n",
       "      <td>0</td>\n",
       "      <td>0</td>\n",
       "      <td>0</td>\n",
       "      <td>1</td>\n",
       "      <td>0</td>\n",
       "      <td>0</td>\n",
       "      <td>0</td>\n",
       "      <td>0</td>\n",
       "      <td>1</td>\n",
       "      <td>0</td>\n",
       "    </tr>\n",
       "    <tr>\n",
       "      <th>98</th>\n",
       "      <td>0</td>\n",
       "      <td>NaN</td>\n",
       "      <td>0</td>\n",
       "      <td>1</td>\n",
       "      <td>0</td>\n",
       "      <td>0</td>\n",
       "      <td>0</td>\n",
       "      <td>0</td>\n",
       "      <td>0</td>\n",
       "      <td>0</td>\n",
       "      <td>...</td>\n",
       "      <td>0</td>\n",
       "      <td>1</td>\n",
       "      <td>0</td>\n",
       "      <td>0</td>\n",
       "      <td>0</td>\n",
       "      <td>1</td>\n",
       "      <td>0</td>\n",
       "      <td>0</td>\n",
       "      <td>0</td>\n",
       "      <td>0</td>\n",
       "    </tr>\n",
       "    <tr>\n",
       "      <th>160</th>\n",
       "      <td>0</td>\n",
       "      <td>NaN</td>\n",
       "      <td>0</td>\n",
       "      <td>1</td>\n",
       "      <td>0</td>\n",
       "      <td>0</td>\n",
       "      <td>0</td>\n",
       "      <td>0</td>\n",
       "      <td>0</td>\n",
       "      <td>0</td>\n",
       "      <td>...</td>\n",
       "      <td>0</td>\n",
       "      <td>0</td>\n",
       "      <td>0</td>\n",
       "      <td>1</td>\n",
       "      <td>0</td>\n",
       "      <td>1</td>\n",
       "      <td>0</td>\n",
       "      <td>0</td>\n",
       "      <td>0</td>\n",
       "      <td>0</td>\n",
       "    </tr>\n",
       "    <tr>\n",
       "      <th>227</th>\n",
       "      <td>1</td>\n",
       "      <td>NaN</td>\n",
       "      <td>1</td>\n",
       "      <td>0</td>\n",
       "      <td>0</td>\n",
       "      <td>0</td>\n",
       "      <td>0</td>\n",
       "      <td>0</td>\n",
       "      <td>0</td>\n",
       "      <td>0</td>\n",
       "      <td>...</td>\n",
       "      <td>0</td>\n",
       "      <td>0</td>\n",
       "      <td>1</td>\n",
       "      <td>0</td>\n",
       "      <td>1</td>\n",
       "      <td>0</td>\n",
       "      <td>0</td>\n",
       "      <td>0</td>\n",
       "      <td>0</td>\n",
       "      <td>0</td>\n",
       "    </tr>\n",
       "    <tr>\n",
       "      <th>278</th>\n",
       "      <td>0</td>\n",
       "      <td>NaN</td>\n",
       "      <td>0</td>\n",
       "      <td>1</td>\n",
       "      <td>0</td>\n",
       "      <td>0</td>\n",
       "      <td>0</td>\n",
       "      <td>0</td>\n",
       "      <td>0</td>\n",
       "      <td>0</td>\n",
       "      <td>...</td>\n",
       "      <td>0</td>\n",
       "      <td>0</td>\n",
       "      <td>0</td>\n",
       "      <td>0</td>\n",
       "      <td>0</td>\n",
       "      <td>1</td>\n",
       "      <td>0</td>\n",
       "      <td>0</td>\n",
       "      <td>0</td>\n",
       "      <td>0</td>\n",
       "    </tr>\n",
       "  </tbody>\n",
       "</table>\n",
       "<p>5 rows × 38 columns</p>\n",
       "</div>"
      ],
      "text/plain": [
       "     Newbie  Age  Gender_Female  Gender_Male  Household Income_$10-19  \\\n",
       "42        0  NaN              1            0                        0   \n",
       "98        0  NaN              0            1                        0   \n",
       "160       0  NaN              0            1                        0   \n",
       "227       1  NaN              1            0                        0   \n",
       "278       0  NaN              0            1                        0   \n",
       "\n",
       "     Household Income_$20-29  Household Income_$30-39  \\\n",
       "42                         0                        0   \n",
       "98                         0                        0   \n",
       "160                        0                        0   \n",
       "227                        0                        0   \n",
       "278                        0                        0   \n",
       "\n",
       "     Household Income_$40-49  Household Income_$50-74  \\\n",
       "42                         0                        0   \n",
       "98                         0                        0   \n",
       "160                        0                        0   \n",
       "227                        0                        0   \n",
       "278                        0                        0   \n",
       "\n",
       "     Household Income_$75-99  ...  Major Occupation_Education  \\\n",
       "42                         0  ...                           0   \n",
       "98                         0  ...                           0   \n",
       "160                        0  ...                           0   \n",
       "227                        0  ...                           0   \n",
       "278                        0  ...                           0   \n",
       "\n",
       "     Major Occupation_Management  Major Occupation_Other  \\\n",
       "42                             0                       0   \n",
       "98                             1                       0   \n",
       "160                            0                       0   \n",
       "227                            0                       1   \n",
       "278                            0                       0   \n",
       "\n",
       "     Major Occupation_Professional  Marital Status_Divorced  \\\n",
       "42                               1                        0   \n",
       "98                               0                        0   \n",
       "160                              1                        0   \n",
       "227                              0                        1   \n",
       "278                              0                        0   \n",
       "\n",
       "     Marital Status_Married  Marital Status_Other  Marital Status_Separated  \\\n",
       "42                        0                     0                         0   \n",
       "98                        1                     0                         0   \n",
       "160                       1                     0                         0   \n",
       "227                       0                     0                         0   \n",
       "278                       1                     0                         0   \n",
       "\n",
       "     Marital Status_Single  Marital Status_Widowed  \n",
       "42                       1                       0  \n",
       "98                       0                       0  \n",
       "160                      0                       0  \n",
       "227                      0                       0  \n",
       "278                      0                       0  \n",
       "\n",
       "[5 rows x 38 columns]"
      ]
     },
     "execution_count": 61,
     "metadata": {},
     "output_type": "execute_result"
    }
   ],
   "source": [
    "dataframe_modified.loc[pd.isnull(dataframe_modified['Age'])].head()"
   ]
  },
  {
   "cell_type": "code",
   "execution_count": 23,
   "metadata": {
    "ExecuteTime": {
     "end_time": "2018-03-04T05:08:38.926133Z",
     "start_time": "2018-03-04T05:08:38.888080Z"
    }
   },
   "outputs": [
    {
     "data": {
      "text/plain": [
       "42      NaN\n",
       "98      NaN\n",
       "160     NaN\n",
       "227     NaN\n",
       "278     NaN\n",
       "288     NaN\n",
       "367     NaN\n",
       "377     NaN\n",
       "454     NaN\n",
       "469     NaN\n",
       "535     NaN\n",
       "538     NaN\n",
       "548     NaN\n",
       "567     NaN\n",
       "608     NaN\n",
       "615     NaN\n",
       "651     NaN\n",
       "670     NaN\n",
       "699     NaN\n",
       "707     NaN\n",
       "712     NaN\n",
       "729     NaN\n",
       "730     NaN\n",
       "770     NaN\n",
       "782     NaN\n",
       "799     NaN\n",
       "811     NaN\n",
       "870     NaN\n",
       "873     NaN\n",
       "942     NaN\n",
       "         ..\n",
       "18617   NaN\n",
       "18631   NaN\n",
       "18640   NaN\n",
       "18666   NaN\n",
       "18705   NaN\n",
       "18761   NaN\n",
       "18786   NaN\n",
       "18837   NaN\n",
       "18840   NaN\n",
       "18890   NaN\n",
       "18904   NaN\n",
       "18968   NaN\n",
       "18991   NaN\n",
       "19007   NaN\n",
       "19035   NaN\n",
       "19076   NaN\n",
       "19080   NaN\n",
       "19093   NaN\n",
       "19163   NaN\n",
       "19179   NaN\n",
       "19217   NaN\n",
       "19228   NaN\n",
       "19269   NaN\n",
       "19352   NaN\n",
       "19428   NaN\n",
       "19448   NaN\n",
       "19456   NaN\n",
       "19486   NaN\n",
       "19501   NaN\n",
       "19565   NaN\n",
       "Name: Age, Length: 561, dtype: float64"
      ]
     },
     "execution_count": 23,
     "metadata": {},
     "output_type": "execute_result"
    }
   ],
   "source": [
    "dataframe_modified.loc[pd.isnull(dataframe_modified['Age']), \"Age\"]"
   ]
  },
  {
   "cell_type": "code",
   "execution_count": 25,
   "metadata": {
    "ExecuteTime": {
     "end_time": "2018-03-04T05:08:38.926133Z",
     "start_time": "2018-03-04T05:08:38.888080Z"
    }
   },
   "outputs": [],
   "source": [
    "dataframe_modified.loc[pd.isnull(dataframe_modified['Age']), \"Age\"] = \\\n",
    "                                             dataframe_modified['Age'].mean()"
   ]
  },
  {
   "cell_type": "code",
   "execution_count": 26,
   "metadata": {
    "ExecuteTime": {
     "end_time": "2018-03-04T05:08:39.318646Z",
     "start_time": "2018-03-04T05:08:39.313769Z"
    }
   },
   "outputs": [
    {
     "data": {
      "text/plain": [
       "Series([], Name: Age, dtype: float64)"
      ]
     },
     "execution_count": 26,
     "metadata": {},
     "output_type": "execute_result"
    }
   ],
   "source": [
    "dataframe_modified['Age'][pd.isnull(dataframe_modified['Age'])]"
   ]
  },
  {
   "cell_type": "code",
   "execution_count": 27,
   "metadata": {
    "ExecuteTime": {
     "end_time": "2018-03-04T05:08:41.231750Z",
     "start_time": "2018-03-04T05:08:41.222666Z"
    }
   },
   "outputs": [
    {
     "data": {
      "text/html": [
       "<div>\n",
       "<style scoped>\n",
       "    .dataframe tbody tr th:only-of-type {\n",
       "        vertical-align: middle;\n",
       "    }\n",
       "\n",
       "    .dataframe tbody tr th {\n",
       "        vertical-align: top;\n",
       "    }\n",
       "\n",
       "    .dataframe thead th {\n",
       "        text-align: right;\n",
       "    }\n",
       "</style>\n",
       "<table border=\"1\" class=\"dataframe\">\n",
       "  <thead>\n",
       "    <tr style=\"text-align: right;\">\n",
       "      <th></th>\n",
       "      <th>Newbie</th>\n",
       "      <th>Age</th>\n",
       "      <th>Gender_Female</th>\n",
       "      <th>Gender_Male</th>\n",
       "      <th>Household Income_$10-19</th>\n",
       "      <th>Household Income_$20-29</th>\n",
       "      <th>Household Income_$30-39</th>\n",
       "      <th>Household Income_$40-49</th>\n",
       "      <th>Household Income_$50-74</th>\n",
       "      <th>Household Income_$75-99</th>\n",
       "      <th>...</th>\n",
       "      <th>Major Occupation_Education</th>\n",
       "      <th>Major Occupation_Management</th>\n",
       "      <th>Major Occupation_Other</th>\n",
       "      <th>Major Occupation_Professional</th>\n",
       "      <th>Marital Status_Divorced</th>\n",
       "      <th>Marital Status_Married</th>\n",
       "      <th>Marital Status_Other</th>\n",
       "      <th>Marital Status_Separated</th>\n",
       "      <th>Marital Status_Single</th>\n",
       "      <th>Marital Status_Widowed</th>\n",
       "    </tr>\n",
       "  </thead>\n",
       "  <tbody>\n",
       "    <tr>\n",
       "      <th>0</th>\n",
       "      <td>0</td>\n",
       "      <td>54.0</td>\n",
       "      <td>0</td>\n",
       "      <td>1</td>\n",
       "      <td>0</td>\n",
       "      <td>0</td>\n",
       "      <td>0</td>\n",
       "      <td>0</td>\n",
       "      <td>1</td>\n",
       "      <td>0</td>\n",
       "      <td>...</td>\n",
       "      <td>0</td>\n",
       "      <td>0</td>\n",
       "      <td>0</td>\n",
       "      <td>0</td>\n",
       "      <td>0</td>\n",
       "      <td>0</td>\n",
       "      <td>1</td>\n",
       "      <td>0</td>\n",
       "      <td>0</td>\n",
       "      <td>0</td>\n",
       "    </tr>\n",
       "    <tr>\n",
       "      <th>1</th>\n",
       "      <td>0</td>\n",
       "      <td>39.0</td>\n",
       "      <td>1</td>\n",
       "      <td>0</td>\n",
       "      <td>0</td>\n",
       "      <td>0</td>\n",
       "      <td>0</td>\n",
       "      <td>0</td>\n",
       "      <td>0</td>\n",
       "      <td>0</td>\n",
       "      <td>...</td>\n",
       "      <td>0</td>\n",
       "      <td>0</td>\n",
       "      <td>1</td>\n",
       "      <td>0</td>\n",
       "      <td>0</td>\n",
       "      <td>0</td>\n",
       "      <td>1</td>\n",
       "      <td>0</td>\n",
       "      <td>0</td>\n",
       "      <td>0</td>\n",
       "    </tr>\n",
       "    <tr>\n",
       "      <th>2</th>\n",
       "      <td>1</td>\n",
       "      <td>49.0</td>\n",
       "      <td>1</td>\n",
       "      <td>0</td>\n",
       "      <td>0</td>\n",
       "      <td>0</td>\n",
       "      <td>0</td>\n",
       "      <td>1</td>\n",
       "      <td>0</td>\n",
       "      <td>0</td>\n",
       "      <td>...</td>\n",
       "      <td>0</td>\n",
       "      <td>1</td>\n",
       "      <td>0</td>\n",
       "      <td>0</td>\n",
       "      <td>0</td>\n",
       "      <td>0</td>\n",
       "      <td>1</td>\n",
       "      <td>0</td>\n",
       "      <td>0</td>\n",
       "      <td>0</td>\n",
       "    </tr>\n",
       "    <tr>\n",
       "      <th>3</th>\n",
       "      <td>1</td>\n",
       "      <td>22.0</td>\n",
       "      <td>1</td>\n",
       "      <td>0</td>\n",
       "      <td>0</td>\n",
       "      <td>0</td>\n",
       "      <td>0</td>\n",
       "      <td>1</td>\n",
       "      <td>0</td>\n",
       "      <td>0</td>\n",
       "      <td>...</td>\n",
       "      <td>0</td>\n",
       "      <td>0</td>\n",
       "      <td>0</td>\n",
       "      <td>0</td>\n",
       "      <td>0</td>\n",
       "      <td>1</td>\n",
       "      <td>0</td>\n",
       "      <td>0</td>\n",
       "      <td>0</td>\n",
       "      <td>0</td>\n",
       "    </tr>\n",
       "    <tr>\n",
       "      <th>4</th>\n",
       "      <td>0</td>\n",
       "      <td>20.0</td>\n",
       "      <td>0</td>\n",
       "      <td>1</td>\n",
       "      <td>0</td>\n",
       "      <td>0</td>\n",
       "      <td>1</td>\n",
       "      <td>0</td>\n",
       "      <td>0</td>\n",
       "      <td>0</td>\n",
       "      <td>...</td>\n",
       "      <td>1</td>\n",
       "      <td>0</td>\n",
       "      <td>0</td>\n",
       "      <td>0</td>\n",
       "      <td>0</td>\n",
       "      <td>0</td>\n",
       "      <td>0</td>\n",
       "      <td>0</td>\n",
       "      <td>1</td>\n",
       "      <td>0</td>\n",
       "    </tr>\n",
       "  </tbody>\n",
       "</table>\n",
       "<p>5 rows × 38 columns</p>\n",
       "</div>"
      ],
      "text/plain": [
       "   Newbie   Age  Gender_Female  Gender_Male  Household Income_$10-19  \\\n",
       "0       0  54.0              0            1                        0   \n",
       "1       0  39.0              1            0                        0   \n",
       "2       1  49.0              1            0                        0   \n",
       "3       1  22.0              1            0                        0   \n",
       "4       0  20.0              0            1                        0   \n",
       "\n",
       "   Household Income_$20-29  Household Income_$30-39  Household Income_$40-49  \\\n",
       "0                        0                        0                        0   \n",
       "1                        0                        0                        0   \n",
       "2                        0                        0                        1   \n",
       "3                        0                        0                        1   \n",
       "4                        0                        1                        0   \n",
       "\n",
       "   Household Income_$50-74  Household Income_$75-99  ...  \\\n",
       "0                        1                        0  ...   \n",
       "1                        0                        0  ...   \n",
       "2                        0                        0  ...   \n",
       "3                        0                        0  ...   \n",
       "4                        0                        0  ...   \n",
       "\n",
       "   Major Occupation_Education  Major Occupation_Management  \\\n",
       "0                           0                            0   \n",
       "1                           0                            0   \n",
       "2                           0                            1   \n",
       "3                           0                            0   \n",
       "4                           1                            0   \n",
       "\n",
       "   Major Occupation_Other  Major Occupation_Professional  \\\n",
       "0                       0                              0   \n",
       "1                       1                              0   \n",
       "2                       0                              0   \n",
       "3                       0                              0   \n",
       "4                       0                              0   \n",
       "\n",
       "   Marital Status_Divorced  Marital Status_Married  Marital Status_Other  \\\n",
       "0                        0                       0                     1   \n",
       "1                        0                       0                     1   \n",
       "2                        0                       0                     1   \n",
       "3                        0                       1                     0   \n",
       "4                        0                       0                     0   \n",
       "\n",
       "   Marital Status_Separated  Marital Status_Single  Marital Status_Widowed  \n",
       "0                         0                      0                       0  \n",
       "1                         0                      0                       0  \n",
       "2                         0                      0                       0  \n",
       "3                         0                      0                       0  \n",
       "4                         0                      1                       0  \n",
       "\n",
       "[5 rows x 38 columns]"
      ]
     },
     "execution_count": 27,
     "metadata": {},
     "output_type": "execute_result"
    }
   ],
   "source": [
    "dataframe_modified.head()"
   ]
  },
  {
   "cell_type": "code",
   "execution_count": 28,
   "metadata": {},
   "outputs": [
    {
     "data": {
      "text/html": [
       "<div>\n",
       "<style scoped>\n",
       "    .dataframe tbody tr th:only-of-type {\n",
       "        vertical-align: middle;\n",
       "    }\n",
       "\n",
       "    .dataframe tbody tr th {\n",
       "        vertical-align: top;\n",
       "    }\n",
       "\n",
       "    .dataframe thead th {\n",
       "        text-align: right;\n",
       "    }\n",
       "</style>\n",
       "<table border=\"1\" class=\"dataframe\">\n",
       "  <thead>\n",
       "    <tr style=\"text-align: right;\">\n",
       "      <th></th>\n",
       "      <th>Newbie</th>\n",
       "      <th>Age</th>\n",
       "      <th>Gender_Female</th>\n",
       "      <th>Gender_Male</th>\n",
       "      <th>Household Income_$10-19</th>\n",
       "      <th>Household Income_$20-29</th>\n",
       "      <th>Household Income_$30-39</th>\n",
       "      <th>Household Income_$40-49</th>\n",
       "      <th>Household Income_$50-74</th>\n",
       "      <th>Household Income_$75-99</th>\n",
       "      <th>...</th>\n",
       "      <th>Major Occupation_Education</th>\n",
       "      <th>Major Occupation_Management</th>\n",
       "      <th>Major Occupation_Other</th>\n",
       "      <th>Major Occupation_Professional</th>\n",
       "      <th>Marital Status_Divorced</th>\n",
       "      <th>Marital Status_Married</th>\n",
       "      <th>Marital Status_Other</th>\n",
       "      <th>Marital Status_Separated</th>\n",
       "      <th>Marital Status_Single</th>\n",
       "      <th>Marital Status_Widowed</th>\n",
       "    </tr>\n",
       "  </thead>\n",
       "  <tbody>\n",
       "    <tr>\n",
       "      <th>0</th>\n",
       "      <td>0</td>\n",
       "      <td>54.0</td>\n",
       "      <td>0</td>\n",
       "      <td>1</td>\n",
       "      <td>0</td>\n",
       "      <td>0</td>\n",
       "      <td>0</td>\n",
       "      <td>0</td>\n",
       "      <td>1</td>\n",
       "      <td>0</td>\n",
       "      <td>...</td>\n",
       "      <td>0</td>\n",
       "      <td>0</td>\n",
       "      <td>0</td>\n",
       "      <td>0</td>\n",
       "      <td>0</td>\n",
       "      <td>0</td>\n",
       "      <td>1</td>\n",
       "      <td>0</td>\n",
       "      <td>0</td>\n",
       "      <td>0</td>\n",
       "    </tr>\n",
       "    <tr>\n",
       "      <th>1</th>\n",
       "      <td>0</td>\n",
       "      <td>39.0</td>\n",
       "      <td>1</td>\n",
       "      <td>0</td>\n",
       "      <td>0</td>\n",
       "      <td>0</td>\n",
       "      <td>0</td>\n",
       "      <td>0</td>\n",
       "      <td>0</td>\n",
       "      <td>0</td>\n",
       "      <td>...</td>\n",
       "      <td>0</td>\n",
       "      <td>0</td>\n",
       "      <td>1</td>\n",
       "      <td>0</td>\n",
       "      <td>0</td>\n",
       "      <td>0</td>\n",
       "      <td>1</td>\n",
       "      <td>0</td>\n",
       "      <td>0</td>\n",
       "      <td>0</td>\n",
       "    </tr>\n",
       "    <tr>\n",
       "      <th>2</th>\n",
       "      <td>1</td>\n",
       "      <td>49.0</td>\n",
       "      <td>1</td>\n",
       "      <td>0</td>\n",
       "      <td>0</td>\n",
       "      <td>0</td>\n",
       "      <td>0</td>\n",
       "      <td>1</td>\n",
       "      <td>0</td>\n",
       "      <td>0</td>\n",
       "      <td>...</td>\n",
       "      <td>0</td>\n",
       "      <td>1</td>\n",
       "      <td>0</td>\n",
       "      <td>0</td>\n",
       "      <td>0</td>\n",
       "      <td>0</td>\n",
       "      <td>1</td>\n",
       "      <td>0</td>\n",
       "      <td>0</td>\n",
       "      <td>0</td>\n",
       "    </tr>\n",
       "    <tr>\n",
       "      <th>3</th>\n",
       "      <td>1</td>\n",
       "      <td>22.0</td>\n",
       "      <td>1</td>\n",
       "      <td>0</td>\n",
       "      <td>0</td>\n",
       "      <td>0</td>\n",
       "      <td>0</td>\n",
       "      <td>1</td>\n",
       "      <td>0</td>\n",
       "      <td>0</td>\n",
       "      <td>...</td>\n",
       "      <td>0</td>\n",
       "      <td>0</td>\n",
       "      <td>0</td>\n",
       "      <td>0</td>\n",
       "      <td>0</td>\n",
       "      <td>1</td>\n",
       "      <td>0</td>\n",
       "      <td>0</td>\n",
       "      <td>0</td>\n",
       "      <td>0</td>\n",
       "    </tr>\n",
       "    <tr>\n",
       "      <th>4</th>\n",
       "      <td>0</td>\n",
       "      <td>20.0</td>\n",
       "      <td>0</td>\n",
       "      <td>1</td>\n",
       "      <td>0</td>\n",
       "      <td>0</td>\n",
       "      <td>1</td>\n",
       "      <td>0</td>\n",
       "      <td>0</td>\n",
       "      <td>0</td>\n",
       "      <td>...</td>\n",
       "      <td>1</td>\n",
       "      <td>0</td>\n",
       "      <td>0</td>\n",
       "      <td>0</td>\n",
       "      <td>0</td>\n",
       "      <td>0</td>\n",
       "      <td>0</td>\n",
       "      <td>0</td>\n",
       "      <td>1</td>\n",
       "      <td>0</td>\n",
       "    </tr>\n",
       "  </tbody>\n",
       "</table>\n",
       "<p>5 rows × 38 columns</p>\n",
       "</div>"
      ],
      "text/plain": [
       "   Newbie   Age  Gender_Female  Gender_Male  Household Income_$10-19  \\\n",
       "0       0  54.0              0            1                        0   \n",
       "1       0  39.0              1            0                        0   \n",
       "2       1  49.0              1            0                        0   \n",
       "3       1  22.0              1            0                        0   \n",
       "4       0  20.0              0            1                        0   \n",
       "\n",
       "   Household Income_$20-29  Household Income_$30-39  Household Income_$40-49  \\\n",
       "0                        0                        0                        0   \n",
       "1                        0                        0                        0   \n",
       "2                        0                        0                        1   \n",
       "3                        0                        0                        1   \n",
       "4                        0                        1                        0   \n",
       "\n",
       "   Household Income_$50-74  Household Income_$75-99  ...  \\\n",
       "0                        1                        0  ...   \n",
       "1                        0                        0  ...   \n",
       "2                        0                        0  ...   \n",
       "3                        0                        0  ...   \n",
       "4                        0                        0  ...   \n",
       "\n",
       "   Major Occupation_Education  Major Occupation_Management  \\\n",
       "0                           0                            0   \n",
       "1                           0                            0   \n",
       "2                           0                            1   \n",
       "3                           0                            0   \n",
       "4                           1                            0   \n",
       "\n",
       "   Major Occupation_Other  Major Occupation_Professional  \\\n",
       "0                       0                              0   \n",
       "1                       1                              0   \n",
       "2                       0                              0   \n",
       "3                       0                              0   \n",
       "4                       0                              0   \n",
       "\n",
       "   Marital Status_Divorced  Marital Status_Married  Marital Status_Other  \\\n",
       "0                        0                       0                     1   \n",
       "1                        0                       0                     1   \n",
       "2                        0                       0                     1   \n",
       "3                        0                       1                     0   \n",
       "4                        0                       0                     0   \n",
       "\n",
       "   Marital Status_Separated  Marital Status_Single  Marital Status_Widowed  \n",
       "0                         0                      0                       0  \n",
       "1                         0                      0                       0  \n",
       "2                         0                      0                       0  \n",
       "3                         0                      0                       0  \n",
       "4                         0                      1                       0  \n",
       "\n",
       "[5 rows x 38 columns]"
      ]
     },
     "execution_count": 28,
     "metadata": {},
     "output_type": "execute_result"
    }
   ],
   "source": [
    "dataframe_modified.head()"
   ]
  },
  {
   "cell_type": "code",
   "execution_count": 29,
   "metadata": {},
   "outputs": [
    {
     "name": "stdout",
     "output_type": "stream",
     "text": [
      "<class 'pandas.core.frame.DataFrame'>\n",
      "RangeIndex: 19583 entries, 0 to 19582\n",
      "Data columns (total 38 columns):\n",
      "Newbie                               19583 non-null int64\n",
      "Age                                  19583 non-null float64\n",
      "Gender_Female                        19583 non-null uint8\n",
      "Gender_Male                          19583 non-null uint8\n",
      "Household Income_$10-19              19583 non-null uint8\n",
      "Household Income_$20-29              19583 non-null uint8\n",
      "Household Income_$30-39              19583 non-null uint8\n",
      "Household Income_$40-49              19583 non-null uint8\n",
      "Household Income_$50-74              19583 non-null uint8\n",
      "Household Income_$75-99              19583 non-null uint8\n",
      "Household Income_Over $100           19583 non-null uint8\n",
      "Household Income_Under $10           19583 non-null uint8\n",
      "Sexual Preference_Bisexual           19583 non-null uint8\n",
      "Sexual Preference_Gay male           19583 non-null uint8\n",
      "Sexual Preference_Heterosexual       19583 non-null uint8\n",
      "Sexual Preference_Lesbian            19583 non-null uint8\n",
      "Sexual Preference_Transgender        19583 non-null uint8\n",
      "Sexual Preference_na                 19583 non-null uint8\n",
      "Education Attainment_College         19583 non-null uint8\n",
      "Education Attainment_Doctoral        19583 non-null uint8\n",
      "Education Attainment_Grammar         19583 non-null uint8\n",
      "Education Attainment_High School     19583 non-null uint8\n",
      "Education Attainment_Masters         19583 non-null uint8\n",
      "Education Attainment_Other           19583 non-null uint8\n",
      "Education Attainment_Professional    19583 non-null uint8\n",
      "Education Attainment_Some College    19583 non-null uint8\n",
      "Education Attainment_Special         19583 non-null uint8\n",
      "Major Occupation_Computer            19583 non-null uint8\n",
      "Major Occupation_Education           19583 non-null uint8\n",
      "Major Occupation_Management          19583 non-null uint8\n",
      "Major Occupation_Other               19583 non-null uint8\n",
      "Major Occupation_Professional        19583 non-null uint8\n",
      "Marital Status_Divorced              19583 non-null uint8\n",
      "Marital Status_Married               19583 non-null uint8\n",
      "Marital Status_Other                 19583 non-null uint8\n",
      "Marital Status_Separated             19583 non-null uint8\n",
      "Marital Status_Single                19583 non-null uint8\n",
      "Marital Status_Widowed               19583 non-null uint8\n",
      "dtypes: float64(1), int64(1), uint8(36)\n",
      "memory usage: 994.5 KB\n"
     ]
    }
   ],
   "source": [
    "dataframe_modified.info()"
   ]
  },
  {
   "cell_type": "code",
   "execution_count": 30,
   "metadata": {},
   "outputs": [
    {
     "name": "stdout",
     "output_type": "stream",
     "text": [
      "<class 'pandas.core.frame.DataFrame'>\n",
      "RangeIndex: 19583 entries, 0 to 19582\n",
      "Data columns (total 38 columns):\n",
      "Newbie                               19583 non-null int64\n",
      "Age                                  19583 non-null int32\n",
      "Gender_Female                        19583 non-null uint8\n",
      "Gender_Male                          19583 non-null uint8\n",
      "Household Income_$10-19              19583 non-null uint8\n",
      "Household Income_$20-29              19583 non-null uint8\n",
      "Household Income_$30-39              19583 non-null uint8\n",
      "Household Income_$40-49              19583 non-null uint8\n",
      "Household Income_$50-74              19583 non-null uint8\n",
      "Household Income_$75-99              19583 non-null uint8\n",
      "Household Income_Over $100           19583 non-null uint8\n",
      "Household Income_Under $10           19583 non-null uint8\n",
      "Sexual Preference_Bisexual           19583 non-null uint8\n",
      "Sexual Preference_Gay male           19583 non-null uint8\n",
      "Sexual Preference_Heterosexual       19583 non-null uint8\n",
      "Sexual Preference_Lesbian            19583 non-null uint8\n",
      "Sexual Preference_Transgender        19583 non-null uint8\n",
      "Sexual Preference_na                 19583 non-null uint8\n",
      "Education Attainment_College         19583 non-null uint8\n",
      "Education Attainment_Doctoral        19583 non-null uint8\n",
      "Education Attainment_Grammar         19583 non-null uint8\n",
      "Education Attainment_High School     19583 non-null uint8\n",
      "Education Attainment_Masters         19583 non-null uint8\n",
      "Education Attainment_Other           19583 non-null uint8\n",
      "Education Attainment_Professional    19583 non-null uint8\n",
      "Education Attainment_Some College    19583 non-null uint8\n",
      "Education Attainment_Special         19583 non-null uint8\n",
      "Major Occupation_Computer            19583 non-null uint8\n",
      "Major Occupation_Education           19583 non-null uint8\n",
      "Major Occupation_Management          19583 non-null uint8\n",
      "Major Occupation_Other               19583 non-null uint8\n",
      "Major Occupation_Professional        19583 non-null uint8\n",
      "Marital Status_Divorced              19583 non-null uint8\n",
      "Marital Status_Married               19583 non-null uint8\n",
      "Marital Status_Other                 19583 non-null uint8\n",
      "Marital Status_Separated             19583 non-null uint8\n",
      "Marital Status_Single                19583 non-null uint8\n",
      "Marital Status_Widowed               19583 non-null uint8\n",
      "dtypes: int32(1), int64(1), uint8(36)\n",
      "memory usage: 918.0 KB\n"
     ]
    }
   ],
   "source": [
    "dataframe_modified['Age'] = dataframe_modified['Age'].astype('int')\n",
    "dataframe_modified.info()"
   ]
  },
  {
   "cell_type": "code",
   "execution_count": 31,
   "metadata": {},
   "outputs": [
    {
     "data": {
      "text/html": [
       "<div>\n",
       "<style scoped>\n",
       "    .dataframe tbody tr th:only-of-type {\n",
       "        vertical-align: middle;\n",
       "    }\n",
       "\n",
       "    .dataframe tbody tr th {\n",
       "        vertical-align: top;\n",
       "    }\n",
       "\n",
       "    .dataframe thead th {\n",
       "        text-align: right;\n",
       "    }\n",
       "</style>\n",
       "<table border=\"1\" class=\"dataframe\">\n",
       "  <thead>\n",
       "    <tr style=\"text-align: right;\">\n",
       "      <th></th>\n",
       "      <th>Newbie</th>\n",
       "      <th>Age</th>\n",
       "      <th>Gender_Female</th>\n",
       "      <th>Gender_Male</th>\n",
       "      <th>Household Income_$10-19</th>\n",
       "      <th>Household Income_$20-29</th>\n",
       "      <th>Household Income_$30-39</th>\n",
       "      <th>Household Income_$40-49</th>\n",
       "      <th>Household Income_$50-74</th>\n",
       "      <th>Household Income_$75-99</th>\n",
       "      <th>...</th>\n",
       "      <th>Major Occupation_Education</th>\n",
       "      <th>Major Occupation_Management</th>\n",
       "      <th>Major Occupation_Other</th>\n",
       "      <th>Major Occupation_Professional</th>\n",
       "      <th>Marital Status_Divorced</th>\n",
       "      <th>Marital Status_Married</th>\n",
       "      <th>Marital Status_Other</th>\n",
       "      <th>Marital Status_Separated</th>\n",
       "      <th>Marital Status_Single</th>\n",
       "      <th>Marital Status_Widowed</th>\n",
       "    </tr>\n",
       "  </thead>\n",
       "  <tbody>\n",
       "    <tr>\n",
       "      <th>0</th>\n",
       "      <td>0</td>\n",
       "      <td>54</td>\n",
       "      <td>0</td>\n",
       "      <td>1</td>\n",
       "      <td>0</td>\n",
       "      <td>0</td>\n",
       "      <td>0</td>\n",
       "      <td>0</td>\n",
       "      <td>1</td>\n",
       "      <td>0</td>\n",
       "      <td>...</td>\n",
       "      <td>0</td>\n",
       "      <td>0</td>\n",
       "      <td>0</td>\n",
       "      <td>0</td>\n",
       "      <td>0</td>\n",
       "      <td>0</td>\n",
       "      <td>1</td>\n",
       "      <td>0</td>\n",
       "      <td>0</td>\n",
       "      <td>0</td>\n",
       "    </tr>\n",
       "    <tr>\n",
       "      <th>1</th>\n",
       "      <td>0</td>\n",
       "      <td>39</td>\n",
       "      <td>1</td>\n",
       "      <td>0</td>\n",
       "      <td>0</td>\n",
       "      <td>0</td>\n",
       "      <td>0</td>\n",
       "      <td>0</td>\n",
       "      <td>0</td>\n",
       "      <td>0</td>\n",
       "      <td>...</td>\n",
       "      <td>0</td>\n",
       "      <td>0</td>\n",
       "      <td>1</td>\n",
       "      <td>0</td>\n",
       "      <td>0</td>\n",
       "      <td>0</td>\n",
       "      <td>1</td>\n",
       "      <td>0</td>\n",
       "      <td>0</td>\n",
       "      <td>0</td>\n",
       "    </tr>\n",
       "    <tr>\n",
       "      <th>2</th>\n",
       "      <td>1</td>\n",
       "      <td>49</td>\n",
       "      <td>1</td>\n",
       "      <td>0</td>\n",
       "      <td>0</td>\n",
       "      <td>0</td>\n",
       "      <td>0</td>\n",
       "      <td>1</td>\n",
       "      <td>0</td>\n",
       "      <td>0</td>\n",
       "      <td>...</td>\n",
       "      <td>0</td>\n",
       "      <td>1</td>\n",
       "      <td>0</td>\n",
       "      <td>0</td>\n",
       "      <td>0</td>\n",
       "      <td>0</td>\n",
       "      <td>1</td>\n",
       "      <td>0</td>\n",
       "      <td>0</td>\n",
       "      <td>0</td>\n",
       "    </tr>\n",
       "    <tr>\n",
       "      <th>3</th>\n",
       "      <td>1</td>\n",
       "      <td>22</td>\n",
       "      <td>1</td>\n",
       "      <td>0</td>\n",
       "      <td>0</td>\n",
       "      <td>0</td>\n",
       "      <td>0</td>\n",
       "      <td>1</td>\n",
       "      <td>0</td>\n",
       "      <td>0</td>\n",
       "      <td>...</td>\n",
       "      <td>0</td>\n",
       "      <td>0</td>\n",
       "      <td>0</td>\n",
       "      <td>0</td>\n",
       "      <td>0</td>\n",
       "      <td>1</td>\n",
       "      <td>0</td>\n",
       "      <td>0</td>\n",
       "      <td>0</td>\n",
       "      <td>0</td>\n",
       "    </tr>\n",
       "    <tr>\n",
       "      <th>4</th>\n",
       "      <td>0</td>\n",
       "      <td>20</td>\n",
       "      <td>0</td>\n",
       "      <td>1</td>\n",
       "      <td>0</td>\n",
       "      <td>0</td>\n",
       "      <td>1</td>\n",
       "      <td>0</td>\n",
       "      <td>0</td>\n",
       "      <td>0</td>\n",
       "      <td>...</td>\n",
       "      <td>1</td>\n",
       "      <td>0</td>\n",
       "      <td>0</td>\n",
       "      <td>0</td>\n",
       "      <td>0</td>\n",
       "      <td>0</td>\n",
       "      <td>0</td>\n",
       "      <td>0</td>\n",
       "      <td>1</td>\n",
       "      <td>0</td>\n",
       "    </tr>\n",
       "  </tbody>\n",
       "</table>\n",
       "<p>5 rows × 38 columns</p>\n",
       "</div>"
      ],
      "text/plain": [
       "   Newbie  Age  Gender_Female  Gender_Male  Household Income_$10-19  \\\n",
       "0       0   54              0            1                        0   \n",
       "1       0   39              1            0                        0   \n",
       "2       1   49              1            0                        0   \n",
       "3       1   22              1            0                        0   \n",
       "4       0   20              0            1                        0   \n",
       "\n",
       "   Household Income_$20-29  Household Income_$30-39  Household Income_$40-49  \\\n",
       "0                        0                        0                        0   \n",
       "1                        0                        0                        0   \n",
       "2                        0                        0                        1   \n",
       "3                        0                        0                        1   \n",
       "4                        0                        1                        0   \n",
       "\n",
       "   Household Income_$50-74  Household Income_$75-99  ...  \\\n",
       "0                        1                        0  ...   \n",
       "1                        0                        0  ...   \n",
       "2                        0                        0  ...   \n",
       "3                        0                        0  ...   \n",
       "4                        0                        0  ...   \n",
       "\n",
       "   Major Occupation_Education  Major Occupation_Management  \\\n",
       "0                           0                            0   \n",
       "1                           0                            0   \n",
       "2                           0                            1   \n",
       "3                           0                            0   \n",
       "4                           1                            0   \n",
       "\n",
       "   Major Occupation_Other  Major Occupation_Professional  \\\n",
       "0                       0                              0   \n",
       "1                       1                              0   \n",
       "2                       0                              0   \n",
       "3                       0                              0   \n",
       "4                       0                              0   \n",
       "\n",
       "   Marital Status_Divorced  Marital Status_Married  Marital Status_Other  \\\n",
       "0                        0                       0                     1   \n",
       "1                        0                       0                     1   \n",
       "2                        0                       0                     1   \n",
       "3                        0                       1                     0   \n",
       "4                        0                       0                     0   \n",
       "\n",
       "   Marital Status_Separated  Marital Status_Single  Marital Status_Widowed  \n",
       "0                         0                      0                       0  \n",
       "1                         0                      0                       0  \n",
       "2                         0                      0                       0  \n",
       "3                         0                      0                       0  \n",
       "4                         0                      1                       0  \n",
       "\n",
       "[5 rows x 38 columns]"
      ]
     },
     "execution_count": 31,
     "metadata": {},
     "output_type": "execute_result"
    }
   ],
   "source": [
    "dataframe_modified.head()"
   ]
  },
  {
   "cell_type": "code",
   "execution_count": 32,
   "metadata": {
    "ExecuteTime": {
     "end_time": "2018-03-04T05:08:41.231750Z",
     "start_time": "2018-03-04T05:08:41.222666Z"
    }
   },
   "outputs": [
    {
     "name": "stderr",
     "output_type": "stream",
     "text": [
      "C:\\Users\\user\\Anaconda3\\lib\\site-packages\\ipykernel_launcher.py:1: FutureWarning: Method .as_matrix will be removed in a future version. Use .values instead.\n",
      "  \"\"\"Entry point for launching an IPython kernel.\n",
      "C:\\Users\\user\\Anaconda3\\lib\\site-packages\\ipykernel_launcher.py:2: FutureWarning: Method .as_matrix will be removed in a future version. Use .values instead.\n",
      "  \n"
     ]
    },
    {
     "data": {
      "text/plain": [
       "((19583, 1), (19583, 37))"
      ]
     },
     "execution_count": 32,
     "metadata": {},
     "output_type": "execute_result"
    }
   ],
   "source": [
    "x_data = dataframe_modified.iloc[:, 1:].as_matrix()\n",
    "y_data = dataframe_modified.iloc[:, 0].as_matrix().reshape(-1, 1)\n",
    "y_data.shape, x_data.shape"
   ]
  },
  {
   "cell_type": "code",
   "execution_count": 33,
   "metadata": {
    "ExecuteTime": {
     "end_time": "2018-03-04T05:08:44.617726Z",
     "start_time": "2018-03-04T05:08:44.608057Z"
    }
   },
   "outputs": [
    {
     "name": "stderr",
     "output_type": "stream",
     "text": [
      "C:\\Users\\user\\Anaconda3\\lib\\site-packages\\sklearn\\utils\\validation.py:595: DataConversionWarning: Data with input dtype int32 was converted to float64 by MinMaxScaler.\n",
      "  warnings.warn(msg, DataConversionWarning)\n"
     ]
    },
    {
     "data": {
      "text/plain": [
       "array([[0.65333333, 0.        , 1.        , 0.        , 0.        ,\n",
       "        0.        , 0.        , 1.        , 0.        , 0.        ,\n",
       "        0.        , 0.        , 1.        , 0.        , 0.        ,\n",
       "        0.        , 0.        , 0.        , 0.        , 0.        ,\n",
       "        0.        , 0.        , 0.        , 0.        , 1.        ,\n",
       "        0.        , 1.        , 0.        , 0.        , 0.        ,\n",
       "        0.        , 0.        , 0.        , 1.        , 0.        ,\n",
       "        0.        , 0.        ],\n",
       "       [0.45333333, 1.        , 0.        , 0.        , 0.        ,\n",
       "        0.        , 0.        , 0.        , 0.        , 1.        ,\n",
       "        0.        , 0.        , 0.        , 1.        , 0.        ,\n",
       "        0.        , 0.        , 0.        , 0.        , 0.        ,\n",
       "        0.        , 0.        , 0.        , 1.        , 0.        ,\n",
       "        0.        , 0.        , 0.        , 0.        , 1.        ,\n",
       "        0.        , 0.        , 0.        , 1.        , 0.        ,\n",
       "        0.        , 0.        ],\n",
       "       [0.58666667, 1.        , 0.        , 0.        , 0.        ,\n",
       "        0.        , 1.        , 0.        , 0.        , 0.        ,\n",
       "        0.        , 0.        , 0.        , 1.        , 0.        ,\n",
       "        0.        , 0.        , 0.        , 0.        , 0.        ,\n",
       "        0.        , 0.        , 0.        , 0.        , 1.        ,\n",
       "        0.        , 0.        , 0.        , 1.        , 0.        ,\n",
       "        0.        , 0.        , 0.        , 1.        , 0.        ,\n",
       "        0.        , 0.        ],\n",
       "       [0.22666667, 1.        , 0.        , 0.        , 0.        ,\n",
       "        0.        , 1.        , 0.        , 0.        , 0.        ,\n",
       "        0.        , 0.        , 0.        , 1.        , 0.        ,\n",
       "        0.        , 0.        , 0.        , 0.        , 0.        ,\n",
       "        0.        , 0.        , 0.        , 0.        , 1.        ,\n",
       "        0.        , 1.        , 0.        , 0.        , 0.        ,\n",
       "        0.        , 0.        , 1.        , 0.        , 0.        ,\n",
       "        0.        , 0.        ],\n",
       "       [0.2       , 0.        , 1.        , 0.        , 0.        ,\n",
       "        1.        , 0.        , 0.        , 0.        , 0.        ,\n",
       "        0.        , 1.        , 0.        , 0.        , 0.        ,\n",
       "        0.        , 0.        , 0.        , 0.        , 0.        ,\n",
       "        0.        , 0.        , 0.        , 0.        , 1.        ,\n",
       "        0.        , 0.        , 1.        , 0.        , 0.        ,\n",
       "        0.        , 0.        , 0.        , 0.        , 0.        ,\n",
       "        1.        , 0.        ]])"
      ]
     },
     "execution_count": 33,
     "metadata": {},
     "output_type": "execute_result"
    }
   ],
   "source": [
    "from sklearn import preprocessing # Min-Max Standardzation\n",
    "\n",
    "min_max_scaler = preprocessing.MinMaxScaler()\n",
    "\n",
    "x_data = min_max_scaler.fit_transform(x_data)\n",
    "x_data[:5]"
   ]
  },
  {
   "cell_type": "code",
   "execution_count": 38,
   "metadata": {},
   "outputs": [
    {
     "data": {
      "text/plain": [
       "(19583, 1)"
      ]
     },
     "execution_count": 38,
     "metadata": {},
     "output_type": "execute_result"
    }
   ],
   "source": [
    "y_data.shape"
   ]
  },
  {
   "cell_type": "code",
   "execution_count": 39,
   "metadata": {
    "scrolled": true
   },
   "outputs": [],
   "source": [
    "# list(pd.Series(y_data[:, 0]).index)"
   ]
  },
  {
   "cell_type": "code",
   "execution_count": 40,
   "metadata": {
    "ExecuteTime": {
     "end_time": "2018-03-04T05:08:45.800711Z",
     "start_time": "2018-03-04T05:08:45.783533Z"
    }
   },
   "outputs": [
    {
     "data": {
      "text/plain": [
       "((15666, 37), (3916, 37))"
      ]
     },
     "execution_count": 40,
     "metadata": {},
     "output_type": "execute_result"
    }
   ],
   "source": [
    "import numpy as np \n",
    "\n",
    "training_idx = np.random.randint(y_data.shape[0], size=int(y_data.shape[0] * 0.8))\n",
    "test_idx = np.random.randint(y_data.shape[0], size=int(y_data.shape[0] * 0.2))\n",
    "\n",
    "x_training, x_test = x_data[training_idx,:], x_data[test_idx,:]\n",
    "y_training, y_test = y_data[training_idx,:], y_data[test_idx,:]\n",
    "\n",
    "x_training.shape, x_test.shape"
   ]
  },
  {
   "cell_type": "code",
   "execution_count": 41,
   "metadata": {
    "ExecuteTime": {
     "end_time": "2018-03-04T05:09:19.076281Z",
     "start_time": "2018-03-04T05:09:19.038721Z"
    }
   },
   "outputs": [
    {
     "name": "stderr",
     "output_type": "stream",
     "text": [
      "C:\\Users\\user\\Anaconda3\\lib\\site-packages\\sklearn\\linear_model\\logistic.py:433: FutureWarning: Default solver will be changed to 'lbfgs' in 0.22. Specify a solver to silence this warning.\n",
      "  FutureWarning)\n"
     ]
    },
    {
     "data": {
      "text/plain": [
       "LogisticRegression(C=1.0, class_weight=None, dual=False, fit_intercept=True,\n",
       "          intercept_scaling=1, max_iter=100, multi_class='warn',\n",
       "          n_jobs=None, penalty='l2', random_state=None, solver='warn',\n",
       "          tol=0.0001, verbose=0, warm_start=False)"
      ]
     },
     "execution_count": 41,
     "metadata": {},
     "output_type": "execute_result"
    }
   ],
   "source": [
    "from sklearn import linear_model, datasets\n",
    "\n",
    "logreg = linear_model.LogisticRegression(fit_intercept=True)\n",
    "logreg.fit(x_training, y_training.flatten())"
   ]
  },
  {
   "cell_type": "code",
   "execution_count": 42,
   "metadata": {
    "ExecuteTime": {
     "end_time": "2018-03-04T05:09:38.901492Z",
     "start_time": "2018-03-04T05:09:38.892478Z"
    }
   },
   "outputs": [
    {
     "data": {
      "text/plain": [
       "array([0, 1, 0, 1, 0, 0, 0, 0, 0, 0], dtype=int64)"
      ]
     },
     "execution_count": 42,
     "metadata": {},
     "output_type": "execute_result"
    }
   ],
   "source": [
    "logreg.predict(x_test[:10])"
   ]
  },
  {
   "cell_type": "code",
   "execution_count": 43,
   "metadata": {},
   "outputs": [
    {
     "data": {
      "text/plain": [
       "array([[0.93357746, 0.06642254],\n",
       "       [0.46322175, 0.53677825],\n",
       "       [0.61288252, 0.38711748],\n",
       "       [0.44151113, 0.55848887],\n",
       "       [0.6310964 , 0.3689036 ],\n",
       "       [0.55590413, 0.44409587],\n",
       "       [0.82486374, 0.17513626],\n",
       "       [0.67392428, 0.32607572],\n",
       "       [0.56793514, 0.43206486],\n",
       "       [0.81623984, 0.18376016]])"
      ]
     },
     "execution_count": 43,
     "metadata": {},
     "output_type": "execute_result"
    }
   ],
   "source": [
    "logreg.predict_proba(x_test[:10])"
   ]
  },
  {
   "cell_type": "code",
   "execution_count": 44,
   "metadata": {},
   "outputs": [
    {
     "data": {
      "text/plain": [
       "(3916, 37)"
      ]
     },
     "execution_count": 44,
     "metadata": {},
     "output_type": "execute_result"
    }
   ],
   "source": [
    "x_test.shape"
   ]
  },
  {
   "cell_type": "code",
   "execution_count": 45,
   "metadata": {},
   "outputs": [
    {
     "data": {
      "text/plain": [
       "(3916, 1)"
      ]
     },
     "execution_count": 45,
     "metadata": {},
     "output_type": "execute_result"
    }
   ],
   "source": [
    "y_test.shape"
   ]
  },
  {
   "cell_type": "code",
   "execution_count": 46,
   "metadata": {},
   "outputs": [
    {
     "data": {
      "text/plain": [
       "array([ True,  True,  True, ...,  True,  True, False])"
      ]
     },
     "execution_count": 46,
     "metadata": {},
     "output_type": "execute_result"
    }
   ],
   "source": [
    "logreg.predict(x_test) == y_test.flatten()"
   ]
  },
  {
   "cell_type": "code",
   "execution_count": 47,
   "metadata": {},
   "outputs": [
    {
     "data": {
      "text/plain": [
       "0.7676200204290092"
      ]
     },
     "execution_count": 47,
     "metadata": {},
     "output_type": "execute_result"
    }
   ],
   "source": [
    "sum(logreg.predict(x_test) == y_test.flatten()) / len(y_test)"
   ]
  },
  {
   "cell_type": "code",
   "execution_count": 48,
   "metadata": {},
   "outputs": [
    {
     "data": {
      "text/plain": [
       "array([[0.93357746, 0.06642254],\n",
       "       [0.46322175, 0.53677825],\n",
       "       [0.61288252, 0.38711748],\n",
       "       [0.44151113, 0.55848887],\n",
       "       [0.6310964 , 0.3689036 ],\n",
       "       [0.55590413, 0.44409587],\n",
       "       [0.82486374, 0.17513626],\n",
       "       [0.67392428, 0.32607572],\n",
       "       [0.56793514, 0.43206486],\n",
       "       [0.81623984, 0.18376016]])"
      ]
     },
     "execution_count": 48,
     "metadata": {},
     "output_type": "execute_result"
    }
   ],
   "source": [
    "logreg.predict_proba(x_test[:10])"
   ]
  },
  {
   "cell_type": "code",
   "execution_count": 51,
   "metadata": {},
   "outputs": [
    {
     "data": {
      "text/plain": [
       "array([-2.64298749,  0.1473792 , -0.45944507,  0.23503145, -0.53692326,\n",
       "       -0.22455538, -1.54965389, -0.72598814, -0.27343152, -1.4910768 ])"
      ]
     },
     "execution_count": 51,
     "metadata": {},
     "output_type": "execute_result"
    }
   ],
   "source": [
    "logreg.decision_function(x_test[:10])"
   ]
  },
  {
   "cell_type": "code",
   "execution_count": 52,
   "metadata": {},
   "outputs": [
    {
     "data": {
      "text/plain": [
       "array([0, 1, 0, 1, 0, 0, 0, 0, 0, 0], dtype=int64)"
      ]
     },
     "execution_count": 52,
     "metadata": {},
     "output_type": "execute_result"
    }
   ],
   "source": [
    "logreg.predict(x_test[:10])"
   ]
  },
  {
   "cell_type": "code",
   "execution_count": null,
   "metadata": {},
   "outputs": [],
   "source": []
  },
  {
   "cell_type": "code",
   "execution_count": null,
   "metadata": {},
   "outputs": [],
   "source": []
  }
 ],
 "metadata": {
  "anaconda-cloud": {},
  "kernelspec": {
   "display_name": "Python 3",
   "language": "python",
   "name": "python3"
  },
  "language_info": {
   "codemirror_mode": {
    "name": "ipython",
    "version": 3
   },
   "file_extension": ".py",
   "mimetype": "text/x-python",
   "name": "python",
   "nbconvert_exporter": "python",
   "pygments_lexer": "ipython3",
   "version": "3.7.3"
  },
  "nav_menu": {},
  "toc": {
   "navigate_menu": true,
   "number_sections": true,
   "sideBar": true,
   "threshold": 6,
   "toc_cell": false,
   "toc_section_display": "block",
   "toc_window_display": false
  }
 },
 "nbformat": 4,
 "nbformat_minor": 1
}
