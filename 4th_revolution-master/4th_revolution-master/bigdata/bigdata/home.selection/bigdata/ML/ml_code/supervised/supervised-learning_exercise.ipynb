{
 "cells": [
  {
   "cell_type": "code",
   "execution_count": 1,
   "metadata": {},
   "outputs": [],
   "source": [
    "# %load_ext watermark\n",
    "# %watermark -v -p sklearn,numpy,scipy,matplotlib"
   ]
  },
  {
   "cell_type": "code",
   "execution_count": 2,
   "metadata": {},
   "outputs": [],
   "source": [
    "# 분류 - 이진분류(binary classification) / 다중분류(multiclass classification)\n",
    "# 회귀 - 단순회귀/ 다중회귀"
   ]
  },
  {
   "cell_type": "code",
   "execution_count": 3,
   "metadata": {},
   "outputs": [],
   "source": [
    "# 과대적합 - 가진 정보를 모두 사용해서 너무 복잡한 모델, 훈련세트에 과도적합, 새로운 데이터에 일반화 부족\n",
    "#           데이터셋이 크먼 과대적합 줄일 수 있다.\n",
    "# 과소적합 - 모델이 너무 간단, 훈련 세트에도 부적합\n",
    "# 목표 -> 일반화 성능이 최대가 되는 모델, 일반화(generation) - 새로운 데이터를 정확하게 예측."
   ]
  },
  {
   "cell_type": "code",
   "execution_count": 4,
   "metadata": {},
   "outputs": [],
   "source": [
    "import sklearn"
   ]
  },
  {
   "cell_type": "code",
   "execution_count": 5,
   "metadata": {},
   "outputs": [],
   "source": [
    "from sklearn import datasets"
   ]
  },
  {
   "cell_type": "code",
   "execution_count": 6,
   "metadata": {},
   "outputs": [
    {
     "data": {
      "text/plain": [
       "'0.20.3'"
      ]
     },
     "execution_count": 6,
     "metadata": {},
     "output_type": "execute_result"
    }
   ],
   "source": [
    "sklearn.__version__"
   ]
  },
  {
   "cell_type": "code",
   "execution_count": 7,
   "metadata": {
    "hide_input": false
   },
   "outputs": [],
   "source": [
    "from IPython.display import display\n",
    "import numpy as np\n",
    "import pandas as pd\n",
    "import mglearn\n",
    "\n",
    "import matplotlib.pyplot as plt\n",
    "%matplotlib inline\n",
    "# from preamble import *"
   ]
  },
  {
   "cell_type": "code",
   "execution_count": 8,
   "metadata": {},
   "outputs": [],
   "source": [
    "import mglearn"
   ]
  },
  {
   "cell_type": "code",
   "execution_count": 9,
   "metadata": {},
   "outputs": [],
   "source": [
    "import platform\n",
    "\n",
    "from matplotlib import font_manager, rc\n",
    "plt.rcParams['axes.unicode_minus'] = False\n",
    "\n",
    "if platform.system() == 'Darwin':\n",
    "    rc('font', family='AppleGothic')\n",
    "elif platform.system() == 'Windows':\n",
    "    path = \"c:/Windows/Fonts/malgun.ttf\"\n",
    "    font_name = font_manager.FontProperties(fname=path).get_name()\n",
    "    rc('font', family=font_name)\n",
    "else:\n",
    "    print('Unknown system... sorry~~~~') "
   ]
  },
  {
   "cell_type": "markdown",
   "metadata": {
    "collapsed": true
   },
   "source": [
    "## 지도 학습\n",
    "### 분류와 회귀"
   ]
  },
  {
   "cell_type": "markdown",
   "metadata": {},
   "source": [
    "### 지도 학습 알고리즘"
   ]
  },
  {
   "cell_type": "code",
   "execution_count": 10,
   "metadata": {
    "caption": "Forge dataset",
    "label": "forge_scatter"
   },
   "outputs": [
    {
     "name": "stdout",
     "output_type": "stream",
     "text": [
      "[[ 9.96346605  4.59676542]\n",
      " [11.0329545  -0.16816717]\n",
      " [11.54155807  5.21116083]\n",
      " [ 8.69289001  1.54322016]\n",
      " [ 8.1062269   4.28695977]\n",
      " [ 8.30988863  4.80623966]\n",
      " [11.93027136  4.64866327]\n",
      " [ 9.67284681 -0.20283165]\n",
      " [ 8.34810316  5.13415623]\n",
      " [ 8.67494727  4.47573059]\n",
      " [ 9.17748385  5.09283177]\n",
      " [10.24028948  2.45544401]\n",
      " [ 8.68937095  1.48709629]\n",
      " [ 8.92229526 -0.63993225]\n",
      " [ 9.49123469  4.33224792]\n",
      " [ 9.25694192  5.13284858]\n",
      " [ 7.99815287  4.8525051 ]\n",
      " [ 8.18378052  1.29564214]\n",
      " [ 8.7337095   2.49162431]\n",
      " [ 9.32298256  5.09840649]\n",
      " [10.06393839  0.99078055]\n",
      " [ 9.50048972 -0.26430318]\n",
      " [ 8.34468785  1.63824349]\n",
      " [ 9.50169345  1.93824624]\n",
      " [ 9.15072323  5.49832246]\n",
      " [11.563957    1.3389402 ]]\n",
      "------------------\n",
      "[1 0 1 0 0 1 1 0 1 1 1 1 0 0 1 1 1 0 0 1 0 0 0 0 1 0]\n"
     ]
    },
    {
     "name": "stderr",
     "output_type": "stream",
     "text": [
      "C:\\Users\\user\\Anaconda3\\lib\\site-packages\\sklearn\\utils\\deprecation.py:77: DeprecationWarning: Function make_blobs is deprecated; Please import make_blobs directly from scikit-learn\n",
      "  warnings.warn(msg, category=DeprecationWarning)\n"
     ]
    }
   ],
   "source": [
    "plt.rcParams['figure.dpi'] = 80\n",
    "# 데이터셋을 만듭니다 - 두 개의 특성을 가진 인위적으로 만든 이진 분류 데이터셋\n",
    "# x축은 첫 번째 특성, y축은 두 번째 특성\n",
    "X, y = mglearn.datasets.make_forge()\n",
    "# 산점도를 그립니다\n",
    "print(X)\n",
    "print('------------------')\n",
    "print(y)\n"
   ]
  },
  {
   "cell_type": "code",
   "execution_count": 11,
   "metadata": {},
   "outputs": [
    {
     "name": "stdout",
     "output_type": "stream",
     "text": [
      "X.shape: (26, 2)\n"
     ]
    },
    {
     "data": {
      "image/png": "[encoded data removed]",
      "text/plain": [
       "<Figure size 480x320 with 1 Axes>"
      ]
     },
     "metadata": {
      "needs_background": "light"
     },
     "output_type": "display_data"
    }
   ],
   "source": [
    "# 산점도를 그립니다\n",
    "mglearn.discrete_scatter(X[:, 0], X[:, 1], y)\n",
    "plt.legend([\"클래스 0\", \"클래스 1\"], loc=4)\n",
    "plt.xlabel(\"첫 번째 특성\")\n",
    "plt.ylabel(\"두 번째 특성\")\n",
    "print(\"X.shape: {}\".format(X.shape))"
   ]
  },
  {
   "cell_type": "code",
   "execution_count": 12,
   "metadata": {},
   "outputs": [
    {
     "name": "stdout",
     "output_type": "stream",
     "text": [
      "[[-0.75275929]\n",
      " [ 2.70428584]\n",
      " [ 1.39196365]\n",
      " [ 0.59195091]\n",
      " [-2.06388816]\n",
      " [-2.06403288]\n",
      " [-2.65149833]\n",
      " [ 2.19705687]\n",
      " [ 0.60669007]\n",
      " [ 1.24843547]\n",
      " [-2.87649303]\n",
      " [ 2.81945911]\n",
      " [ 1.99465584]\n",
      " [-1.72596534]\n",
      " [-1.9090502 ]\n",
      " [-1.89957294]\n",
      " [-1.17454654]\n",
      " [ 0.14853859]\n",
      " [-0.40832989]\n",
      " [-1.25262516]\n",
      " [ 0.67111737]\n",
      " [-2.16303684]\n",
      " [-1.24713211]\n",
      " [-0.80182894]\n",
      " [-0.26358009]\n",
      " [ 1.71105577]\n",
      " [-1.80195731]\n",
      " [ 0.08540663]\n",
      " [ 0.55448741]\n",
      " [-2.72129752]\n",
      " [ 0.64526911]\n",
      " [-1.97685526]\n",
      " [-2.60969044]\n",
      " [ 2.69331322]\n",
      " [ 2.7937922 ]\n",
      " [ 1.85038409]\n",
      " [-1.17231738]\n",
      " [-2.41396732]\n",
      " [ 1.10539816]\n",
      " [-0.35908504]]\n",
      "[-0.44822073  0.33122576  0.77932073  0.03497884 -1.38773632 -2.47196233\n",
      " -1.52730805  1.49417157  1.00032374  0.22956153 -1.05979555  0.7789638\n",
      "  0.75418806 -1.51369739 -1.67303415 -0.90496988  0.08448544 -0.52734666\n",
      " -0.54114599 -0.3409073   0.21778193 -1.12469096  0.37299129  0.09756349\n",
      " -0.98618122  0.96695428 -1.13455014  0.69798591  0.43655826 -0.95652133\n",
      "  0.03527881 -2.08581717 -0.47411033  1.53708251  0.86893293  1.87664889\n",
      "  0.0945257  -1.41502356  0.25438895  0.09398858]\n"
     ]
    }
   ],
   "source": [
    "# 인위적으로 만든 단순회귀 데이터셋\n",
    "X, y = mglearn.datasets.make_wave(n_samples=40)\n",
    "print(X)\n",
    "print(y)"
   ]
  },
  {
   "cell_type": "code",
   "execution_count": 13,
   "metadata": {},
   "outputs": [
    {
     "data": {
      "text/plain": [
       "Text(0, 0.5, '타깃')"
      ]
     },
     "execution_count": 13,
     "metadata": {},
     "output_type": "execute_result"
    },
    {
     "data": {
      "image/png": "[encoded data removed]",
      "text/plain": [
       "<Figure size 480x320 with 1 Axes>"
      ]
     },
     "metadata": {
      "needs_background": "light"
     },
     "output_type": "display_data"
    }
   ],
   "source": [
    "plt.plot(X, y, 'o')\n",
    "plt.ylim(-3, 3)\n",
    "plt.xlabel(\"특성\")\n",
    "plt.ylabel(\"타깃\")"
   ]
  },
  {
   "cell_type": "code",
   "execution_count": 14,
   "metadata": {},
   "outputs": [
    {
     "name": "stdout",
     "output_type": "stream",
     "text": [
      "cancer.keys(): dict_keys(['data', 'target', 'target_names', 'DESCR', 'feature_names', 'filename'])\n"
     ]
    }
   ],
   "source": [
    "# 위스콘신 유방암 데이터셋 - dictionary 구조\n",
    "\n",
    "from sklearn.datasets import load_breast_cancer\n",
    "cancer = load_breast_cancer()\n",
    "print(\"cancer.keys(): {}\".format(cancer.keys()))"
   ]
  },
  {
   "cell_type": "code",
   "execution_count": 15,
   "metadata": {},
   "outputs": [
    {
     "data": {
      "text/plain": [
       "array([[1.799e+01, 1.038e+01, 1.228e+02, ..., 2.654e-01, 4.601e-01,\n",
       "        1.189e-01],\n",
       "       [2.057e+01, 1.777e+01, 1.329e+02, ..., 1.860e-01, 2.750e-01,\n",
       "        8.902e-02],\n",
       "       [1.969e+01, 2.125e+01, 1.300e+02, ..., 2.430e-01, 3.613e-01,\n",
       "        8.758e-02],\n",
       "       ...,\n",
       "       [1.660e+01, 2.808e+01, 1.083e+02, ..., 1.418e-01, 2.218e-01,\n",
       "        7.820e-02],\n",
       "       [2.060e+01, 2.933e+01, 1.401e+02, ..., 2.650e-01, 4.087e-01,\n",
       "        1.240e-01],\n",
       "       [7.760e+00, 2.454e+01, 4.792e+01, ..., 0.000e+00, 2.871e-01,\n",
       "        7.039e-02]])"
      ]
     },
     "execution_count": 15,
     "metadata": {},
     "output_type": "execute_result"
    }
   ],
   "source": [
    "cancer.data"
   ]
  },
  {
   "cell_type": "code",
   "execution_count": 16,
   "metadata": {},
   "outputs": [
    {
     "data": {
      "text/plain": [
       "(569, 30)"
      ]
     },
     "execution_count": 16,
     "metadata": {},
     "output_type": "execute_result"
    }
   ],
   "source": [
    "cancer.data.shape"
   ]
  },
  {
   "cell_type": "code",
   "execution_count": 17,
   "metadata": {},
   "outputs": [
    {
     "data": {
      "text/plain": [
       "array([0, 0, 0, 0, 0, 0, 0, 0, 0, 0, 0, 0, 0, 0, 0, 0, 0, 0, 0, 1, 1, 1,\n",
       "       0, 0, 0, 0, 0, 0, 0, 0, 0, 0, 0, 0, 0, 0, 0, 1, 0, 0, 0, 0, 0, 0,\n",
       "       0, 0, 1, 0, 1, 1, 1, 1, 1, 0, 0, 1, 0, 0, 1, 1, 1, 1, 0, 1, 0, 0,\n",
       "       1, 1, 1, 1, 0, 1, 0, 0, 1, 0, 1, 0, 0, 1, 1, 1, 0, 0, 1, 0, 0, 0,\n",
       "       1, 1, 1, 0, 1, 1, 0, 0, 1, 1, 1, 0, 0, 1, 1, 1, 1, 0, 1, 1, 0, 1,\n",
       "       1, 1, 1, 1, 1, 1, 1, 0, 0, 0, 1, 0, 0, 1, 1, 1, 0, 0, 1, 0, 1, 0,\n",
       "       0, 1, 0, 0, 1, 1, 0, 1, 1, 0, 1, 1, 1, 1, 0, 1, 1, 1, 1, 1, 1, 1,\n",
       "       1, 1, 0, 1, 1, 1, 1, 0, 0, 1, 0, 1, 1, 0, 0, 1, 1, 0, 0, 1, 1, 1,\n",
       "       1, 0, 1, 1, 0, 0, 0, 1, 0, 1, 0, 1, 1, 1, 0, 1, 1, 0, 0, 1, 0, 0,\n",
       "       0, 0, 1, 0, 0, 0, 1, 0, 1, 0, 1, 1, 0, 1, 0, 0, 0, 0, 1, 1, 0, 0,\n",
       "       1, 1, 1, 0, 1, 1, 1, 1, 1, 0, 0, 1, 1, 0, 1, 1, 0, 0, 1, 0, 1, 1,\n",
       "       1, 1, 0, 1, 1, 1, 1, 1, 0, 1, 0, 0, 0, 0, 0, 0, 0, 0, 0, 0, 0, 0,\n",
       "       0, 0, 1, 1, 1, 1, 1, 1, 0, 1, 0, 1, 1, 0, 1, 1, 0, 1, 0, 0, 1, 1,\n",
       "       1, 1, 1, 1, 1, 1, 1, 1, 1, 1, 1, 0, 1, 1, 0, 1, 0, 1, 1, 1, 1, 1,\n",
       "       1, 1, 1, 1, 1, 1, 1, 1, 1, 0, 1, 1, 1, 0, 1, 0, 1, 1, 1, 1, 0, 0,\n",
       "       0, 1, 1, 1, 1, 0, 1, 0, 1, 0, 1, 1, 1, 0, 1, 1, 1, 1, 1, 1, 1, 0,\n",
       "       0, 0, 1, 1, 1, 1, 1, 1, 1, 1, 1, 1, 1, 0, 0, 1, 0, 0, 0, 1, 0, 0,\n",
       "       1, 1, 1, 1, 1, 0, 1, 1, 1, 1, 1, 0, 1, 1, 1, 0, 1, 1, 0, 0, 1, 1,\n",
       "       1, 1, 1, 1, 0, 1, 1, 1, 1, 1, 1, 1, 0, 1, 1, 1, 1, 1, 0, 1, 1, 0,\n",
       "       1, 1, 1, 1, 1, 1, 1, 1, 1, 1, 1, 1, 0, 1, 0, 0, 1, 0, 1, 1, 1, 1,\n",
       "       1, 0, 1, 1, 0, 1, 0, 1, 1, 0, 1, 0, 1, 1, 1, 1, 1, 1, 1, 1, 0, 0,\n",
       "       1, 1, 1, 1, 1, 1, 0, 1, 1, 1, 1, 1, 1, 1, 1, 1, 1, 0, 1, 1, 1, 1,\n",
       "       1, 1, 1, 0, 1, 0, 1, 1, 0, 1, 1, 1, 1, 1, 0, 0, 1, 0, 1, 0, 1, 1,\n",
       "       1, 1, 1, 0, 1, 1, 0, 1, 0, 1, 0, 0, 1, 1, 1, 0, 1, 1, 1, 1, 1, 1,\n",
       "       1, 1, 1, 1, 1, 0, 1, 0, 0, 1, 1, 1, 1, 1, 1, 1, 1, 1, 1, 1, 1, 1,\n",
       "       1, 1, 1, 1, 1, 1, 1, 1, 1, 1, 1, 1, 0, 0, 0, 0, 0, 0, 1])"
      ]
     },
     "execution_count": 17,
     "metadata": {},
     "output_type": "execute_result"
    }
   ],
   "source": [
    "cancer.target"
   ]
  },
  {
   "cell_type": "code",
   "execution_count": 18,
   "metadata": {},
   "outputs": [
    {
     "data": {
      "text/plain": [
       "(569,)"
      ]
     },
     "execution_count": 18,
     "metadata": {},
     "output_type": "execute_result"
    }
   ],
   "source": [
    "cancer.target.shape"
   ]
  },
  {
   "cell_type": "code",
   "execution_count": 19,
   "metadata": {},
   "outputs": [
    {
     "data": {
      "text/plain": [
       "array(['malignant', 'benign'], dtype='<U9')"
      ]
     },
     "execution_count": 19,
     "metadata": {},
     "output_type": "execute_result"
    }
   ],
   "source": [
    "cancer.target_names"
   ]
  },
  {
   "cell_type": "code",
   "execution_count": 20,
   "metadata": {},
   "outputs": [
    {
     "data": {
      "text/plain": [
       "array(['mean radius', 'mean texture', 'mean perimeter', 'mean area',\n",
       "       'mean smoothness', 'mean compactness', 'mean concavity',\n",
       "       'mean concave points', 'mean symmetry', 'mean fractal dimension',\n",
       "       'radius error', 'texture error', 'perimeter error', 'area error',\n",
       "       'smoothness error', 'compactness error', 'concavity error',\n",
       "       'concave points error', 'symmetry error',\n",
       "       'fractal dimension error', 'worst radius', 'worst texture',\n",
       "       'worst perimeter', 'worst area', 'worst smoothness',\n",
       "       'worst compactness', 'worst concavity', 'worst concave points',\n",
       "       'worst symmetry', 'worst fractal dimension'], dtype='<U23')"
      ]
     },
     "execution_count": 20,
     "metadata": {},
     "output_type": "execute_result"
    }
   ],
   "source": [
    "cancer.feature_names"
   ]
  },
  {
   "cell_type": "code",
   "execution_count": 21,
   "metadata": {},
   "outputs": [
    {
     "name": "stdout",
     "output_type": "stream",
     "text": [
      "유방암 데이터의 형태: (569, 30)\n"
     ]
    }
   ],
   "source": [
    "print(\"유방암 데이터의 형태: {}\".format(cancer.data.shape))"
   ]
  },
  {
   "cell_type": "code",
   "execution_count": 22,
   "metadata": {},
   "outputs": [
    {
     "name": "stdout",
     "output_type": "stream",
     "text": [
      "클래스별 샘플 갯수:\n",
      "{'malignant': 212, 'benign': 357}\n"
     ]
    }
   ],
   "source": [
    "print(\"클래스별 샘플 갯수:\\n{}\".format(\n",
    "      {n: v for n, v in zip(cancer.target_names, np.bincount(cancer.target))}))"
   ]
  },
  {
   "cell_type": "code",
   "execution_count": 23,
   "metadata": {},
   "outputs": [
    {
     "name": "stdout",
     "output_type": "stream",
     "text": [
      "특성 이름:\n",
      "['mean radius' 'mean texture' 'mean perimeter' 'mean area'\n",
      " 'mean smoothness' 'mean compactness' 'mean concavity'\n",
      " 'mean concave points' 'mean symmetry' 'mean fractal dimension'\n",
      " 'radius error' 'texture error' 'perimeter error' 'area error'\n",
      " 'smoothness error' 'compactness error' 'concavity error'\n",
      " 'concave points error' 'symmetry error' 'fractal dimension error'\n",
      " 'worst radius' 'worst texture' 'worst perimeter' 'worst area'\n",
      " 'worst smoothness' 'worst compactness' 'worst concavity'\n",
      " 'worst concave points' 'worst symmetry' 'worst fractal dimension']\n"
     ]
    }
   ],
   "source": [
    "print(\"특성 이름:\\n{}\".format(cancer.feature_names))"
   ]
  },
  {
   "cell_type": "code",
   "execution_count": 24,
   "metadata": {},
   "outputs": [
    {
     "name": "stdout",
     "output_type": "stream",
     "text": [
      "boston.keys(): dict_keys(['data', 'target', 'feature_names', 'DESCR', 'filename'])\n"
     ]
    }
   ],
   "source": [
    "# 보스턴 주택가격 데이터셋\n",
    "\n",
    "from sklearn.datasets import load_boston\n",
    "\n",
    "boston = load_boston()\n",
    "print(\"boston.keys(): {}\".format(boston.keys()))"
   ]
  },
  {
   "cell_type": "code",
   "execution_count": 25,
   "metadata": {},
   "outputs": [
    {
     "name": "stdout",
     "output_type": "stream",
     "text": [
      "boston 데이터의 형태: (506, 13)\n"
     ]
    }
   ],
   "source": [
    "print(\"boston 데이터의 형태: {}\".format(boston.data.shape))"
   ]
  },
  {
   "cell_type": "code",
   "execution_count": 26,
   "metadata": {},
   "outputs": [
    {
     "name": "stdout",
     "output_type": "stream",
     "text": [
      "X.shape: (506, 104)\n"
     ]
    }
   ],
   "source": [
    "# 유도된 보스턴 주택가격 데이터셋 - 특성끼리 곱한 특성 추가 (feature engineering)\n",
    "\n",
    "X, y = mglearn.datasets.load_extended_boston()\n",
    "print(\"X.shape: {}\".format(X.shape))"
   ]
  },
  {
   "cell_type": "markdown",
   "metadata": {},
   "source": [
    "### k-최근접 이웃\n",
    "* 가장 간단한 알고리즘\n",
    "* 이진분류, 다중분류\n",
    "\n",
    "#### k-최근접 이웃 분류"
   ]
  },
  {
   "cell_type": "code",
   "execution_count": 27,
   "metadata": {
    "hide_input": false
   },
   "outputs": [
    {
     "name": "stderr",
     "output_type": "stream",
     "text": [
      "C:\\Users\\user\\Anaconda3\\lib\\site-packages\\sklearn\\utils\\deprecation.py:77: DeprecationWarning: Function make_blobs is deprecated; Please import make_blobs directly from scikit-learn\n",
      "  warnings.warn(msg, category=DeprecationWarning)\n"
     ]
    },
    {
     "data": {
      "image/png": "[encoded data removed]",
      "text/plain": [
       "<Figure size 480x320 with 1 Axes>"
      ]
     },
     "metadata": {
      "needs_background": "light"
     },
     "output_type": "display_data"
    }
   ],
   "source": [
    "mglearn.plots.plot_knn_classification(n_neighbors=1)"
   ]
  },
  {
   "cell_type": "code",
   "execution_count": 28,
   "metadata": {
    "hide_input": false
   },
   "outputs": [
    {
     "name": "stderr",
     "output_type": "stream",
     "text": [
      "C:\\Users\\user\\Anaconda3\\lib\\site-packages\\sklearn\\utils\\deprecation.py:77: DeprecationWarning: Function make_blobs is deprecated; Please import make_blobs directly from scikit-learn\n",
      "  warnings.warn(msg, category=DeprecationWarning)\n"
     ]
    },
    {
     "data": {
      "image/png": "[encoded data removed]",
      "text/plain": [
       "<Figure size 480x320 with 1 Axes>"
      ]
     },
     "metadata": {
      "needs_background": "light"
     },
     "output_type": "display_data"
    }
   ],
   "source": [
    "mglearn.plots.plot_knn_classification(n_neighbors=3)"
   ]
  },
  {
   "cell_type": "code",
   "execution_count": 29,
   "metadata": {},
   "outputs": [
    {
     "name": "stdout",
     "output_type": "stream",
     "text": [
      "[[ 9.96346605  4.59676542]\n",
      " [11.0329545  -0.16816717]\n",
      " [11.54155807  5.21116083]\n",
      " [ 8.69289001  1.54322016]\n",
      " [ 8.1062269   4.28695977]\n",
      " [ 8.30988863  4.80623966]\n",
      " [11.93027136  4.64866327]\n",
      " [ 9.67284681 -0.20283165]\n",
      " [ 8.34810316  5.13415623]\n",
      " [ 8.67494727  4.47573059]\n",
      " [ 9.17748385  5.09283177]\n",
      " [10.24028948  2.45544401]\n",
      " [ 8.68937095  1.48709629]\n",
      " [ 8.92229526 -0.63993225]\n",
      " [ 9.49123469  4.33224792]\n",
      " [ 9.25694192  5.13284858]\n",
      " [ 7.99815287  4.8525051 ]\n",
      " [ 8.18378052  1.29564214]\n",
      " [ 8.7337095   2.49162431]\n",
      " [ 9.32298256  5.09840649]\n",
      " [10.06393839  0.99078055]\n",
      " [ 9.50048972 -0.26430318]\n",
      " [ 8.34468785  1.63824349]\n",
      " [ 9.50169345  1.93824624]\n",
      " [ 9.15072323  5.49832246]\n",
      " [11.563957    1.3389402 ]]\n",
      "[1 0 1 0 0 1 1 0 1 1 1 1 0 0 1 1 1 0 0 1 0 0 0 0 1 0]\n"
     ]
    },
    {
     "name": "stderr",
     "output_type": "stream",
     "text": [
      "C:\\Users\\user\\Anaconda3\\lib\\site-packages\\sklearn\\utils\\deprecation.py:77: DeprecationWarning: Function make_blobs is deprecated; Please import make_blobs directly from scikit-learn\n",
      "  warnings.warn(msg, category=DeprecationWarning)\n"
     ]
    }
   ],
   "source": [
    "from sklearn.model_selection import train_test_split\n",
    "X, y = mglearn.datasets.make_forge()\n",
    "print(X)\n",
    "print(y)\n",
    "\n",
    "X_train, X_test, y_train, y_test = train_test_split(X, y, random_state=0)"
   ]
  },
  {
   "cell_type": "code",
   "execution_count": 30,
   "metadata": {},
   "outputs": [],
   "source": [
    "# KNeighborsClassifier, k=3"
   ]
  },
  {
   "cell_type": "code",
   "execution_count": 31,
   "metadata": {},
   "outputs": [],
   "source": [
    "# train"
   ]
  },
  {
   "cell_type": "code",
   "execution_count": 32,
   "metadata": {},
   "outputs": [
    {
     "ename": "IndexError",
     "evalue": "tuple index out of range",
     "output_type": "error",
     "traceback": [
      "\u001b[1;31m---------------------------------------------------------------------------\u001b[0m",
      "\u001b[1;31mIndexError\u001b[0m                                Traceback (most recent call last)",
      "\u001b[1;32m<ipython-input-32-35ba9c69c055>\u001b[0m in \u001b[0;36m<module>\u001b[1;34m\u001b[0m\n\u001b[0;32m      1\u001b[0m \u001b[1;31m# test data predict\u001b[0m\u001b[1;33m\u001b[0m\u001b[1;33m\u001b[0m\u001b[1;33m\u001b[0m\u001b[0m\n\u001b[1;32m----> 2\u001b[1;33m \u001b[0mprint\u001b[0m\u001b[1;33m(\u001b[0m\u001b[1;34m\"테스트 세트 예측: {}\"\u001b[0m\u001b[1;33m.\u001b[0m\u001b[0mformat\u001b[0m\u001b[1;33m(\u001b[0m   \u001b[1;33m)\u001b[0m\u001b[1;33m)\u001b[0m\u001b[1;33m\u001b[0m\u001b[1;33m\u001b[0m\u001b[0m\n\u001b[0m",
      "\u001b[1;31mIndexError\u001b[0m: tuple index out of range"
     ]
    }
   ],
   "source": [
    "# test data predict\n",
    "print(\"테스트 세트 예측: {}\".format(   ))"
   ]
  },
  {
   "cell_type": "code",
   "execution_count": 33,
   "metadata": {},
   "outputs": [
    {
     "ename": "IndexError",
     "evalue": "tuple index out of range",
     "output_type": "error",
     "traceback": [
      "\u001b[1;31m---------------------------------------------------------------------------\u001b[0m",
      "\u001b[1;31mIndexError\u001b[0m                                Traceback (most recent call last)",
      "\u001b[1;32m<ipython-input-33-3094ac22a524>\u001b[0m in \u001b[0;36m<module>\u001b[1;34m\u001b[0m\n\u001b[0;32m      1\u001b[0m \u001b[1;31m# test_data score\u001b[0m\u001b[1;33m\u001b[0m\u001b[1;33m\u001b[0m\u001b[1;33m\u001b[0m\u001b[0m\n\u001b[1;32m----> 2\u001b[1;33m \u001b[0mprint\u001b[0m\u001b[1;33m(\u001b[0m\u001b[1;34m\"테스트 세트 정확도: {:.2f}\"\u001b[0m\u001b[1;33m.\u001b[0m\u001b[0mformat\u001b[0m\u001b[1;33m(\u001b[0m   \u001b[1;33m)\u001b[0m\u001b[1;33m)\u001b[0m\u001b[1;33m\u001b[0m\u001b[1;33m\u001b[0m\u001b[0m\n\u001b[0m",
      "\u001b[1;31mIndexError\u001b[0m: tuple index out of range"
     ]
    }
   ],
   "source": [
    "# test_data score\n",
    "print(\"테스트 세트 정확도: {:.2f}\".format(   ))"
   ]
  },
  {
   "cell_type": "markdown",
   "metadata": {},
   "source": [
    "#### KNeighborsClassifier 분석"
   ]
  },
  {
   "cell_type": "code",
   "execution_count": 34,
   "metadata": {
    "hide_input": false,
    "scrolled": true
   },
   "outputs": [
    {
     "ename": "NameError",
     "evalue": "name 'KNeighborsClassifier' is not defined",
     "output_type": "error",
     "traceback": [
      "\u001b[1;31m---------------------------------------------------------------------------\u001b[0m",
      "\u001b[1;31mNameError\u001b[0m                                 Traceback (most recent call last)",
      "\u001b[1;32m<ipython-input-34-953f30869a04>\u001b[0m in \u001b[0;36m<module>\u001b[1;34m\u001b[0m\n\u001b[0;32m      6\u001b[0m     \u001b[1;31m# fit 메소드는 self 오브젝트를 리턴합니다\u001b[0m\u001b[1;33m\u001b[0m\u001b[1;33m\u001b[0m\u001b[1;33m\u001b[0m\u001b[0m\n\u001b[0;32m      7\u001b[0m     \u001b[1;31m# 그래서 객체 생성과 fit 메소드를 한 줄에 쓸 수 있습니다\u001b[0m\u001b[1;33m\u001b[0m\u001b[1;33m\u001b[0m\u001b[1;33m\u001b[0m\u001b[0m\n\u001b[1;32m----> 8\u001b[1;33m     \u001b[0mclf\u001b[0m \u001b[1;33m=\u001b[0m \u001b[0mKNeighborsClassifier\u001b[0m\u001b[1;33m(\u001b[0m\u001b[0mn_neighbors\u001b[0m\u001b[1;33m=\u001b[0m\u001b[0mn_neighbors\u001b[0m\u001b[1;33m)\u001b[0m\u001b[1;33m.\u001b[0m\u001b[0mfit\u001b[0m\u001b[1;33m(\u001b[0m\u001b[0mX\u001b[0m\u001b[1;33m,\u001b[0m \u001b[0my\u001b[0m\u001b[1;33m)\u001b[0m\u001b[1;33m\u001b[0m\u001b[1;33m\u001b[0m\u001b[0m\n\u001b[0m\u001b[0;32m      9\u001b[0m     \u001b[0mmglearn\u001b[0m\u001b[1;33m.\u001b[0m\u001b[0mplots\u001b[0m\u001b[1;33m.\u001b[0m\u001b[0mplot_2d_separator\u001b[0m\u001b[1;33m(\u001b[0m\u001b[0mclf\u001b[0m\u001b[1;33m,\u001b[0m \u001b[0mX\u001b[0m\u001b[1;33m,\u001b[0m \u001b[0mfill\u001b[0m\u001b[1;33m=\u001b[0m\u001b[1;32mTrue\u001b[0m\u001b[1;33m,\u001b[0m \u001b[0meps\u001b[0m\u001b[1;33m=\u001b[0m\u001b[1;36m0.5\u001b[0m\u001b[1;33m,\u001b[0m \u001b[0max\u001b[0m\u001b[1;33m=\u001b[0m\u001b[0max\u001b[0m\u001b[1;33m,\u001b[0m \u001b[0malpha\u001b[0m\u001b[1;33m=\u001b[0m\u001b[1;36m.4\u001b[0m\u001b[1;33m)\u001b[0m\u001b[1;33m\u001b[0m\u001b[1;33m\u001b[0m\u001b[0m\n\u001b[0;32m     10\u001b[0m     \u001b[0mmglearn\u001b[0m\u001b[1;33m.\u001b[0m\u001b[0mdiscrete_scatter\u001b[0m\u001b[1;33m(\u001b[0m\u001b[0mX\u001b[0m\u001b[1;33m[\u001b[0m\u001b[1;33m:\u001b[0m\u001b[1;33m,\u001b[0m \u001b[1;36m0\u001b[0m\u001b[1;33m]\u001b[0m\u001b[1;33m,\u001b[0m \u001b[0mX\u001b[0m\u001b[1;33m[\u001b[0m\u001b[1;33m:\u001b[0m\u001b[1;33m,\u001b[0m \u001b[1;36m1\u001b[0m\u001b[1;33m]\u001b[0m\u001b[1;33m,\u001b[0m \u001b[0my\u001b[0m\u001b[1;33m,\u001b[0m \u001b[0max\u001b[0m\u001b[1;33m=\u001b[0m\u001b[0max\u001b[0m\u001b[1;33m)\u001b[0m\u001b[1;33m\u001b[0m\u001b[1;33m\u001b[0m\u001b[0m\n",
      "\u001b[1;31mNameError\u001b[0m: name 'KNeighborsClassifier' is not defined"
     ]
    },
    {
     "data": {
      "image/png": "[encoded data removed]",
      "text/plain": [
       "<Figure size 800x240 with 3 Axes>"
      ]
     },
     "metadata": {
      "needs_background": "light"
     },
     "output_type": "display_data"
    }
   ],
   "source": [
    "# binary classification\n",
    "\n",
    "fig, axes = plt.subplots(1, 3, figsize=(10, 3))\n",
    "\n",
    "for n_neighbors, ax in zip([1, 3, 9], axes):\n",
    "    # fit 메소드는 self 오브젝트를 리턴합니다\n",
    "    # 그래서 객체 생성과 fit 메소드를 한 줄에 쓸 수 있습니다\n",
    "    clf = KNeighborsClassifier(n_neighbors=n_neighbors).fit(X, y)\n",
    "    mglearn.plots.plot_2d_separator(clf, X, fill=True, eps=0.5, ax=ax, alpha=.4)\n",
    "    mglearn.discrete_scatter(X[:, 0], X[:, 1], y, ax=ax)\n",
    "    ax.set_title(\"{} 이웃\".format(n_neighbors))\n",
    "    ax.set_xlabel(\"특성 0\")\n",
    "    ax.set_ylabel(\"특성 1\")\n",
    "axes[0].legend(loc=3)"
   ]
  },
  {
   "cell_type": "code",
   "execution_count": 35,
   "metadata": {},
   "outputs": [
    {
     "ename": "NameError",
     "evalue": "name 'KNeighborsClassifier' is not defined",
     "output_type": "error",
     "traceback": [
      "\u001b[1;31m---------------------------------------------------------------------------\u001b[0m",
      "\u001b[1;31mNameError\u001b[0m                                 Traceback (most recent call last)",
      "\u001b[1;32m<ipython-input-35-cde1d70c2258>\u001b[0m in \u001b[0;36m<module>\u001b[1;34m\u001b[0m\n\u001b[0;32m     13\u001b[0m \u001b[1;32mfor\u001b[0m \u001b[0mn_neighbors\u001b[0m \u001b[1;32min\u001b[0m \u001b[0mneighbors_settings\u001b[0m\u001b[1;33m:\u001b[0m\u001b[1;33m\u001b[0m\u001b[1;33m\u001b[0m\u001b[0m\n\u001b[0;32m     14\u001b[0m     \u001b[1;31m# 모델 생성\u001b[0m\u001b[1;33m\u001b[0m\u001b[1;33m\u001b[0m\u001b[1;33m\u001b[0m\u001b[0m\n\u001b[1;32m---> 15\u001b[1;33m     \u001b[0mclf\u001b[0m \u001b[1;33m=\u001b[0m \u001b[0mKNeighborsClassifier\u001b[0m\u001b[1;33m(\u001b[0m\u001b[0mn_neighbors\u001b[0m\u001b[1;33m=\u001b[0m\u001b[0mn_neighbors\u001b[0m\u001b[1;33m)\u001b[0m\u001b[1;33m\u001b[0m\u001b[1;33m\u001b[0m\u001b[0m\n\u001b[0m\u001b[0;32m     16\u001b[0m     \u001b[0mclf\u001b[0m\u001b[1;33m.\u001b[0m\u001b[0mfit\u001b[0m\u001b[1;33m(\u001b[0m\u001b[0mX_train\u001b[0m\u001b[1;33m,\u001b[0m \u001b[0my_train\u001b[0m\u001b[1;33m)\u001b[0m\u001b[1;33m\u001b[0m\u001b[1;33m\u001b[0m\u001b[0m\n\u001b[0;32m     17\u001b[0m     \u001b[1;31m# 훈련 세트 정확도 저장\u001b[0m\u001b[1;33m\u001b[0m\u001b[1;33m\u001b[0m\u001b[1;33m\u001b[0m\u001b[0m\n",
      "\u001b[1;31mNameError\u001b[0m: name 'KNeighborsClassifier' is not defined"
     ]
    }
   ],
   "source": [
    "\n",
    "from sklearn.datasets import load_breast_cancer\n",
    "\n",
    "cancer = load_breast_cancer()\n",
    "X_train, X_test, y_train, y_test = train_test_split(\n",
    "    cancer.data, cancer.target, stratify=cancer.target, random_state=66)\n",
    "\n",
    "training_accuracy = []\n",
    "test_accuracy = []\n",
    "# 1 에서 10 까지 n_neighbors 를 적용\n",
    "neighbors_settings = range(1, 11)\n",
    "\n",
    "for n_neighbors in neighbors_settings:\n",
    "    # 모델 생성\n",
    "    clf = KNeighborsClassifier(n_neighbors=n_neighbors)\n",
    "    clf.fit(X_train, y_train)\n",
    "    # 훈련 세트 정확도 저장\n",
    "    training_accuracy.append(clf.score(X_train, y_train))\n",
    "    # 일반화 정확도 저장\n",
    "    test_accuracy.append(clf.score(X_test, y_test))\n",
    "    \n",
    "plt.plot(neighbors_settings, training_accuracy, label=\"훈련 정확도\")\n",
    "plt.plot(neighbors_settings, test_accuracy, label=\"테스트 정확도\")\n",
    "plt.ylabel(\"정확도\")\n",
    "plt.xlabel(\"n_neighbors\")\n",
    "plt.legend()"
   ]
  },
  {
   "cell_type": "markdown",
   "metadata": {},
   "source": [
    "#### k-Neighbors Regression"
   ]
  },
  {
   "cell_type": "code",
   "execution_count": 36,
   "metadata": {
    "hide_input": false
   },
   "outputs": [
    {
     "data": {
      "image/png": "[encoded data removed]",
      "text/plain": [
       "<Figure size 800x480 with 1 Axes>"
      ]
     },
     "metadata": {
      "needs_background": "light"
     },
     "output_type": "display_data"
    }
   ],
   "source": [
    "# knn regression (n=1) - 가장 가까운 이웃값\n",
    "\n",
    "mglearn.plots.plot_knn_regression(n_neighbors=1)"
   ]
  },
  {
   "cell_type": "code",
   "execution_count": 37,
   "metadata": {
    "hide_input": false
   },
   "outputs": [
    {
     "data": {
      "image/png": "[encoded data removed]",
      "text/plain": [
       "<Figure size 800x480 with 1 Axes>"
      ]
     },
     "metadata": {
      "needs_background": "light"
     },
     "output_type": "display_data"
    }
   ],
   "source": [
    "# knn regression (n=n) - 가장 가까운 이웃값들의 평균\n",
    "\n",
    "mglearn.plots.plot_knn_regression(n_neighbors=3)"
   ]
  },
  {
   "cell_type": "code",
   "execution_count": 38,
   "metadata": {},
   "outputs": [
    {
     "data": {
      "text/plain": [
       "KNeighborsRegressor(algorithm='auto', leaf_size=30, metric='minkowski',\n",
       "          metric_params=None, n_jobs=None, n_neighbors=3, p=2,\n",
       "          weights='uniform')"
      ]
     },
     "execution_count": 38,
     "metadata": {},
     "output_type": "execute_result"
    }
   ],
   "source": [
    "from sklearn.neighbors import KNeighborsRegressor\n",
    "\n",
    "X, y = mglearn.datasets.make_wave(n_samples=40)\n",
    "\n",
    "# wave 데이터셋을 훈련 세트와 테스트 세트로 나눕니다\n",
    "X_train, X_test, y_train, y_test = train_test_split(X, y, random_state=0)\n",
    "\n",
    "# 이웃의 수를 3으로 하여 모델의 객체를 만듭니다\n",
    "reg = KNeighborsRegressor(n_neighbors=3)\n",
    "# 훈련 데이터와 타깃을 사용하여 모델을 학습시킵니다\n",
    "reg.fit(X_train, y_train)"
   ]
  },
  {
   "cell_type": "code",
   "execution_count": 39,
   "metadata": {},
   "outputs": [
    {
     "name": "stdout",
     "output_type": "stream",
     "text": [
      "테스트 세트 예측:\n",
      "[-0.05396539  0.35686046  1.13671923 -1.89415682 -1.13881398 -1.63113382\n",
      "  0.35686046  0.91241374 -0.44680446 -1.13881398]\n"
     ]
    }
   ],
   "source": [
    "print(\"테스트 세트 예측:\\n{}\".format(reg.predict(X_test)))"
   ]
  },
  {
   "cell_type": "code",
   "execution_count": 40,
   "metadata": {},
   "outputs": [
    {
     "name": "stdout",
     "output_type": "stream",
     "text": [
      "실제 세트 : [ 0.37299129  0.21778193  0.96695428 -1.38773632 -1.05979555 -0.90496988\n",
      "  0.43655826  0.7789638  -0.54114599 -0.95652133]\n"
     ]
    }
   ],
   "source": [
    "print('실제 세트 :', y_test)"
   ]
  },
  {
   "cell_type": "code",
   "execution_count": 41,
   "metadata": {},
   "outputs": [
    {
     "name": "stdout",
     "output_type": "stream",
     "text": [
      "테스트 세트 R^2: 0.83\n"
     ]
    }
   ],
   "source": [
    "print(\"테스트 세트 R^2: {:.2f}\".format(reg.score(X_test, y_test)))"
   ]
  },
  {
   "cell_type": "markdown",
   "metadata": {},
   "source": [
    "#### KNeighborsRegressor 분석"
   ]
  },
  {
   "cell_type": "code",
   "execution_count": 42,
   "metadata": {
    "scrolled": true
   },
   "outputs": [
    {
     "data": {
      "text/plain": [
       "<matplotlib.legend.Legend at 0x27ac1ab3b00>"
      ]
     },
     "execution_count": 42,
     "metadata": {},
     "output_type": "execute_result"
    },
    {
     "data": {
      "image/png": "[encoded data removed]",
      "text/plain": [
       "<Figure size 1200x320 with 3 Axes>"
      ]
     },
     "metadata": {
      "needs_background": "light"
     },
     "output_type": "display_data"
    }
   ],
   "source": [
    "fig, axes = plt.subplots(1, 3, figsize=(15, 4))\n",
    "# -3 과 3 사이에 1,000 개의 데이터 포인트를 만듭니다\n",
    "line = np.linspace(-3, 3, 1000).reshape(-1, 1)\n",
    "for n_neighbors, ax in zip([1, 3, 9], axes):\n",
    "    # 1, 3, 9 이웃을 사용한 예측을 합니다\n",
    "    reg = KNeighborsRegressor(n_neighbors=n_neighbors)\n",
    "    reg.fit(X_train, y_train)\n",
    "    ax.plot(line, reg.predict(line))\n",
    "    ax.plot(X_train, y_train, '^', c=mglearn.cm2(0), markersize=8)\n",
    "    ax.plot(X_test, y_test, 'v', c=mglearn.cm2(1), markersize=8)\n",
    "\n",
    "    ax.set_title(\n",
    "        \"{} 이웃의 훈련 스코어: {:.2f} 테스트 스코어: {:.2f}\".format(\n",
    "            n_neighbors, reg.score(X_train, y_train), reg.score(X_test, y_test)))\n",
    "    ax.set_xlabel(\"특성\")\n",
    "    ax.set_ylabel(\"타깃\")\n",
    "axes[0].legend([\"모델 예측\", \"훈련 데이터/타깃\", \"테스트 데이터/타깃\"], loc=\"best\")"
   ]
  },
  {
   "cell_type": "code",
   "execution_count": 43,
   "metadata": {
    "hide_input": false
   },
   "outputs": [],
   "source": [
    "import sklearn\n",
    "\n",
    "from sklearn import datasets\n",
    "from sklearn.model_selection import train_test_split\n",
    "\n",
    "from IPython.display import display\n",
    "import numpy as np\n",
    "import pandas as pd\n",
    "# import mglearn\n",
    "\n",
    "import matplotlib.pyplot as plt\n",
    "%matplotlib inline\n",
    "# from preamble import *\n",
    "\n",
    "import mglearn"
   ]
  },
  {
   "cell_type": "code",
   "execution_count": 44,
   "metadata": {},
   "outputs": [
    {
     "name": "stdout",
     "output_type": "stream",
     "text": [
      "[]\n",
      "Training_Accuracy_Best\n",
      "[]\n"
     ]
    },
    {
     "ename": "ValueError",
     "evalue": "x and y must have same first dimension, but have shapes (10,) and (0,)",
     "output_type": "error",
     "traceback": [
      "\u001b[1;31m---------------------------------------------------------------------------\u001b[0m",
      "\u001b[1;31mValueError\u001b[0m                                Traceback (most recent call last)",
      "\u001b[1;32m<ipython-input-44-442455272d4e>\u001b[0m in \u001b[0;36m<module>\u001b[1;34m\u001b[0m\n\u001b[0;32m     21\u001b[0m \u001b[0mprint\u001b[0m\u001b[1;33m(\u001b[0m\u001b[1;34m'Training_Accuracy_Best'\u001b[0m\u001b[1;33m)\u001b[0m\u001b[1;33m\u001b[0m\u001b[1;33m\u001b[0m\u001b[0m\n\u001b[0;32m     22\u001b[0m \u001b[0mprint\u001b[0m\u001b[1;33m(\u001b[0m\u001b[0mtest_accuracy\u001b[0m\u001b[1;33m)\u001b[0m\u001b[1;33m\u001b[0m\u001b[1;33m\u001b[0m\u001b[0m\n\u001b[1;32m---> 23\u001b[1;33m \u001b[0mplt\u001b[0m\u001b[1;33m.\u001b[0m\u001b[0mplot\u001b[0m\u001b[1;33m(\u001b[0m\u001b[0mneighbors_settings\u001b[0m\u001b[1;33m,\u001b[0m \u001b[0mtraining_accuracy\u001b[0m\u001b[1;33m,\u001b[0m \u001b[0mlabel\u001b[0m\u001b[1;33m=\u001b[0m\u001b[1;34m\"훈련 정확도\"\u001b[0m\u001b[1;33m)\u001b[0m\u001b[1;33m\u001b[0m\u001b[1;33m\u001b[0m\u001b[0m\n\u001b[0m\u001b[0;32m     24\u001b[0m \u001b[0mplt\u001b[0m\u001b[1;33m.\u001b[0m\u001b[0mplot\u001b[0m\u001b[1;33m(\u001b[0m\u001b[0mneighbors_settings\u001b[0m\u001b[1;33m,\u001b[0m \u001b[0mtest_accuracy\u001b[0m\u001b[1;33m,\u001b[0m \u001b[0mlabel\u001b[0m\u001b[1;33m=\u001b[0m\u001b[1;34m\"테스트 정확도\"\u001b[0m\u001b[1;33m)\u001b[0m\u001b[1;33m\u001b[0m\u001b[1;33m\u001b[0m\u001b[0m\n\u001b[0;32m     25\u001b[0m \u001b[0mplt\u001b[0m\u001b[1;33m.\u001b[0m\u001b[0mylabel\u001b[0m\u001b[1;33m(\u001b[0m\u001b[1;34m\"정확도\"\u001b[0m\u001b[1;33m)\u001b[0m\u001b[1;33m\u001b[0m\u001b[1;33m\u001b[0m\u001b[0m\n",
      "\u001b[1;32m~\\Anaconda3\\lib\\site-packages\\matplotlib\\pyplot.py\u001b[0m in \u001b[0;36mplot\u001b[1;34m(scalex, scaley, data, *args, **kwargs)\u001b[0m\n\u001b[0;32m   2809\u001b[0m     return gca().plot(\n\u001b[0;32m   2810\u001b[0m         *args, scalex=scalex, scaley=scaley, **({\"data\": data} if data\n\u001b[1;32m-> 2811\u001b[1;33m         is not None else {}), **kwargs)\n\u001b[0m\u001b[0;32m   2812\u001b[0m \u001b[1;33m\u001b[0m\u001b[0m\n\u001b[0;32m   2813\u001b[0m \u001b[1;33m\u001b[0m\u001b[0m\n",
      "\u001b[1;32m~\\Anaconda3\\lib\\site-packages\\matplotlib\\__init__.py\u001b[0m in \u001b[0;36minner\u001b[1;34m(ax, data, *args, **kwargs)\u001b[0m\n\u001b[0;32m   1808\u001b[0m                         \u001b[1;34m\"the Matplotlib list!)\"\u001b[0m \u001b[1;33m%\u001b[0m \u001b[1;33m(\u001b[0m\u001b[0mlabel_namer\u001b[0m\u001b[1;33m,\u001b[0m \u001b[0mfunc\u001b[0m\u001b[1;33m.\u001b[0m\u001b[0m__name__\u001b[0m\u001b[1;33m)\u001b[0m\u001b[1;33m,\u001b[0m\u001b[1;33m\u001b[0m\u001b[1;33m\u001b[0m\u001b[0m\n\u001b[0;32m   1809\u001b[0m                         RuntimeWarning, stacklevel=2)\n\u001b[1;32m-> 1810\u001b[1;33m             \u001b[1;32mreturn\u001b[0m \u001b[0mfunc\u001b[0m\u001b[1;33m(\u001b[0m\u001b[0max\u001b[0m\u001b[1;33m,\u001b[0m \u001b[1;33m*\u001b[0m\u001b[0margs\u001b[0m\u001b[1;33m,\u001b[0m \u001b[1;33m**\u001b[0m\u001b[0mkwargs\u001b[0m\u001b[1;33m)\u001b[0m\u001b[1;33m\u001b[0m\u001b[1;33m\u001b[0m\u001b[0m\n\u001b[0m\u001b[0;32m   1811\u001b[0m \u001b[1;33m\u001b[0m\u001b[0m\n\u001b[0;32m   1812\u001b[0m         inner.__doc__ = _add_data_doc(inner.__doc__,\n",
      "\u001b[1;32m~\\Anaconda3\\lib\\site-packages\\matplotlib\\axes\\_axes.py\u001b[0m in \u001b[0;36mplot\u001b[1;34m(self, scalex, scaley, *args, **kwargs)\u001b[0m\n\u001b[0;32m   1609\u001b[0m         \u001b[0mkwargs\u001b[0m \u001b[1;33m=\u001b[0m \u001b[0mcbook\u001b[0m\u001b[1;33m.\u001b[0m\u001b[0mnormalize_kwargs\u001b[0m\u001b[1;33m(\u001b[0m\u001b[0mkwargs\u001b[0m\u001b[1;33m,\u001b[0m \u001b[0mmlines\u001b[0m\u001b[1;33m.\u001b[0m\u001b[0mLine2D\u001b[0m\u001b[1;33m.\u001b[0m\u001b[0m_alias_map\u001b[0m\u001b[1;33m)\u001b[0m\u001b[1;33m\u001b[0m\u001b[1;33m\u001b[0m\u001b[0m\n\u001b[0;32m   1610\u001b[0m \u001b[1;33m\u001b[0m\u001b[0m\n\u001b[1;32m-> 1611\u001b[1;33m         \u001b[1;32mfor\u001b[0m \u001b[0mline\u001b[0m \u001b[1;32min\u001b[0m \u001b[0mself\u001b[0m\u001b[1;33m.\u001b[0m\u001b[0m_get_lines\u001b[0m\u001b[1;33m(\u001b[0m\u001b[1;33m*\u001b[0m\u001b[0margs\u001b[0m\u001b[1;33m,\u001b[0m \u001b[1;33m**\u001b[0m\u001b[0mkwargs\u001b[0m\u001b[1;33m)\u001b[0m\u001b[1;33m:\u001b[0m\u001b[1;33m\u001b[0m\u001b[1;33m\u001b[0m\u001b[0m\n\u001b[0m\u001b[0;32m   1612\u001b[0m             \u001b[0mself\u001b[0m\u001b[1;33m.\u001b[0m\u001b[0madd_line\u001b[0m\u001b[1;33m(\u001b[0m\u001b[0mline\u001b[0m\u001b[1;33m)\u001b[0m\u001b[1;33m\u001b[0m\u001b[1;33m\u001b[0m\u001b[0m\n\u001b[0;32m   1613\u001b[0m             \u001b[0mlines\u001b[0m\u001b[1;33m.\u001b[0m\u001b[0mappend\u001b[0m\u001b[1;33m(\u001b[0m\u001b[0mline\u001b[0m\u001b[1;33m)\u001b[0m\u001b[1;33m\u001b[0m\u001b[1;33m\u001b[0m\u001b[0m\n",
      "\u001b[1;32m~\\Anaconda3\\lib\\site-packages\\matplotlib\\axes\\_base.py\u001b[0m in \u001b[0;36m_grab_next_args\u001b[1;34m(self, *args, **kwargs)\u001b[0m\n\u001b[0;32m    391\u001b[0m                 \u001b[0mthis\u001b[0m \u001b[1;33m+=\u001b[0m \u001b[0margs\u001b[0m\u001b[1;33m[\u001b[0m\u001b[1;36m0\u001b[0m\u001b[1;33m]\u001b[0m\u001b[1;33m,\u001b[0m\u001b[1;33m\u001b[0m\u001b[1;33m\u001b[0m\u001b[0m\n\u001b[0;32m    392\u001b[0m                 \u001b[0margs\u001b[0m \u001b[1;33m=\u001b[0m \u001b[0margs\u001b[0m\u001b[1;33m[\u001b[0m\u001b[1;36m1\u001b[0m\u001b[1;33m:\u001b[0m\u001b[1;33m]\u001b[0m\u001b[1;33m\u001b[0m\u001b[1;33m\u001b[0m\u001b[0m\n\u001b[1;32m--> 393\u001b[1;33m             \u001b[1;32myield\u001b[0m \u001b[1;32mfrom\u001b[0m \u001b[0mself\u001b[0m\u001b[1;33m.\u001b[0m\u001b[0m_plot_args\u001b[0m\u001b[1;33m(\u001b[0m\u001b[0mthis\u001b[0m\u001b[1;33m,\u001b[0m \u001b[0mkwargs\u001b[0m\u001b[1;33m)\u001b[0m\u001b[1;33m\u001b[0m\u001b[1;33m\u001b[0m\u001b[0m\n\u001b[0m\u001b[0;32m    394\u001b[0m \u001b[1;33m\u001b[0m\u001b[0m\n\u001b[0;32m    395\u001b[0m \u001b[1;33m\u001b[0m\u001b[0m\n",
      "\u001b[1;32m~\\Anaconda3\\lib\\site-packages\\matplotlib\\axes\\_base.py\u001b[0m in \u001b[0;36m_plot_args\u001b[1;34m(self, tup, kwargs)\u001b[0m\n\u001b[0;32m    368\u001b[0m             \u001b[0mx\u001b[0m\u001b[1;33m,\u001b[0m \u001b[0my\u001b[0m \u001b[1;33m=\u001b[0m \u001b[0mindex_of\u001b[0m\u001b[1;33m(\u001b[0m\u001b[0mtup\u001b[0m\u001b[1;33m[\u001b[0m\u001b[1;33m-\u001b[0m\u001b[1;36m1\u001b[0m\u001b[1;33m]\u001b[0m\u001b[1;33m)\u001b[0m\u001b[1;33m\u001b[0m\u001b[1;33m\u001b[0m\u001b[0m\n\u001b[0;32m    369\u001b[0m \u001b[1;33m\u001b[0m\u001b[0m\n\u001b[1;32m--> 370\u001b[1;33m         \u001b[0mx\u001b[0m\u001b[1;33m,\u001b[0m \u001b[0my\u001b[0m \u001b[1;33m=\u001b[0m \u001b[0mself\u001b[0m\u001b[1;33m.\u001b[0m\u001b[0m_xy_from_xy\u001b[0m\u001b[1;33m(\u001b[0m\u001b[0mx\u001b[0m\u001b[1;33m,\u001b[0m \u001b[0my\u001b[0m\u001b[1;33m)\u001b[0m\u001b[1;33m\u001b[0m\u001b[1;33m\u001b[0m\u001b[0m\n\u001b[0m\u001b[0;32m    371\u001b[0m \u001b[1;33m\u001b[0m\u001b[0m\n\u001b[0;32m    372\u001b[0m         \u001b[1;32mif\u001b[0m \u001b[0mself\u001b[0m\u001b[1;33m.\u001b[0m\u001b[0mcommand\u001b[0m \u001b[1;33m==\u001b[0m \u001b[1;34m'plot'\u001b[0m\u001b[1;33m:\u001b[0m\u001b[1;33m\u001b[0m\u001b[1;33m\u001b[0m\u001b[0m\n",
      "\u001b[1;32m~\\Anaconda3\\lib\\site-packages\\matplotlib\\axes\\_base.py\u001b[0m in \u001b[0;36m_xy_from_xy\u001b[1;34m(self, x, y)\u001b[0m\n\u001b[0;32m    229\u001b[0m         \u001b[1;32mif\u001b[0m \u001b[0mx\u001b[0m\u001b[1;33m.\u001b[0m\u001b[0mshape\u001b[0m\u001b[1;33m[\u001b[0m\u001b[1;36m0\u001b[0m\u001b[1;33m]\u001b[0m \u001b[1;33m!=\u001b[0m \u001b[0my\u001b[0m\u001b[1;33m.\u001b[0m\u001b[0mshape\u001b[0m\u001b[1;33m[\u001b[0m\u001b[1;36m0\u001b[0m\u001b[1;33m]\u001b[0m\u001b[1;33m:\u001b[0m\u001b[1;33m\u001b[0m\u001b[1;33m\u001b[0m\u001b[0m\n\u001b[0;32m    230\u001b[0m             raise ValueError(\"x and y must have same first dimension, but \"\n\u001b[1;32m--> 231\u001b[1;33m                              \"have shapes {} and {}\".format(x.shape, y.shape))\n\u001b[0m\u001b[0;32m    232\u001b[0m         \u001b[1;32mif\u001b[0m \u001b[0mx\u001b[0m\u001b[1;33m.\u001b[0m\u001b[0mndim\u001b[0m \u001b[1;33m>\u001b[0m \u001b[1;36m2\u001b[0m \u001b[1;32mor\u001b[0m \u001b[0my\u001b[0m\u001b[1;33m.\u001b[0m\u001b[0mndim\u001b[0m \u001b[1;33m>\u001b[0m \u001b[1;36m2\u001b[0m\u001b[1;33m:\u001b[0m\u001b[1;33m\u001b[0m\u001b[1;33m\u001b[0m\u001b[0m\n\u001b[0;32m    233\u001b[0m             raise ValueError(\"x and y can be no greater than 2-D, but have \"\n",
      "\u001b[1;31mValueError\u001b[0m: x and y must have same first dimension, but have shapes (10,) and (0,)"
     ]
    },
    {
     "data": {
      "image/png": "[encoded data removed]",
      "text/plain": [
       "<Figure size 432x288 with 1 Axes>"
      ]
     },
     "metadata": {
      "needs_background": "light"
     },
     "output_type": "display_data"
    }
   ],
   "source": [
    "# Knn 다중 회귀분석\n",
    "\n",
    "from sklearn.datasets import load_breast_cancer\n",
    "from sklearn.neighbors import KNeighborsRegressor\n",
    "\n",
    "cancer = load_breast_cancer()\n",
    "X_train, X_test, y_train, y_test = train_test_split(\n",
    "    cancer.data, cancer.target, stratify=cancer.target, random_state=66)\n",
    "\n",
    "training_accuracy = []\n",
    "test_accuracy = []\n",
    "# 1 ~ 10 , n_neighbors -> train score, test score\n",
    "\n",
    "\n",
    "\n",
    "\n",
    "\n",
    "\n",
    "\n",
    "print(training_accuracy)\n",
    "print('Training_Accuracy_Best')\n",
    "print(test_accuracy)\n",
    "plt.plot(neighbors_settings, training_accuracy, label=\"훈련 정확도\")\n",
    "plt.plot(neighbors_settings, test_accuracy, label=\"테스트 정확도\")\n",
    "plt.ylabel(\"정확도\")\n",
    "plt.xlabel(\"n_neighbors\")\n",
    "plt.legend()\n"
   ]
  },
  {
   "cell_type": "code",
   "execution_count": 45,
   "metadata": {},
   "outputs": [],
   "source": [
    "# cross_validation\n",
    "\n",
    "from sklearn.model_selection import cross_val_score"
   ]
  },
  {
   "cell_type": "code",
   "execution_count": 46,
   "metadata": {},
   "outputs": [
    {
     "name": "stdout",
     "output_type": "stream",
     "text": [
      "교차검증점수 : [0.51001705 0.73652538 0.87697072 0.75591616 0.66141075]\n",
      "교차검증평균 : 0.7081680115173086\n",
      "교차검증편차 : 0.12085398276285679\n"
     ]
    }
   ],
   "source": [
    "knn_reg = KNeighborsRegressor(n_neighbors=6)\n",
    "\n",
    "# cross_val_scores(모델, 훈련데이터, 타깃데이터, cv=?)\n",
    "scores = cross_val_score(knn_reg, cancer.data, cancer.target, cv=5)\n",
    "print('교차검증점수 : {}'.format(scores))\n",
    "print('교차검증평균 : {}'.format(scores.mean()))\n",
    "print('교차검증편차 : {}'.format(scores.std())) # 편차가 크다 - cv에 의존적이거나 데이터수가 적은 경우"
   ]
  },
  {
   "cell_type": "code",
   "execution_count": 47,
   "metadata": {
    "scrolled": true
   },
   "outputs": [
    {
     "name": "stdout",
     "output_type": "stream",
     "text": [
      "교차검증점수 : [-0.11793372 -0.06457115 -0.02802144 -0.0462963  -0.05998033]\n",
      "교차검증평균 : -0.0633605892804775\n",
      "교차검증편차 : 0.030103700493914677\n"
     ]
    }
   ],
   "source": [
    "knn_reg = KNeighborsRegressor(n_neighbors=6)\n",
    "\n",
    "# cross_val_scores(모델, 훈련데이터, 타깃데이터, cv=?)\n",
    "scores = cross_val_score(knn_reg, cancer.data, cancer.target, scoring='neg_mean_squared_error', cv=5)\n",
    "print('교차검증점수 : {}'.format(scores))\n",
    "print('교차검증평균 : {}'.format(scores.mean()))\n",
    "print('교차검증편차 : {}'.format(scores.std())) # 편차가 크다 - cv에 의존적이거나 데이터수가 적은 경우"
   ]
  },
  {
   "cell_type": "code",
   "execution_count": null,
   "metadata": {},
   "outputs": [],
   "source": []
  },
  {
   "cell_type": "markdown",
   "metadata": {},
   "source": [
    "#### 장단점과 파라메타"
   ]
  },
  {
   "cell_type": "markdown",
   "metadata": {},
   "source": [
    "### 선형 모델\n",
    "#### 선형 회귀 모델\n",
    "\\begin{align*}\n",
    "\\end{align*}"
   ]
  },
  {
   "cell_type": "code",
   "execution_count": 34,
   "metadata": {
    "hide_input": false,
    "scrolled": true
   },
   "outputs": [
    {
     "name": "stdout",
     "output_type": "stream",
     "text": [
      "w[0]: 0.393906  b: -0.031804\n"
     ]
    },
    {
     "data": {
      "image/png": "[encoded data removed]",
      "text/plain": [
       "<Figure size 640x640 with 1 Axes>"
      ]
     },
     "metadata": {
      "needs_background": "light"
     },
     "output_type": "display_data"
    }
   ],
   "source": [
    "mglearn.plots.plot_linear_regression_wave()"
   ]
  },
  {
   "cell_type": "markdown",
   "metadata": {},
   "source": [
    "#### 선형회귀(최소제곱법)\n"
   ]
  },
  {
   "cell_type": "code",
   "execution_count": 35,
   "metadata": {},
   "outputs": [],
   "source": [
    "from sklearn.linear_model import LinearRegression\n",
    "X, y = mglearn.datasets.make_wave(n_samples=60)\n",
    "X_train, X_test, y_train, y_test = train_test_split(X, y, random_state=42)\n",
    "\n",
    "lr = LinearRegression().fit(X_train, y_train)"
   ]
  },
  {
   "cell_type": "code",
   "execution_count": 36,
   "metadata": {},
   "outputs": [
    {
     "name": "stdout",
     "output_type": "stream",
     "text": [
      "lr.coef_: [0.39390555]\n",
      "lr.intercept_: -0.031804343026759746\n"
     ]
    }
   ],
   "source": [
    "print(\"lr.coef_: {}\".format(lr.coef_))\n",
    "print(\"lr.intercept_: {}\".format(lr.intercept_))"
   ]
  },
  {
   "cell_type": "code",
   "execution_count": 37,
   "metadata": {},
   "outputs": [
    {
     "name": "stdout",
     "output_type": "stream",
     "text": [
      "훈련 세트 점수: 0.67\n",
      "테스트 세트 점수: 0.66\n"
     ]
    }
   ],
   "source": [
    "print(\"훈련 세트 점수: {:.2f}\".format(lr.score(X_train, y_train)))\n",
    "print(\"테스트 세트 점수: {:.2f}\".format(lr.score(X_test, y_test)))"
   ]
  },
  {
   "cell_type": "code",
   "execution_count": 38,
   "metadata": {},
   "outputs": [],
   "source": [
    "from sklearn.model_selection import train_test_split\n",
    "from sklearn.linear_model import LinearRegression\n",
    "\n",
    "X, y = mglearn.datasets.load_extended_boston()\n",
    "\n",
    "X_train, X_test, y_train, y_test = train_test_split(X, y, random_state=0)\n",
    "lr = LinearRegression().fit(X_train, y_train)"
   ]
  },
  {
   "cell_type": "code",
   "execution_count": 39,
   "metadata": {},
   "outputs": [
    {
     "name": "stdout",
     "output_type": "stream",
     "text": [
      "훈련 세트 점수: 0.95\n",
      "테스트 세트 점수: 0.61\n"
     ]
    }
   ],
   "source": [
    "print(\"훈련 세트 점수: {:.2f}\".format(lr.score(X_train, y_train)))\n",
    "print(\"테스트 세트 점수: {:.2f}\".format(lr.score(X_test, y_test)))"
   ]
  },
  {
   "cell_type": "markdown",
   "metadata": {},
   "source": [
    "#### 릿지 회귀\n",
    "* 가중치(w)의 제곱합을 가능하면 적게, w의 모든 원소가 0에 가깝도록\n",
    "* 모든 특성이 출력에 주는 영향을 최소한으로 (기울기를 작게 만든다)\n",
    "* 규제 - 과대적합이 되지 않도록 모델을 강제로 제한\n",
    "* L2규제\n",
    "* 평균제곱오차식에 a*(가중치(w)제곱합)을 더 한다. a의 크기에 따라 패널티의 정도가 달라진다"
   ]
  },
  {
   "cell_type": "code",
   "execution_count": 40,
   "metadata": {},
   "outputs": [
    {
     "name": "stdout",
     "output_type": "stream",
     "text": [
      "훈련 세트 점수: 0.95\n",
      "테스트 세트 점수: 0.61\n"
     ]
    },
    {
     "name": "stderr",
     "output_type": "stream",
     "text": [
      "C:\\Users\\user\\Anaconda3\\lib\\site-packages\\sklearn\\linear_model\\ridge.py:125: LinAlgWarning: Ill-conditioned matrix (rcond=1.13318e-18): result may not be accurate.\n",
      "  overwrite_a=True).T\n"
     ]
    }
   ],
   "source": [
    "# 과대적합 - 훈련세트에 과대적합, 테스트세트에는 부적합\n",
    "from sklearn.linear_model import Ridge\n",
    "ridge01 = Ridge(alpha=0).fit(X_train, y_train)\n",
    "print(\"훈련 세트 점수: {:.2f}\".format(ridge01.score(X_train, y_train)))\n",
    "print(\"테스트 세트 점수: {:.2f}\".format(ridge01.score(X_test, y_test)))"
   ]
  },
  {
   "cell_type": "code",
   "execution_count": 41,
   "metadata": {},
   "outputs": [
    {
     "name": "stdout",
     "output_type": "stream",
     "text": [
      "훈련 세트 점수: 0.89\n",
      "테스트 세트 점수: 0.75\n"
     ]
    }
   ],
   "source": [
    "from sklearn.linear_model import Ridge\n",
    "\n",
    "ridge = Ridge().fit(X_train, y_train)\n",
    "print(\"훈련 세트 점수: {:.2f}\".format(ridge.score(X_train, y_train)))\n",
    "print(\"테스트 세트 점수: {:.2f}\".format(ridge.score(X_test, y_test)))"
   ]
  },
  {
   "cell_type": "code",
   "execution_count": 47,
   "metadata": {},
   "outputs": [
    {
     "name": "stdout",
     "output_type": "stream",
     "text": [
      "훈련 세트 점수: 0.89\n",
      "테스트 세트 점수: 0.75\n"
     ]
    }
   ],
   "source": [
    "# ridge01  /alpha = 0.01from sklearn.linear_model import Ridge\n",
    "ridge01 = Ridge(alpha=0.01).fit(X_train, y_train)\n",
    "ridge = Ridge().fit(X_train, y_train)\n",
    "print(\"훈련 세트 점수: {:.2f}\".format(ridge.score(X_train, y_train)))\n",
    "print(\"테스트 세트 점수: {:.2f}\".format(ridge.score(X_test, y_test)))"
   ]
  },
  {
   "cell_type": "code",
   "execution_count": 48,
   "metadata": {},
   "outputs": [
    {
     "name": "stdout",
     "output_type": "stream",
     "text": [
      "훈련 세트 점수: 0.89\n",
      "테스트 세트 점수: 0.75\n"
     ]
    }
   ],
   "source": [
    "# ridge01 alpha =0.1\n",
    "ridge01 = Ridge(alpha=0.1).fit(X_train, y_train)\n",
    "ridge = Ridge().fit(X_train, y_train)\n",
    "print(\"훈련 세트 점수: {:.2f}\".format(ridge.score(X_train, y_train)))\n",
    "print(\"테스트 세트 점수: {:.2f}\".format(ridge.score(X_test, y_test)))"
   ]
  },
  {
   "cell_type": "code",
   "execution_count": 49,
   "metadata": {},
   "outputs": [
    {
     "name": "stdout",
     "output_type": "stream",
     "text": [
      "훈련 세트 점수: 0.89\n",
      "테스트 세트 점수: 0.75\n"
     ]
    }
   ],
   "source": [
    "# ridge01 / alpha=1\n",
    "ridge1 = Ridge(alpha=1).fit(X_train, y_train)\n",
    "ridge = Ridge().fit(X_train, y_train)\n",
    "print(\"훈련 세트 점수: {:.2f}\".format(ridge.score(X_train, y_train)))\n",
    "print(\"테스트 세트 점수: {:.2f}\".format(ridge.score(X_test, y_test)))"
   ]
  },
  {
   "cell_type": "code",
   "execution_count": 50,
   "metadata": {},
   "outputs": [
    {
     "name": "stdout",
     "output_type": "stream",
     "text": [
      "훈련 세트 점수: 0.89\n",
      "테스트 세트 점수: 0.75\n"
     ]
    }
   ],
   "source": [
    "# ridge10 / alpha=10\n",
    "ridge10 = Ridge(alpha=10).fit(X_train, y_train)\n",
    "ridge = Ridge().fit(X_train, y_train)\n",
    "print(\"훈련 세트 점수: {:.2f}\".format(ridge.score(X_train, y_train)))\n",
    "print(\"테스트 세트 점수: {:.2f}\".format(ridge.score(X_test, y_test)))"
   ]
  },
  {
   "cell_type": "code",
   "execution_count": 51,
   "metadata": {},
   "outputs": [
    {
     "data": {
      "text/plain": [
       "<matplotlib.legend.Legend at 0x13990677f60>"
      ]
     },
     "execution_count": 51,
     "metadata": {},
     "output_type": "execute_result"
    },
    {
     "data": {
      "image/png": "[encoded data removed]",
      "text/plain": [
       "<Figure size 480x320 with 1 Axes>"
      ]
     },
     "metadata": {
      "needs_background": "light"
     },
     "output_type": "display_data"
    }
   ],
   "source": [
    "plt.plot(ridge10.coef_, '^', label=\"Ridge alpha=10\")\n",
    "plt.plot(ridge.coef_, 's', label=\"Ridge alpha=1\")\n",
    "plt.plot(ridge01.coef_, 'v', label=\"Ridge alpha=0.1\")\n",
    "\n",
    "plt.plot(lr.coef_, 'o', label=\"LinearRegression\")\n",
    "plt.xlabel(\"계수 목록\")\n",
    "plt.ylabel(\"계수 크기\")\n",
    "xlims = plt.xlim()\n",
    "plt.hlines(0, xlims[0], xlims[1])\n",
    "plt.xlim(xlims)\n",
    "plt.ylim(-25, 25)\n",
    "plt.legend()"
   ]
  },
  {
   "cell_type": "code",
   "execution_count": 52,
   "metadata": {},
   "outputs": [
    {
     "data": {
      "image/png": "[encoded data removed]",
      "text/plain": [
       "<Figure size 480x320 with 1 Axes>"
      ]
     },
     "metadata": {
      "needs_background": "light"
     },
     "output_type": "display_data"
    }
   ],
   "source": [
    "mglearn.plots.plot_ridge_n_samples()"
   ]
  },
  {
   "cell_type": "markdown",
   "metadata": {},
   "source": [
    "#### Lasso\n",
    "* 가중치(w)의 절대값합을 가증하면 적게, w의 모든 원소가 0에 가깝도록\n",
    "* 모든 특성이 출력에 주는 영향을 최소한으로 (기울기를 작게 만든다) \n",
    "* 일부 계수를 실제로 0으로 만든다. 특성선택이 자동으로 이루어진다.\n",
    "* 규제 - 과대적합이 되지 않도록 모델을 강제로 제한\n",
    "* L2규제\n",
    "* 평균제곱오차식에 a*(가중치(w)절대값합)을 더 한다. a의 크기에 따라 패널티의 정도가 달라진다"
   ]
  },
  {
   "cell_type": "code",
   "execution_count": null,
   "metadata": {},
   "outputs": [],
   "source": [
    "from sklearn.linear_model import Lasso # 과소적합, 105 중 4개의 특성만 사용\n",
    "\n",
    "lasso = Lasso().fit(X_train, y_train)\n",
    "print(\"훈련 세트 점수: {:.2f}\".format(lasso.score(X_train, y_train)))\n",
    "print(\"테스트 세트 점수: {:.2f}\".format(lasso.score(X_test, y_test)))\n",
    "print(\"사용한 특성의 개수: {}\".format(np.sum(lasso.coef_ != 0)))"
   ]
  },
  {
   "cell_type": "code",
   "execution_count": null,
   "metadata": {},
   "outputs": [],
   "source": [
    "\n",
    "lasso001 = Lasso(alpha=0.01, max_iter=100000).fit(X_train, y_train)\n",
    "\n",
    "\n",
    "print(\"사용한 특성의 개수: {}\".format(np.sum(lasso001.coef_ != 0)))"
   ]
  },
  {
   "cell_type": "code",
   "execution_count": null,
   "metadata": {},
   "outputs": [],
   "source": [
    "#과대적합, alpha값이 낮아지면 규제가 적어져서 선형회귀와 유사하게 됨.\n",
    "lasso00001 = Lasso(alpha=0.0001, max_iter=100000).fit(X_train, y_train)\n",
    "\n",
    "\n",
    "print(\"사용한 특성의 개수: {}\".format(np.sum(lasso00001.coef_ != 0)))"
   ]
  },
  {
   "cell_type": "code",
   "execution_count": null,
   "metadata": {},
   "outputs": [],
   "source": [
    "#과소적합\n",
    "lasso00001 = Lasso(alpha=1, max_iter=100000).fit(X_train, y_train)\n",
    "\n",
    "\n",
    "print(\"사용한 특성의 개수: {}\".format(np.sum(lasso00001.coef_ != 0)))"
   ]
  },
  {
   "cell_type": "code",
   "execution_count": null,
   "metadata": {},
   "outputs": [],
   "source": [
    "plt.plot(lasso.coef_, 's', label=\"Lasso alpha=1\")\n",
    "plt.plot(lasso001.coef_, '^', label=\"Lasso alpha=0.01\")\n",
    "plt.plot(lasso00001.coef_, 'v', label=\"Lasso alpha=0.0001\")\n",
    "\n",
    "plt.plot(ridge01.coef_, 'o', label=\"Ridge alpha=0.1\")\n",
    "plt.legend(ncol=2, loc=(0, 1.05))\n",
    "plt.ylim(-25, 25)\n",
    "plt.xlabel(\"계수 목록\")\n",
    "plt.ylabel(\"계수 크기\")\n"
   ]
  },
  {
   "cell_type": "markdown",
   "metadata": {},
   "source": [
    "## 분류에 대한 선형 모델\n"
   ]
  },
  {
   "cell_type": "markdown",
   "metadata": {},
   "source": [
    "\\begin{align*}\n",
    "\\end{align*}"
   ]
  },
  {
   "cell_type": "code",
   "execution_count": 53,
   "metadata": {},
   "outputs": [
    {
     "name": "stderr",
     "output_type": "stream",
     "text": [
      "C:\\Users\\user\\Anaconda3\\lib\\site-packages\\sklearn\\utils\\deprecation.py:77: DeprecationWarning: Function make_blobs is deprecated; Please import make_blobs directly from scikit-learn\n",
      "  warnings.warn(msg, category=DeprecationWarning)\n",
      "C:\\Users\\user\\Anaconda3\\lib\\site-packages\\sklearn\\svm\\base.py:931: ConvergenceWarning: Liblinear failed to converge, increase the number of iterations.\n",
      "  \"the number of iterations.\", ConvergenceWarning)\n",
      "C:\\Users\\user\\Anaconda3\\lib\\site-packages\\sklearn\\linear_model\\logistic.py:433: FutureWarning: Default solver will be changed to 'lbfgs' in 0.22. Specify a solver to silence this warning.\n",
      "  FutureWarning)\n"
     ]
    },
    {
     "data": {
      "text/plain": [
       "<matplotlib.legend.Legend at 0x139907c7a20>"
      ]
     },
     "execution_count": 53,
     "metadata": {},
     "output_type": "execute_result"
    },
    {
     "data": {
      "image/png": "[encoded data removed]",
      "text/plain": [
       "<Figure size 800x240 with 2 Axes>"
      ]
     },
     "metadata": {},
     "output_type": "display_data"
    }
   ],
   "source": [
    "import mglearn\n",
    "import matplotlib.pyplot as plt\n",
    "from sklearn.linear_model import LogisticRegression\n",
    "from sklearn.svm import LinearSVC\n",
    "\n",
    "X, y = mglearn.datasets.make_forge()\n",
    "\n",
    "fig, axes = plt.subplots(1, 2, figsize=(10, 3))\n",
    "\n",
    "for model, ax in zip([LinearSVC(), LogisticRegression()], axes):\n",
    "    clf = model.fit(X, y)\n",
    "    mglearn.plots.plot_2d_separator(clf, X, fill=False, eps=0.5,\n",
    "                                    ax=ax, alpha=.7)\n",
    "    mglearn.discrete_scatter(X[:, 0], X[:, 1], y, ax=ax)\n",
    "    ax.set_title(\"{}\".format(clf.__class__.__name__))\n",
    "    ax.set_xlabel(\"특성 0\")\n",
    "    ax.set_ylabel(\"특성 1\")\n",
    "axes[0].legend()"
   ]
  },
  {
   "cell_type": "code",
   "execution_count": 54,
   "metadata": {
    "hide_input": false
   },
   "outputs": [
    {
     "data": {
      "image/png": "[encoded data removed]",
      "text/plain": [
       "<Figure size 960x320 with 3 Axes>"
      ]
     },
     "metadata": {},
     "output_type": "display_data"
    }
   ],
   "source": [
    "# C가 커지면 규제가 감소, 훈련세트에 최대한 맞춤, 개개의 데이터 포인트를 정확히 분류하려고 함\n",
    "# C가 작아지면 규제 강화, 계수(w)가 최대한 0에 가깝도록, 다수의 데이터 포인트에 맞추려 함\n",
    "\n",
    "mglearn.plots.plot_linear_svc_regularization()"
   ]
  },
  {
   "cell_type": "code",
   "execution_count": 55,
   "metadata": {},
   "outputs": [
    {
     "name": "stdout",
     "output_type": "stream",
     "text": [
      "훈련 세트 점수: 0.955\n",
      "테스트 세트 점수: 0.958\n"
     ]
    },
    {
     "name": "stderr",
     "output_type": "stream",
     "text": [
      "C:\\Users\\user\\Anaconda3\\lib\\site-packages\\sklearn\\linear_model\\logistic.py:433: FutureWarning: Default solver will be changed to 'lbfgs' in 0.22. Specify a solver to silence this warning.\n",
      "  FutureWarning)\n"
     ]
    }
   ],
   "source": [
    "from sklearn.datasets import load_breast_cancer\n",
    "from sklearn.model_selection import train_test_split\n",
    "cancer = load_breast_cancer()\n",
    "X_train, X_test, y_train, y_test = train_test_split(\n",
    "    cancer.data, cancer.target, stratify=cancer.target, random_state=42)\n",
    "\n",
    "\n",
    "logreg = LogisticRegression().fit(X_train, y_train)\n",
    "print(\"훈련 세트 점수: {:.3f}\".format(logreg.score(X_train, y_train)))\n",
    "print(\"테스트 세트 점수: {:.3f}\".format(logreg.score(X_test, y_test)))\n"
   ]
  },
  {
   "cell_type": "code",
   "execution_count": 56,
   "metadata": {},
   "outputs": [
    {
     "name": "stdout",
     "output_type": "stream",
     "text": [
      "훈련 세트 점수: 0.955\n",
      "테스트 세트 점수: 0.958\n"
     ]
    },
    {
     "name": "stderr",
     "output_type": "stream",
     "text": [
      "C:\\Users\\user\\Anaconda3\\lib\\site-packages\\sklearn\\linear_model\\logistic.py:433: FutureWarning: Default solver will be changed to 'lbfgs' in 0.22. Specify a solver to silence this warning.\n",
      "  FutureWarning)\n"
     ]
    }
   ],
   "source": [
    "from sklearn.datasets import load_breast_cancer\n",
    "cancer = load_breast_cancer()\n",
    "X_train, X_test, y_train, y_test = train_test_split(\n",
    "    cancer.data, cancer.target, stratify=cancer.target, random_state=42)\n",
    "logreg = LogisticRegression(C=1).fit(X_train, y_train)\n",
    "print(\"훈련 세트 점수: {:.3f}\".format(logreg.score(X_train, y_train)))\n",
    "print(\"테스트 세트 점수: {:.3f}\".format(logreg.score(X_test, y_test)))"
   ]
  },
  {
   "cell_type": "code",
   "execution_count": 60,
   "metadata": {},
   "outputs": [
    {
     "name": "stdout",
     "output_type": "stream",
     "text": [
      "훈련 세트 점수: 0.972\n",
      "테스트 세트 점수: 0.965\n"
     ]
    },
    {
     "name": "stderr",
     "output_type": "stream",
     "text": [
      "C:\\Users\\user\\Anaconda3\\lib\\site-packages\\sklearn\\linear_model\\logistic.py:433: FutureWarning: Default solver will be changed to 'lbfgs' in 0.22. Specify a solver to silence this warning.\n",
      "  FutureWarning)\n"
     ]
    }
   ],
   "source": [
    "# 규제를 풀었다. - 정확도가 모두 올라갔다. 모델이 복잡할수록 성능이 좋아짐\n",
    "\n",
    "logreg100 = LogisticRegression(C=100).fit(X_train, y_train)\n",
    "print(\"훈련 세트 점수: {:.3f}\".format(logreg100.score(X_train, y_train)))\n",
    "print(\"테스트 세트 점수: {:.3f}\".format(logreg100.score(X_test, y_test)))"
   ]
  },
  {
   "cell_type": "code",
   "execution_count": 61,
   "metadata": {},
   "outputs": [
    {
     "name": "stdout",
     "output_type": "stream",
     "text": [
      "훈련 세트 점수: 0.934\n",
      "테스트 세트 점수: 0.930\n"
     ]
    },
    {
     "name": "stderr",
     "output_type": "stream",
     "text": [
      "C:\\Users\\user\\Anaconda3\\lib\\site-packages\\sklearn\\linear_model\\logistic.py:433: FutureWarning: Default solver will be changed to 'lbfgs' in 0.22. Specify a solver to silence this warning.\n",
      "  FutureWarning)\n"
     ]
    }
   ],
   "source": [
    "# 규제를 보다 강화 - 과소적합\n",
    "\n",
    "logreg001 = LogisticRegression(C=0.01).fit(X_train, y_train)\n",
    "print(\"훈련 세트 점수: {:.3f}\".format(logreg001.score(X_train, y_train)))\n",
    "print(\"테스트 세트 점수: {:.3f}\".format(logreg001.score(X_test, y_test)))"
   ]
  },
  {
   "cell_type": "code",
   "execution_count": 62,
   "metadata": {},
   "outputs": [
    {
     "data": {
      "text/plain": [
       "<matplotlib.legend.Legend at 0x139912bf7b8>"
      ]
     },
     "execution_count": 62,
     "metadata": {},
     "output_type": "execute_result"
    },
    {
     "data": {
      "image/png": "[encoded data removed]",
      "text/plain": [
       "<Figure size 480x320 with 1 Axes>"
      ]
     },
     "metadata": {
      "needs_background": "light"
     },
     "output_type": "display_data"
    }
   ],
   "source": [
    "plt.plot(logreg100.coef_.T, '^', label=\"C=100\")\n",
    "plt.plot(logreg.coef_.T, 'o', label=\"C=1\")\n",
    "plt.plot(logreg001.coef_.T, 'v', label=\"C=0.001\")\n",
    "plt.xticks(range(cancer.data.shape[1]), cancer.feature_names, rotation=90)\n",
    "xlims = plt.xlim()\n",
    "plt.hlines(0, xlims[0], xlims[1])\n",
    "plt.xlim(xlims)\n",
    "plt.ylim(-5, 5)\n",
    "plt.xlabel(\"특성\")\n",
    "plt.ylabel(\"계수 크기\")\n",
    "plt.legend()\n"
   ]
  },
  {
   "cell_type": "code",
   "execution_count": null,
   "metadata": {},
   "outputs": [],
   "source": [
    "for C, marker in zip([0.001, 1, 100], ['o', '^', 'v']):\n",
    "    lr_l1 = LogisticRegression(C=C, penalty=\"l1\").fit(X_train, y_train)\n",
    "    print(\"C={:.3f} 인 l1 로지스틱 회귀의 훈련 정확도: {:.2f}\".format(\n",
    "          C, lr_l1.score(X_train, y_train)))\n",
    "    print(\"C={:.3f} 인 l1 로지스틱 회귀의 테스트 정확도: {:.2f}\".format(\n",
    "          C, lr_l1.score(X_test, y_test)))\n",
    "    plt.plot(lr_l1.coef_.T, marker, label=\"C={:.3f}\".format(C))\n",
    "\n",
    "plt.xticks(range(cancer.data.shape[1]), cancer.feature_names, rotation=90)\n",
    "xlims = plt.xlim()\n",
    "plt.hlines(0, xlims[0], xlims[1])\n",
    "plt.xlim(xlims)\n",
    "plt.xlabel(\"features\")\n",
    "plt.ylabel(\"features size\")\n",
    "\n",
    "plt.ylim(-5, 5)\n",
    "plt.legend(loc=3)\n",
    "\n",
    "# penalty - 규제의 종류\n",
    "# Penalty - l1 : 일부특성만 사용하는 L1규제\n",
    "# Penalty - l2 : 전체 특성을 사용하는 L2규제"
   ]
  },
  {
   "cell_type": "markdown",
   "metadata": {},
   "source": [
    "### 결정 트리\n",
    "\n",
    "* 사전 가지치기 - 1.깊이제어  2.리프의 최대 개수  3.노트가 분할하기 위한 최소 샘플 개수\n",
    "* 사후 가지치기 - 삭제 또는 병합 (sklearn에서는 지원하지 않음)\n",
    "* 특성 중요도(feature_importance_) - 중요도 합은 1, 중요도는 양수 - 어떤 클래스를 지원하는지는 나타나지 않음 "
   ]
  },
  {
   "cell_type": "markdown",
   "metadata": {},
   "source": [
    "#### 결정 트리 만들기"
   ]
  },
  {
   "cell_type": "markdown",
   "metadata": {},
   "source": [
    "#### 결정 트리의 복잡도 제어하기"
   ]
  },
  {
   "cell_type": "code",
   "execution_count": 69,
   "metadata": {
    "uuid": "6e5d7a76-9bba-42f7-b26e-907775d289b2"
   },
   "outputs": [
    {
     "name": "stdout",
     "output_type": "stream",
     "text": [
      "train data:0.9953051643192489\n",
      "test data:0.9440559440559441\n"
     ]
    }
   ],
   "source": [
    "from sklearn.tree import DecisionTreeClassifier\n",
    "\n",
    "cancer = load_breast_cancer()\n",
    "X_train, X_test, y_train, y_test = train_test_split(\n",
    "    cancer.data, cancer.target, stratify=cancer.target, random_state=42)\n",
    "\n",
    "\n",
    "# tree model\n",
    "dtree = DecisionTreeClassifier(max_depth=5)\n",
    "dtree.fit(X_train,y_train)\n",
    "print(\"train data:{}\".format(dtree.score(X_train,y_train)))\n",
    "print(\"test data:{}\".format(dtree.score(X_test,y_test)))\n",
    "\n"
   ]
  },
  {
   "cell_type": "code",
   "execution_count": null,
   "metadata": {},
   "outputs": [],
   "source": [
    "# tree model maxdepth = 4"
   ]
  },
  {
   "cell_type": "markdown",
   "metadata": {},
   "source": [
    "#### 트리의 특성 중요도"
   ]
  },
  {
   "cell_type": "code",
   "execution_count": 70,
   "metadata": {
    "uuid": "dc2f68ee-0df0-47ed-b500-7ec99d5a0a5d"
   },
   "outputs": [
    {
     "name": "stdout",
     "output_type": "stream",
     "text": [
      "특성 중요도:\n",
      "[0.         0.         0.         0.         0.         0.\n",
      " 0.         0.01331061 0.         0.         0.         0.\n",
      " 0.         0.01630271 0.0019195  0.         0.         0.\n",
      " 0.         0.01453337 0.00961767 0.05865657 0.71503833 0.\n",
      " 0.00817502 0.         0.         0.16244622 0.         0.        ]\n"
     ]
    }
   ],
   "source": [
    "print(\"특성 중요도:\\n{}\".format(dtree.feature_importances_))"
   ]
  },
  {
   "cell_type": "code",
   "execution_count": 72,
   "metadata": {},
   "outputs": [
    {
     "data": {
      "image/png": "[encoded data removed]",
      "text/plain": [
       "<Figure size 480x320 with 1 Axes>"
      ]
     },
     "metadata": {
      "needs_background": "light"
     },
     "output_type": "display_data"
    }
   ],
   "source": [
    "def plot_feature_importances_cancer(model):\n",
    "    n_features = cancer.data.shape[1]\n",
    "    plt.barh(range(n_features), model.feature_importances_, align='center')\n",
    "    plt.yticks(np.arange(n_features), cancer.feature_names)\n",
    "    plt.xlabel(\"특성 중요도\")\n",
    "    plt.ylabel(\"특성\")\n",
    "    plt.ylim(-1, n_features)\n",
    "\n",
    "plot_feature_importances_cancer(dtree)"
   ]
  },
  {
   "cell_type": "markdown",
   "metadata": {},
   "source": [
    "### 결정 트리의 앙상블\n",
    "#### 랜덤 포레스트\n",
    "* 단일 트리는 과적합하기 쉽다\n",
    "* 잘 작동하되 서로 다른 방향으로 과적합된 트리를 많이 만들면 그 결과를 평균냄으로 성능을 유지하면서 과적합을 줄이는 것으로 수학적 증명\n",
    "* 많은 트리를 만들고 서로 다른 트리와 구별되어야, 트리가 달라지도록 트리를 만들 때 무작되성 부여\n",
    "* 트리를 랜덤하게 만드는 방법 - 데이터셋을 무작위로, 트리의 분할 특성을 무작위로\n",
    "##### 랜덤 포레스트 구축\n",
    "##### 랜덤 포레스트 분석"
   ]
  },
  {
   "cell_type": "code",
   "execution_count": 75,
   "metadata": {
    "uuid": "b84dcdfe-994f-4a3d-842e-830153eefc59"
   },
   "outputs": [
    {
     "name": "stdout",
     "output_type": "stream",
     "text": [
      "train:1.0\n",
      "test:0.958041958041958\n"
     ]
    }
   ],
   "source": [
    "from sklearn.ensemble import RandomForestClassifier\n",
    "from sklearn.datasets import make_moons\n",
    "from sklearn.model_selection import train_test_split\n",
    "import matplotlib.pyplot as plt\n",
    "import pandas as pd\n",
    "import numpy as np\n",
    "%matplotlib inline\n",
    "\n",
    "\n",
    "cancer = load_breast_cancer()\n",
    "X_train, X_test, y_train, y_test = train_test_split(\n",
    "    cancer.data, cancer.target, stratify=cancer.target, random_state=42)\n",
    "\n",
    "\n",
    "forest = RandomForestClassifier(n_estimators=5, random_state=2)\n",
    "forest.fit(X_train, y_train)\n",
    "print(\"train:{}\".format(forest.score(X_train,y_train)))\n",
    "print(\"test:{}\".format(forest.score(X_test,y_test)))"
   ]
  },
  {
   "cell_type": "code",
   "execution_count": 74,
   "metadata": {},
   "outputs": [
    {
     "data": {
      "text/plain": [
       "<matplotlib.collections.PathCollection at 0x13992be8dd8>"
      ]
     },
     "execution_count": 74,
     "metadata": {},
     "output_type": "execute_result"
    },
    {
     "data": {
      "image/png": "[encoded data removed]",
      "text/plain": [
       "<Figure size 432x288 with 1 Axes>"
      ]
     },
     "metadata": {
      "needs_background": "light"
     },
     "output_type": "display_data"
    }
   ],
   "source": [
    "plt.scatter(X[:,0], X[:,1])"
   ]
  },
  {
   "cell_type": "code",
   "execution_count": 78,
   "metadata": {
    "uuid": "76ce4154-b441-475e-97e3-1b507964eb29"
   },
   "outputs": [
    {
     "ename": "ValueError",
     "evalue": "Number of features of the model must match the input. Model n_features is 30 and input n_features is 2 ",
     "output_type": "error",
     "traceback": [
      "\u001b[1;31m---------------------------------------------------------------------------\u001b[0m",
      "\u001b[1;31mValueError\u001b[0m                                Traceback (most recent call last)",
      "\u001b[1;32m<ipython-input-78-490ad39b055d>\u001b[0m in \u001b[0;36m<module>\u001b[1;34m\u001b[0m\n\u001b[0;32m      3\u001b[0m \u001b[1;32mfor\u001b[0m \u001b[0mi\u001b[0m\u001b[1;33m,\u001b[0m \u001b[1;33m(\u001b[0m\u001b[0max\u001b[0m\u001b[1;33m,\u001b[0m \u001b[0mtree\u001b[0m\u001b[1;33m)\u001b[0m \u001b[1;32min\u001b[0m \u001b[0menumerate\u001b[0m\u001b[1;33m(\u001b[0m\u001b[0mzip\u001b[0m\u001b[1;33m(\u001b[0m\u001b[0maxes\u001b[0m\u001b[1;33m.\u001b[0m\u001b[0mravel\u001b[0m\u001b[1;33m(\u001b[0m\u001b[1;33m)\u001b[0m\u001b[1;33m,\u001b[0m \u001b[0mforest\u001b[0m\u001b[1;33m.\u001b[0m\u001b[0mestimators_\u001b[0m\u001b[1;33m)\u001b[0m\u001b[1;33m)\u001b[0m\u001b[1;33m:\u001b[0m\u001b[1;33m\u001b[0m\u001b[1;33m\u001b[0m\u001b[0m\n\u001b[0;32m      4\u001b[0m     \u001b[0max\u001b[0m\u001b[1;33m.\u001b[0m\u001b[0mset_title\u001b[0m\u001b[1;33m(\u001b[0m\u001b[1;34m\"tree {}\"\u001b[0m\u001b[1;33m.\u001b[0m\u001b[0mformat\u001b[0m\u001b[1;33m(\u001b[0m\u001b[0mi\u001b[0m\u001b[1;33m)\u001b[0m\u001b[1;33m)\u001b[0m\u001b[1;33m\u001b[0m\u001b[1;33m\u001b[0m\u001b[0m\n\u001b[1;32m----> 5\u001b[1;33m     \u001b[0mmglearn\u001b[0m\u001b[1;33m.\u001b[0m\u001b[0mplots\u001b[0m\u001b[1;33m.\u001b[0m\u001b[0mplot_tree_partition\u001b[0m\u001b[1;33m(\u001b[0m\u001b[0mX\u001b[0m\u001b[1;33m,\u001b[0m \u001b[0my\u001b[0m\u001b[1;33m,\u001b[0m \u001b[0mtree\u001b[0m\u001b[1;33m,\u001b[0m \u001b[0max\u001b[0m\u001b[1;33m=\u001b[0m\u001b[0max\u001b[0m\u001b[1;33m)\u001b[0m\u001b[1;33m\u001b[0m\u001b[1;33m\u001b[0m\u001b[0m\n\u001b[0m\u001b[0;32m      6\u001b[0m \u001b[1;33m\u001b[0m\u001b[0m\n\u001b[0;32m      7\u001b[0m \u001b[0mmglearn\u001b[0m\u001b[1;33m.\u001b[0m\u001b[0mplots\u001b[0m\u001b[1;33m.\u001b[0m\u001b[0mplot_2d_separator\u001b[0m\u001b[1;33m(\u001b[0m\u001b[0mforest\u001b[0m\u001b[1;33m,\u001b[0m \u001b[0mX\u001b[0m\u001b[1;33m,\u001b[0m \u001b[0mfill\u001b[0m\u001b[1;33m=\u001b[0m\u001b[1;32mTrue\u001b[0m\u001b[1;33m,\u001b[0m \u001b[0max\u001b[0m\u001b[1;33m=\u001b[0m\u001b[0maxes\u001b[0m\u001b[1;33m[\u001b[0m\u001b[1;33m-\u001b[0m\u001b[1;36m1\u001b[0m\u001b[1;33m,\u001b[0m \u001b[1;33m-\u001b[0m\u001b[1;36m1\u001b[0m\u001b[1;33m]\u001b[0m\u001b[1;33m,\u001b[0m \u001b[0malpha\u001b[0m\u001b[1;33m=\u001b[0m\u001b[1;36m.4\u001b[0m\u001b[1;33m)\u001b[0m\u001b[1;33m\u001b[0m\u001b[1;33m\u001b[0m\u001b[0m\n",
      "\u001b[1;32m~\\Anaconda3\\lib\\site-packages\\mglearn\\plot_interactive_tree.py\u001b[0m in \u001b[0;36mplot_tree_partition\u001b[1;34m(X, y, tree, ax)\u001b[0m\n\u001b[0;32m     73\u001b[0m     \u001b[0mX_grid\u001b[0m \u001b[1;33m=\u001b[0m \u001b[0mnp\u001b[0m\u001b[1;33m.\u001b[0m\u001b[0mc_\u001b[0m\u001b[1;33m[\u001b[0m\u001b[0mX1\u001b[0m\u001b[1;33m.\u001b[0m\u001b[0mravel\u001b[0m\u001b[1;33m(\u001b[0m\u001b[1;33m)\u001b[0m\u001b[1;33m,\u001b[0m \u001b[0mX2\u001b[0m\u001b[1;33m.\u001b[0m\u001b[0mravel\u001b[0m\u001b[1;33m(\u001b[0m\u001b[1;33m)\u001b[0m\u001b[1;33m]\u001b[0m\u001b[1;33m\u001b[0m\u001b[1;33m\u001b[0m\u001b[0m\n\u001b[0;32m     74\u001b[0m \u001b[1;33m\u001b[0m\u001b[0m\n\u001b[1;32m---> 75\u001b[1;33m     \u001b[0mZ\u001b[0m \u001b[1;33m=\u001b[0m \u001b[0mtree\u001b[0m\u001b[1;33m.\u001b[0m\u001b[0mpredict\u001b[0m\u001b[1;33m(\u001b[0m\u001b[0mX_grid\u001b[0m\u001b[1;33m)\u001b[0m\u001b[1;33m\u001b[0m\u001b[1;33m\u001b[0m\u001b[0m\n\u001b[0m\u001b[0;32m     76\u001b[0m     \u001b[0mZ\u001b[0m \u001b[1;33m=\u001b[0m \u001b[0mZ\u001b[0m\u001b[1;33m.\u001b[0m\u001b[0mreshape\u001b[0m\u001b[1;33m(\u001b[0m\u001b[0mX1\u001b[0m\u001b[1;33m.\u001b[0m\u001b[0mshape\u001b[0m\u001b[1;33m)\u001b[0m\u001b[1;33m\u001b[0m\u001b[1;33m\u001b[0m\u001b[0m\n\u001b[0;32m     77\u001b[0m     \u001b[0mfaces\u001b[0m \u001b[1;33m=\u001b[0m \u001b[0mtree\u001b[0m\u001b[1;33m.\u001b[0m\u001b[0mapply\u001b[0m\u001b[1;33m(\u001b[0m\u001b[0mX_grid\u001b[0m\u001b[1;33m)\u001b[0m\u001b[1;33m\u001b[0m\u001b[1;33m\u001b[0m\u001b[0m\n",
      "\u001b[1;32m~\\Anaconda3\\lib\\site-packages\\sklearn\\tree\\tree.py\u001b[0m in \u001b[0;36mpredict\u001b[1;34m(self, X, check_input)\u001b[0m\n\u001b[0;32m    414\u001b[0m         \"\"\"\n\u001b[0;32m    415\u001b[0m         \u001b[0mcheck_is_fitted\u001b[0m\u001b[1;33m(\u001b[0m\u001b[0mself\u001b[0m\u001b[1;33m,\u001b[0m \u001b[1;34m'tree_'\u001b[0m\u001b[1;33m)\u001b[0m\u001b[1;33m\u001b[0m\u001b[1;33m\u001b[0m\u001b[0m\n\u001b[1;32m--> 416\u001b[1;33m         \u001b[0mX\u001b[0m \u001b[1;33m=\u001b[0m \u001b[0mself\u001b[0m\u001b[1;33m.\u001b[0m\u001b[0m_validate_X_predict\u001b[0m\u001b[1;33m(\u001b[0m\u001b[0mX\u001b[0m\u001b[1;33m,\u001b[0m \u001b[0mcheck_input\u001b[0m\u001b[1;33m)\u001b[0m\u001b[1;33m\u001b[0m\u001b[1;33m\u001b[0m\u001b[0m\n\u001b[0m\u001b[0;32m    417\u001b[0m         \u001b[0mproba\u001b[0m \u001b[1;33m=\u001b[0m \u001b[0mself\u001b[0m\u001b[1;33m.\u001b[0m\u001b[0mtree_\u001b[0m\u001b[1;33m.\u001b[0m\u001b[0mpredict\u001b[0m\u001b[1;33m(\u001b[0m\u001b[0mX\u001b[0m\u001b[1;33m)\u001b[0m\u001b[1;33m\u001b[0m\u001b[1;33m\u001b[0m\u001b[0m\n\u001b[0;32m    418\u001b[0m         \u001b[0mn_samples\u001b[0m \u001b[1;33m=\u001b[0m \u001b[0mX\u001b[0m\u001b[1;33m.\u001b[0m\u001b[0mshape\u001b[0m\u001b[1;33m[\u001b[0m\u001b[1;36m0\u001b[0m\u001b[1;33m]\u001b[0m\u001b[1;33m\u001b[0m\u001b[1;33m\u001b[0m\u001b[0m\n",
      "\u001b[1;32m~\\Anaconda3\\lib\\site-packages\\sklearn\\tree\\tree.py\u001b[0m in \u001b[0;36m_validate_X_predict\u001b[1;34m(self, X, check_input)\u001b[0m\n\u001b[0;32m    386\u001b[0m                              \u001b[1;34m\"match the input. Model n_features is %s and \"\u001b[0m\u001b[1;33m\u001b[0m\u001b[1;33m\u001b[0m\u001b[0m\n\u001b[0;32m    387\u001b[0m                              \u001b[1;34m\"input n_features is %s \"\u001b[0m\u001b[1;33m\u001b[0m\u001b[1;33m\u001b[0m\u001b[0m\n\u001b[1;32m--> 388\u001b[1;33m                              % (self.n_features_, n_features))\n\u001b[0m\u001b[0;32m    389\u001b[0m \u001b[1;33m\u001b[0m\u001b[0m\n\u001b[0;32m    390\u001b[0m         \u001b[1;32mreturn\u001b[0m \u001b[0mX\u001b[0m\u001b[1;33m\u001b[0m\u001b[1;33m\u001b[0m\u001b[0m\n",
      "\u001b[1;31mValueError\u001b[0m: Number of features of the model must match the input. Model n_features is 30 and input n_features is 2 "
     ]
    },
    {
     "data": {
      "image/png": "[encoded data removed]",
      "text/plain": [
       "<Figure size 1440x720 with 6 Axes>"
      ]
     },
     "metadata": {
      "needs_background": "light"
     },
     "output_type": "display_data"
    }
   ],
   "source": [
    "import mglearn\n",
    "fig, axes = plt.subplots(2, 3, figsize=(20, 10))\n",
    "for i, (ax, tree) in enumerate(zip(axes.ravel(), forest.estimators_)):\n",
    "    ax.set_title(\"tree {}\".format(i))\n",
    "    mglearn.plots.plot_tree_partition(X, y, tree, ax=ax)\n",
    "    \n",
    "mglearn.plots.plot_2d_separator(forest, X, fill=True, ax=axes[-1, -1], alpha=.4)\n",
    "axes[-1, -1].set_title(\"randomforest\")\n",
    "mglearn.discrete_scatter(X[:, 0], X[:, 1], y)"
   ]
  },
  {
   "cell_type": "code",
   "execution_count": 79,
   "metadata": {},
   "outputs": [
    {
     "name": "stdout",
     "output_type": "stream",
     "text": [
      "훈련 세트 정확도: 1.000\n",
      "테스트 세트 정확도: 0.972\n"
     ]
    }
   ],
   "source": [
    "\n",
    "from sklearn.datasets import load_breast_cancer\n",
    "cancer = load_breast_cancer()\n",
    "\n",
    "X_train, X_test, y_train, y_test = train_test_split(\n",
    "    cancer.data, cancer.target, random_state=0)\n",
    "forest = RandomForestClassifier(n_estimators=100, random_state=0)\n",
    "forest.fit(X_train, y_train)\n",
    "\n",
    "print(\"훈련 세트 정확도: {:.3f}\".format(forest.score(X_train, y_train)))\n",
    "print(\"테스트 세트 정확도: {:.3f}\".format(forest.score(X_test, y_test)))"
   ]
  },
  {
   "cell_type": "code",
   "execution_count": 80,
   "metadata": {},
   "outputs": [],
   "source": [
    "def plot_feature_importances_cancer(model):\n",
    "    n_features = cancer.data.shape[1]\n",
    "    plt.barh(range(n_features), model.feature_importances_, align='center')\n",
    "    plt.yticks(np.arange(n_features), cancer.feature_names)\n",
    "    plt.xlabel(\"feature importances\")\n",
    "    plt.ylabel(\"features\")\n",
    "    plt.ylim(-1, n_features)"
   ]
  },
  {
   "cell_type": "code",
   "execution_count": 81,
   "metadata": {},
   "outputs": [
    {
     "data": {
      "image/png": "[encoded data removed]",
      "text/plain": [
       "<Figure size 432x288 with 1 Axes>"
      ]
     },
     "metadata": {
      "needs_background": "light"
     },
     "output_type": "display_data"
    }
   ],
   "source": [
    "plot_feature_importances_cancer(forest)"
   ]
  },
  {
   "cell_type": "markdown",
   "metadata": {},
   "source": [
    "\n",
    "### SVM 이해하기\n",
    "\\begin{align*}\n",
    "\\end{align*}"
   ]
  },
  {
   "cell_type": "code",
   "execution_count": 52,
   "metadata": {},
   "outputs": [
    {
     "data": {
      "text/plain": [
       "Text(0, 0.5, 'feature 1')"
      ]
     },
     "execution_count": 52,
     "metadata": {},
     "output_type": "execute_result"
    },
    {
     "data": {
      "image/png": "[encoded data removed]",
      "text/plain": [
       "<Figure size 432x288 with 1 Axes>"
      ]
     },
     "metadata": {},
     "output_type": "display_data"
    }
   ],
   "source": [
    "from sklearn.svm import SVC\n",
    "\n",
    "X, y = mglearn.tools.make_handcrafted_dataset()  \n",
    "\n",
    "svm = SVC(kernel='rbf', C=10, gamma=0.1).fit(X, y)                                                \n",
    "mglearn.plots.plot_2d_separator(svm, X, eps=.5)\n",
    "# 데이터 포인트 그리기\n",
    "mglearn.discrete_scatter(X[:, 0], X[:, 1], y)\n",
    "# 서포트 벡터\n",
    "sv = svm.support_vectors_\n",
    "# dual_coef_ 의 부호에 의해 서포트 벡터의 클래스 레이블이 결정됩니다\n",
    "sv_labels = svm.dual_coef_.ravel() > 0\n",
    "mglearn.discrete_scatter(sv[:, 0], sv[:, 1], sv_labels, s=15, markeredgewidth=3)\n",
    "plt.xlabel(\"feature 0\")\n",
    "plt.ylabel(\"feature 1\")"
   ]
  },
  {
   "cell_type": "markdown",
   "metadata": {},
   "source": [
    "#### SVM 파라미터 튜닝"
   ]
  },
  {
   "cell_type": "code",
   "execution_count": 53,
   "metadata": {
    "hide_input": false
   },
   "outputs": [
    {
     "data": {
      "text/plain": [
       "<matplotlib.legend.Legend at 0x27ac23946a0>"
      ]
     },
     "execution_count": 53,
     "metadata": {},
     "output_type": "execute_result"
    },
    {
     "data": {
      "image/png": "[encoded data removed]",
      "text/plain": [
       "<Figure size 1080x720 with 9 Axes>"
      ]
     },
     "metadata": {},
     "output_type": "display_data"
    }
   ],
   "source": [
    "fig, axes = plt.subplots(3, 3, figsize=(15, 10))\n",
    "\n",
    "for ax, C in zip(axes, [-1, 0, 3]):\n",
    "    for a, gamma in zip(ax, range(-1, 2)):\n",
    "        mglearn.plots.plot_svm(log_C=C, log_gamma=gamma, ax=a)\n",
    "        \n",
    "axes[0, 0].legend([\"class 0\", \"class 1\", \"class 0 support vector\", \"class 1 support vector\"],\n",
    "                  ncol=4, loc=(.9, 1.2))\n",
    "\n",
    "# gamma \n",
    "# 하나의 훈련 샘플이 미치는 영향의 범위\n",
    "# 커질수록 모델의 복잡도를 높인다.\n",
    "# C\n",
    "# 규제 매개변수, 각 포인트의 중요도\n",
    "# 커질수록 규제가 약화되어 모델의 복잡도 높아짐"
   ]
  },
  {
   "cell_type": "code",
   "execution_count": 54,
   "metadata": {
    "scrolled": true,
    "uuid": "19dca39b-9061-4fc6-9aab-f759854ec208"
   },
   "outputs": [
    {
     "name": "stdout",
     "output_type": "stream",
     "text": [
      "훈련 세트 정확도: 0.63\n",
      "테스트 세트 정확도: 0.62\n"
     ]
    }
   ],
   "source": [
    "X_train, X_test, y_train, y_test = train_test_split(\n",
    "    cancer.data, cancer.target, random_state=77)\n",
    "\n",
    "svc = SVC(C=0.1, gamma=100)\n",
    "svc.fit(X_train, y_train)\n",
    "\n",
    "print(\"훈련 세트 정확도: {:.2f}\".format(svc.score(X_train, y_train)))\n",
    "print(\"테스트 세트 정확도: {:.2f}\".format(svc.score(X_test, y_test)))"
   ]
  },
  {
   "cell_type": "code",
   "execution_count": 55,
   "metadata": {},
   "outputs": [
    {
     "data": {
      "text/plain": [
       "(426, 30)"
      ]
     },
     "execution_count": 55,
     "metadata": {},
     "output_type": "execute_result"
    }
   ],
   "source": [
    "X_train.shape"
   ]
  },
  {
   "cell_type": "code",
   "execution_count": 56,
   "metadata": {
    "scrolled": true,
    "uuid": "19dca39b-9061-4fc6-9aab-f759854ec208"
   },
   "outputs": [
    {
     "name": "stdout",
     "output_type": "stream",
     "text": [
      "c:0.1 gamma:0.1 0.6223776223776224\n",
      "c:0.1 gamma:1 0.6223776223776224\n",
      "c:0.1 gamma:10 0.6223776223776224\n",
      "c:0.1 gamma:100 0.6223776223776224\n",
      "c:0.1 gamma:1000 0.6223776223776224\n",
      "c:0.1 gamma:10000 0.6223776223776224\n",
      "c:0.5 gamma:0.1 0.6223776223776224\n",
      "c:0.5 gamma:1 0.6223776223776224\n",
      "c:0.5 gamma:10 0.6223776223776224\n",
      "c:0.5 gamma:100 0.6223776223776224\n",
      "c:0.5 gamma:1000 0.6223776223776224\n",
      "c:0.5 gamma:10000 0.6223776223776224\n",
      "c:1 gamma:0.1 0.6223776223776224\n",
      "c:1 gamma:1 0.6223776223776224\n",
      "c:1 gamma:10 0.6223776223776224\n",
      "c:1 gamma:100 0.6223776223776224\n",
      "c:1 gamma:1000 0.6223776223776224\n",
      "c:1 gamma:10000 0.6223776223776224\n",
      "c:2 gamma:0.1 0.6223776223776224\n",
      "c:2 gamma:1 0.6223776223776224\n",
      "c:2 gamma:10 0.6223776223776224\n",
      "c:2 gamma:100 0.6223776223776224\n",
      "c:2 gamma:1000 0.6223776223776224\n",
      "c:2 gamma:10000 0.6223776223776224\n",
      "c:4 gamma:0.1 0.6223776223776224\n",
      "c:4 gamma:1 0.6223776223776224\n",
      "c:4 gamma:10 0.6223776223776224\n",
      "c:4 gamma:100 0.6223776223776224\n",
      "c:4 gamma:1000 0.6223776223776224\n",
      "c:4 gamma:10000 0.6223776223776224\n",
      "c:8 gamma:0.1 0.6223776223776224\n",
      "c:8 gamma:1 0.6223776223776224\n",
      "c:8 gamma:10 0.6223776223776224\n",
      "c:8 gamma:100 0.6223776223776224\n",
      "c:8 gamma:1000 0.6223776223776224\n",
      "c:8 gamma:10000 0.6223776223776224\n",
      "c:20 gamma:0.1 0.6223776223776224\n",
      "c:20 gamma:1 0.6223776223776224\n",
      "c:20 gamma:10 0.6223776223776224\n",
      "c:20 gamma:100 0.6223776223776224\n",
      "c:20 gamma:1000 0.6223776223776224\n",
      "c:20 gamma:10000 0.6223776223776224\n",
      "c:100 gamma:0.1 0.6223776223776224\n",
      "c:100 gamma:1 0.6223776223776224\n",
      "c:100 gamma:10 0.6223776223776224\n",
      "c:100 gamma:100 0.6223776223776224\n",
      "c:100 gamma:1000 0.6223776223776224\n",
      "c:100 gamma:10000 0.6223776223776224\n",
      "0.6223776223776224\n",
      "(0.1, 0.1)\n"
     ]
    }
   ],
   "source": [
    "# use for, select best score and best parameters set\n",
    "best_score=0\n",
    "gamma  = [0.1, 1, 10, 100, 1000, 10000]\n",
    "C  = [0.1, 0.5, 1, 2, 4, 8, 20, 100]\n",
    "for c in C:\n",
    "    for gam in gamma:\n",
    "        svc = SVC(C=c,gamma=gam).fit(X_train,y_train)\n",
    "        print('c:{}'.format(c),'gamma:{}'.format(gam),svc.score(X_test,y_test))\n",
    "        score=svc.score(X_test,y_test)\n",
    "        if best_score < score:\n",
    "            best_score=score\n",
    "            best_params=(c,gam)\n",
    "        #score.append(svc.score(X_test,y_test))\n",
    "        #score_params.append([c,gamma])\n",
    "print(best_score)\n",
    "print(best_params)"
   ]
  },
  {
   "cell_type": "code",
   "execution_count": 120,
   "metadata": {},
   "outputs": [
    {
     "name": "stderr",
     "output_type": "stream",
     "text": [
      "C:\\Users\\user\\Anaconda3\\lib\\site-packages\\sklearn\\model_selection\\_split.py:2053: FutureWarning: You should specify a value for 'cv' instead of relying on the default value. The default value will change from 3 to 5 in version 0.22.\n",
      "  warnings.warn(CV_WARNING, FutureWarning)\n",
      "[Parallel(n_jobs=1)]: Using backend SequentialBackend with 1 concurrent workers.\n",
      "[Parallel(n_jobs=1)]: Done   1 out of   1 | elapsed:    0.0s remaining:    0.0s\n",
      "[Parallel(n_jobs=1)]: Done   2 out of   2 | elapsed:    0.0s remaining:    0.0s\n"
     ]
    },
    {
     "name": "stdout",
     "output_type": "stream",
     "text": [
      "Fitting 3 folds for each of 48 candidates, totalling 144 fits\n",
      "[CV] C=0.1, gamma=0.1, kernel=rbf ....................................\n",
      "[CV]  C=0.1, gamma=0.1, kernel=rbf, score=0.6293706293706294, total=   0.0s\n",
      "[CV] C=0.1, gamma=0.1, kernel=rbf ....................................\n",
      "[CV]  C=0.1, gamma=0.1, kernel=rbf, score=0.6267605633802817, total=   0.0s\n",
      "[CV] C=0.1, gamma=0.1, kernel=rbf ....................................\n",
      "[CV]  C=0.1, gamma=0.1, kernel=rbf, score=0.6312056737588653, total=   0.0s\n",
      "[CV] C=0.1, gamma=1, kernel=rbf ......................................\n",
      "[CV]  C=0.1, gamma=1, kernel=rbf, score=0.6293706293706294, total=   0.0s\n",
      "[CV] C=0.1, gamma=1, kernel=rbf ......................................\n",
      "[CV]  C=0.1, gamma=1, kernel=rbf, score=0.6267605633802817, total=   0.0s\n",
      "[CV] C=0.1, gamma=1, kernel=rbf ......................................\n",
      "[CV]  C=0.1, gamma=1, kernel=rbf, score=0.6312056737588653, total=   0.0s\n",
      "[CV] C=0.1, gamma=10, kernel=rbf .....................................\n",
      "[CV]  C=0.1, gamma=10, kernel=rbf, score=0.6293706293706294, total=   0.0s\n",
      "[CV] C=0.1, gamma=10, kernel=rbf .....................................\n",
      "[CV]  C=0.1, gamma=10, kernel=rbf, score=0.6267605633802817, total=   0.0s\n",
      "[CV] C=0.1, gamma=10, kernel=rbf .....................................\n",
      "[CV]  C=0.1, gamma=10, kernel=rbf, score=0.6312056737588653, total=   0.0s\n",
      "[CV] C=0.1, gamma=100, kernel=rbf ....................................\n",
      "[CV]  C=0.1, gamma=100, kernel=rbf, score=0.6293706293706294, total=   0.0s\n",
      "[CV] C=0.1, gamma=100, kernel=rbf ....................................\n",
      "[CV]  C=0.1, gamma=100, kernel=rbf, score=0.6267605633802817, total=   0.0s\n",
      "[CV] C=0.1, gamma=100, kernel=rbf ....................................\n",
      "[CV]  C=0.1, gamma=100, kernel=rbf, score=0.6312056737588653, total=   0.0s\n",
      "[CV] C=0.1, gamma=1000, kernel=rbf ...................................\n",
      "[CV]  C=0.1, gamma=1000, kernel=rbf, score=0.6293706293706294, total=   0.0s\n",
      "[CV] C=0.1, gamma=1000, kernel=rbf ...................................\n",
      "[CV]  C=0.1, gamma=1000, kernel=rbf, score=0.6267605633802817, total=   0.0s\n",
      "[CV] C=0.1, gamma=1000, kernel=rbf ...................................\n",
      "[CV]  C=0.1, gamma=1000, kernel=rbf, score=0.6312056737588653, total=   0.0s\n",
      "[CV] C=0.1, gamma=10000, kernel=rbf ..................................\n",
      "[CV]  C=0.1, gamma=10000, kernel=rbf, score=0.6293706293706294, total=   0.0s\n",
      "[CV] C=0.1, gamma=10000, kernel=rbf ..................................\n",
      "[CV]  C=0.1, gamma=10000, kernel=rbf, score=0.6267605633802817, total=   0.0s\n",
      "[CV] C=0.1, gamma=10000, kernel=rbf ..................................\n",
      "[CV]  C=0.1, gamma=10000, kernel=rbf, score=0.6312056737588653, total=   0.0s\n",
      "[CV] C=0.5, gamma=0.1, kernel=rbf ....................................\n",
      "[CV]  C=0.5, gamma=0.1, kernel=rbf, score=0.6293706293706294, total=   0.0s\n",
      "[CV] C=0.5, gamma=0.1, kernel=rbf ....................................\n",
      "[CV]  C=0.5, gamma=0.1, kernel=rbf, score=0.6267605633802817, total=   0.0s\n",
      "[CV] C=0.5, gamma=0.1, kernel=rbf ....................................\n",
      "[CV]  C=0.5, gamma=0.1, kernel=rbf, score=0.6312056737588653, total=   0.0s\n",
      "[CV] C=0.5, gamma=1, kernel=rbf ......................................\n",
      "[CV]  C=0.5, gamma=1, kernel=rbf, score=0.6293706293706294, total=   0.0s\n",
      "[CV] C=0.5, gamma=1, kernel=rbf ......................................\n",
      "[CV]  C=0.5, gamma=1, kernel=rbf, score=0.6267605633802817, total=   0.0s\n",
      "[CV] C=0.5, gamma=1, kernel=rbf ......................................\n",
      "[CV]  C=0.5, gamma=1, kernel=rbf, score=0.6312056737588653, total=   0.0s\n",
      "[CV] C=0.5, gamma=10, kernel=rbf .....................................\n",
      "[CV]  C=0.5, gamma=10, kernel=rbf, score=0.6293706293706294, total=   0.0s\n",
      "[CV] C=0.5, gamma=10, kernel=rbf .....................................\n",
      "[CV]  C=0.5, gamma=10, kernel=rbf, score=0.6267605633802817, total=   0.0s\n",
      "[CV] C=0.5, gamma=10, kernel=rbf .....................................\n",
      "[CV]  C=0.5, gamma=10, kernel=rbf, score=0.6312056737588653, total=   0.0s\n",
      "[CV] C=0.5, gamma=100, kernel=rbf ....................................\n",
      "[CV]  C=0.5, gamma=100, kernel=rbf, score=0.6293706293706294, total=   0.0s\n",
      "[CV] C=0.5, gamma=100, kernel=rbf ....................................\n",
      "[CV]  C=0.5, gamma=100, kernel=rbf, score=0.6267605633802817, total=   0.0s\n",
      "[CV] C=0.5, gamma=100, kernel=rbf ....................................\n",
      "[CV]  C=0.5, gamma=100, kernel=rbf, score=0.6312056737588653, total=   0.0s\n",
      "[CV] C=0.5, gamma=1000, kernel=rbf ...................................\n",
      "[CV]  C=0.5, gamma=1000, kernel=rbf, score=0.6293706293706294, total=   0.0s\n",
      "[CV] C=0.5, gamma=1000, kernel=rbf ...................................\n",
      "[CV]  C=0.5, gamma=1000, kernel=rbf, score=0.6267605633802817, total=   0.0s\n",
      "[CV] C=0.5, gamma=1000, kernel=rbf ...................................\n",
      "[CV]  C=0.5, gamma=1000, kernel=rbf, score=0.6312056737588653, total=   0.0s\n",
      "[CV] C=0.5, gamma=10000, kernel=rbf ..................................\n",
      "[CV]  C=0.5, gamma=10000, kernel=rbf, score=0.6293706293706294, total=   0.0s\n",
      "[CV] C=0.5, gamma=10000, kernel=rbf ..................................\n",
      "[CV]  C=0.5, gamma=10000, kernel=rbf, score=0.6267605633802817, total=   0.0s\n",
      "[CV] C=0.5, gamma=10000, kernel=rbf ..................................\n",
      "[CV]  C=0.5, gamma=10000, kernel=rbf, score=0.6312056737588653, total=   0.0s\n",
      "[CV] C=1, gamma=0.1, kernel=rbf ......................................\n",
      "[CV]  C=1, gamma=0.1, kernel=rbf, score=0.6293706293706294, total=   0.0s\n",
      "[CV] C=1, gamma=0.1, kernel=rbf ......................................\n",
      "[CV]  C=1, gamma=0.1, kernel=rbf, score=0.6267605633802817, total=   0.0s\n",
      "[CV] C=1, gamma=0.1, kernel=rbf ......................................\n",
      "[CV]  C=1, gamma=0.1, kernel=rbf, score=0.6312056737588653, total=   0.0s\n",
      "[CV] C=1, gamma=1, kernel=rbf ........................................\n",
      "[CV]  C=1, gamma=1, kernel=rbf, score=0.6293706293706294, total=   0.0s\n",
      "[CV] C=1, gamma=1, kernel=rbf ........................................\n",
      "[CV]  C=1, gamma=1, kernel=rbf, score=0.6267605633802817, total=   0.0s\n",
      "[CV] C=1, gamma=1, kernel=rbf ........................................\n",
      "[CV]  C=1, gamma=1, kernel=rbf, score=0.6312056737588653, total=   0.0s\n",
      "[CV] C=1, gamma=10, kernel=rbf .......................................\n",
      "[CV]  C=1, gamma=10, kernel=rbf, score=0.6293706293706294, total=   0.0s\n",
      "[CV] C=1, gamma=10, kernel=rbf .......................................\n",
      "[CV]  C=1, gamma=10, kernel=rbf, score=0.6267605633802817, total=   0.0s\n",
      "[CV] C=1, gamma=10, kernel=rbf .......................................\n",
      "[CV]  C=1, gamma=10, kernel=rbf, score=0.6312056737588653, total=   0.0s\n",
      "[CV] C=1, gamma=100, kernel=rbf ......................................\n",
      "[CV]  C=1, gamma=100, kernel=rbf, score=0.6293706293706294, total=   0.0s\n",
      "[CV] C=1, gamma=100, kernel=rbf ......................................\n",
      "[CV]  C=1, gamma=100, kernel=rbf, score=0.6267605633802817, total=   0.0s\n",
      "[CV] C=1, gamma=100, kernel=rbf ......................................\n",
      "[CV]  C=1, gamma=100, kernel=rbf, score=0.6312056737588653, total=   0.0s\n",
      "[CV] C=1, gamma=1000, kernel=rbf .....................................\n",
      "[CV]  C=1, gamma=1000, kernel=rbf, score=0.6293706293706294, total=   0.0s\n",
      "[CV] C=1, gamma=1000, kernel=rbf .....................................\n",
      "[CV]  C=1, gamma=1000, kernel=rbf, score=0.6267605633802817, total=   0.0s\n",
      "[CV] C=1, gamma=1000, kernel=rbf .....................................\n",
      "[CV]  C=1, gamma=1000, kernel=rbf, score=0.6312056737588653, total=   0.0s\n",
      "[CV] C=1, gamma=10000, kernel=rbf ....................................\n",
      "[CV]  C=1, gamma=10000, kernel=rbf, score=0.6293706293706294, total=   0.0s\n",
      "[CV] C=1, gamma=10000, kernel=rbf ....................................\n",
      "[CV]  C=1, gamma=10000, kernel=rbf, score=0.6267605633802817, total=   0.0s\n",
      "[CV] C=1, gamma=10000, kernel=rbf ....................................\n",
      "[CV]  C=1, gamma=10000, kernel=rbf, score=0.6312056737588653, total=   0.0s\n",
      "[CV] C=2, gamma=0.1, kernel=rbf ......................................\n",
      "[CV]  C=2, gamma=0.1, kernel=rbf, score=0.6293706293706294, total=   0.0s\n",
      "[CV] C=2, gamma=0.1, kernel=rbf ......................................\n",
      "[CV]  C=2, gamma=0.1, kernel=rbf, score=0.6267605633802817, total=   0.0s\n",
      "[CV] C=2, gamma=0.1, kernel=rbf ......................................\n",
      "[CV]  C=2, gamma=0.1, kernel=rbf, score=0.6312056737588653, total=   0.0s\n",
      "[CV] C=2, gamma=1, kernel=rbf ........................................\n",
      "[CV]  C=2, gamma=1, kernel=rbf, score=0.6293706293706294, total=   0.0s\n",
      "[CV] C=2, gamma=1, kernel=rbf ........................................\n",
      "[CV]  C=2, gamma=1, kernel=rbf, score=0.6267605633802817, total=   0.0s\n",
      "[CV] C=2, gamma=1, kernel=rbf ........................................\n",
      "[CV]  C=2, gamma=1, kernel=rbf, score=0.6312056737588653, total=   0.0s\n",
      "[CV] C=2, gamma=10, kernel=rbf .......................................\n",
      "[CV]  C=2, gamma=10, kernel=rbf, score=0.6293706293706294, total=   0.0s\n",
      "[CV] C=2, gamma=10, kernel=rbf .......................................\n"
     ]
    },
    {
     "name": "stdout",
     "output_type": "stream",
     "text": [
      "[CV]  C=2, gamma=10, kernel=rbf, score=0.6267605633802817, total=   0.0s\n",
      "[CV] C=2, gamma=10, kernel=rbf .......................................\n",
      "[CV]  C=2, gamma=10, kernel=rbf, score=0.6312056737588653, total=   0.0s\n",
      "[CV] C=2, gamma=100, kernel=rbf ......................................\n",
      "[CV]  C=2, gamma=100, kernel=rbf, score=0.6293706293706294, total=   0.0s\n",
      "[CV] C=2, gamma=100, kernel=rbf ......................................\n",
      "[CV]  C=2, gamma=100, kernel=rbf, score=0.6267605633802817, total=   0.0s\n",
      "[CV] C=2, gamma=100, kernel=rbf ......................................\n",
      "[CV]  C=2, gamma=100, kernel=rbf, score=0.6312056737588653, total=   0.0s\n",
      "[CV] C=2, gamma=1000, kernel=rbf .....................................\n",
      "[CV]  C=2, gamma=1000, kernel=rbf, score=0.6293706293706294, total=   0.0s\n",
      "[CV] C=2, gamma=1000, kernel=rbf .....................................\n",
      "[CV]  C=2, gamma=1000, kernel=rbf, score=0.6267605633802817, total=   0.0s\n",
      "[CV] C=2, gamma=1000, kernel=rbf .....................................\n",
      "[CV]  C=2, gamma=1000, kernel=rbf, score=0.6312056737588653, total=   0.0s\n",
      "[CV] C=2, gamma=10000, kernel=rbf ....................................\n",
      "[CV]  C=2, gamma=10000, kernel=rbf, score=0.6293706293706294, total=   0.0s\n",
      "[CV] C=2, gamma=10000, kernel=rbf ....................................\n",
      "[CV]  C=2, gamma=10000, kernel=rbf, score=0.6267605633802817, total=   0.0s\n",
      "[CV] C=2, gamma=10000, kernel=rbf ....................................\n",
      "[CV]  C=2, gamma=10000, kernel=rbf, score=0.6312056737588653, total=   0.0s\n",
      "[CV] C=4, gamma=0.1, kernel=rbf ......................................\n",
      "[CV]  C=4, gamma=0.1, kernel=rbf, score=0.6293706293706294, total=   0.0s\n",
      "[CV] C=4, gamma=0.1, kernel=rbf ......................................\n",
      "[CV]  C=4, gamma=0.1, kernel=rbf, score=0.6267605633802817, total=   0.0s\n",
      "[CV] C=4, gamma=0.1, kernel=rbf ......................................\n",
      "[CV]  C=4, gamma=0.1, kernel=rbf, score=0.6312056737588653, total=   0.0s\n",
      "[CV] C=4, gamma=1, kernel=rbf ........................................\n",
      "[CV]  C=4, gamma=1, kernel=rbf, score=0.6293706293706294, total=   0.0s\n",
      "[CV] C=4, gamma=1, kernel=rbf ........................................\n",
      "[CV]  C=4, gamma=1, kernel=rbf, score=0.6267605633802817, total=   0.0s\n",
      "[CV] C=4, gamma=1, kernel=rbf ........................................\n",
      "[CV]  C=4, gamma=1, kernel=rbf, score=0.6312056737588653, total=   0.0s\n",
      "[CV] C=4, gamma=10, kernel=rbf .......................................\n",
      "[CV]  C=4, gamma=10, kernel=rbf, score=0.6293706293706294, total=   0.0s\n",
      "[CV] C=4, gamma=10, kernel=rbf .......................................\n",
      "[CV]  C=4, gamma=10, kernel=rbf, score=0.6267605633802817, total=   0.0s\n",
      "[CV] C=4, gamma=10, kernel=rbf .......................................\n",
      "[CV]  C=4, gamma=10, kernel=rbf, score=0.6312056737588653, total=   0.0s\n",
      "[CV] C=4, gamma=100, kernel=rbf ......................................\n",
      "[CV]  C=4, gamma=100, kernel=rbf, score=0.6293706293706294, total=   0.0s\n",
      "[CV] C=4, gamma=100, kernel=rbf ......................................\n",
      "[CV]  C=4, gamma=100, kernel=rbf, score=0.6267605633802817, total=   0.0s\n",
      "[CV] C=4, gamma=100, kernel=rbf ......................................\n",
      "[CV]  C=4, gamma=100, kernel=rbf, score=0.6312056737588653, total=   0.0s\n",
      "[CV] C=4, gamma=1000, kernel=rbf .....................................\n",
      "[CV]  C=4, gamma=1000, kernel=rbf, score=0.6293706293706294, total=   0.0s\n",
      "[CV] C=4, gamma=1000, kernel=rbf .....................................\n",
      "[CV]  C=4, gamma=1000, kernel=rbf, score=0.6267605633802817, total=   0.0s\n",
      "[CV] C=4, gamma=1000, kernel=rbf .....................................\n",
      "[CV]  C=4, gamma=1000, kernel=rbf, score=0.6312056737588653, total=   0.0s\n",
      "[CV] C=4, gamma=10000, kernel=rbf ....................................\n",
      "[CV]  C=4, gamma=10000, kernel=rbf, score=0.6293706293706294, total=   0.0s\n",
      "[CV] C=4, gamma=10000, kernel=rbf ....................................\n",
      "[CV]  C=4, gamma=10000, kernel=rbf, score=0.6267605633802817, total=   0.0s\n",
      "[CV] C=4, gamma=10000, kernel=rbf ....................................\n",
      "[CV]  C=4, gamma=10000, kernel=rbf, score=0.6312056737588653, total=   0.0s\n",
      "[CV] C=8, gamma=0.1, kernel=rbf ......................................\n",
      "[CV]  C=8, gamma=0.1, kernel=rbf, score=0.6293706293706294, total=   0.0s\n",
      "[CV] C=8, gamma=0.1, kernel=rbf ......................................\n",
      "[CV]  C=8, gamma=0.1, kernel=rbf, score=0.6267605633802817, total=   0.0s\n",
      "[CV] C=8, gamma=0.1, kernel=rbf ......................................\n",
      "[CV]  C=8, gamma=0.1, kernel=rbf, score=0.6312056737588653, total=   0.0s\n",
      "[CV] C=8, gamma=1, kernel=rbf ........................................\n",
      "[CV]  C=8, gamma=1, kernel=rbf, score=0.6293706293706294, total=   0.0s\n",
      "[CV] C=8, gamma=1, kernel=rbf ........................................\n",
      "[CV]  C=8, gamma=1, kernel=rbf, score=0.6267605633802817, total=   0.0s\n",
      "[CV] C=8, gamma=1, kernel=rbf ........................................\n",
      "[CV]  C=8, gamma=1, kernel=rbf, score=0.6312056737588653, total=   0.0s\n",
      "[CV] C=8, gamma=10, kernel=rbf .......................................\n",
      "[CV]  C=8, gamma=10, kernel=rbf, score=0.6293706293706294, total=   0.0s\n",
      "[CV] C=8, gamma=10, kernel=rbf .......................................\n",
      "[CV]  C=8, gamma=10, kernel=rbf, score=0.6267605633802817, total=   0.0s\n",
      "[CV] C=8, gamma=10, kernel=rbf .......................................\n",
      "[CV]  C=8, gamma=10, kernel=rbf, score=0.6312056737588653, total=   0.0s\n",
      "[CV] C=8, gamma=100, kernel=rbf ......................................\n",
      "[CV]  C=8, gamma=100, kernel=rbf, score=0.6293706293706294, total=   0.0s\n",
      "[CV] C=8, gamma=100, kernel=rbf ......................................\n",
      "[CV]  C=8, gamma=100, kernel=rbf, score=0.6267605633802817, total=   0.0s\n",
      "[CV] C=8, gamma=100, kernel=rbf ......................................\n",
      "[CV]  C=8, gamma=100, kernel=rbf, score=0.6312056737588653, total=   0.0s\n",
      "[CV] C=8, gamma=1000, kernel=rbf .....................................\n",
      "[CV]  C=8, gamma=1000, kernel=rbf, score=0.6293706293706294, total=   0.0s\n",
      "[CV] C=8, gamma=1000, kernel=rbf .....................................\n",
      "[CV]  C=8, gamma=1000, kernel=rbf, score=0.6267605633802817, total=   0.0s\n",
      "[CV] C=8, gamma=1000, kernel=rbf .....................................\n",
      "[CV]  C=8, gamma=1000, kernel=rbf, score=0.6312056737588653, total=   0.0s\n",
      "[CV] C=8, gamma=10000, kernel=rbf ....................................\n",
      "[CV]  C=8, gamma=10000, kernel=rbf, score=0.6293706293706294, total=   0.0s\n",
      "[CV] C=8, gamma=10000, kernel=rbf ....................................\n",
      "[CV]  C=8, gamma=10000, kernel=rbf, score=0.6267605633802817, total=   0.0s\n",
      "[CV] C=8, gamma=10000, kernel=rbf ....................................\n",
      "[CV]  C=8, gamma=10000, kernel=rbf, score=0.6312056737588653, total=   0.0s\n",
      "[CV] C=20, gamma=0.1, kernel=rbf .....................................\n",
      "[CV]  C=20, gamma=0.1, kernel=rbf, score=0.6293706293706294, total=   0.0s\n",
      "[CV] C=20, gamma=0.1, kernel=rbf .....................................\n",
      "[CV]  C=20, gamma=0.1, kernel=rbf, score=0.6267605633802817, total=   0.0s\n",
      "[CV] C=20, gamma=0.1, kernel=rbf .....................................\n",
      "[CV]  C=20, gamma=0.1, kernel=rbf, score=0.6312056737588653, total=   0.0s\n",
      "[CV] C=20, gamma=1, kernel=rbf .......................................\n",
      "[CV]  C=20, gamma=1, kernel=rbf, score=0.6293706293706294, total=   0.0s\n",
      "[CV] C=20, gamma=1, kernel=rbf .......................................\n",
      "[CV]  C=20, gamma=1, kernel=rbf, score=0.6267605633802817, total=   0.0s\n",
      "[CV] C=20, gamma=1, kernel=rbf .......................................\n",
      "[CV]  C=20, gamma=1, kernel=rbf, score=0.6312056737588653, total=   0.0s\n",
      "[CV] C=20, gamma=10, kernel=rbf ......................................\n",
      "[CV]  C=20, gamma=10, kernel=rbf, score=0.6293706293706294, total=   0.0s\n",
      "[CV] C=20, gamma=10, kernel=rbf ......................................\n",
      "[CV]  C=20, gamma=10, kernel=rbf, score=0.6267605633802817, total=   0.0s\n",
      "[CV] C=20, gamma=10, kernel=rbf ......................................\n",
      "[CV]  C=20, gamma=10, kernel=rbf, score=0.6312056737588653, total=   0.0s\n",
      "[CV] C=20, gamma=100, kernel=rbf .....................................\n",
      "[CV]  C=20, gamma=100, kernel=rbf, score=0.6293706293706294, total=   0.0s\n",
      "[CV] C=20, gamma=100, kernel=rbf .....................................\n",
      "[CV]  C=20, gamma=100, kernel=rbf, score=0.6267605633802817, total=   0.0s\n",
      "[CV] C=20, gamma=100, kernel=rbf .....................................\n",
      "[CV]  C=20, gamma=100, kernel=rbf, score=0.6312056737588653, total=   0.0s\n",
      "[CV] C=20, gamma=1000, kernel=rbf ....................................\n",
      "[CV]  C=20, gamma=1000, kernel=rbf, score=0.6293706293706294, total=   0.0s\n",
      "[CV] C=20, gamma=1000, kernel=rbf ....................................\n",
      "[CV]  C=20, gamma=1000, kernel=rbf, score=0.6267605633802817, total=   0.0s\n",
      "[CV] C=20, gamma=1000, kernel=rbf ....................................\n",
      "[CV]  C=20, gamma=1000, kernel=rbf, score=0.6312056737588653, total=   0.0s\n",
      "[CV] C=20, gamma=10000, kernel=rbf ...................................\n",
      "[CV]  C=20, gamma=10000, kernel=rbf, score=0.6293706293706294, total=   0.0s\n",
      "[CV] C=20, gamma=10000, kernel=rbf ...................................\n"
     ]
    },
    {
     "name": "stdout",
     "output_type": "stream",
     "text": [
      "[CV]  C=20, gamma=10000, kernel=rbf, score=0.6267605633802817, total=   0.0s\n",
      "[CV] C=20, gamma=10000, kernel=rbf ...................................\n",
      "[CV]  C=20, gamma=10000, kernel=rbf, score=0.6312056737588653, total=   0.0s\n",
      "[CV] C=100, gamma=0.1, kernel=rbf ....................................\n",
      "[CV]  C=100, gamma=0.1, kernel=rbf, score=0.6293706293706294, total=   0.0s\n",
      "[CV] C=100, gamma=0.1, kernel=rbf ....................................\n",
      "[CV]  C=100, gamma=0.1, kernel=rbf, score=0.6267605633802817, total=   0.0s\n",
      "[CV] C=100, gamma=0.1, kernel=rbf ....................................\n",
      "[CV]  C=100, gamma=0.1, kernel=rbf, score=0.6312056737588653, total=   0.0s\n",
      "[CV] C=100, gamma=1, kernel=rbf ......................................\n",
      "[CV]  C=100, gamma=1, kernel=rbf, score=0.6293706293706294, total=   0.0s\n",
      "[CV] C=100, gamma=1, kernel=rbf ......................................\n",
      "[CV]  C=100, gamma=1, kernel=rbf, score=0.6267605633802817, total=   0.0s\n",
      "[CV] C=100, gamma=1, kernel=rbf ......................................\n",
      "[CV]  C=100, gamma=1, kernel=rbf, score=0.6312056737588653, total=   0.0s\n",
      "[CV] C=100, gamma=10, kernel=rbf .....................................\n",
      "[CV]  C=100, gamma=10, kernel=rbf, score=0.6293706293706294, total=   0.0s\n",
      "[CV] C=100, gamma=10, kernel=rbf .....................................\n",
      "[CV]  C=100, gamma=10, kernel=rbf, score=0.6267605633802817, total=   0.0s\n",
      "[CV] C=100, gamma=10, kernel=rbf .....................................\n",
      "[CV]  C=100, gamma=10, kernel=rbf, score=0.6312056737588653, total=   0.0s\n",
      "[CV] C=100, gamma=100, kernel=rbf ....................................\n",
      "[CV]  C=100, gamma=100, kernel=rbf, score=0.6293706293706294, total=   0.0s\n",
      "[CV] C=100, gamma=100, kernel=rbf ....................................\n",
      "[CV]  C=100, gamma=100, kernel=rbf, score=0.6267605633802817, total=   0.0s\n",
      "[CV] C=100, gamma=100, kernel=rbf ....................................\n",
      "[CV]  C=100, gamma=100, kernel=rbf, score=0.6312056737588653, total=   0.0s\n",
      "[CV] C=100, gamma=1000, kernel=rbf ...................................\n",
      "[CV]  C=100, gamma=1000, kernel=rbf, score=0.6293706293706294, total=   0.0s\n",
      "[CV] C=100, gamma=1000, kernel=rbf ...................................\n",
      "[CV]  C=100, gamma=1000, kernel=rbf, score=0.6267605633802817, total=   0.0s\n",
      "[CV] C=100, gamma=1000, kernel=rbf ...................................\n",
      "[CV]  C=100, gamma=1000, kernel=rbf, score=0.6312056737588653, total=   0.0s\n",
      "[CV] C=100, gamma=10000, kernel=rbf ..................................\n",
      "[CV]  C=100, gamma=10000, kernel=rbf, score=0.6293706293706294, total=   0.0s\n",
      "[CV] C=100, gamma=10000, kernel=rbf ..................................\n",
      "[CV]  C=100, gamma=10000, kernel=rbf, score=0.6267605633802817, total=   0.0s\n",
      "[CV] C=100, gamma=10000, kernel=rbf ..................................\n",
      "[CV]  C=100, gamma=10000, kernel=rbf, score=0.6312056737588653, total=   0.0s\n"
     ]
    },
    {
     "name": "stderr",
     "output_type": "stream",
     "text": [
      "[Parallel(n_jobs=1)]: Done 144 out of 144 | elapsed:    2.3s finished\n"
     ]
    },
    {
     "data": {
      "text/plain": [
       "GridSearchCV(cv='warn', error_score='raise-deprecating',\n",
       "       estimator=SVC(C=1.0, cache_size=200, class_weight=None, coef0=0.0,\n",
       "  decision_function_shape='ovr', degree=3, gamma='auto_deprecated',\n",
       "  kernel='rbf', max_iter=-1, probability=False, random_state=None,\n",
       "  shrinking=True, tol=0.001, verbose=False),\n",
       "       fit_params=None, iid='warn', n_jobs=None,\n",
       "       param_grid={'C': [0.1, 0.5, 1, 2, 4, 8, 20, 100], 'gamma': [0.1, 1, 10, 100, 1000, 10000], 'kernel': ['rbf']},\n",
       "       pre_dispatch='2*n_jobs', refit=True, return_train_score='warn',\n",
       "       scoring=None, verbose=3)"
      ]
     },
     "execution_count": 120,
     "metadata": {},
     "output_type": "execute_result"
    }
   ],
   "source": [
    "param_grid = {'C':[0.1, 0.5, 1, 2, 4, 8, 20, 100],'gamma': [0.1, 1, 10, 100, 1000, 10000],'kernel':['rbf']}\n",
    "from sklearn.model_selection import GridSearchCV\n",
    "grid=GridSearchCV(SVC(),param_grid,refit=True,verbose=3)\n",
    "grid.fit(X_train,y_train)"
   ]
  },
  {
   "cell_type": "code",
   "execution_count": 112,
   "metadata": {},
   "outputs": [
    {
     "data": {
      "text/plain": [
       "({'C': 0.1, 'gamma': 0.1, 'kernel': 'rbf'},\n",
       " SVC(C=0.1, cache_size=200, class_weight=None, coef0=0.0,\n",
       "   decision_function_shape='ovr', degree=3, gamma=0.1, kernel='rbf',\n",
       "   max_iter=-1, probability=False, random_state=None, shrinking=True,\n",
       "   tol=0.001, verbose=False))"
      ]
     },
     "execution_count": 112,
     "metadata": {},
     "output_type": "execute_result"
    }
   ],
   "source": [
    "grid.best_params_ , grid.best_estimator_"
   ]
  },
  {
   "cell_type": "code",
   "execution_count": null,
   "metadata": {},
   "outputs": [],
   "source": [
    "# train score and test score of best model"
   ]
  },
  {
   "cell_type": "code",
   "execution_count": null,
   "metadata": {},
   "outputs": [],
   "source": [
    "# use gridsearchCV"
   ]
  },
  {
   "cell_type": "code",
   "execution_count": 121,
   "metadata": {},
   "outputs": [
    {
     "data": {
      "text/plain": [
       "0.6223776223776224"
      ]
     },
     "execution_count": 121,
     "metadata": {},
     "output_type": "execute_result"
    }
   ],
   "source": [
    "# best score\n",
    "grid.score(X_test,y_test)"
   ]
  },
  {
   "cell_type": "code",
   "execution_count": null,
   "metadata": {},
   "outputs": [],
   "source": [
    "# best parameters set"
   ]
  },
  {
   "cell_type": "code",
   "execution_count": null,
   "metadata": {},
   "outputs": [],
   "source": [
    "# train score and test score"
   ]
  },
  {
   "cell_type": "code",
   "execution_count": null,
   "metadata": {},
   "outputs": [],
   "source": []
  },
  {
   "cell_type": "code",
   "execution_count": null,
   "metadata": {},
   "outputs": [],
   "source": []
  },
  {
   "cell_type": "code",
   "execution_count": null,
   "metadata": {},
   "outputs": [],
   "source": [
    "plt.boxplot(X_train, manage_xticks=False)\n",
    "plt.yscale(\"symlog\")\n",
    "plt.xlabel(\"특성 목록\")\n",
    "plt.ylabel(\"특성 크기\")"
   ]
  },
  {
   "cell_type": "markdown",
   "metadata": {},
   "source": [
    "#### SVM 을 위한 데이터 전처리"
   ]
  },
  {
   "cell_type": "code",
   "execution_count": 57,
   "metadata": {},
   "outputs": [],
   "source": [
    "# data scaling\n",
    "from sklearn.preprocessing import StandardScaler\n",
    "scaler = StandardScaler()"
   ]
  },
  {
   "cell_type": "code",
   "execution_count": 58,
   "metadata": {},
   "outputs": [],
   "source": [
    "scaler.fit(X_train)\n",
    "scaled_xtrain = scaler.transform(X_train)\n",
    "scaled_xtest = scaler.transform(X_test)"
   ]
  },
  {
   "cell_type": "code",
   "execution_count": 51,
   "metadata": {},
   "outputs": [
    {
     "ename": "NameError",
     "evalue": "name 'min_on_training' is not defined",
     "output_type": "error",
     "traceback": [
      "\u001b[1;31m---------------------------------------------------------------------------\u001b[0m",
      "\u001b[1;31mNameError\u001b[0m                                 Traceback (most recent call last)",
      "\u001b[1;32m<ipython-input-51-339938cd6bb9>\u001b[0m in \u001b[0;36m<module>\u001b[1;34m\u001b[0m\n\u001b[1;32m----> 1\u001b[1;33m \u001b[0mX_test_scaled\u001b[0m \u001b[1;33m=\u001b[0m \u001b[1;33m(\u001b[0m\u001b[0mX_test\u001b[0m \u001b[1;33m-\u001b[0m \u001b[0mmin_on_training\u001b[0m\u001b[1;33m)\u001b[0m \u001b[1;33m/\u001b[0m \u001b[0mrange_on_training\u001b[0m\u001b[1;33m\u001b[0m\u001b[1;33m\u001b[0m\u001b[0m\n\u001b[0m",
      "\u001b[1;31mNameError\u001b[0m: name 'min_on_training' is not defined"
     ]
    }
   ],
   "source": [
    "X_test_scaled = (X_test - min_on_training) / range_on_training"
   ]
  },
  {
   "cell_type": "code",
   "execution_count": 61,
   "metadata": {},
   "outputs": [
    {
     "name": "stdout",
     "output_type": "stream",
     "text": [
      "훈련 세트 정확도: 0.967\n",
      "테스트 세트 정확도: 0.958\n"
     ]
    }
   ],
   "source": [
    "svc = SVC(C=0.1, gamma=0.1)\n",
    "svc.fit(scaled_xtrain, y_train)\n",
    "\n",
    "print(\"훈련 세트 정확도: {:.3f}\".format(svc.score(scaled_xtrain, y_train)))\n",
    "print(\"테스트 세트 정확도: {:.3f}\".format(svc.score(scaled_xtest, y_test)))"
   ]
  },
  {
   "cell_type": "code",
   "execution_count": 129,
   "metadata": {},
   "outputs": [
    {
     "name": "stdout",
     "output_type": "stream",
     "text": [
      "c:0.1 gamma:0.1 0.958041958041958\n",
      "c:0.1 gamma:1 0.6223776223776224\n",
      "c:0.1 gamma:10 0.6223776223776224\n",
      "c:0.1 gamma:100 0.6223776223776224\n",
      "c:0.1 gamma:1000 0.6223776223776224\n",
      "c:0.1 gamma:10000 0.6223776223776224\n",
      "c:0.5 gamma:0.1 0.951048951048951\n",
      "c:0.5 gamma:1 0.6223776223776224\n",
      "c:0.5 gamma:10 0.6223776223776224\n",
      "c:0.5 gamma:100 0.6223776223776224\n",
      "c:0.5 gamma:1000 0.6223776223776224\n",
      "c:0.5 gamma:10000 0.6223776223776224\n",
      "c:1 gamma:0.1 0.958041958041958\n",
      "c:1 gamma:1 0.6293706293706294\n",
      "c:1 gamma:10 0.6223776223776224\n",
      "c:1 gamma:100 0.6223776223776224\n",
      "c:1 gamma:1000 0.6223776223776224\n",
      "c:1 gamma:10000 0.6223776223776224\n",
      "c:2 gamma:0.1 0.965034965034965\n",
      "c:2 gamma:1 0.6363636363636364\n",
      "c:2 gamma:10 0.6223776223776224\n",
      "c:2 gamma:100 0.6223776223776224\n",
      "c:2 gamma:1000 0.6223776223776224\n",
      "c:2 gamma:10000 0.6223776223776224\n",
      "c:4 gamma:0.1 0.958041958041958\n",
      "c:4 gamma:1 0.6363636363636364\n",
      "c:4 gamma:10 0.6223776223776224\n",
      "c:4 gamma:100 0.6223776223776224\n",
      "c:4 gamma:1000 0.6223776223776224\n",
      "c:4 gamma:10000 0.6223776223776224\n",
      "c:8 gamma:0.1 0.958041958041958\n",
      "c:8 gamma:1 0.6363636363636364\n",
      "c:8 gamma:10 0.6223776223776224\n",
      "c:8 gamma:100 0.6223776223776224\n",
      "c:8 gamma:1000 0.6223776223776224\n",
      "c:8 gamma:10000 0.6223776223776224\n",
      "c:20 gamma:0.1 0.958041958041958\n",
      "c:20 gamma:1 0.6363636363636364\n",
      "c:20 gamma:10 0.6223776223776224\n",
      "c:20 gamma:100 0.6223776223776224\n",
      "c:20 gamma:1000 0.6223776223776224\n",
      "c:20 gamma:10000 0.6223776223776224\n",
      "c:100 gamma:0.1 0.958041958041958\n",
      "c:100 gamma:1 0.6363636363636364\n",
      "c:100 gamma:10 0.6223776223776224\n",
      "c:100 gamma:100 0.6223776223776224\n",
      "c:100 gamma:1000 0.6223776223776224\n",
      "c:100 gamma:10000 0.6223776223776224\n",
      "0.965034965034965\n",
      "(2, 0.1)\n"
     ]
    }
   ],
   "source": [
    "best_score=0\n",
    "gamma  = [0.1, 1, 10, 100, 1000, 10000]\n",
    "C  = [0.1, 0.5, 1, 2, 4, 8, 20, 100]\n",
    "for c in C:\n",
    "    for gam in gamma:\n",
    "        svc = SVC(C=c,gamma=gam).fit(scaled_xtrain,y_train)\n",
    "        print('c:{}'.format(c),'gamma:{}'.format(gam),svc.score(scaled_xtest,y_test))\n",
    "        score=svc.score(scaled_xtest,y_test)\n",
    "        if best_score < score:\n",
    "            best_score=score\n",
    "            best_params=(c,gam)\n",
    "        #score.append(svc.score(X_test,y_test))\n",
    "        #score_params.append([c,gamma])\n",
    "print(best_score)\n",
    "print(best_params)"
   ]
  },
  {
   "cell_type": "code",
   "execution_count": 126,
   "metadata": {},
   "outputs": [
    {
     "name": "stderr",
     "output_type": "stream",
     "text": [
      "C:\\Users\\user\\Anaconda3\\lib\\site-packages\\sklearn\\model_selection\\_split.py:2053: FutureWarning: You should specify a value for 'cv' instead of relying on the default value. The default value will change from 3 to 5 in version 0.22.\n",
      "  warnings.warn(CV_WARNING, FutureWarning)\n",
      "[Parallel(n_jobs=1)]: Using backend SequentialBackend with 1 concurrent workers.\n",
      "[Parallel(n_jobs=1)]: Done   1 out of   1 | elapsed:    0.0s remaining:    0.0s\n",
      "[Parallel(n_jobs=1)]: Done   2 out of   2 | elapsed:    0.0s remaining:    0.0s\n"
     ]
    },
    {
     "name": "stdout",
     "output_type": "stream",
     "text": [
      "Fitting 3 folds for each of 48 candidates, totalling 144 fits\n",
      "[CV] C=0.1, gamma=0.1, kernel=rbf ....................................\n",
      "[CV]  C=0.1, gamma=0.1, kernel=rbf, score=0.9230769230769231, total=   0.0s\n",
      "[CV] C=0.1, gamma=0.1, kernel=rbf ....................................\n",
      "[CV]  C=0.1, gamma=0.1, kernel=rbf, score=0.9084507042253521, total=   0.0s\n",
      "[CV] C=0.1, gamma=0.1, kernel=rbf ....................................\n",
      "[CV]  C=0.1, gamma=0.1, kernel=rbf, score=0.9078014184397163, total=   0.0s\n",
      "[CV] C=0.1, gamma=1, kernel=rbf ......................................\n",
      "[CV]  C=0.1, gamma=1, kernel=rbf, score=0.6293706293706294, total=   0.0s\n",
      "[CV] C=0.1, gamma=1, kernel=rbf ......................................\n",
      "[CV]  C=0.1, gamma=1, kernel=rbf, score=0.6267605633802817, total=   0.0s\n",
      "[CV] C=0.1, gamma=1, kernel=rbf ......................................\n",
      "[CV]  C=0.1, gamma=1, kernel=rbf, score=0.6312056737588653, total=   0.0s\n",
      "[CV] C=0.1, gamma=10, kernel=rbf .....................................\n",
      "[CV]  C=0.1, gamma=10, kernel=rbf, score=0.6293706293706294, total=   0.0s\n",
      "[CV] C=0.1, gamma=10, kernel=rbf .....................................\n",
      "[CV]  C=0.1, gamma=10, kernel=rbf, score=0.6267605633802817, total=   0.0s\n",
      "[CV] C=0.1, gamma=10, kernel=rbf .....................................\n",
      "[CV]  C=0.1, gamma=10, kernel=rbf, score=0.6312056737588653, total=   0.0s\n",
      "[CV] C=0.1, gamma=100, kernel=rbf ....................................\n",
      "[CV]  C=0.1, gamma=100, kernel=rbf, score=0.6293706293706294, total=   0.0s\n",
      "[CV] C=0.1, gamma=100, kernel=rbf ....................................\n",
      "[CV]  C=0.1, gamma=100, kernel=rbf, score=0.6267605633802817, total=   0.0s\n",
      "[CV] C=0.1, gamma=100, kernel=rbf ....................................\n",
      "[CV]  C=0.1, gamma=100, kernel=rbf, score=0.6312056737588653, total=   0.0s\n",
      "[CV] C=0.1, gamma=1000, kernel=rbf ...................................\n",
      "[CV]  C=0.1, gamma=1000, kernel=rbf, score=0.6293706293706294, total=   0.0s\n",
      "[CV] C=0.1, gamma=1000, kernel=rbf ...................................\n",
      "[CV]  C=0.1, gamma=1000, kernel=rbf, score=0.6267605633802817, total=   0.0s\n",
      "[CV] C=0.1, gamma=1000, kernel=rbf ...................................\n",
      "[CV]  C=0.1, gamma=1000, kernel=rbf, score=0.6312056737588653, total=   0.0s\n",
      "[CV] C=0.1, gamma=10000, kernel=rbf ..................................\n",
      "[CV]  C=0.1, gamma=10000, kernel=rbf, score=0.6293706293706294, total=   0.0s\n",
      "[CV] C=0.1, gamma=10000, kernel=rbf ..................................\n",
      "[CV]  C=0.1, gamma=10000, kernel=rbf, score=0.6267605633802817, total=   0.0s\n",
      "[CV] C=0.1, gamma=10000, kernel=rbf ..................................\n",
      "[CV]  C=0.1, gamma=10000, kernel=rbf, score=0.6312056737588653, total=   0.0s\n",
      "[CV] C=0.5, gamma=0.1, kernel=rbf ....................................\n",
      "[CV]  C=0.5, gamma=0.1, kernel=rbf, score=0.9300699300699301, total=   0.0s\n",
      "[CV] C=0.5, gamma=0.1, kernel=rbf ....................................\n",
      "[CV]  C=0.5, gamma=0.1, kernel=rbf, score=0.9647887323943662, total=   0.0s\n",
      "[CV] C=0.5, gamma=0.1, kernel=rbf ....................................\n",
      "[CV]  C=0.5, gamma=0.1, kernel=rbf, score=0.950354609929078, total=   0.0s\n",
      "[CV] C=0.5, gamma=1, kernel=rbf ......................................\n",
      "[CV]  C=0.5, gamma=1, kernel=rbf, score=0.6293706293706294, total=   0.0s\n",
      "[CV] C=0.5, gamma=1, kernel=rbf ......................................\n",
      "[CV]  C=0.5, gamma=1, kernel=rbf, score=0.6267605633802817, total=   0.0s\n",
      "[CV] C=0.5, gamma=1, kernel=rbf ......................................\n",
      "[CV]  C=0.5, gamma=1, kernel=rbf, score=0.6312056737588653, total=   0.0s\n",
      "[CV] C=0.5, gamma=10, kernel=rbf .....................................\n",
      "[CV]  C=0.5, gamma=10, kernel=rbf, score=0.6293706293706294, total=   0.0s\n",
      "[CV] C=0.5, gamma=10, kernel=rbf .....................................\n",
      "[CV]  C=0.5, gamma=10, kernel=rbf, score=0.6267605633802817, total=   0.0s\n",
      "[CV] C=0.5, gamma=10, kernel=rbf .....................................\n",
      "[CV]  C=0.5, gamma=10, kernel=rbf, score=0.6312056737588653, total=   0.0s\n",
      "[CV] C=0.5, gamma=100, kernel=rbf ....................................\n",
      "[CV]  C=0.5, gamma=100, kernel=rbf, score=0.6293706293706294, total=   0.0s\n",
      "[CV] C=0.5, gamma=100, kernel=rbf ....................................\n",
      "[CV]  C=0.5, gamma=100, kernel=rbf, score=0.6267605633802817, total=   0.0s\n",
      "[CV] C=0.5, gamma=100, kernel=rbf ....................................\n",
      "[CV]  C=0.5, gamma=100, kernel=rbf, score=0.6312056737588653, total=   0.0s\n",
      "[CV] C=0.5, gamma=1000, kernel=rbf ...................................\n",
      "[CV]  C=0.5, gamma=1000, kernel=rbf, score=0.6293706293706294, total=   0.0s\n",
      "[CV] C=0.5, gamma=1000, kernel=rbf ...................................\n",
      "[CV]  C=0.5, gamma=1000, kernel=rbf, score=0.6267605633802817, total=   0.0s\n",
      "[CV] C=0.5, gamma=1000, kernel=rbf ...................................\n",
      "[CV]  C=0.5, gamma=1000, kernel=rbf, score=0.6312056737588653, total=   0.0s\n",
      "[CV] C=0.5, gamma=10000, kernel=rbf ..................................\n",
      "[CV]  C=0.5, gamma=10000, kernel=rbf, score=0.6293706293706294, total=   0.0s\n",
      "[CV] C=0.5, gamma=10000, kernel=rbf ..................................\n",
      "[CV]  C=0.5, gamma=10000, kernel=rbf, score=0.6267605633802817, total=   0.0s\n",
      "[CV] C=0.5, gamma=10000, kernel=rbf ..................................\n",
      "[CV]  C=0.5, gamma=10000, kernel=rbf, score=0.6312056737588653, total=   0.0s\n",
      "[CV] C=1, gamma=0.1, kernel=rbf ......................................\n",
      "[CV]  C=1, gamma=0.1, kernel=rbf, score=0.9440559440559441, total=   0.0s\n",
      "[CV] C=1, gamma=0.1, kernel=rbf ......................................\n",
      "[CV]  C=1, gamma=0.1, kernel=rbf, score=0.971830985915493, total=   0.0s\n",
      "[CV] C=1, gamma=0.1, kernel=rbf ......................................\n",
      "[CV]  C=1, gamma=0.1, kernel=rbf, score=0.950354609929078, total=   0.0s\n",
      "[CV] C=1, gamma=1, kernel=rbf ........................................\n",
      "[CV]  C=1, gamma=1, kernel=rbf, score=0.6293706293706294, total=   0.0s\n",
      "[CV] C=1, gamma=1, kernel=rbf ........................................\n",
      "[CV]  C=1, gamma=1, kernel=rbf, score=0.6267605633802817, total=   0.0s\n",
      "[CV] C=1, gamma=1, kernel=rbf ........................................\n",
      "[CV]  C=1, gamma=1, kernel=rbf, score=0.6312056737588653, total=   0.0s\n",
      "[CV] C=1, gamma=10, kernel=rbf .......................................\n",
      "[CV]  C=1, gamma=10, kernel=rbf, score=0.6293706293706294, total=   0.0s\n",
      "[CV] C=1, gamma=10, kernel=rbf .......................................\n",
      "[CV]  C=1, gamma=10, kernel=rbf, score=0.6267605633802817, total=   0.0s\n",
      "[CV] C=1, gamma=10, kernel=rbf .......................................\n",
      "[CV]  C=1, gamma=10, kernel=rbf, score=0.6312056737588653, total=   0.0s\n",
      "[CV] C=1, gamma=100, kernel=rbf ......................................\n",
      "[CV]  C=1, gamma=100, kernel=rbf, score=0.6293706293706294, total=   0.0s\n",
      "[CV] C=1, gamma=100, kernel=rbf ......................................\n",
      "[CV]  C=1, gamma=100, kernel=rbf, score=0.6267605633802817, total=   0.0s\n",
      "[CV] C=1, gamma=100, kernel=rbf ......................................\n",
      "[CV]  C=1, gamma=100, kernel=rbf, score=0.6312056737588653, total=   0.0s\n",
      "[CV] C=1, gamma=1000, kernel=rbf .....................................\n",
      "[CV]  C=1, gamma=1000, kernel=rbf, score=0.6293706293706294, total=   0.0s\n",
      "[CV] C=1, gamma=1000, kernel=rbf .....................................\n",
      "[CV]  C=1, gamma=1000, kernel=rbf, score=0.6267605633802817, total=   0.0s\n",
      "[CV] C=1, gamma=1000, kernel=rbf .....................................\n",
      "[CV]  C=1, gamma=1000, kernel=rbf, score=0.6312056737588653, total=   0.0s\n",
      "[CV] C=1, gamma=10000, kernel=rbf ....................................\n",
      "[CV]  C=1, gamma=10000, kernel=rbf, score=0.6293706293706294, total=   0.0s\n",
      "[CV] C=1, gamma=10000, kernel=rbf ....................................\n",
      "[CV]  C=1, gamma=10000, kernel=rbf, score=0.6267605633802817, total=   0.0s\n",
      "[CV] C=1, gamma=10000, kernel=rbf ....................................\n",
      "[CV]  C=1, gamma=10000, kernel=rbf, score=0.6312056737588653, total=   0.0s\n",
      "[CV] C=2, gamma=0.1, kernel=rbf ......................................\n",
      "[CV]  C=2, gamma=0.1, kernel=rbf, score=0.958041958041958, total=   0.0s\n",
      "[CV] C=2, gamma=0.1, kernel=rbf ......................................\n",
      "[CV]  C=2, gamma=0.1, kernel=rbf, score=0.9647887323943662, total=   0.0s\n",
      "[CV] C=2, gamma=0.1, kernel=rbf ......................................\n",
      "[CV]  C=2, gamma=0.1, kernel=rbf, score=0.950354609929078, total=   0.0s\n",
      "[CV] C=2, gamma=1, kernel=rbf ........................................\n",
      "[CV]  C=2, gamma=1, kernel=rbf, score=0.6293706293706294, total=   0.0s\n",
      "[CV] C=2, gamma=1, kernel=rbf ........................................\n",
      "[CV]  C=2, gamma=1, kernel=rbf, score=0.6267605633802817, total=   0.0s\n",
      "[CV] C=2, gamma=1, kernel=rbf ........................................\n",
      "[CV]  C=2, gamma=1, kernel=rbf, score=0.6312056737588653, total=   0.0s\n",
      "[CV] C=2, gamma=10, kernel=rbf .......................................\n",
      "[CV]  C=2, gamma=10, kernel=rbf, score=0.6293706293706294, total=   0.0s\n",
      "[CV] C=2, gamma=10, kernel=rbf .......................................\n",
      "[CV]  C=2, gamma=10, kernel=rbf, score=0.6267605633802817, total=   0.0s\n",
      "[CV] C=2, gamma=10, kernel=rbf .......................................\n",
      "[CV]  C=2, gamma=10, kernel=rbf, score=0.6312056737588653, total=   0.0s\n",
      "[CV] C=2, gamma=100, kernel=rbf ......................................\n",
      "[CV]  C=2, gamma=100, kernel=rbf, score=0.6293706293706294, total=   0.0s\n",
      "[CV] C=2, gamma=100, kernel=rbf ......................................\n"
     ]
    },
    {
     "name": "stdout",
     "output_type": "stream",
     "text": [
      "[CV]  C=2, gamma=100, kernel=rbf, score=0.6267605633802817, total=   0.0s\n",
      "[CV] C=2, gamma=100, kernel=rbf ......................................\n",
      "[CV]  C=2, gamma=100, kernel=rbf, score=0.6312056737588653, total=   0.0s\n",
      "[CV] C=2, gamma=1000, kernel=rbf .....................................\n",
      "[CV]  C=2, gamma=1000, kernel=rbf, score=0.6293706293706294, total=   0.0s\n",
      "[CV] C=2, gamma=1000, kernel=rbf .....................................\n",
      "[CV]  C=2, gamma=1000, kernel=rbf, score=0.6267605633802817, total=   0.0s\n",
      "[CV] C=2, gamma=1000, kernel=rbf .....................................\n",
      "[CV]  C=2, gamma=1000, kernel=rbf, score=0.6312056737588653, total=   0.0s\n",
      "[CV] C=2, gamma=10000, kernel=rbf ....................................\n",
      "[CV]  C=2, gamma=10000, kernel=rbf, score=0.6293706293706294, total=   0.0s\n",
      "[CV] C=2, gamma=10000, kernel=rbf ....................................\n",
      "[CV]  C=2, gamma=10000, kernel=rbf, score=0.6267605633802817, total=   0.0s\n",
      "[CV] C=2, gamma=10000, kernel=rbf ....................................\n",
      "[CV]  C=2, gamma=10000, kernel=rbf, score=0.6312056737588653, total=   0.0s\n",
      "[CV] C=4, gamma=0.1, kernel=rbf ......................................\n",
      "[CV]  C=4, gamma=0.1, kernel=rbf, score=0.951048951048951, total=   0.0s\n",
      "[CV] C=4, gamma=0.1, kernel=rbf ......................................\n",
      "[CV]  C=4, gamma=0.1, kernel=rbf, score=0.9647887323943662, total=   0.0s\n",
      "[CV] C=4, gamma=0.1, kernel=rbf ......................................\n",
      "[CV]  C=4, gamma=0.1, kernel=rbf, score=0.9574468085106383, total=   0.0s\n",
      "[CV] C=4, gamma=1, kernel=rbf ........................................\n",
      "[CV]  C=4, gamma=1, kernel=rbf, score=0.6293706293706294, total=   0.0s\n",
      "[CV] C=4, gamma=1, kernel=rbf ........................................\n",
      "[CV]  C=4, gamma=1, kernel=rbf, score=0.6267605633802817, total=   0.0s\n",
      "[CV] C=4, gamma=1, kernel=rbf ........................................\n",
      "[CV]  C=4, gamma=1, kernel=rbf, score=0.6312056737588653, total=   0.0s\n",
      "[CV] C=4, gamma=10, kernel=rbf .......................................\n",
      "[CV]  C=4, gamma=10, kernel=rbf, score=0.6293706293706294, total=   0.0s\n",
      "[CV] C=4, gamma=10, kernel=rbf .......................................\n",
      "[CV]  C=4, gamma=10, kernel=rbf, score=0.6267605633802817, total=   0.0s\n",
      "[CV] C=4, gamma=10, kernel=rbf .......................................\n",
      "[CV]  C=4, gamma=10, kernel=rbf, score=0.6312056737588653, total=   0.0s\n",
      "[CV] C=4, gamma=100, kernel=rbf ......................................\n",
      "[CV]  C=4, gamma=100, kernel=rbf, score=0.6293706293706294, total=   0.0s\n",
      "[CV] C=4, gamma=100, kernel=rbf ......................................\n",
      "[CV]  C=4, gamma=100, kernel=rbf, score=0.6267605633802817, total=   0.0s\n",
      "[CV] C=4, gamma=100, kernel=rbf ......................................\n",
      "[CV]  C=4, gamma=100, kernel=rbf, score=0.6312056737588653, total=   0.0s\n",
      "[CV] C=4, gamma=1000, kernel=rbf .....................................\n",
      "[CV]  C=4, gamma=1000, kernel=rbf, score=0.6293706293706294, total=   0.0s\n",
      "[CV] C=4, gamma=1000, kernel=rbf .....................................\n",
      "[CV]  C=4, gamma=1000, kernel=rbf, score=0.6267605633802817, total=   0.0s\n",
      "[CV] C=4, gamma=1000, kernel=rbf .....................................\n",
      "[CV]  C=4, gamma=1000, kernel=rbf, score=0.6312056737588653, total=   0.0s\n",
      "[CV] C=4, gamma=10000, kernel=rbf ....................................\n",
      "[CV]  C=4, gamma=10000, kernel=rbf, score=0.6293706293706294, total=   0.0s\n",
      "[CV] C=4, gamma=10000, kernel=rbf ....................................\n",
      "[CV]  C=4, gamma=10000, kernel=rbf, score=0.6267605633802817, total=   0.0s\n",
      "[CV] C=4, gamma=10000, kernel=rbf ....................................\n",
      "[CV]  C=4, gamma=10000, kernel=rbf, score=0.6312056737588653, total=   0.0s\n",
      "[CV] C=8, gamma=0.1, kernel=rbf ......................................\n",
      "[CV]  C=8, gamma=0.1, kernel=rbf, score=0.958041958041958, total=   0.0s\n",
      "[CV] C=8, gamma=0.1, kernel=rbf ......................................\n",
      "[CV]  C=8, gamma=0.1, kernel=rbf, score=0.9647887323943662, total=   0.0s\n",
      "[CV] C=8, gamma=0.1, kernel=rbf ......................................\n",
      "[CV]  C=8, gamma=0.1, kernel=rbf, score=0.9645390070921985, total=   0.0s\n",
      "[CV] C=8, gamma=1, kernel=rbf ........................................\n",
      "[CV]  C=8, gamma=1, kernel=rbf, score=0.6293706293706294, total=   0.0s\n",
      "[CV] C=8, gamma=1, kernel=rbf ........................................\n",
      "[CV]  C=8, gamma=1, kernel=rbf, score=0.6267605633802817, total=   0.0s\n",
      "[CV] C=8, gamma=1, kernel=rbf ........................................\n",
      "[CV]  C=8, gamma=1, kernel=rbf, score=0.6312056737588653, total=   0.0s\n",
      "[CV] C=8, gamma=10, kernel=rbf .......................................\n",
      "[CV]  C=8, gamma=10, kernel=rbf, score=0.6293706293706294, total=   0.0s\n",
      "[CV] C=8, gamma=10, kernel=rbf .......................................\n",
      "[CV]  C=8, gamma=10, kernel=rbf, score=0.6267605633802817, total=   0.0s\n",
      "[CV] C=8, gamma=10, kernel=rbf .......................................\n",
      "[CV]  C=8, gamma=10, kernel=rbf, score=0.6312056737588653, total=   0.0s\n",
      "[CV] C=8, gamma=100, kernel=rbf ......................................\n",
      "[CV]  C=8, gamma=100, kernel=rbf, score=0.6293706293706294, total=   0.0s\n",
      "[CV] C=8, gamma=100, kernel=rbf ......................................\n",
      "[CV]  C=8, gamma=100, kernel=rbf, score=0.6267605633802817, total=   0.0s\n",
      "[CV] C=8, gamma=100, kernel=rbf ......................................\n",
      "[CV]  C=8, gamma=100, kernel=rbf, score=0.6312056737588653, total=   0.0s\n",
      "[CV] C=8, gamma=1000, kernel=rbf .....................................\n",
      "[CV]  C=8, gamma=1000, kernel=rbf, score=0.6293706293706294, total=   0.0s\n",
      "[CV] C=8, gamma=1000, kernel=rbf .....................................\n",
      "[CV]  C=8, gamma=1000, kernel=rbf, score=0.6267605633802817, total=   0.0s\n",
      "[CV] C=8, gamma=1000, kernel=rbf .....................................\n",
      "[CV]  C=8, gamma=1000, kernel=rbf, score=0.6312056737588653, total=   0.0s\n",
      "[CV] C=8, gamma=10000, kernel=rbf ....................................\n",
      "[CV]  C=8, gamma=10000, kernel=rbf, score=0.6293706293706294, total=   0.0s\n",
      "[CV] C=8, gamma=10000, kernel=rbf ....................................\n",
      "[CV]  C=8, gamma=10000, kernel=rbf, score=0.6267605633802817, total=   0.0s\n",
      "[CV] C=8, gamma=10000, kernel=rbf ....................................\n",
      "[CV]  C=8, gamma=10000, kernel=rbf, score=0.6312056737588653, total=   0.0s\n",
      "[CV] C=20, gamma=0.1, kernel=rbf .....................................\n",
      "[CV]  C=20, gamma=0.1, kernel=rbf, score=0.951048951048951, total=   0.0s\n",
      "[CV] C=20, gamma=0.1, kernel=rbf .....................................\n",
      "[CV]  C=20, gamma=0.1, kernel=rbf, score=0.9647887323943662, total=   0.0s\n",
      "[CV] C=20, gamma=0.1, kernel=rbf .....................................\n",
      "[CV]  C=20, gamma=0.1, kernel=rbf, score=0.9645390070921985, total=   0.0s\n",
      "[CV] C=20, gamma=1, kernel=rbf .......................................\n",
      "[CV]  C=20, gamma=1, kernel=rbf, score=0.6293706293706294, total=   0.0s\n",
      "[CV] C=20, gamma=1, kernel=rbf .......................................\n",
      "[CV]  C=20, gamma=1, kernel=rbf, score=0.6267605633802817, total=   0.0s\n",
      "[CV] C=20, gamma=1, kernel=rbf .......................................\n",
      "[CV]  C=20, gamma=1, kernel=rbf, score=0.6312056737588653, total=   0.0s\n",
      "[CV] C=20, gamma=10, kernel=rbf ......................................\n",
      "[CV]  C=20, gamma=10, kernel=rbf, score=0.6293706293706294, total=   0.0s\n",
      "[CV] C=20, gamma=10, kernel=rbf ......................................\n",
      "[CV]  C=20, gamma=10, kernel=rbf, score=0.6267605633802817, total=   0.0s\n",
      "[CV] C=20, gamma=10, kernel=rbf ......................................\n",
      "[CV]  C=20, gamma=10, kernel=rbf, score=0.6312056737588653, total=   0.0s\n",
      "[CV] C=20, gamma=100, kernel=rbf .....................................\n",
      "[CV]  C=20, gamma=100, kernel=rbf, score=0.6293706293706294, total=   0.0s\n",
      "[CV] C=20, gamma=100, kernel=rbf .....................................\n",
      "[CV]  C=20, gamma=100, kernel=rbf, score=0.6267605633802817, total=   0.0s\n",
      "[CV] C=20, gamma=100, kernel=rbf .....................................\n",
      "[CV]  C=20, gamma=100, kernel=rbf, score=0.6312056737588653, total=   0.0s\n",
      "[CV] C=20, gamma=1000, kernel=rbf ....................................\n",
      "[CV]  C=20, gamma=1000, kernel=rbf, score=0.6293706293706294, total=   0.0s\n",
      "[CV] C=20, gamma=1000, kernel=rbf ....................................\n",
      "[CV]  C=20, gamma=1000, kernel=rbf, score=0.6267605633802817, total=   0.0s\n",
      "[CV] C=20, gamma=1000, kernel=rbf ....................................\n"
     ]
    },
    {
     "name": "stdout",
     "output_type": "stream",
     "text": [
      "[CV]  C=20, gamma=1000, kernel=rbf, score=0.6312056737588653, total=   0.0s\n",
      "[CV] C=20, gamma=10000, kernel=rbf ...................................\n",
      "[CV]  C=20, gamma=10000, kernel=rbf, score=0.6293706293706294, total=   0.0s\n",
      "[CV] C=20, gamma=10000, kernel=rbf ...................................\n",
      "[CV]  C=20, gamma=10000, kernel=rbf, score=0.6267605633802817, total=   0.0s\n",
      "[CV] C=20, gamma=10000, kernel=rbf ...................................\n",
      "[CV]  C=20, gamma=10000, kernel=rbf, score=0.6312056737588653, total=   0.0s\n",
      "[CV] C=100, gamma=0.1, kernel=rbf ....................................\n",
      "[CV]  C=100, gamma=0.1, kernel=rbf, score=0.951048951048951, total=   0.0s\n",
      "[CV] C=100, gamma=0.1, kernel=rbf ....................................\n",
      "[CV]  C=100, gamma=0.1, kernel=rbf, score=0.9647887323943662, total=   0.0s\n",
      "[CV] C=100, gamma=0.1, kernel=rbf ....................................\n",
      "[CV]  C=100, gamma=0.1, kernel=rbf, score=0.9645390070921985, total=   0.0s\n",
      "[CV] C=100, gamma=1, kernel=rbf ......................................\n",
      "[CV]  C=100, gamma=1, kernel=rbf, score=0.6293706293706294, total=   0.0s\n",
      "[CV] C=100, gamma=1, kernel=rbf ......................................\n",
      "[CV]  C=100, gamma=1, kernel=rbf, score=0.6267605633802817, total=   0.0s\n",
      "[CV] C=100, gamma=1, kernel=rbf ......................................\n",
      "[CV]  C=100, gamma=1, kernel=rbf, score=0.6312056737588653, total=   0.0s\n",
      "[CV] C=100, gamma=10, kernel=rbf .....................................\n",
      "[CV]  C=100, gamma=10, kernel=rbf, score=0.6293706293706294, total=   0.0s\n",
      "[CV] C=100, gamma=10, kernel=rbf .....................................\n",
      "[CV]  C=100, gamma=10, kernel=rbf, score=0.6267605633802817, total=   0.0s\n",
      "[CV] C=100, gamma=10, kernel=rbf .....................................\n",
      "[CV]  C=100, gamma=10, kernel=rbf, score=0.6312056737588653, total=   0.0s\n",
      "[CV] C=100, gamma=100, kernel=rbf ....................................\n",
      "[CV]  C=100, gamma=100, kernel=rbf, score=0.6293706293706294, total=   0.0s\n",
      "[CV] C=100, gamma=100, kernel=rbf ....................................\n",
      "[CV]  C=100, gamma=100, kernel=rbf, score=0.6267605633802817, total=   0.0s\n",
      "[CV] C=100, gamma=100, kernel=rbf ....................................\n",
      "[CV]  C=100, gamma=100, kernel=rbf, score=0.6312056737588653, total=   0.0s\n",
      "[CV] C=100, gamma=1000, kernel=rbf ...................................\n",
      "[CV]  C=100, gamma=1000, kernel=rbf, score=0.6293706293706294, total=   0.0s\n",
      "[CV] C=100, gamma=1000, kernel=rbf ...................................\n",
      "[CV]  C=100, gamma=1000, kernel=rbf, score=0.6267605633802817, total=   0.0s\n",
      "[CV] C=100, gamma=1000, kernel=rbf ...................................\n",
      "[CV]  C=100, gamma=1000, kernel=rbf, score=0.6312056737588653, total=   0.0s\n",
      "[CV] C=100, gamma=10000, kernel=rbf ..................................\n",
      "[CV]  C=100, gamma=10000, kernel=rbf, score=0.6293706293706294, total=   0.0s\n",
      "[CV] C=100, gamma=10000, kernel=rbf ..................................\n",
      "[CV]  C=100, gamma=10000, kernel=rbf, score=0.6267605633802817, total=   0.0s\n",
      "[CV] C=100, gamma=10000, kernel=rbf ..................................\n",
      "[CV]  C=100, gamma=10000, kernel=rbf, score=0.6312056737588653, total=   0.0s\n"
     ]
    },
    {
     "name": "stderr",
     "output_type": "stream",
     "text": [
      "[Parallel(n_jobs=1)]: Done 144 out of 144 | elapsed:    1.9s finished\n"
     ]
    },
    {
     "data": {
      "text/plain": [
       "0.958041958041958"
      ]
     },
     "execution_count": 126,
     "metadata": {},
     "output_type": "execute_result"
    }
   ],
   "source": [
    "# model optimization through scaling data\n",
    "param_grid = {'C':[0.1, 0.5, 1, 2, 4, 8, 20, 100],'gamma': [0.1, 1, 10, 100, 1000, 10000],'kernel':['rbf']}\n",
    "from sklearn.model_selection import GridSearchCV\n",
    "grid=GridSearchCV(SVC(),param_grid,refit=True,verbose=3)\n",
    "grid.fit(scaled_xtrain,y_train)\n",
    "grid.score(scaled_xtest,y_test)"
   ]
  },
  {
   "cell_type": "code",
   "execution_count": null,
   "metadata": {},
   "outputs": [],
   "source": []
  }
 ],
 "metadata": {
  "anaconda-cloud": {},
  "kernelspec": {
   "display_name": "Python 3",
   "language": "python",
   "name": "python3"
  },
  "language_info": {
   "codemirror_mode": {
    "name": "ipython",
    "version": 3
   },
   "file_extension": ".py",
   "mimetype": "text/x-python",
   "name": "python",
   "nbconvert_exporter": "python",
   "pygments_lexer": "ipython3",
   "version": "3.7.3"
  },
  "latex_metadata": {
   "author": "Andreas C. M\\\"ller",
   "title": "Machine Learning with Python"
  }
 },
 "nbformat": 4,
 "nbformat_minor": 1
}
