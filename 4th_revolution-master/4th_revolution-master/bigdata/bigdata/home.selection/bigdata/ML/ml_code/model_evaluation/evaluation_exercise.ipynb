{
 "cells": [
  {
   "cell_type": "markdown",
   "metadata": {},
   "source": [
    "### 평가 지표 및 측정\n",
    "#### 최종 목표를 기억하라"
   ]
  },
  {
   "cell_type": "code",
   "execution_count": 3,
   "metadata": {},
   "outputs": [],
   "source": [
    "from sklearn.model_selection import train_test_split\n",
    "from sklearn.datasets import load_digits\n",
    "\n",
    "digits = load_digits()\n",
    "y = digits.target == 9\n",
    "\n",
    "X_train, X_test, y_train, y_test = train_test_split(\n",
    "    digits.data, y, random_state=0)"
   ]
  },
  {
   "cell_type": "code",
   "execution_count": 6,
   "metadata": {},
   "outputs": [
    {
     "data": {
      "text/plain": [
       "array([[ 0.,  0.,  5., ...,  0.,  0.,  0.],\n",
       "       [ 0.,  0.,  0., ..., 10.,  0.,  0.],\n",
       "       [ 0.,  0.,  0., ..., 16.,  9.,  0.],\n",
       "       ...,\n",
       "       [ 0.,  0.,  1., ...,  6.,  0.,  0.],\n",
       "       [ 0.,  0.,  2., ..., 12.,  0.,  0.],\n",
       "       [ 0.,  0., 10., ..., 12.,  1.,  0.]])"
      ]
     },
     "execution_count": 6,
     "metadata": {},
     "output_type": "execute_result"
    }
   ],
   "source": [
    "digits.data"
   ]
  },
  {
   "cell_type": "code",
   "execution_count": 13,
   "metadata": {},
   "outputs": [
    {
     "ename": "AttributeError",
     "evalue": "module 'matplotlib.pyplot' has no attribute 'imgshow'",
     "output_type": "error",
     "traceback": [
      "\u001b[1;31m---------------------------------------------------------------------------\u001b[0m",
      "\u001b[1;31mAttributeError\u001b[0m                            Traceback (most recent call last)",
      "\u001b[1;32m<ipython-input-13-ccbb75af891d>\u001b[0m in \u001b[0;36m<module>\u001b[1;34m\u001b[0m\n\u001b[0;32m      1\u001b[0m \u001b[1;32mimport\u001b[0m \u001b[0mmatplotlib\u001b[0m\u001b[1;33m.\u001b[0m\u001b[0mpyplot\u001b[0m \u001b[1;32mas\u001b[0m \u001b[0mplt\u001b[0m\u001b[1;33m\u001b[0m\u001b[1;33m\u001b[0m\u001b[0m\n\u001b[1;32m----> 2\u001b[1;33m \u001b[0mplt\u001b[0m\u001b[1;33m.\u001b[0m\u001b[0mimgshow\u001b[0m\u001b[1;33m(\u001b[0m\u001b[0mdigits\u001b[0m\u001b[1;33m.\u001b[0m\u001b[0mimages\u001b[0m\u001b[1;33m[\u001b[0m\u001b[1;36m0\u001b[0m\u001b[1;33m]\u001b[0m\u001b[1;33m)\u001b[0m\u001b[1;33m\u001b[0m\u001b[1;33m\u001b[0m\u001b[0m\n\u001b[0m",
      "\u001b[1;31mAttributeError\u001b[0m: module 'matplotlib.pyplot' has no attribute 'imgshow'"
     ]
    }
   ],
   "source": [
    "# import matplotlib.pyplot as plt\n",
    "# plt.imgshow(digits.images[0])"
   ]
  },
  {
   "cell_type": "code",
   "execution_count": null,
   "metadata": {},
   "outputs": [],
   "source": []
  },
  {
   "cell_type": "code",
   "execution_count": 14,
   "metadata": {},
   "outputs": [
    {
     "name": "stdout",
     "output_type": "stream",
     "text": [
      "예측된 레이블의 고유값: [False]\n",
      "테스트 점수: 0.90\n"
     ]
    }
   ],
   "source": [
    "import numpy as np\n",
    "from sklearn.dummy import DummyClassifier\n",
    "dummy_majority = DummyClassifier(strategy='most_frequent').\\\n",
    "                            fit(X_train, y_train)\n",
    "pred_most_frequent = dummy_majority.predict(X_test)\n",
    "print(\"예측된 레이블의 고유값: {}\".format(np.unique(pred_most_frequent)))\n",
    "print(\"테스트 점수: {:.2f}\".format(dummy_majority.score(X_test, y_test)))"
   ]
  },
  {
   "cell_type": "code",
   "execution_count": 15,
   "metadata": {},
   "outputs": [
    {
     "name": "stdout",
     "output_type": "stream",
     "text": [
      "테스트 점수: 0.92\n"
     ]
    }
   ],
   "source": [
    "from sklearn.tree import DecisionTreeClassifier\n",
    "tree = DecisionTreeClassifier(max_depth=2).fit(X_train, y_train)\n",
    "pred_tree = tree.predict(X_test)\n",
    "print(\"테스트 점수: {:.2f}\".format(tree.score(X_test, y_test)))"
   ]
  },
  {
   "cell_type": "code",
   "execution_count": 16,
   "metadata": {},
   "outputs": [
    {
     "name": "stdout",
     "output_type": "stream",
     "text": [
      "dummy 점수: 0.84\n",
      "logreg 점수: 0.98\n"
     ]
    },
    {
     "name": "stderr",
     "output_type": "stream",
     "text": [
      "C:\\Users\\user\\Anaconda3\\lib\\site-packages\\sklearn\\linear_model\\logistic.py:433: FutureWarning: Default solver will be changed to 'lbfgs' in 0.22. Specify a solver to silence this warning.\n",
      "  FutureWarning)\n"
     ]
    }
   ],
   "source": [
    "from sklearn.linear_model import LogisticRegression\n",
    "\n",
    "dummy = DummyClassifier().fit(X_train, y_train)\n",
    "pred_dummy = dummy.predict(X_test)\n",
    "print(\"dummy 점수: {:.2f}\".format(dummy.score(X_test, y_test)))\n",
    "\n",
    "logreg = LogisticRegression(C=0.1).fit(X_train, y_train)\n",
    "pred_logreg = logreg.predict(X_test)\n",
    "print(\"logreg 점수: {:.2f}\".format(logreg.score(X_test, y_test)))"
   ]
  },
  {
   "cell_type": "markdown",
   "metadata": {},
   "source": [
    "##### 오차 행렬(Confusion matrices)"
   ]
  },
  {
   "cell_type": "code",
   "execution_count": 17,
   "metadata": {},
   "outputs": [
    {
     "name": "stdout",
     "output_type": "stream",
     "text": [
      "오차 행렬:\n",
      "[[401   2]\n",
      " [  8  39]]\n"
     ]
    }
   ],
   "source": [
    "from sklearn.metrics import confusion_matrix\n",
    "\n",
    "confusion = confusion_matrix(y_test, pred_logreg)\n",
    "print(\"오차 행렬:\\n{}\".format(confusion))"
   ]
  },
  {
   "cell_type": "code",
   "execution_count": 19,
   "metadata": {},
   "outputs": [
    {
     "data": {
      "image/png": "[encoded data removed]",
      "text/plain": [
       "<Figure size 576x576 with 1 Axes>"
      ]
     },
     "metadata": {
      "needs_background": "light"
     },
     "output_type": "display_data"
    }
   ],
   "source": [
    "import mglearn\n",
    "mglearn.plots.plot_confusion_matrix_illustration()"
   ]
  },
  {
   "cell_type": "code",
   "execution_count": null,
   "metadata": {},
   "outputs": [],
   "source": [
    "mglearn.plots.plot_binary_confusion_matrix()"
   ]
  },
  {
   "cell_type": "code",
   "execution_count": 20,
   "metadata": {},
   "outputs": [
    {
     "name": "stdout",
     "output_type": "stream",
     "text": [
      "빈도 기반 더미 모델:\n",
      "[[403   0]\n",
      " [ 47   0]]\n",
      "\n",
      "무작위 더미 모델:\n",
      "[[369  34]\n",
      " [ 43   4]]\n",
      "\n",
      "결정 트리:\n",
      "[[390  13]\n",
      " [ 24  23]]\n",
      "\n",
      "로지스틱 회귀\n",
      "[[401   2]\n",
      " [  8  39]]\n"
     ]
    }
   ],
   "source": [
    "print(\"빈도 기반 더미 모델:\")\n",
    "print(confusion_matrix(y_test, pred_most_frequent))\n",
    "print(\"\\n무작위 더미 모델:\")\n",
    "print(confusion_matrix(y_test, pred_dummy))\n",
    "print(\"\\n결정 트리:\")\n",
    "print(confusion_matrix(y_test, pred_tree))\n",
    "print(\"\\n로지스틱 회귀\")\n",
    "print(confusion_matrix(y_test, pred_logreg))"
   ]
  },
  {
   "cell_type": "markdown",
   "metadata": {},
   "source": [
    "###### 정확도와의 관계\n",
    "\\begin{equation}\n",
    "\\text{Accuracy} = \\frac{\\text{TP} + \\text{TN}}{\\text{TP} + \\text{TN} + \\text{FP} + \\text{FN}}\n",
    "\\end{equation}"
   ]
  },
  {
   "cell_type": "markdown",
   "metadata": {},
   "source": [
    "###### 정밀도, 재현율, f-점수\n",
    "\\begin{equation}\n",
    "\\text{정밀도} = \\frac{\\text{TP}}{\\text{TP} + \\text{FP}}\n",
    "\\end{equation}"
   ]
  },
  {
   "cell_type": "markdown",
   "metadata": {
    "collapsed": true,
    "hide_input": false
   },
   "source": [
    "\\begin{equation}\n",
    "\\text{재현율} = \\frac{\\text{TP}}{\\text{TP} + \\text{FN}}\n",
    "\\end{equation}"
   ]
  },
  {
   "cell_type": "markdown",
   "metadata": {},
   "source": [
    "\\begin{equation}\n",
    "\\text{F} = 2 \\cdot \\frac{\\text{정밀도} \\cdot \\text{재현율}}{\\text{정밀도} + \\text{재현율}}\n",
    "\\end{equation}"
   ]
  },
  {
   "cell_type": "code",
   "execution_count": 21,
   "metadata": {
    "scrolled": true
   },
   "outputs": [
    {
     "name": "stdout",
     "output_type": "stream",
     "text": [
      "빈도 기반 더미 모델의 f1 score: 0.00\n",
      "무작위 더미 모델의 f1 score: 0.09\n",
      "트리 모델의 f1 score: 0.55\n",
      "로지스틱 회귀 모델의 f1 score: 0.89\n"
     ]
    },
    {
     "name": "stderr",
     "output_type": "stream",
     "text": [
      "C:\\Users\\user\\Anaconda3\\lib\\site-packages\\sklearn\\metrics\\classification.py:1143: UndefinedMetricWarning: F-score is ill-defined and being set to 0.0 due to no predicted samples.\n",
      "  'precision', 'predicted', average, warn_for)\n"
     ]
    }
   ],
   "source": [
    "from sklearn.metrics import f1_score\n",
    "print(\"빈도 기반 더미 모델의 f1 score: {:.2f}\".format(\n",
    "    f1_score(y_test, pred_most_frequent)))\n",
    "print(\"무작위 더미 모델의 f1 score: {:.2f}\".\\\n",
    "                format(f1_score(y_test, pred_dummy)))\n",
    "print(\"트리 모델의 f1 score: {:.2f}\".\\\n",
    "                format(f1_score(y_test, pred_tree)))\n",
    "print(\"로지스틱 회귀 모델의 f1 score: {:.2f}\".format(\n",
    "    f1_score(y_test, pred_logreg)))"
   ]
  },
  {
   "cell_type": "code",
   "execution_count": 22,
   "metadata": {},
   "outputs": [
    {
     "name": "stdout",
     "output_type": "stream",
     "text": [
      "              precision    recall  f1-score   support\n",
      "\n",
      "        9 아님       0.90      1.00      0.94       403\n",
      "           9       0.00      0.00      0.00        47\n",
      "\n",
      "   micro avg       0.90      0.90      0.90       450\n",
      "   macro avg       0.45      0.50      0.47       450\n",
      "weighted avg       0.80      0.90      0.85       450\n",
      "\n"
     ]
    },
    {
     "name": "stderr",
     "output_type": "stream",
     "text": [
      "C:\\Users\\user\\Anaconda3\\lib\\site-packages\\sklearn\\metrics\\classification.py:1143: UndefinedMetricWarning: Precision and F-score are ill-defined and being set to 0.0 in labels with no predicted samples.\n",
      "  'precision', 'predicted', average, warn_for)\n"
     ]
    }
   ],
   "source": [
    "from sklearn.metrics import classification_report\n",
    "print(classification_report(y_test, pred_most_frequent,\n",
    "                            target_names=[\"9 아님\", \"9\"]))"
   ]
  },
  {
   "cell_type": "code",
   "execution_count": 23,
   "metadata": {},
   "outputs": [
    {
     "name": "stdout",
     "output_type": "stream",
     "text": [
      "              precision    recall  f1-score   support\n",
      "\n",
      "        9 아님       0.90      0.92      0.91       403\n",
      "           9       0.11      0.09      0.09        47\n",
      "\n",
      "   micro avg       0.83      0.83      0.83       450\n",
      "   macro avg       0.50      0.50      0.50       450\n",
      "weighted avg       0.81      0.83      0.82       450\n",
      "\n"
     ]
    }
   ],
   "source": [
    "print(classification_report(y_test, pred_dummy,\n",
    "                            target_names=[\"9 아님\", \"9\"]))"
   ]
  },
  {
   "cell_type": "code",
   "execution_count": 24,
   "metadata": {},
   "outputs": [
    {
     "name": "stdout",
     "output_type": "stream",
     "text": [
      "              precision    recall  f1-score   support\n",
      "\n",
      "        9 아님       0.94      0.97      0.95       403\n",
      "           9       0.64      0.49      0.55        47\n",
      "\n",
      "   micro avg       0.92      0.92      0.92       450\n",
      "   macro avg       0.79      0.73      0.75       450\n",
      "weighted avg       0.91      0.92      0.91       450\n",
      "\n"
     ]
    }
   ],
   "source": [
    "print(classification_report(y_test, pred_tree,\n",
    "                            target_names=[\"9 아님\", \"9\"]))"
   ]
  },
  {
   "cell_type": "code",
   "execution_count": 25,
   "metadata": {},
   "outputs": [
    {
     "name": "stdout",
     "output_type": "stream",
     "text": [
      "              precision    recall  f1-score   support\n",
      "\n",
      "        9 아님       0.98      1.00      0.99       403\n",
      "           9       0.95      0.83      0.89        47\n",
      "\n",
      "   micro avg       0.98      0.98      0.98       450\n",
      "   macro avg       0.97      0.91      0.94       450\n",
      "weighted avg       0.98      0.98      0.98       450\n",
      "\n"
     ]
    }
   ],
   "source": [
    "print(classification_report(y_test, pred_logreg,\n",
    "                            target_names=[\"9 아님\", \"9\"]))"
   ]
  },
  {
   "cell_type": "markdown",
   "metadata": {},
   "source": [
    "##### 불확실성 고려"
   ]
  },
  {
   "cell_type": "code",
   "execution_count": 63,
   "metadata": {},
   "outputs": [],
   "source": [
    "from sklearn.datasets import make_blobs\n",
    "from sklearn.linear_model import LogisticRegression\n",
    "from sklearn.model_selection import train_test_split\n",
    "\n",
    "from sklearn.model_selection import GridSearchCV\n",
    "from sklearn.svm import SVC\n",
    "\n",
    "from sklearn.model_selection import cross_val_score\n",
    "from sklearn.metrics import classification_report\n",
    "from sklearn.metrics import confusion_matrix"
   ]
  },
  {
   "cell_type": "code",
   "execution_count": 64,
   "metadata": {},
   "outputs": [
    {
     "name": "stdout",
     "output_type": "stream",
     "text": [
      "[[-1.13123317e+01 -1.20918530e+00]\n",
      " [ 3.63377400e+00  2.58952562e+00]\n",
      " [-2.03502489e+00  3.38227669e+00]\n",
      " [-5.91332658e+00  1.25783496e+01]\n",
      " [-1.55257743e+01 -9.00101590e+00]\n",
      " [-3.27459673e+00  2.05854157e+00]\n",
      " [-3.38538661e+00 -5.83864971e+00]\n",
      " [-2.40737735e+00  1.35475275e+00]\n",
      " [-3.57544439e+00 -5.33265314e+00]\n",
      " [-2.80476414e+00 -1.31700661e+00]\n",
      " [-1.26992172e+01 -8.87231672e+00]\n",
      " [-7.04586997e+00 -3.21313828e+00]\n",
      " [ 2.40570228e+00 -5.19551470e+00]\n",
      " [-1.01731953e+01 -5.85196829e+00]\n",
      " [-5.52518616e+00  3.81125199e+00]\n",
      " [-1.03533045e+01  1.99489625e+00]\n",
      " [-1.34664801e+00  5.06861451e+00]\n",
      " [-2.41046853e+00  6.33209004e+00]\n",
      " [ 6.09258713e+00  2.06579987e+00]\n",
      " [-8.07561536e+00 -3.70871625e+00]\n",
      " [ 1.64358585e+00 -7.06886588e+00]\n",
      " [-1.68091223e+00 -1.00768886e+01]\n",
      " [-9.27603241e+00  1.17658621e-01]\n",
      " [-7.55262603e+00  3.12471356e+00]\n",
      " [ 8.49341927e-01  5.96754110e+00]\n",
      " [-1.71652375e+00  4.89984429e+00]\n",
      " [ 5.59384574e+00 -9.54550755e+00]\n",
      " [-5.55877909e+00  8.44258335e+00]\n",
      " [ 1.77902916e+00 -1.53258539e+00]\n",
      " [-1.16308104e+01 -3.71376123e+00]\n",
      " [-3.50859362e+00  1.05308086e+01]\n",
      " [-2.32668820e+01  2.71119395e+00]\n",
      " [-5.69727735e-01  5.34609490e+00]\n",
      " [-2.07408446e+01 -1.38270302e+00]\n",
      " [ 1.43280315e+00  1.21169250e+01]\n",
      " [-3.25607982e+00  7.29427812e+00]\n",
      " [ 5.47475060e+00  1.25960922e+01]\n",
      " [-1.32023844e+01  1.72471740e+01]\n",
      " [ 3.88789782e+00 -3.67553041e+00]\n",
      " [-3.67100823e+00  6.13930620e-01]\n",
      " [-7.30798980e+00  2.18982649e-01]\n",
      " [ 4.33036032e+00  3.32175024e+00]\n",
      " [-1.15362700e+01 -4.32805180e+00]\n",
      " [-6.76614271e+00 -4.88011642e+00]\n",
      " [-7.28058251e+00 -1.02395013e+01]\n",
      " [-3.23688301e+00 -4.31994944e+00]\n",
      " [-1.15801642e+01 -7.54662028e-01]\n",
      " [-1.15363700e+01  3.64041025e+00]\n",
      " [-2.97434833e+00  6.81299483e+00]\n",
      " [-7.10414922e+00 -5.55567765e+00]\n",
      " [ 6.00961268e-01 -8.09180347e+00]\n",
      " [ 1.49631182e+00  4.03762462e+00]\n",
      " [-3.26392966e-01  4.89799226e+00]\n",
      " [-2.25354408e+00  1.01336047e+01]\n",
      " [-2.07478235e+01  4.10218076e-01]\n",
      " [-6.71876388e+00 -3.35934884e+00]\n",
      " [-2.20725376e+00  5.10485648e+00]\n",
      " [-1.84664625e+00  1.00253223e+01]\n",
      " [-1.01947118e+00 -8.00273245e+00]\n",
      " [-7.05305878e-01  6.77899274e+00]\n",
      " [-7.80932293e+00  1.02418545e+01]\n",
      " [-1.31680763e+01 -5.22352968e+00]\n",
      " [ 4.64994723e+00 -4.89219082e+00]\n",
      " [-4.87340689e+00 -2.03794386e+00]\n",
      " [-1.43819031e+01 -4.15406281e+00]\n",
      " [-3.19251062e+00  1.09468970e+01]\n",
      " [-2.11608228e+01 -1.11217198e+01]\n",
      " [-8.27472874e+00 -8.16959452e+00]\n",
      " [-1.64567591e+01 -2.71636949e+00]\n",
      " [-1.83186248e+00  5.02822969e+00]\n",
      " [ 1.31982561e+01  6.42148475e+00]\n",
      " [-2.27424145e+00  7.00712462e+00]\n",
      " [-7.47482596e+00 -1.04932298e+00]\n",
      " [-9.18195788e+00  4.82376359e-02]\n",
      " [-5.74100638e+00 -8.98838768e+00]\n",
      " [-7.98954447e+00 -8.82110601e+00]\n",
      " [ 4.70526896e+00 -4.33075764e+00]\n",
      " [-4.52627773e+00  5.99164544e+00]\n",
      " [-1.16217843e+01 -8.25069244e+00]\n",
      " [-2.23961469e+00  8.32352124e+00]\n",
      " [-1.21892630e+01 -1.29023833e+01]\n",
      " [-6.15084012e+00 -3.23869736e+00]\n",
      " [-1.10990792e+01 -3.09357777e-01]\n",
      " [-1.42610916e+01  1.08030430e+01]\n",
      " [-3.31316128e+00  6.66172043e+00]\n",
      " [-1.32186143e+01  3.55431743e+00]\n",
      " [-1.06617935e+01  1.85160880e-01]\n",
      " [-8.48350530e+00 -4.52574123e-01]\n",
      " [-2.58169609e+00 -8.98606619e+00]\n",
      " [-1.63421498e+01  1.50029061e+01]\n",
      " [-5.99353078e+00  6.08365654e+00]\n",
      " [-7.57886698e+00  2.67613724e+00]\n",
      " [ 2.62103361e+00  8.39165265e+00]\n",
      " [ 4.24934810e+00 -8.06221461e+00]\n",
      " [ 2.28919703e+00 -1.52141411e+00]\n",
      " [ 5.16501437e-01 -7.28511261e+00]\n",
      " [-1.65605394e+01  2.46847347e+00]\n",
      " [-9.86308875e-01  2.83093935e+00]\n",
      " [-4.41576917e+00 -5.06976935e+00]\n",
      " [ 4.46405852e+00 -1.26165069e-02]\n",
      " [ 1.70214709e+00  1.01656430e+01]\n",
      " [-1.94949836e+00 -5.01600654e-01]\n",
      " [-4.67186798e+00 -1.08863445e+01]\n",
      " [-1.56180759e+01 -1.69370433e+01]\n",
      " [ 1.04014759e-01  6.47467917e+00]\n",
      " [-1.34395706e-01 -1.04180774e+01]\n",
      " [-1.20973728e+00  8.13609749e+00]\n",
      " [-2.68898929e+00  1.15164555e+01]\n",
      " [-1.43235572e+01  1.11446222e+01]\n",
      " [-1.10110242e+01  1.15582095e+01]\n",
      " [ 4.53167783e+00 -4.89965469e+00]\n",
      " [-5.68818522e+00  7.21650412e+00]\n",
      " [-3.93727056e+00  6.49528415e+00]\n",
      " [ 6.94500627e-01 -3.08333178e+00]\n",
      " [-1.39985839e+01  1.53250811e+01]\n",
      " [-1.29554802e+01  1.01496537e+01]\n",
      " [ 1.14456724e+01 -5.23626328e+00]\n",
      " [-1.09390764e+01 -2.49207342e+00]\n",
      " [-9.59798021e+00  4.67377782e+00]\n",
      " [ 5.21469245e+00  2.93096345e+00]\n",
      " [-5.85119023e+00  7.39876558e+00]\n",
      " [-8.39833866e-01  7.28482988e-01]\n",
      " [ 6.77653191e-01  5.01009433e+00]\n",
      " [ 2.31849686e-01 -8.18546917e+00]\n",
      " [-1.65505284e+01 -1.67977846e+01]\n",
      " [-5.62880342e+00 -1.98174908e+00]\n",
      " [-1.42246724e+00  1.15375255e+01]\n",
      " [-1.04198004e+01 -3.18167095e+00]\n",
      " [-1.68687826e+01  1.14828933e+01]\n",
      " [-9.31189629e+00 -2.24417534e+00]\n",
      " [-8.78245274e+00 -5.33813807e+00]\n",
      " [-1.09901733e+01  5.60837209e+00]\n",
      " [-1.21872042e+01  5.48026506e+00]\n",
      " [-1.19393897e+01  3.47979011e+00]\n",
      " [-3.36588133e+00 -7.53760895e+00]\n",
      " [-1.66770422e+00  6.44431103e+00]\n",
      " [-6.90439929e+00 -1.19448512e+00]\n",
      " [-6.97651467e+00 -1.47304774e+00]\n",
      " [-1.76239776e+01  2.27576069e+00]\n",
      " [-1.35856473e+01  1.43766415e+01]\n",
      " [-2.40553909e+00  6.14520885e+00]\n",
      " [-1.01848380e+01  6.95895714e+00]\n",
      " [-1.69213794e+00  8.90705761e+00]\n",
      " [-2.95857645e+01  6.79759897e-01]\n",
      " [-3.14976127e+00  8.51719448e+00]\n",
      " [-1.18110148e+01  7.12538602e+00]\n",
      " [-3.28937559e+00  3.52386911e+00]\n",
      " [-5.92283492e+00 -7.83784712e+00]\n",
      " [-3.55420631e+00  6.18612230e+00]\n",
      " [-6.86085922e+00 -8.27720892e+00]\n",
      " [ 1.38828670e+00  1.05035807e+01]\n",
      " [ 4.58735808e+00  3.52037474e+00]\n",
      " [-9.26869321e+00 -7.38228284e+00]\n",
      " [-4.95106960e+00 -1.30117823e+01]\n",
      " [-1.25471058e+01  1.87375878e+00]\n",
      " [-3.91017894e+00  4.71510841e+00]\n",
      " [-1.24185319e+01  3.02699278e+00]\n",
      " [-1.41649990e+00  8.64540974e+00]\n",
      " [-1.81675343e-02  6.73838232e+00]\n",
      " [ 3.80706642e+00  3.91978734e+00]\n",
      " [ 4.24936061e+00 -9.95845672e+00]\n",
      " [-4.71360445e+00  7.92966330e+00]\n",
      " [-7.42469653e+00  8.02468065e+00]\n",
      " [-9.36520281e+00  1.51348401e+00]\n",
      " [ 4.39046449e+00  8.89422843e+00]\n",
      " [-2.62557712e+00 -4.18321996e+00]\n",
      " [ 5.13200934e-01  7.65199675e+00]\n",
      " [-9.76563494e+00 -1.30387065e+00]\n",
      " [-2.01269268e+01 -7.72660088e+00]\n",
      " [-1.44533506e+00 -4.29697523e+00]\n",
      " [-3.37065995e+00  4.23307286e+00]\n",
      " [ 7.01098972e+00 -6.62421186e+00]\n",
      " [-1.19139050e+01 -6.27693436e+00]\n",
      " [-3.88459492e+00  7.25465142e-01]\n",
      " [-6.12554195e+00 -7.40129053e+00]\n",
      " [-1.16542483e-01 -6.32916987e+00]\n",
      " [-3.10596353e+00  1.15712570e+01]\n",
      " [ 2.55618621e+00 -1.23429693e+01]\n",
      " [-9.22511682e-01 -1.15579930e+01]\n",
      " [-7.16949955e+00  1.66103966e-01]\n",
      " [-2.19633578e+00  3.62674573e+00]\n",
      " [-4.72808579e+00  6.13200231e-02]\n",
      " [-3.36657619e+00 -5.75859101e+00]\n",
      " [-1.18986887e+01 -1.12675976e+01]\n",
      " [-5.88987530e+00 -7.89136555e+00]\n",
      " [-7.49001049e+00  3.66932317e+00]\n",
      " [-2.42911173e+01 -9.11252136e+00]\n",
      " [ 1.21742954e+00  5.10871502e+00]\n",
      " [-1.22199630e+01  4.76391307e+00]\n",
      " [-1.13826061e+00  1.18587478e+01]\n",
      " [ 2.49242933e+00 -1.34641684e+01]\n",
      " [-1.64360009e+01  1.60330189e+00]\n",
      " [-1.92225376e-01  3.38012391e+00]\n",
      " [-2.10118991e+01  5.34779036e-02]\n",
      " [-1.53196474e+00 -1.28551230e+00]\n",
      " [-1.29063684e+01 -4.39761868e+00]\n",
      " [-2.74758860e+00 -4.79268741e+00]\n",
      " [-2.01039888e+01  2.95032401e-01]\n",
      " [ 8.66128409e+00  1.44383101e+01]\n",
      " [-1.61474604e+00 -1.46406198e+00]\n",
      " [ 7.51304538e+00  3.03244923e+00]\n",
      " [-1.08993935e-02  1.94052104e+01]\n",
      " [-6.96890785e+00 -9.72982551e+00]\n",
      " [-2.34176727e+00  1.48354149e+01]\n",
      " [ 2.11038778e-01 -8.95802495e+00]\n",
      " [-5.34054818e+00 -1.71011966e+01]\n",
      " [-1.13950183e+01  6.09568765e+00]\n",
      " [-4.71694187e+00 -8.69669674e+00]\n",
      " [-9.99652345e+00 -1.62929962e+01]\n",
      " [-5.75819842e+00 -4.08339237e+00]\n",
      " [ 3.59191676e-01 -1.56659551e+00]\n",
      " [-6.79705494e+00 -5.11435092e+00]\n",
      " [-3.44616889e+00  4.66502242e+00]\n",
      " [ 6.05763104e+00 -1.56220123e+01]\n",
      " [ 4.81011786e+00 -1.07865993e+01]\n",
      " [-8.13826865e+00 -6.95532266e+00]\n",
      " [-8.15560558e+00  7.68573584e-01]\n",
      " [-1.17229599e+00  9.54751126e+00]\n",
      " [-5.88634404e+00  1.32798304e+01]\n",
      " [-1.79615443e+00 -1.86771307e+01]\n",
      " [-5.21814175e+00 -2.51117015e-01]\n",
      " [-2.64471312e-01  4.82892422e+00]\n",
      " [-1.90578879e+00  3.67638026e+00]\n",
      " [-1.54719428e+01 -3.91456920e+00]\n",
      " [-2.44691122e+00  9.73080161e+00]\n",
      " [ 5.08922004e+00  5.21629273e+00]\n",
      " [-8.09618713e+00 -1.18695597e+00]\n",
      " [-2.82247802e+00 -1.54278312e+00]\n",
      " [ 7.18913999e+00 -1.15566700e+01]\n",
      " [-3.31121416e+00 -2.67148736e+00]\n",
      " [-1.18034092e+01  1.94244532e+01]\n",
      " [-3.72473439e+00 -1.31703681e+00]\n",
      " [-3.26042634e+00  6.17315914e+00]\n",
      " [-4.27616797e+00  8.77117712e+00]\n",
      " [-1.35669502e+00 -7.11334893e+00]\n",
      " [-1.08418027e+01  4.44041402e+00]\n",
      " [ 5.99090312e+00  1.39769721e+01]\n",
      " [-9.71463667e+00 -2.08103084e+00]\n",
      " [ 3.55396697e+00  1.29895179e+01]\n",
      " [-8.68129999e+00 -4.17307419e+00]\n",
      " [-6.58913137e+00  6.74838440e+00]\n",
      " [-3.34595594e+00  6.28860065e+00]\n",
      " [-1.56299609e+01 -1.57406726e+00]\n",
      " [-5.69777473e+00 -1.64768607e+00]\n",
      " [-8.79141360e+00  8.50829679e-01]\n",
      " [-7.65856915e+00  5.86307344e+00]\n",
      " [-6.25712674e+00 -6.90385890e+00]\n",
      " [-8.79584021e+00 -7.49115377e+00]\n",
      " [-8.30889349e+00  6.04694760e+00]\n",
      " [-8.03455260e+00  3.06582425e+00]\n",
      " [-1.45270291e+01  1.62999259e+01]\n",
      " [-1.54631880e+01 -2.26726155e+00]\n",
      " [ 3.44851296e+00 -9.22421250e+00]\n",
      " [-5.94418532e+00  1.01014932e+01]\n",
      " [-7.28176072e+00  9.18103074e+00]\n",
      " [-1.06121844e+00  1.42181042e+01]\n",
      " [-8.03884473e+00  2.98611436e+00]\n",
      " [-6.97145124e+00  7.78378342e-01]\n",
      " [-4.84034530e-01  7.22842863e-01]\n",
      " [ 8.04270900e-01  7.35938555e+00]\n",
      " [-1.59031639e+01 -3.74371395e+00]\n",
      " [ 1.12349487e+01 -6.99851011e+00]\n",
      " [ 1.97459134e+00  3.76483972e+00]\n",
      " [ 1.94207264e-01  7.65203569e+00]\n",
      " [-2.31099375e+00  5.08592001e+00]\n",
      " [ 3.12766666e+00 -2.69083398e+00]\n",
      " [ 1.26215917e+00  9.88485019e+00]\n",
      " [-9.29286437e+00 -3.10068020e+00]\n",
      " [-9.58649963e+00  5.35953563e+00]\n",
      " [-1.72376200e+00  4.64438827e+00]\n",
      " [-1.78877966e+01 -3.40187977e+00]\n",
      " [-7.75366547e+00  2.46919217e-01]\n",
      " [ 5.03479218e+00 -3.90426072e+00]\n",
      " [-1.43386444e+01  1.27830855e+00]\n",
      " [-3.04258443e+00 -2.50295281e+00]\n",
      " [ 2.64485240e-01  8.69147761e+00]\n",
      " [ 4.72788465e+00  5.87880530e+00]\n",
      " [-1.03623636e+01 -2.92819749e+00]\n",
      " [-3.37801174e+00 -6.84592675e+00]\n",
      " [-5.81945241e+00 -5.52910715e+00]\n",
      " [-1.29193973e+01  2.10392159e+01]\n",
      " [-5.96537394e-01  7.08635735e+00]\n",
      " [-9.46306199e+00  2.24940952e+01]\n",
      " [-2.36331800e+00  8.23062734e+00]\n",
      " [-6.20803818e+00  7.49225855e-01]\n",
      " [ 7.32924866e+00  2.32140875e+00]\n",
      " [ 1.26853001e+01  3.45364753e+00]\n",
      " [-8.28080726e+00  5.71903746e+00]\n",
      " [-1.39095543e+00  4.84018590e+00]\n",
      " [ 1.87591904e+00 -3.60936223e+00]\n",
      " [-1.16461249e+01 -2.30737603e+00]\n",
      " [-1.65581118e+01 -2.00528553e+00]\n",
      " [-5.78813652e+00 -1.06834434e+01]\n",
      " [-6.69047207e+00 -1.63427498e+01]\n",
      " [-4.63471845e+00 -4.22737291e+00]\n",
      " [ 3.75674157e-02 -8.00228689e-01]\n",
      " [-4.27870118e-01  8.54892101e+00]\n",
      " [-5.20886469e+00 -4.43811627e+00]\n",
      " [ 1.16634472e+01 -1.77965915e+01]\n",
      " [-1.32403071e+01  7.02542813e+00]\n",
      " [ 1.14847024e+00  6.03501531e-01]\n",
      " [-6.80784155e+00  1.00489006e+01]\n",
      " [-1.58677314e+01 -3.62872492e+00]\n",
      " [-1.33489195e+01  1.40167111e+01]\n",
      " [-1.09598417e+01  3.52363064e+00]\n",
      " [-2.13465521e+01 -4.05271987e+00]\n",
      " [-1.60798043e+01 -1.25316289e+01]\n",
      " [-1.29863496e+01 -9.82055452e+00]\n",
      " [-3.24163239e+00  1.62508231e+00]\n",
      " [-1.48028308e+00  1.02566510e+01]\n",
      " [-9.80250364e+00 -3.72602731e+00]\n",
      " [-8.94127020e+00 -8.05406309e+00]\n",
      " [-1.34506360e+01 -2.00515362e-01]\n",
      " [-4.38966814e+00  5.17718911e+00]\n",
      " [-5.11693677e+00 -2.12288552e+00]\n",
      " [ 4.20962122e+00  1.12051541e+01]\n",
      " [-1.89188774e+00  7.17961863e+00]\n",
      " [-7.34813869e+00 -2.46549302e-01]\n",
      " [ 5.07969726e-01 -3.18358334e+00]\n",
      " [-5.75488886e+00  2.54960992e+00]\n",
      " [-1.45667106e+00 -1.97531094e+01]\n",
      " [-1.93787485e+00 -1.15984214e+01]\n",
      " [-1.19327546e+01  1.19715546e+01]\n",
      " [-3.50220114e+00  9.52043695e+00]\n",
      " [ 1.16102199e+00  1.04589960e+01]\n",
      " [ 7.79143220e+00 -2.30248789e+00]\n",
      " [-2.12624823e+00  6.36854946e+00]\n",
      " [-9.63583023e+00  2.31002545e+00]\n",
      " [-5.17946135e+00 -3.44154244e+00]\n",
      " [-1.73875114e+01  1.44719144e+01]\n",
      " [-6.77205776e+00  6.10816058e+00]\n",
      " [-1.22138325e+00 -4.84907250e+00]\n",
      " [-5.42710898e+00  2.17698101e+00]\n",
      " [-9.97373103e+00  1.27618303e+01]\n",
      " [ 1.33071162e+00 -8.30974820e+00]\n",
      " [-8.65279253e+00  3.54980008e+00]\n",
      " [-1.92933982e+01  2.43074103e+00]\n",
      " [-9.39886105e+00 -5.27182516e+00]\n",
      " [-1.96253218e+00  1.94084521e+00]\n",
      " [-7.93058757e+00 -3.36520485e+00]\n",
      " [ 9.20257615e-01  1.44093831e+01]\n",
      " [-1.82781745e+01 -5.78252915e+00]\n",
      " [-6.86055664e+00 -1.00315397e+01]\n",
      " [-7.56991969e+00  8.44990673e+00]\n",
      " [-1.31138068e+01 -2.26428096e+00]\n",
      " [-8.51324689e+00  1.59476880e+00]\n",
      " [-9.49165354e+00  4.35339497e+00]\n",
      " [-7.39967164e+00 -2.59332410e+00]\n",
      " [-1.61278664e+01  1.88173339e+00]\n",
      " [-5.08064172e+00  1.11326927e+01]\n",
      " [-1.67630123e+01  4.28725388e+00]\n",
      " [-1.56502697e+00  5.39165989e+00]\n",
      " [ 2.67192343e+00 -1.25171198e+00]\n",
      " [-5.08186661e-01 -2.85853381e-01]\n",
      " [ 2.05213795e-01 -3.20551189e+00]\n",
      " [-2.06292360e+01  2.02990434e+00]\n",
      " [-1.91119126e+01 -1.11062712e+01]\n",
      " [-1.45709309e+01 -3.33321289e+00]\n",
      " [ 8.96948545e-01 -6.45893077e-01]\n",
      " [-8.86682501e+00  4.51848519e+00]\n",
      " [ 1.41052069e+01  2.41636451e+00]\n",
      " [-4.21580769e+00  6.60468110e+00]\n",
      " [ 7.26835800e-01 -1.88850376e+00]\n",
      " [-3.06263529e+00 -4.97947877e+00]\n",
      " [-5.75219241e+00  1.56130022e+00]\n",
      " [-4.55706207e+00  1.18531014e+01]\n",
      " [ 6.69663321e-01 -7.24038800e+00]\n",
      " [-3.64978493e+00 -3.63582088e+00]\n",
      " [-6.13415224e-01  3.39199120e+00]\n",
      " [ 2.47801656e+00 -8.73818341e+00]\n",
      " [-7.48653857e-01  9.55494154e+00]\n",
      " [-1.20364946e+01 -1.32337143e+00]\n",
      " [-2.83731103e+00  5.36564366e+00]\n",
      " [ 1.72396031e+00 -3.23302369e+00]\n",
      " [-9.42418883e+00 -6.33732540e-01]\n",
      " [-5.17238533e+00  8.81716455e+00]\n",
      " [-1.04048005e+01 -3.09959344e+00]\n",
      " [-9.43380414e+00  4.22792815e+00]\n",
      " [-2.52876103e+00  1.87329157e+00]\n",
      " [ 6.12254377e+00 -9.39488845e+00]\n",
      " [-8.79599419e+00  3.64555432e-01]\n",
      " [-5.82250561e+00  7.53167130e+00]\n",
      " [-2.52740882e+00  6.33056775e+00]\n",
      " [-1.76952606e+01 -1.18427162e+01]\n",
      " [-1.00279549e+00 -6.54838083e+00]\n",
      " [-1.66629010e+00 -4.83873527e+00]\n",
      " [ 5.28594985e+00 -7.97254200e+00]\n",
      " [-8.02908092e+00  8.41437164e+00]\n",
      " [-1.05758489e+01 -6.45022485e+00]\n",
      " [-5.14026503e+00 -2.79147575e+00]\n",
      " [-8.92983396e+00  1.40181852e+00]\n",
      " [-3.39743090e+00 -7.08342411e+00]\n",
      " [-2.13490013e+01 -4.56055222e+00]\n",
      " [ 2.76087932e-01 -4.15352714e+00]\n",
      " [-2.27499074e+00  7.19040684e+00]\n",
      " [ 2.62993803e+00  1.77302773e+01]\n",
      " [-6.21402093e+00  2.79643157e+00]\n",
      " [-1.29954548e+01  8.40685640e+00]\n",
      " [-1.64552745e+01  4.13114102e-01]\n",
      " [-1.18024520e+01  5.57180898e+00]\n",
      " [-1.56073331e+01 -4.18992110e+00]\n",
      " [-9.81234153e+00 -2.28031350e+00]\n",
      " [-1.15047393e+01 -2.81415384e+00]\n",
      " [-2.55774307e+00 -1.19866619e+01]\n",
      " [-2.79828733e+00 -8.10849853e-01]\n",
      " [-4.93382783e+00 -3.45380095e-01]\n",
      " [-5.27319253e+00 -4.68644546e+00]\n",
      " [-7.44884196e+00 -4.76120794e+00]\n",
      " [ 1.97610945e+00 -8.35624988e-01]\n",
      " [-6.92779159e+00  5.15052690e+00]\n",
      " [-1.51552061e+01  7.07329070e-01]\n",
      " [ 9.59009448e-01 -6.57565325e+00]\n",
      " [-1.21667153e-01  8.47179781e+00]\n",
      " [-7.42861230e+00 -7.43903177e-01]\n",
      " [-4.41891289e+00  5.98698334e+00]\n",
      " [-2.70101162e+00 -3.03388331e+00]\n",
      " [ 2.23491039e+00  5.73975036e+00]\n",
      " [-2.06174345e+01  3.52369192e+00]\n",
      " [-1.69241039e+01  1.11692632e+01]\n",
      " [-1.11831679e+01 -7.44252713e+00]\n",
      " [ 9.57305354e+00 -7.46254398e+00]\n",
      " [-6.38247538e+00 -7.96252793e+00]\n",
      " [-1.09129821e+01  7.35986798e+00]\n",
      " [-1.72581548e+00  9.53954445e+00]\n",
      " [-9.53514592e-01  2.11614001e+01]\n",
      " [-3.18187782e+00  3.23815301e+00]\n",
      " [ 6.30538139e-01  5.56111100e+00]\n",
      " [-3.43099032e+00 -7.29732089e+00]\n",
      " [-7.77621685e+00  1.00416788e+01]\n",
      " [-6.77090553e+00  8.42649082e+00]\n",
      " [-4.62856513e-01  6.28426063e+00]\n",
      " [-4.46000592e+00  2.12729503e+00]\n",
      " [-2.54081737e+00  4.16752777e+00]\n",
      " [ 1.43934206e+00  6.35638685e+00]\n",
      " [-5.53063729e+00 -3.78456348e+00]\n",
      " [-2.68335543e+00 -7.40504816e+00]\n",
      " [-1.00956894e+01  6.45159670e+00]\n",
      " [-1.11819227e+00  4.58603860e+00]\n",
      " [ 3.39113527e-02  7.29313479e+00]\n",
      " [-7.73064786e+00  7.04529322e+00]\n",
      " [-1.40866072e+01 -4.18347142e+00]\n",
      " [-5.95234890e+00 -1.20882701e+00]\n",
      " [-3.73143045e+00 -3.08987553e+00]\n",
      " [ 1.21064059e+00  6.42306771e-01]\n",
      " [-1.10131609e+01 -1.50912611e+00]\n",
      " [-1.59935052e+00  1.13827214e+00]\n",
      " [-7.25034379e+00 -5.60467839e+00]\n",
      " [-1.73424969e+01  1.27529712e+01]\n",
      " [-4.41906650e+00 -6.17111232e+00]\n",
      " [-1.22463244e+00 -1.36476681e+01]] [0 0 0 0 0 0 0 0 0 0 0 0 0 0 0 0 1 1 0 0 0 0 0 0 1 0 0 0 0 0 1 0 1 0 0 1 0\n",
      " 0 0 0 0 0 0 0 0 0 0 0 1 0 0 0 1 0 0 0 0 1 0 0 0 0 0 0 0 0 0 0 0 0 0 0 0 0\n",
      " 0 0 0 1 0 0 0 0 0 0 0 0 0 0 0 0 0 0 1 0 0 0 0 0 0 0 0 0 0 0 1 0 0 0 0 0 0\n",
      " 0 0 0 0 0 0 0 0 0 1 0 0 0 0 0 1 0 0 0 0 0 0 0 0 1 0 0 0 0 0 0 1 0 1 0 0 0\n",
      " 1 0 1 0 0 0 0 0 0 1 0 0 0 0 0 0 0 0 1 0 0 0 0 0 0 0 0 0 1 0 0 0 1 0 0 0 0\n",
      " 0 0 0 0 0 0 0 0 0 0 0 0 0 0 0 0 0 0 0 0 0 0 0 0 0 0 0 0 0 0 0 0 1 0 0 0 0\n",
      " 1 0 0 0 0 0 0 0 0 0 1 1 0 0 0 0 1 0 0 0 0 0 0 0 0 0 0 0 0 0 0 1 0 0 0 0 0\n",
      " 1 0 0 1 1 1 0 0 0 0 1 0 0 0 0 0 1 0 0 0 0 0 0 0 0 0 0 0 0 0 0 0 0 0 0 0 0\n",
      " 1 0 0 0 0 1 0 0 0 0 0 0 0 0 0 0 0 1 0 0 1 0 0 0 0 0 0 1 1 0 1 0 0 0 0 0 0\n",
      " 0 0 0 0 0 0 0 0 0 0 0 0 0 0 0 0 0 0 0 0 0 0 0 0 0 0 0 0 1 0 0 0 0 0 0 0 0\n",
      " 1 0 0 0 0 0 0 0 0 0 0 0 0 0 0 0 0 0 0 0 0 0 0 0 0 0 1 0 0 0 0 0 0 0 0 0 0\n",
      " 0 0 0 0 0 1 0 0 0 0 0 0 0 0 0 0 1 0 0 0 0 0 0 1 0 0 1 0 0 0 1 0 0 0 0 0 0\n",
      " 0 0 0 0 0 0]\n"
     ]
    },
    {
     "name": "stderr",
     "output_type": "stream",
     "text": [
      "C:\\Users\\user\\Anaconda3\\lib\\site-packages\\sklearn\\utils\\deprecation.py:77: DeprecationWarning: Function make_blobs is deprecated; Please import make_blobs directly from scikit-learn\n",
      "  warnings.warn(msg, category=DeprecationWarning)\n"
     ]
    }
   ],
   "source": [
    "from mglearn.datasets import make_blobs \n",
    "X, y = make_blobs(n_samples=(400, 50), centers=2, \\\n",
    "                  cluster_std=[7.0, 2], random_state=22)\n",
    "print(X, y) \n"
   ]
  },
  {
   "cell_type": "code",
   "execution_count": 65,
   "metadata": {},
   "outputs": [
    {
     "data": {
      "text/plain": [
       "SVC(C=1.0, cache_size=200, class_weight=None, coef0=0.0,\n",
       "  decision_function_shape='ovr', degree=3, gamma=0.05, kernel='rbf',\n",
       "  max_iter=-1, probability=True, random_state=None, shrinking=True,\n",
       "  tol=0.001, verbose=False)"
      ]
     },
     "execution_count": 65,
     "metadata": {},
     "output_type": "execute_result"
    }
   ],
   "source": [
    "\n",
    "X_train, X_test, y_train, y_test = \\\n",
    "                     train_test_split(X, y, random_state=0)\n",
    "svc = SVC(gamma=.05, probability=True)\n",
    "svc.fit(X_train, y_train) \n"
   ]
  },
  {
   "cell_type": "code",
   "execution_count": 66,
   "metadata": {},
   "outputs": [
    {
     "name": "stdout",
     "output_type": "stream",
     "text": [
      "              precision    recall  f1-score   support\n",
      "\n",
      "           0       0.97      0.89      0.93       104\n",
      "           1       0.35      0.67      0.46         9\n",
      "\n",
      "   micro avg       0.88      0.88      0.88       113\n",
      "   macro avg       0.66      0.78      0.70       113\n",
      "weighted avg       0.92      0.88      0.89       113\n",
      "\n"
     ]
    }
   ],
   "source": [
    "print(classification_report(y_test, svc.predict(X_test)))"
   ]
  },
  {
   "cell_type": "code",
   "execution_count": 34,
   "metadata": {},
   "outputs": [
    {
     "data": {
      "text/plain": [
       "array([-0.99973208, -1.00148617, -1.1386043 , -0.98505482, -1.01044247,\n",
       "       -1.00027441, -1.00609413,  0.88395198, -1.00467053, -1.00283866])"
      ]
     },
     "execution_count": 34,
     "metadata": {},
     "output_type": "execute_result"
    }
   ],
   "source": [
    "svc.decision_function(X_test)[:10]"
   ]
  },
  {
   "cell_type": "code",
   "execution_count": 33,
   "metadata": {},
   "outputs": [
    {
     "data": {
      "text/plain": [
       "array([0, 0, 0, 0, 0, 0, 0, 1, 0, 0])"
      ]
     },
     "execution_count": 33,
     "metadata": {},
     "output_type": "execute_result"
    }
   ],
   "source": [
    "svc.predict(X_test)[:10]"
   ]
  },
  {
   "cell_type": "code",
   "execution_count": 67,
   "metadata": {},
   "outputs": [],
   "source": [
    "y_pred_lower_threshold = svc.decision_function(X_test) > -1.0"
   ]
  },
  {
   "cell_type": "code",
   "execution_count": 68,
   "metadata": {},
   "outputs": [
    {
     "data": {
      "text/plain": [
       "array([ True, False, False,  True, False, False, False,  True, False,\n",
       "       False])"
      ]
     },
     "execution_count": 68,
     "metadata": {},
     "output_type": "execute_result"
    }
   ],
   "source": [
    "y_pred_lower_threshold[:10]"
   ]
  },
  {
   "cell_type": "code",
   "execution_count": 69,
   "metadata": {},
   "outputs": [
    {
     "name": "stdout",
     "output_type": "stream",
     "text": [
      "              precision    recall  f1-score   support\n",
      "\n",
      "           0       1.00      0.63      0.78       104\n",
      "           1       0.19      1.00      0.32         9\n",
      "\n",
      "   micro avg       0.66      0.66      0.66       113\n",
      "   macro avg       0.60      0.82      0.55       113\n",
      "weighted avg       0.94      0.66      0.74       113\n",
      "\n"
     ]
    }
   ],
   "source": [
    "print(classification_report(y_test, y_pred_lower_threshold))"
   ]
  },
  {
   "cell_type": "code",
   "execution_count": 70,
   "metadata": {},
   "outputs": [],
   "source": [
    "y_pred_lower_threshold = svc.decision_function(X_test) > 1"
   ]
  },
  {
   "cell_type": "code",
   "execution_count": 71,
   "metadata": {},
   "outputs": [
    {
     "data": {
      "text/plain": [
       "array([False, False, False, False, False, False, False, False, False,\n",
       "       False])"
      ]
     },
     "execution_count": 71,
     "metadata": {},
     "output_type": "execute_result"
    }
   ],
   "source": [
    "y_pred_lower_threshold[:10]"
   ]
  },
  {
   "cell_type": "code",
   "execution_count": 72,
   "metadata": {},
   "outputs": [
    {
     "name": "stdout",
     "output_type": "stream",
     "text": [
      "              precision    recall  f1-score   support\n",
      "\n",
      "           0       0.94      0.98      0.96       104\n",
      "           1       0.50      0.22      0.31         9\n",
      "\n",
      "   micro avg       0.92      0.92      0.92       113\n",
      "   macro avg       0.72      0.60      0.63       113\n",
      "weighted avg       0.90      0.92      0.91       113\n",
      "\n"
     ]
    }
   ],
   "source": [
    "print(classification_report(y_test, y_pred_lower_threshold))"
   ]
  },
  {
   "cell_type": "code",
   "execution_count": 73,
   "metadata": {},
   "outputs": [
    {
     "data": {
      "text/plain": [
       "array([[0.93956205, 0.06043795],\n",
       "       [0.93976219, 0.06023781],\n",
       "       [0.95187161, 0.04812839],\n",
       "       [0.93786282, 0.06213718],\n",
       "       [0.93811998, 0.06188002],\n",
       "       [0.93962399, 0.06037601],\n",
       "       [0.94028501, 0.05971499],\n",
       "       [0.25979327, 0.74020673],\n",
       "       [0.94012394, 0.05987606],\n",
       "       [0.93991608, 0.06008392],\n",
       "       [0.93970417, 0.06029583],\n",
       "       [0.19429707, 0.80570293],\n",
       "       [0.93935251, 0.06064749],\n",
       "       [0.82428064, 0.17571936],\n",
       "       [0.84719191, 0.15280809],\n",
       "       [0.93973077, 0.06026923],\n",
       "       [0.94762021, 0.05237979],\n",
       "       [0.97386782, 0.02613218],\n",
       "       [0.9394884 , 0.0605116 ],\n",
       "       [0.93967284, 0.06032716],\n",
       "       [0.83544179, 0.16455821],\n",
       "       [0.93827175, 0.06172825],\n",
       "       [0.93950002, 0.06049998],\n",
       "       [0.94664078, 0.05335922],\n",
       "       [0.96726595, 0.03273405],\n",
       "       [0.93995788, 0.06004212],\n",
       "       [0.93852868, 0.06147132],\n",
       "       [0.94762451, 0.05237549],\n",
       "       [0.36544388, 0.63455612],\n",
       "       [0.93871684, 0.06128316],\n",
       "       [0.97515123, 0.02484877],\n",
       "       [0.5854155 , 0.4145845 ],\n",
       "       [0.31734763, 0.68265237],\n",
       "       [0.94055242, 0.05944758],\n",
       "       [0.95303871, 0.04696129],\n",
       "       [0.9402646 , 0.0597354 ],\n",
       "       [0.94054591, 0.05945409],\n",
       "       [0.95997568, 0.04002432],\n",
       "       [0.93995673, 0.06004327],\n",
       "       [0.93961998, 0.06038002],\n",
       "       [0.93975071, 0.06024929],\n",
       "       [0.93959696, 0.06040304],\n",
       "       [0.94818752, 0.05181248],\n",
       "       [0.9381837 , 0.0618163 ],\n",
       "       [0.94363007, 0.05636993],\n",
       "       [0.93971289, 0.06028711],\n",
       "       [0.42016888, 0.57983112],\n",
       "       [0.22510492, 0.77489508],\n",
       "       [0.93908707, 0.06091293],\n",
       "       [0.42162446, 0.57837554],\n",
       "       [0.96193658, 0.03806342],\n",
       "       [0.94627285, 0.05372715],\n",
       "       [0.93939669, 0.06060331],\n",
       "       [0.94003145, 0.05996855],\n",
       "       [0.63439919, 0.36560081],\n",
       "       [0.93944517, 0.06055483],\n",
       "       [0.94407358, 0.05592642],\n",
       "       [0.93975219, 0.06024781],\n",
       "       [0.94682935, 0.05317065],\n",
       "       [0.9438411 , 0.0561589 ],\n",
       "       [0.5       , 0.5       ],\n",
       "       [0.94342176, 0.05657824],\n",
       "       [0.93957095, 0.06042905],\n",
       "       [0.77177397, 0.22822603],\n",
       "       [0.94027045, 0.05972955],\n",
       "       [0.93965899, 0.06034101],\n",
       "       [0.939557  , 0.060443  ],\n",
       "       [0.93972432, 0.06027568],\n",
       "       [0.93945864, 0.06054136],\n",
       "       [0.14357374, 0.85642626],\n",
       "       [0.94729404, 0.05270596],\n",
       "       [0.93871048, 0.06128952],\n",
       "       [0.94028676, 0.05971324],\n",
       "       [0.41569867, 0.58430133],\n",
       "       [0.2643966 , 0.7356034 ],\n",
       "       [0.97123043, 0.02876957],\n",
       "       [0.91349527, 0.08650473],\n",
       "       [0.93960767, 0.06039233],\n",
       "       [0.60689209, 0.39310791],\n",
       "       [0.95344552, 0.04655448],\n",
       "       [0.94145495, 0.05854505],\n",
       "       [0.18990038, 0.81009962],\n",
       "       [0.94067419, 0.05932581],\n",
       "       [0.93809874, 0.06190126],\n",
       "       [0.21739889, 0.78260111],\n",
       "       [0.93983586, 0.06016414],\n",
       "       [0.26131587, 0.73868413],\n",
       "       [0.93884256, 0.06115744],\n",
       "       [0.74159275, 0.25840725],\n",
       "       [0.93971585, 0.06028415],\n",
       "       [0.93810186, 0.06189814],\n",
       "       [0.74399775, 0.25600225],\n",
       "       [0.93970397, 0.06029603],\n",
       "       [0.93972879, 0.06027121],\n",
       "       [0.93972032, 0.06027968],\n",
       "       [0.75388288, 0.24611712],\n",
       "       [0.96461308, 0.03538692],\n",
       "       [0.9394681 , 0.0605319 ],\n",
       "       [0.93844189, 0.06155811],\n",
       "       [0.7485991 , 0.2514009 ],\n",
       "       [0.93804435, 0.06195565],\n",
       "       [0.96778141, 0.03221859],\n",
       "       [0.94044112, 0.05955888],\n",
       "       [0.90411003, 0.09588997],\n",
       "       [0.96259585, 0.03740415],\n",
       "       [0.93783276, 0.06216724],\n",
       "       [0.87148855, 0.12851145],\n",
       "       [0.94090578, 0.05909422],\n",
       "       [0.97062115, 0.02937885],\n",
       "       [0.93908547, 0.06091453],\n",
       "       [0.78831442, 0.21168558],\n",
       "       [0.94122083, 0.05877917],\n",
       "       [0.93956886, 0.06043114]])"
      ]
     },
     "execution_count": 73,
     "metadata": {},
     "output_type": "execute_result"
    }
   ],
   "source": [
    "svc.predict_proba(X_test)"
   ]
  },
  {
   "cell_type": "code",
   "execution_count": 74,
   "metadata": {},
   "outputs": [
    {
     "data": {
      "text/plain": [
       "array([False, False, False, False, False, False, False, False, False,\n",
       "       False, False, False, False, False, False, False, False, False,\n",
       "       False, False, False, False, False, False, False, False, False,\n",
       "       False, False, False, False, False, False, False, False, False,\n",
       "       False, False, False, False, False, False, False, False, False,\n",
       "       False, False, False, False, False, False, False, False, False,\n",
       "       False, False, False, False, False, False, False, False, False,\n",
       "       False, False, False, False, False, False,  True, False, False,\n",
       "       False, False, False, False, False, False, False, False, False,\n",
       "       False, False, False, False, False, False, False, False, False,\n",
       "       False, False, False, False, False, False, False, False, False,\n",
       "       False, False, False, False, False, False, False, False, False,\n",
       "       False, False, False, False, False])"
      ]
     },
     "execution_count": 74,
     "metadata": {},
     "output_type": "execute_result"
    }
   ],
   "source": [
    "y_pred_threshold = svc.decision_function(X_test) > 1.2\n",
    "y_pred_threshold"
   ]
  },
  {
   "cell_type": "code",
   "execution_count": 75,
   "metadata": {},
   "outputs": [],
   "source": [
    "# import numpy as np\n",
    "# y_pred_threshold = y_pred_threshold.argmax(axis=1)"
   ]
  },
  {
   "cell_type": "code",
   "execution_count": 76,
   "metadata": {},
   "outputs": [
    {
     "name": "stdout",
     "output_type": "stream",
     "text": [
      "              precision    recall  f1-score   support\n",
      "\n",
      "           0       0.93      1.00      0.96       104\n",
      "           1       1.00      0.11      0.20         9\n",
      "\n",
      "   micro avg       0.93      0.93      0.93       113\n",
      "   macro avg       0.96      0.56      0.58       113\n",
      "weighted avg       0.93      0.93      0.90       113\n",
      "\n"
     ]
    }
   ],
   "source": [
    "print(classification_report(y_test, y_pred_threshold))"
   ]
  },
  {
   "cell_type": "markdown",
   "metadata": {},
   "source": [
    "##### 정밀도-재현율 곡선과 ROC 곡선"
   ]
  },
  {
   "cell_type": "code",
   "execution_count": 77,
   "metadata": {},
   "outputs": [
    {
     "name": "stdout",
     "output_type": "stream",
     "text": [
      "[-0.7512563  -0.58749402 -0.48739733 -0.44364565 -0.40435353 -0.28965335\n",
      " -0.24173165 -0.19257469 -0.17852475 -0.16644845 -0.1601932   0.08620484\n",
      "  0.14630375  0.19153373  0.36988055  0.52008479  0.5230006   0.53195462\n",
      "  0.63212214  0.74430046  0.87212596  0.88002558  0.88395198  0.97789353\n",
      "  1.00010384  1.07030762  1.08436417  1.25059991]\n"
     ]
    }
   ],
   "source": [
    "from sklearn.metrics import precision_recall_curve\n",
    "precision, recall, thresholds = precision_recall_curve(\n",
    "    y_test, svc.decision_function(X_test))\n",
    "print(thresholds)"
   ]
  },
  {
   "cell_type": "code",
   "execution_count": 80,
   "metadata": {},
   "outputs": [
    {
     "name": "stderr",
     "output_type": "stream",
     "text": [
      "C:\\Users\\user\\Anaconda3\\lib\\site-packages\\sklearn\\utils\\deprecation.py:77: DeprecationWarning: Function make_blobs is deprecated; Please import make_blobs directly from scikit-learn\n",
      "  warnings.warn(msg, category=DeprecationWarning)\n"
     ]
    },
    {
     "data": {
      "text/plain": [
       "<matplotlib.legend.Legend at 0x1ca7ce03b38>"
      ]
     },
     "execution_count": 80,
     "metadata": {},
     "output_type": "execute_result"
    },
    {
     "data": {
      "image/png": "[encoded data removed]",
      "text/plain": [
       "<Figure size 432x288 with 1 Axes>"
      ]
     },
     "metadata": {
      "needs_background": "light"
     },
     "output_type": "display_data"
    }
   ],
   "source": [
    "import matplotlib.pyplot as plt\n",
    "# 부드러운 곡선을 위해 데이터 포인트 수를 늘립니다\n",
    "X, y = make_blobs(n_samples=(4000, 500), centers=2, \\\n",
    "                  cluster_std=[7.0, 2], random_state=22)\n",
    "X_train, X_test, y_train, y_test = \\\n",
    "                  train_test_split(X, y, random_state=0)\n",
    "\n",
    "svc = SVC(gamma=.05).fit(X_train, y_train)\n",
    "\n",
    "precision, recall, thresholds = precision_recall_curve(\n",
    "    y_test, svc.decision_function(X_test))\n",
    "# 0에 가까운 임계값을 찾습니다 - predict함수 기본 임계값\n",
    "close_zero = np.argmin(np.abs(thresholds))\n",
    "plt.plot(precision[close_zero], recall[close_zero], 'o', \\\n",
    "    markersize=10, label=\"threshold 0\", fillstyle=\"none\", c='k', mew=2)\n",
    "\n",
    "plt.plot(precision, recall, label=\"precision-recall curve\")\n",
    "plt.xlabel(\"precision\")\n",
    "plt.ylabel(\"recall\")\n",
    "plt.legend(loc=\"best\")"
   ]
  },
  {
   "cell_type": "code",
   "execution_count": 81,
   "metadata": {},
   "outputs": [
    {
     "data": {
      "text/plain": [
       "<matplotlib.legend.Legend at 0x1ca7ceb6f98>"
      ]
     },
     "execution_count": 81,
     "metadata": {},
     "output_type": "execute_result"
    },
    {
     "data": {
      "image/png": "[encoded data removed]",
      "text/plain": [
       "<Figure size 432x288 with 1 Axes>"
      ]
     },
     "metadata": {
      "needs_background": "light"
     },
     "output_type": "display_data"
    }
   ],
   "source": [
    "from sklearn.ensemble import RandomForestClassifier\n",
    "\n",
    "rf = RandomForestClassifier(n_estimators=100, \\\n",
    "                            random_state=0, max_features=2)\n",
    "rf.fit(X_train, y_train)\n",
    "\n",
    "precision_rf, recall_rf, thresholds_rf = precision_recall_curve(\n",
    "    y_test, rf.predict_proba(X_test)[:, 1])\n",
    "\n",
    "svc = SVC(gamma=.05, probability=True).fit(X_train, y_train)\n",
    "precision, recall, thresholds = precision_recall_curve(\n",
    "    y_test, svc.predict_proba(X_test)[:, 1])\n",
    "plt.plot(precision, recall, label=\"svc\")\n",
    "\n",
    "close_default_svc = np.argmin(np.abs(thresholds - 0.5))\n",
    "plt.plot(precision[close_default_svc], \\\n",
    "         recall[close_default_svc], 'o', markersize=10,\n",
    "         label=\"svc: threshold 0\", fillstyle=\"none\", c='k', mew=2)\n",
    "\n",
    "plt.plot(precision_rf, recall_rf, label=\"rf\")\n",
    "\n",
    "close_default_rf = np.argmin(np.abs(thresholds_rf - 0.5))\n",
    "plt.plot(precision_rf[close_default_rf], recall_rf[close_default_rf], \\\n",
    " '^', c='k', markersize=10, label=\"rf: threshold 0.5\", fillstyle=\"none\", mew=2)\n",
    "plt.xlabel(\"precision\")\n",
    "plt.ylabel(\"recall\")\n",
    "plt.legend(loc=\"best\")"
   ]
  },
  {
   "cell_type": "code",
   "execution_count": 82,
   "metadata": {},
   "outputs": [
    {
     "name": "stdout",
     "output_type": "stream",
     "text": [
      "랜덤 포레스트의 f1_score: 0.610\n",
      "svc의 f1_score: 0.656\n"
     ]
    }
   ],
   "source": [
    "print(\"랜덤 포레스트의 f1_score: {:.3f}\".format(\n",
    "    f1_score(y_test, rf.predict(X_test))))\n",
    "print(\"svc의 f1_score: {:.3f}\".\\\n",
    "      format(f1_score(y_test, svc.predict(X_test))))\n"
   ]
  },
  {
   "cell_type": "code",
   "execution_count": 83,
   "metadata": {},
   "outputs": [
    {
     "name": "stdout",
     "output_type": "stream",
     "text": [
      "랜덤 포레스트의 평균 정밀도: 0.660\n",
      "svc의 평균 정밀도: 0.666\n"
     ]
    }
   ],
   "source": [
    "from sklearn.metrics import average_precision_score\n",
    "ap_rf = average_precision_score(y_test, \\\n",
    "                    rf.predict_proba(X_test)[:, 1])\n",
    "ap_svc = average_precision_score(y_test, \\\n",
    "                    svc.decision_function(X_test))\n",
    "print(\"랜덤 포레스트의 평균 정밀도: {:.3f}\".format(ap_rf))\n",
    "print(\"svc의 평균 정밀도: {:.3f}\".format(ap_svc))"
   ]
  },
  {
   "cell_type": "markdown",
   "metadata": {},
   "source": [
    "##### ROC 와 AUC\n",
    "\\begin{equation}\n",
    "\\text{FPR} = \\frac{\\text{FP}}{\\text{FP} + \\text{TN}}\n",
    "\\end{equation}\n"
   ]
  },
  {
   "cell_type": "code",
   "execution_count": 84,
   "metadata": {},
   "outputs": [
    {
     "data": {
      "text/plain": [
       "<matplotlib.legend.Legend at 0x1ca7cef0a90>"
      ]
     },
     "execution_count": 84,
     "metadata": {},
     "output_type": "execute_result"
    },
    {
     "data": {
      "image/png": "[encoded data removed]",
      "text/plain": [
       "<Figure size 432x288 with 1 Axes>"
      ]
     },
     "metadata": {
      "needs_background": "light"
     },
     "output_type": "display_data"
    }
   ],
   "source": [
    "from sklearn.metrics import roc_curve\n",
    "fpr, tpr, thresholds = roc_curve(y_test, \\\n",
    "                    svc.decision_function(X_test))\n",
    "\n",
    "plt.plot(fpr, tpr, label=\"ROC 곡선\")\n",
    "plt.xlabel(\"FPR\")\n",
    "plt.ylabel(\"TPR (재현율)\")\n",
    "# 0 근처의 임계값을 찾습니다\n",
    "close_zero = np.argmin(np.abs(thresholds))\n",
    "plt.plot(fpr[close_zero], tpr[close_zero], 'o', \\\n",
    "    markersize=10, label=\"임계값 0\", \\\n",
    "         fillstyle=\"none\", c='k', mew=2)\n",
    "plt.legend(loc=4)"
   ]
  },
  {
   "cell_type": "code",
   "execution_count": 85,
   "metadata": {},
   "outputs": [
    {
     "data": {
      "text/plain": [
       "<matplotlib.legend.Legend at 0x1ca7dfd5c88>"
      ]
     },
     "execution_count": 85,
     "metadata": {},
     "output_type": "execute_result"
    },
    {
     "data": {
      "image/png": "[encoded data removed]",
      "text/plain": [
       "<Figure size 432x288 with 1 Axes>"
      ]
     },
     "metadata": {
      "needs_background": "light"
     },
     "output_type": "display_data"
    }
   ],
   "source": [
    "from sklearn.metrics import roc_curve\n",
    "fpr_rf, tpr_rf, thresholds_rf = roc_curve(y_test, \\\n",
    "                        rf.predict_proba(X_test)[:, 1])\n",
    "\n",
    "plt.plot(fpr, tpr, label=\"SVC의 ROC 곡선\")\n",
    "plt.plot(fpr_rf, tpr_rf, label=\"RF의 ROC 곡선\")\n",
    "\n",
    "plt.xlabel(\"FPR\")\n",
    "plt.ylabel(\"TPR (재현율)\")\n",
    "plt.plot(fpr[close_zero], tpr[close_zero], 'o', markersize=10,\n",
    "         label=\"SVC 임계값 0\", fillstyle=\"none\", c='k', mew=2)\n",
    "close_default_rf = np.argmin(np.abs(thresholds_rf - 0.5))\n",
    "plt.plot(fpr_rf[close_default_rf], tpr[close_default_rf], '^', markersize=10,\n",
    "         label=\"RF 임계값 0.5\", fillstyle=\"none\", c='k', mew=2)\n",
    "\n",
    "plt.legend(loc=4)"
   ]
  },
  {
   "cell_type": "code",
   "execution_count": 86,
   "metadata": {},
   "outputs": [
    {
     "name": "stdout",
     "output_type": "stream",
     "text": [
      "랜덤 포레스트의 AUC: 0.937\n",
      "SVC의 AUC: 0.916\n"
     ]
    }
   ],
   "source": [
    "from sklearn.metrics import roc_auc_score\n",
    "rf_auc = roc_auc_score(y_test, rf.predict_proba(X_test)[:, 1])\n",
    "svc_auc = roc_auc_score(y_test, svc.decision_function(X_test))\n",
    "print(\"랜덤 포레스트의 AUC: {:.3f}\".format(rf_auc))\n",
    "print(\"SVC의 AUC: {:.3f}\".format(svc_auc))\n",
    "# ROC곡선 아래 면적(AUC점수) - roc_auc_socre"
   ]
  },
  {
   "cell_type": "markdown",
   "metadata": {},
   "source": [
    "#### 다중 분류의 평가 지표"
   ]
  },
  {
   "cell_type": "code",
   "execution_count": 88,
   "metadata": {},
   "outputs": [
    {
     "name": "stdout",
     "output_type": "stream",
     "text": [
      "정확도: 0.953\n",
      "오차 행렬:\n",
      "[[37  0  0  0  0  0  0  0  0  0]\n",
      " [ 0 39  0  0  0  0  2  0  2  0]\n",
      " [ 0  0 41  3  0  0  0  0  0  0]\n",
      " [ 0  0  1 43  0  0  0  0  0  1]\n",
      " [ 0  0  0  0 38  0  0  0  0  0]\n",
      " [ 0  1  0  0  0 47  0  0  0  0]\n",
      " [ 0  0  0  0  0  0 52  0  0  0]\n",
      " [ 0  1  0  1  1  0  0 45  0  0]\n",
      " [ 0  3  1  0  0  0  0  0 43  1]\n",
      " [ 0  0  0  1  0  1  0  0  1 44]]\n"
     ]
    },
    {
     "name": "stderr",
     "output_type": "stream",
     "text": [
      "C:\\Users\\user\\Anaconda3\\lib\\site-packages\\sklearn\\linear_model\\logistic.py:433: FutureWarning: Default solver will be changed to 'lbfgs' in 0.22. Specify a solver to silence this warning.\n",
      "  FutureWarning)\n",
      "C:\\Users\\user\\Anaconda3\\lib\\site-packages\\sklearn\\linear_model\\logistic.py:460: FutureWarning: Default multi_class will be changed to 'auto' in 0.22. Specify the multi_class option to silence this warning.\n",
      "  \"this warning.\", FutureWarning)\n"
     ]
    }
   ],
   "source": [
    "from sklearn.metrics import accuracy_score\n",
    "X_train, X_test, y_train, y_test = train_test_split(\n",
    "    digits.data, digits.target, random_state=0)\n",
    "lr = LogisticRegression().fit(X_train, y_train)\n",
    "pred = lr.predict(X_test)\n",
    "print(\"정확도: {:.3f}\".format(accuracy_score(y_test, pred)))\n",
    "print(\"오차 행렬:\\n{}\".format(confusion_matrix(y_test, pred)))"
   ]
  },
  {
   "cell_type": "code",
   "execution_count": 89,
   "metadata": {
    "hide_input": false
   },
   "outputs": [
    {
     "data": {
      "image/png": "[encoded data removed]",
      "text/plain": [
       "<Figure size 432x288 with 1 Axes>"
      ]
     },
     "metadata": {
      "needs_background": "light"
     },
     "output_type": "display_data"
    }
   ],
   "source": [
    "scores_image = mglearn.tools.heatmap(\n",
    "    confusion_matrix(y_test, pred), xlabel='predict',\n",
    "    ylabel='real', xticklabels=digits.target_names,\n",
    "    yticklabels=digits.target_names, cmap=plt.cm.gray_r, fmt=\"%d\")    \n",
    "plt.title(\"confusion matrix\")\n",
    "plt.gca().invert_yaxis()"
   ]
  },
  {
   "cell_type": "code",
   "execution_count": 90,
   "metadata": {},
   "outputs": [
    {
     "name": "stdout",
     "output_type": "stream",
     "text": [
      "              precision    recall  f1-score   support\n",
      "\n",
      "           0       1.00      1.00      1.00        37\n",
      "           1       0.89      0.91      0.90        43\n",
      "           2       0.95      0.93      0.94        44\n",
      "           3       0.90      0.96      0.92        45\n",
      "           4       0.97      1.00      0.99        38\n",
      "           5       0.98      0.98      0.98        48\n",
      "           6       0.96      1.00      0.98        52\n",
      "           7       1.00      0.94      0.97        48\n",
      "           8       0.93      0.90      0.91        48\n",
      "           9       0.96      0.94      0.95        47\n",
      "\n",
      "   micro avg       0.95      0.95      0.95       450\n",
      "   macro avg       0.95      0.95      0.95       450\n",
      "weighted avg       0.95      0.95      0.95       450\n",
      "\n"
     ]
    }
   ],
   "source": [
    "print(classification_report(y_test, pred))"
   ]
  },
  {
   "cell_type": "code",
   "execution_count": 91,
   "metadata": {},
   "outputs": [
    {
     "name": "stdout",
     "output_type": "stream",
     "text": [
      "accuracy 점수: 0.953\n",
      "micro 평균 f1 점수: 0.953\n",
      "macro 평균 f1 점수: 0.954\n",
      "macro 평균 f1 점수: 0.953\n"
     ]
    }
   ],
   "source": [
    "\n",
    "print(\"accuracy 점수: {:.3f}\".format(accuracy_score(y_test, pred)))\n",
    "print(\"micro 평균 f1 점수: {:.3f}\".\\\n",
    "      format(f1_score(y_test, pred, average=\"micro\")))\n",
    "print(\"macro 평균 f1 점수: {:.3f}\".\\\n",
    "      format(f1_score(y_test, pred, average=\"macro\")))\n",
    "print(\"macro 평균 f1 점수: {:.3f}\".\\\n",
    "      format(f1_score(y_test, pred, average=\"weighted\")))\n"
   ]
  },
  {
   "cell_type": "markdown",
   "metadata": {},
   "source": [
    "#### 회귀 평가 지표"
   ]
  },
  {
   "cell_type": "markdown",
   "metadata": {},
   "source": [
    "#### 모델 선택에서 평가 지표 사용하기"
   ]
  },
  {
   "cell_type": "code",
   "execution_count": null,
   "metadata": {},
   "outputs": [],
   "source": [
    "# 분류의 기본 평가 지표는 정확도 입니다\n",
    "print(\"기본 평가 지표: {}\".format(\n",
    "      cross_val_score(SVC(), digits.data, digits.target == 9)))\n",
    "# scoring=\"accuracy\"의 결과는 같습니다.\n",
    "explicit_accuracy =  cross_val_score(SVC(), digits.data, \\\n",
    "                    digits.target == 9, scoring=\"accuracy\")\n",
    "print(\"정확도 지표: {}\".format(explicit_accuracy))\n",
    "roc_auc =  cross_val_score(SVC(), digits.data, \\\n",
    "                digits.target == 9, scoring=\"roc_auc\")"
   ]
  },
  {
   "cell_type": "code",
   "execution_count": 92,
   "metadata": {},
   "outputs": [
    {
     "name": "stderr",
     "output_type": "stream",
     "text": [
      "C:\\Users\\user\\Anaconda3\\lib\\site-packages\\sklearn\\model_selection\\_split.py:2053: FutureWarning: You should specify a value for 'cv' instead of relying on the default value. The default value will change from 3 to 5 in version 0.22.\n",
      "  warnings.warn(CV_WARNING, FutureWarning)\n"
     ]
    },
    {
     "name": "stdout",
     "output_type": "stream",
     "text": [
      "정확도 지표를 사용한 그리드 서치\n",
      "최적의 파라미터: {'gamma': 0.0001}\n",
      "최상의 교차 검증 점수 (정확도)): 0.970\n",
      "테스트 세트 accuracy: 0.973\n",
      "테스트 세트 AUC: 0.992\n",
      "테스트 세트 accuracy: 0.973\n"
     ]
    }
   ],
   "source": [
    "X_train, X_test, y_train, y_test = train_test_split(\n",
    "    digits.data, digits.target == 9, random_state=0)\n",
    "\n",
    "# 일부러 적절하지 않은 그리드를 만듭니다\n",
    "param_grid = {'gamma': [0.0001, 0.01, 0.1, 1, 10]}\n",
    "# 기본 정확도 측정 지표를 사용합니다.  기본은 accuracy\n",
    "grid = GridSearchCV(SVC(), param_grid=param_grid)\n",
    "grid.fit(X_train, y_train)\n",
    "print(\"정확도 지표를 사용한 그리드 서치\")\n",
    "print(\"최적의 파라미터:\", grid.best_params_)\n",
    "print(\"최상의 교차 검증 점수 (정확도)): {:.3f}\".\\\n",
    "      format(grid.best_score_))\n",
    "print(\"테스트 세트 accuracy: {:.3f}\".\\\n",
    "      format(grid.score(X_test, y_test)))\n",
    "print(\"테스트 세트 AUC: {:.3f}\".format(\n",
    "        roc_auc_score(y_test, \\\n",
    "                grid.decision_function(X_test))))\n",
    "print(\"테스트 세트 accuracy: {:.3f}\".\\\n",
    "      format(grid.score(X_test, y_test)))"
   ]
  },
  {
   "cell_type": "code",
   "execution_count": null,
   "metadata": {},
   "outputs": [],
   "source": [
    "# AUC 지표 사용\n",
    "grid = GridSearchCV(SVC(), param_grid=param_grid, \\\n",
    "                    scoring=\"roc_auc\")\n",
    "grid.fit(X_train, y_train)\n",
    "print(\"AUC 지표를 사용한 그리드 서치\")\n",
    "print(\"최적의 파라미터:\", grid.best_params_)\n",
    "print(\"최상의 교차 검증 점수 (AUC): {:.3f}\".\\\n",
    "      format(grid.best_score_))\n",
    "print(\"테스트 세트 AUC: {:.3f}\".\\\n",
    "      format(grid.score(X_test, y_test)))"
   ]
  },
  {
   "cell_type": "markdown",
   "metadata": {},
   "source": [
    "### 요약 및 정리"
   ]
  }
 ],
 "metadata": {
  "anaconda-cloud": {},
  "kernelspec": {
   "display_name": "Python 3",
   "language": "python",
   "name": "python3"
  },
  "language_info": {
   "codemirror_mode": {
    "name": "ipython",
    "version": 3
   },
   "file_extension": ".py",
   "mimetype": "text/x-python",
   "name": "python",
   "nbconvert_exporter": "python",
   "pygments_lexer": "ipython3",
   "version": "3.7.3"
  }
 },
 "nbformat": 4,
 "nbformat_minor": 1
}
