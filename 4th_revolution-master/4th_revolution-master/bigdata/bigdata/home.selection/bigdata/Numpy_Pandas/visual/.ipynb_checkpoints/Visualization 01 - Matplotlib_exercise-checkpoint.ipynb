{
 "cells": [
  {
   "cell_type": "markdown",
   "metadata": {
    "slideshow": {
     "slide_type": "slide"
    }
   },
   "source": [
    "# matplotlib\n",
    "* http://matplotlib.org/  2002년 John Hunter\n",
    "* MATLAB과 유사한 인터페이스를 지원하기 위해개발 시작\n",
    "* 출판 수준의 차트 \n",
    "* LaTEX 수식 지원\n",
    "* 다양한 형식으로 이미지 저장(PNG, PDF, SVG, EPS 등)\n",
    "* 확대, 회전과 같은 인터랙티브한 드로잉\n",
    "* 인터랙티브한 비주얼라이제인션, 혹은 일괄 그래픽 이미지 파일을 생성"
   ]
  },
  {
   "cell_type": "markdown",
   "metadata": {
    "slideshow": {
     "slide_type": "slide"
    }
   },
   "source": [
    "## 그래픽 라이브러리를 사용하는 이유\n",
    "\n",
    "* programmatically 제어\n",
    "* 정교한 제어와 reproducing"
   ]
  },
  {
   "cell_type": "code",
   "execution_count": 1,
   "metadata": {
    "slideshow": {
     "slide_type": "slide"
    }
   },
   "outputs": [],
   "source": [
    "# 주피터 노트북 페이지 안에 matplotlib 그리도록 하는 옵션 \n",
    "# (새로운 창이 뜨지 않는다)\n",
    "import matplotlib.pyplot as plt\n",
    "%matplotlib inline"
   ]
  },
  {
   "cell_type": "markdown",
   "metadata": {
    "slideshow": {
     "slide_type": "slide"
    }
   },
   "source": [
    "# pyplot, pylab \n",
    "* matplotlib 가 전체 패키지\n",
    "* matplotlib.pyplot는  matplotlib 내의 모듈\n",
    "* pylab = matplotlib.pyplot + numpy"
   ]
  },
  {
   "cell_type": "markdown",
   "metadata": {
    "slideshow": {
     "slide_type": "slide"
    }
   },
   "source": [
    "# pylab (MATLAB 스타일)\n",
    "* pylab 은 matplotlib과 함께 설치되는 모듈\n",
    "* numpy 와 pyplot를 같은 네임스페이스에서 사용할 수 있도록 묶어주는 역할\n",
    "* MATLAB과 유사하게 사용할 수 있어, MATLAB에 익숙한 사용자들에게 편리\n"
   ]
  },
  {
   "cell_type": "code",
   "execution_count": 2,
   "metadata": {
    "slideshow": {
     "slide_type": "fragment"
    }
   },
   "outputs": [
    {
     "data": {
      "image/png": "[encoded data removed]",
      "text/plain": [
       "<Figure size 432x288 with 1 Axes>"
      ]
     },
     "metadata": {
      "needs_background": "light"
     },
     "output_type": "display_data"
    }
   ],
   "source": [
    "from pylab import *\n",
    "\n",
    "x = linspace(0, 5, 10)\n",
    "y = x ** 2\n",
    "\n",
    "plot(x, y, 'r')\n",
    "show()"
   ]
  },
  {
   "cell_type": "markdown",
   "metadata": {
    "slideshow": {
     "slide_type": "slide"
    }
   },
   "source": [
    "# pyplot\n",
    "\n",
    "* numpy와 matplotlib.pyplot 를 따로 import 하여 사용\n",
    "* 일관성을 위해 분리하여 쓰는 스타일을 권장\n",
    "* IPython과 같은 대화적인 환경에서는 pylab와 pyplot 편의성 측면에서 큰 차이가 없다.\n",
    "* pyplot 은 figure, axes을 자동으로 생성\n",
    "* 파이썬 스타일, 객체지향 스타일\n",
    "* 프로그래밍에 권장 "
   ]
  },
  {
   "cell_type": "code",
   "execution_count": null,
   "metadata": {
    "slideshow": {
     "slide_type": "fragment"
    }
   },
   "outputs": [],
   "source": [
    "import numpy as np\n",
    "import matplotlib.pyplot as plt\n",
    "\n",
    "x = np.linspace(0, 5, 10)\n",
    "y = x ** 2\n",
    "\n",
    "plt.plot(x, y, 'r')\n",
    "plt.show()"
   ]
  },
  {
   "cell_type": "markdown",
   "metadata": {
    "slideshow": {
     "slide_type": "slide"
    }
   },
   "source": [
    "## 간단한 수식 표현"
   ]
  },
  {
   "cell_type": "code",
   "execution_count": null,
   "metadata": {
    "slideshow": {
     "slide_type": "fragment"
    }
   },
   "outputs": [],
   "source": [
    "import numpy as np\n",
    "import matplotlib.pyplot as plt\n",
    "\n",
    "x = np.linspace(0, 5, 10)\n",
    "y = x ** 2\n",
    "\n",
    "plt.plot(x, y, 'r')\n",
    "plt.xlabel('x')\n",
    "plt.ylabel('y')\n",
    "plt.title('$y=x^2$ Graph')\n",
    "\n",
    "plt.show()"
   ]
  },
  {
   "cell_type": "markdown",
   "metadata": {
    "slideshow": {
     "slide_type": "slide"
    }
   },
   "source": [
    "## 간단한 그리기"
   ]
  },
  {
   "cell_type": "code",
   "execution_count": null,
   "metadata": {
    "slideshow": {
     "slide_type": "fragment"
    }
   },
   "outputs": [],
   "source": [
    "import numpy as np\n",
    "import matplotlib.pyplot as plt\n",
    "\n",
    "data = np.random.randn(100).cumsum()\n",
    "plt.plot(data)"
   ]
  },
  {
   "cell_type": "markdown",
   "metadata": {
    "slideshow": {
     "slide_type": "slide"
    }
   },
   "source": [
    "# matplotlib 전역 설정"
   ]
  },
  {
   "cell_type": "code",
   "execution_count": null,
   "metadata": {
    "slideshow": {
     "slide_type": "fragment"
    }
   },
   "outputs": [],
   "source": [
    "import matplotlib.pyplot as plt\n",
    "\n",
    "# 설정값 얻기\n",
    "fig_size = plt.rcParams[\"figure.figsize\"]\n",
    "line_width = plt.rcParams['lines.linewidth'] = 2\n",
    "lines_color = plt.rcParams['lines.color'] = 'r'\n",
    "\n",
    "# 값 설정\n",
    "plt.rcParams[\"figure.figsize\"] = (10,5)\n",
    "plt.rcParams['lines.linewidth'] = 1\n",
    "plt.rcParams['lines.color'] = 'b'"
   ]
  },
  {
   "cell_type": "markdown",
   "metadata": {
    "slideshow": {
     "slide_type": "slide"
    }
   },
   "source": [
    "# Figure, subplot()\n",
    "* 그래프는 Figure 객체에 그려진다.\n",
    "* Figure안에 1개 이상의 서브플롯(subplot)을 생성하고 그 위에 그래프를 그린다.\n",
    "* plt.plot() 는 최근에 만들어진 Figure의 서브플롯에 그래프를 그린다.\n",
    "* 만일 서브플롯이 존재하지 않으면 새로 생성한다."
   ]
  },
  {
   "cell_type": "code",
   "execution_count": null,
   "metadata": {
    "slideshow": {
     "slide_type": "fragment"
    }
   },
   "outputs": [],
   "source": [
    "data = np.random.randn(100).cumsum()\n",
    "\n",
    "plt.figure(facecolor='lightgrey', edgecolor='r')\n",
    "plt.plot(data)"
   ]
  },
  {
   "cell_type": "markdown",
   "metadata": {
    "slideshow": {
     "slide_type": "slide"
    }
   },
   "source": [
    "# subplot()"
   ]
  },
  {
   "cell_type": "code",
   "execution_count": null,
   "metadata": {
    "slideshow": {
     "slide_type": "fragment"
    }
   },
   "outputs": [],
   "source": [
    "d1 = np.random.randn(100).cumsum()\n",
    "d2 = np.random.randn(100).cumsum()\n",
    "\n",
    "plt.subplot(211)\n",
    "plt.plot(d1)\n",
    "plt.subplot(212)\n",
    "plt.plot(d2, 'r--')"
   ]
  },
  {
   "cell_type": "code",
   "execution_count": null,
   "metadata": {
    "slideshow": {
     "slide_type": "slide"
    }
   },
   "outputs": [],
   "source": [
    "y1 = np.random.randn(100).cumsum()\n",
    "y2 = np.random.randn(100).cumsum()\n",
    "x = list(range(100))\n",
    "\n",
    "plt.subplot(221)\n",
    "plt.plot(y1)\n",
    "plt.subplot(224)\n",
    "plt.plot(y2, 'r--')"
   ]
  },
  {
   "cell_type": "markdown",
   "metadata": {
    "slideshow": {
     "slide_type": "slide"
    }
   },
   "source": [
    "# 라인 스타일과 색"
   ]
  },
  {
   "cell_type": "code",
   "execution_count": null,
   "metadata": {
    "slideshow": {
     "slide_type": "fragment"
    }
   },
   "outputs": [],
   "source": [
    "plt.subplot(1,2,1)\n",
    "plt.plot(x, y1, 'g*-')\n",
    "\n",
    "plt.subplot(1,2,2)\n",
    "plt.plot(x, y2, 'r--')\n",
    "\n",
    "plt.show()"
   ]
  },
  {
   "cell_type": "code",
   "execution_count": null,
   "metadata": {
    "slideshow": {
     "slide_type": "slide"
    }
   },
   "outputs": [],
   "source": [
    "fig = plt.figure()\n",
    "ax = fig.add_axes([0, 0, 0.5, 0.5]) # lower, bottom, width, height (0~1)\n",
    "\n",
    "ax.plot(x, y1, 'r')"
   ]
  },
  {
   "cell_type": "markdown",
   "metadata": {
    "slideshow": {
     "slide_type": "slide"
    }
   },
   "source": [
    "# figure(도형)와 axes(축)\n",
    "figure(도형)내에 여러개의 axes(축)를 만들고, 각 축에 그래프를 그릴 수 있다."
   ]
  },
  {
   "cell_type": "code",
   "execution_count": null,
   "metadata": {
    "slideshow": {
     "slide_type": "fragment"
    }
   },
   "outputs": [],
   "source": [
    "fig = plt.figure()\n",
    "\n",
    "ax1 = fig.add_axes([0.1, 0.1, 0.9, 0.9]) # main\n",
    "ax2 = fig.add_axes([0.2, 0.5, 0.3, 0.3]) # inner\n",
    "\n",
    "# main chart\n",
    "ax1.plot(x, y1, 'r')\n",
    "ax1.set_xlabel('x')\n",
    "ax1.set_ylabel('y1')\n",
    "\n",
    "# inner chart\n",
    "ax2.plot(x, y2, 'g')\n",
    "ax2.set_title('inner chart')"
   ]
  },
  {
   "cell_type": "markdown",
   "metadata": {
    "slideshow": {
     "slide_type": "slide"
    }
   },
   "source": [
    "# matplotlib의 레이아웃 메니저\n",
    "subplots()를 사용"
   ]
  },
  {
   "cell_type": "code",
   "execution_count": null,
   "metadata": {
    "slideshow": {
     "slide_type": "fragment"
    }
   },
   "outputs": [],
   "source": [
    "fig, axes = plt.subplots()\n",
    "\n",
    "axes.plot(x, y1, 'r')\n",
    "axes.set_title('title')"
   ]
  },
  {
   "cell_type": "markdown",
   "metadata": {
    "slideshow": {
     "slide_type": "slide"
    }
   },
   "source": [
    "## 차트 크기와 DPI\n",
    "* figure() 에서 figsize로 크기를 지정 (inch 단위)\n",
    "* dpi를 지정하여 해상도를 명시할 수 있다.\n",
    "* figsize=(12,6), dpi=100 이라면 1200 x 600 pixel 해상도"
   ]
  },
  {
   "cell_type": "code",
   "execution_count": null,
   "metadata": {
    "slideshow": {
     "slide_type": "fragment"
    }
   },
   "outputs": [],
   "source": [
    "fig = plt.figure(figsize=(12,6), dpi=100)"
   ]
  },
  {
   "cell_type": "code",
   "execution_count": null,
   "metadata": {
    "slideshow": {
     "slide_type": "slide"
    }
   },
   "outputs": [],
   "source": [
    "fig, axes = plt.subplots(nrows=1, ncols=3, figsize=(16,5), dpi=100)\n",
    "\n",
    "x = np.arange(0, 10)\n",
    "\n",
    "axes[0].plot(x, x ** 0.5)\n",
    "axes[1].plot(x, x ** 1)\n",
    "axes[2].plot(x, x ** 2)\n",
    "\n",
    "plt.show()"
   ]
  },
  {
   "cell_type": "code",
   "execution_count": null,
   "metadata": {
    "slideshow": {
     "slide_type": "slide"
    }
   },
   "outputs": [],
   "source": [
    "fig, ax = plt.subplots(figsize=(16,4))\n",
    "\n",
    "x = np.arange(100)\n",
    "y = np.random.randint(-50,50,100).cumsum()\n",
    "\n",
    "ax.plot(x, y, 'r')\n",
    "ax.set_title('Price Simulation')"
   ]
  },
  {
   "cell_type": "code",
   "execution_count": null,
   "metadata": {
    "slideshow": {
     "slide_type": "slide"
    }
   },
   "outputs": [],
   "source": [
    "fig, ax = plt.subplots(figsize=(16,4))\n",
    "\n",
    "base = datetime.datetime.today()\n",
    "date_list = [base + datetime.timedelta(days=x) for x in range(0, 100)]\n",
    "\n",
    "x = date_list\n",
    "y = np.random.randint(-50,50,100).cumsum()\n",
    "\n",
    "ax.plot(date_list, y, 'r')\n",
    "ax.set_title('Price Simulation')"
   ]
  },
  {
   "cell_type": "markdown",
   "metadata": {
    "slideshow": {
     "slide_type": "slide"
    }
   },
   "source": [
    "## 이미지 저장\n",
    "* PNG, JPG 는 비트맵 이미지 (bitmap image)\n",
    "* eps, svg, pdf 는 벡터 이미지 (vector image)"
   ]
  },
  {
   "cell_type": "code",
   "execution_count": null,
   "metadata": {
    "slideshow": {
     "slide_type": "fragment"
    }
   },
   "outputs": [],
   "source": [
    "fig.savefig(\"price-simul.png\")\n",
    "fig.savefig(\"price-simul.png\", dpi=200)\n",
    "fig.savefig(\"price-simul.svg\")"
   ]
  },
  {
   "cell_type": "code",
   "execution_count": null,
   "metadata": {
    "slideshow": {
     "slide_type": "slide"
    }
   },
   "outputs": [],
   "source": [
    "ax1 = plt.subplot(211)\n",
    "plt.plot(y1)\n",
    "ax2 = plt.subplot(212, sharex=ax1, sharey=ax1)\n",
    "plt.plot(y2, 'r--')"
   ]
  },
  {
   "cell_type": "markdown",
   "metadata": {
    "slideshow": {
     "slide_type": "slide"
    }
   },
   "source": [
    "## 타이틀, 레이블, 범례\n",
    "\n",
    "타이틀 title, 레이블 label, 범례 legend"
   ]
  },
  {
   "cell_type": "code",
   "execution_count": null,
   "metadata": {
    "slideshow": {
     "slide_type": "fragment"
    }
   },
   "outputs": [],
   "source": [
    "fig, ax = plt.subplots(figsize=(16,4))\n",
    "\n",
    "x = np.arange(100)\n",
    "y1 = np.random.randint(-50,50,100).cumsum()\n",
    "y2 = np.random.randint(-50,50,100).cumsum()\n",
    "y3 = np.random.randint(-50,50,100).cumsum()\n",
    "\n",
    "ax.plot(x, y1, 'r')\n",
    "ax.plot(x, y2, 'g')\n",
    "ax.plot(x, y3, 'b')\n",
    "\n",
    "#  타이틀\n",
    "ax.set_title(\"title\")\n",
    "\n",
    "# 레이블\n",
    "ax.set_xlabel(\"x\")\n",
    "ax.set_ylabel(\"y\")\n",
    "\n",
    "# 범례\n",
    "ax.legend([\"Red\", \"Green\", \"Blue\"]);"
   ]
  },
  {
   "cell_type": "code",
   "execution_count": null,
   "metadata": {
    "slideshow": {
     "slide_type": "slide"
    }
   },
   "outputs": [],
   "source": [
    "fig, ax = plt.subplots(figsize=(16,4))\n",
    "\n",
    "x = np.arange(100)\n",
    "y1 = np.random.randint(-50,50,100).cumsum()\n",
    "y2 = np.random.randint(-50,50,100).cumsum()\n",
    "y3 = np.random.randint(-50,50,100).cumsum()\n",
    "\n",
    "# plot()의 label로 범례 레이블을 지정\n",
    "ax.plot(x, y1, 'r', label='Red')\n",
    "ax.plot(x, y2, 'g', label='Green')\n",
    "ax.plot(x, y3, 'b', label='Blue')\n",
    "\n",
    "# 범례\n",
    "ax.legend(loc=3)"
   ]
  },
  {
   "cell_type": "code",
   "execution_count": null,
   "metadata": {
    "slideshow": {
     "slide_type": "slide"
    }
   },
   "outputs": [],
   "source": [
    "##  범례의 위치\n",
    "\n",
    "ax.legend(loc=0) # 알아서\n",
    "ax.legend(loc=1) # 오른쪽 위\n",
    "ax.legend(loc=2) # 왼쪽 위\n",
    "ax.legend(loc=3) # 왼쪽 아래\n",
    "ax.legend(loc=4) # 오른쪽 아래"
   ]
  },
  {
   "cell_type": "markdown",
   "metadata": {
    "slideshow": {
     "slide_type": "slide"
    }
   },
   "source": [
    "## 텍스트\n",
    "\n",
    "LaTeX 수식, 폰트 크기, 폰트 패밀리\n",
    "\n",
    "* LaTeX 수식을 $로 묶어준다\n",
    "\n",
    "몇 가지 수식 예제 \n",
    "\n",
    "* $ y=x^2 $ ( y=x^2 )\n",
    "* $ \\Sigma_{i=0}^n $( \\Sigma_{i=0}^n )\n",
    "* $ \\alpha,  \\beta, \\gamma$  ( \\alpha,  \\beta, \\gama )"
   ]
  },
  {
   "cell_type": "markdown",
   "metadata": {
    "slideshow": {
     "slide_type": "slide"
    }
   },
   "source": [
    "## 한글\n",
    "* 한글을 사용하려면 폰트를 지정해야 한다.\n",
    "* subplots()를 사용하여 ax(서브플롯)을 얻고,\n",
    "* 제목과 축에 각각 fontproperties 로 폰트를 지정하여 그린다\n"
   ]
  },
  {
   "cell_type": "code",
   "execution_count": null,
   "metadata": {
    "slideshow": {
     "slide_type": "slide"
    }
   },
   "outputs": [],
   "source": [
    "import matplotlib\n",
    "import matplotlib.pyplot as plt\n",
    "import matplotlib.font_manager as fm\n",
    "fp = fm.FontProperties(fname=\"H2GTRE.ttf\")"
   ]
  },
  {
   "cell_type": "code",
   "execution_count": null,
   "metadata": {},
   "outputs": [],
   "source": [
    "pwd"
   ]
  },
  {
   "cell_type": "code",
   "execution_count": null,
   "metadata": {
    "slideshow": {
     "slide_type": "fragment"
    }
   },
   "outputs": [],
   "source": [
    "fig, ax = plt.subplots()\n",
    "ax.set_title('한글 제목', fontproperties=fp)"
   ]
  },
  {
   "cell_type": "code",
   "execution_count": null,
   "metadata": {
    "slideshow": {
     "slide_type": "slide"
    }
   },
   "outputs": [],
   "source": [
    "fig, ax = plt.subplots()\n",
    "\n",
    "x = np.arange(0, 5, 0.5)\n",
    "\n",
    "ax.plot(x, x**2, label='$y = x^2$')\n",
    "ax.plot(x, x**3, label='$y = x^3$')\n",
    "ax.set_xlabel('$x$', fontsize=20)\n",
    "ax.set_ylabel('$y$', fontsize=20)\n",
    "ax.legend(loc=2); # 왼쪽 위"
   ]
  },
  {
   "cell_type": "code",
   "execution_count": null,
   "metadata": {
    "slideshow": {
     "slide_type": "slide"
    }
   },
   "outputs": [],
   "source": [
    "fig, ax = plt.subplots()\n",
    "\n",
    "x = np.arange(0, 5, 0.5)\n",
    "\n",
    "ax.plot(x, x**2, label='$y = x^2$')\n",
    "ax.plot(x, x**3, label='$y = x^3$')\n",
    "ax.set_xlabel('$x$', fontsize=20)\n",
    "ax.set_ylabel('$y$', fontsize=20)\n",
    "ax.legend(loc=2); # 왼쪽 위\n"
   ]
  },
  {
   "cell_type": "code",
   "execution_count": null,
   "metadata": {
    "slideshow": {
     "slide_type": "slide"
    }
   },
   "outputs": [],
   "source": [
    "# 기본 크기로  변경\n",
    "matplotlib.rcParams.update({'font.size': 12, 'font.family': 'sans'})\n",
    "matplotlib.rcParams.update({'figure.figsize':(6, 4)})"
   ]
  },
  {
   "cell_type": "code",
   "execution_count": null,
   "metadata": {
    "slideshow": {
     "slide_type": "slide"
    }
   },
   "outputs": [],
   "source": [
    "fig, ax = plt.subplots()\n",
    "\n",
    "x = np.arange(-1, 1, 0.1)\n",
    "\n",
    "ax.plot(x, x**2, x, x**3)\n",
    "\n",
    "ax.text(0.15, 0.2, r\"$y=x^2$\", fontsize=20, color=\"blue\")\n",
    "ax.text(0.65, 0.1, r\"$y=x^3$\", fontsize=20, color=\"green\");"
   ]
  },
  {
   "cell_type": "markdown",
   "metadata": {
    "slideshow": {
     "slide_type": "slide"
    }
   },
   "source": [
    "## 색상\n",
    "\n",
    "* 하나의 색상(color)는 RGB 값을 16진수로 표현"
   ]
  },
  {
   "cell_type": "code",
   "execution_count": null,
   "metadata": {
    "slideshow": {
     "slide_type": "fragment"
    }
   },
   "outputs": [],
   "source": [
    "fig, ax = subplots()\n",
    "\n",
    "x = np.arange(0, 5, 0.5)\n",
    "\n",
    "ax.plot(x, x**2.0, color='#FF0000') # 'red' = 'r' = '#FF0000'\n",
    "ax.plot(x, x**2.5, color='green')    # 'green' = 'g', ''#00FF00'\n",
    "ax.plot(x, x**3.0, color='b') # B"
   ]
  },
  {
   "cell_type": "markdown",
   "metadata": {
    "slideshow": {
     "slide_type": "slide"
    }
   },
   "source": [
    "## 간격조절, 축 공유\n",
    "* 축 공유: sharex, sharey 속성에 공유할 축(axis)를 지정\n",
    "* 축의 눈금 감추기: setp(대상, visible=False)"
   ]
  },
  {
   "cell_type": "code",
   "execution_count": null,
   "metadata": {
    "slideshow": {
     "slide_type": "fragment"
    }
   },
   "outputs": [],
   "source": [
    "# x축 눈금(tick labels)을 보이지 않게 한다.\n",
    "ax1 = plt.subplot(211)\n",
    "setp( ax1.get_xticklabels(), visible=False)\n",
    "plt.plot(d1)\n",
    "ax2 = plt.subplot(212, sharex=ax1, sharey=ax1)\n",
    "plt.plot(d2, 'r--')\n",
    "\n",
    "# 서브플롯 사이 간격 조정 \n",
    "plt.subplots_adjust(hspace=0)\n",
    "\n",
    "# 그리드 표시\n",
    "ax1.grid(True)\n",
    "ax2.grid(True)"
   ]
  },
  {
   "cell_type": "markdown",
   "metadata": {
    "slideshow": {
     "slide_type": "slide"
    }
   },
   "source": [
    "## subplots\n",
    "* subplots: 서브플롯을 한번에 생성\n",
    "* subplots_adjust: 간격 조절"
   ]
  },
  {
   "cell_type": "code",
   "execution_count": null,
   "metadata": {
    "slideshow": {
     "slide_type": "fragment"
    }
   },
   "outputs": [],
   "source": [
    "fig, axes = plt.subplots(nrows=2, ncols=2, sharex=True, sharey=True, figsize=(16,8))\n",
    "\n",
    "# 간격을 없앤다.\n",
    "plt.subplots_adjust(wspace =0, hspace=0)"
   ]
  },
  {
   "cell_type": "code",
   "execution_count": null,
   "metadata": {
    "slideshow": {
     "slide_type": "slide"
    }
   },
   "outputs": [],
   "source": [
    "fig, axes = plt.subplots(nrows=2, ncols=2, sharex=True, sharey=True, figsize=(16,8))\n",
    "fig.subplots_adjust(wspace =0.05, hspace=0.1) # 좁은간격\n",
    "\n",
    "x = range(0, 100)\n",
    "for ax in axes.reshape(-1):\n",
    "    y = np.random.randn(100).cumsum()\n",
    "    ax.grid(True)\n",
    "    ax.plot(x, y, 'r')\n"
   ]
  },
  {
   "cell_type": "markdown",
   "metadata": {
    "slideshow": {
     "slide_type": "slide"
    }
   },
   "source": [
    "## subplots"
   ]
  },
  {
   "cell_type": "code",
   "execution_count": null,
   "metadata": {
    "slideshow": {
     "slide_type": "fragment"
    }
   },
   "outputs": [],
   "source": [
    "fig, ax = subplots(2, 3)\n",
    "fig.tight_layout()"
   ]
  },
  {
   "cell_type": "markdown",
   "metadata": {
    "slideshow": {
     "slide_type": "slide"
    }
   },
   "source": [
    "## 색상, 라인, 마커\n",
    "* plot(x, y, '색/스타일/마커 문자조합')\n",
    "* 예) 'bo--' (파란색 선, 원형 마커, 점선), 'r+' (빨간색 선, 십자마커)\n",
    "* itertools 의 cycle 활용, 돌아가며 바꾸기"
   ]
  },
  {
   "cell_type": "code",
   "execution_count": null,
   "metadata": {
    "slideshow": {
     "slide_type": "fragment"
    }
   },
   "outputs": [],
   "source": [
    "from itertools import cycle\n",
    "colors = cycle(['r', 'g', 'b', 'c', 'm', 'y', 'k'])\n",
    "\n",
    "print (next(colors)) #차례로 하나씩 반환\n",
    "print (next(colors))\n",
    "print (next(colors))"
   ]
  },
  {
   "cell_type": "code",
   "execution_count": null,
   "metadata": {
    "slideshow": {
     "slide_type": "slide"
    }
   },
   "outputs": [],
   "source": [
    "from itertools import cycle\n",
    "line_styles = cycle(['-', '--', '-.', ':'])\n",
    "markers = cycle(['o', '^.', 's', 'x', 'd'])\n",
    "\n",
    "for i in range(0,10):\n",
    "    print (next(line_styles) + next(markers))\n"
   ]
  },
  {
   "cell_type": "code",
   "execution_count": null,
   "metadata": {
    "slideshow": {
     "slide_type": "slide"
    }
   },
   "outputs": [],
   "source": [
    "from itertools import cycle\n",
    "color = cycle(['r', 'g', 'b', 'c', 'm', 'y', 'k'])\n",
    "line_styles = cycle(['-', '--', '-.', ':'])\n",
    "markers = cycle(['o', '^', 's', 'x', 'd'])\n",
    "\n",
    "fig, axes = plt.subplots(nrows=2, ncols=2, sharex=True, sharey=True, figsize=(16,8))\n",
    "fig.subplots_adjust(wspace =0.05, hspace=0.1) # 좁은간격\n",
    "\n",
    "x = range(0, 50)\n",
    "for ax in axes.reshape(-1):\n",
    "    ax.grid(True)\n",
    "    for i in range(3): #하나의 서브플롯에 3개씩\n",
    "        y = np.random.randn(50).cumsum()\n",
    "        style = next(color) + next(line_styles) + next(markers)\n",
    "        #print (style) #색상, 라인, 마커 문자열\n",
    "        ax.plot(x, y, style)"
   ]
  },
  {
   "cell_type": "markdown",
   "metadata": {
    "slideshow": {
     "slide_type": "slide"
    }
   },
   "source": [
    "## 컬러 cycle"
   ]
  },
  {
   "cell_type": "code",
   "execution_count": null,
   "metadata": {
    "slideshow": {
     "slide_type": "fragment"
    }
   },
   "outputs": [],
   "source": [
    "from itertools import cycle\n",
    "colors = cycle([ \"#C41F3B\", \"#FF7D0A\", \"#ABD473\", \"#69CCF0\", \"#00FF96\", \"#F58CBA\", \"#FFF569\", \"#0070DE\", \"#9482C9\", \"#C79C6E\" ])\n",
    "line_styles = cycle(['-', '--', '-.', ':'])\n",
    "markers = cycle(['o', '^', 's', 'x', 'd'])\n",
    "\n",
    "fig, axes = plt.subplots(nrows=2, ncols=2, sharex=True, sharey=True, figsize=(16,8))\n",
    "fig.subplots_adjust(wspace =0.05, hspace=0.1) # 좁은간격\n",
    "\n",
    "x = range(0, 50)\n",
    "for ax in axes.reshape(-1):\n",
    "    ax.grid(True)\n",
    "    for i in range(3): #하나의 서브플롯에 3개씩\n",
    "        y = np.random.randn(50).cumsum()\n",
    "        style = next(line_styles) + next(markers)\n",
    "        ax.plot(x, y, style, color=next(colors))"
   ]
  },
  {
   "cell_type": "code",
   "execution_count": null,
   "metadata": {},
   "outputs": [],
   "source": []
  },
  {
   "cell_type": "code",
   "execution_count": null,
   "metadata": {
    "slideshow": {
     "slide_type": "slide"
    }
   },
   "outputs": [],
   "source": [
    "y = np.random.randn(10)\n",
    "print (y)\n",
    "plt.plot([x for x in range(10)], y)"
   ]
  },
  {
   "cell_type": "markdown",
   "metadata": {
    "slideshow": {
     "slide_type": "slide"
    }
   },
   "source": [
    "## 범위 지정"
   ]
  },
  {
   "cell_type": "code",
   "execution_count": null,
   "metadata": {
    "slideshow": {
     "slide_type": "fragment"
    }
   },
   "outputs": [],
   "source": [
    "fig, axes = subplots(1, 3, figsize=(12, 4))\n",
    "\n",
    "x = np.linspace(0,5,5)\n",
    "\n",
    "axes[0].plot(x, x**2, x, x**3)\n",
    "axes[0].set_title(\"default ranges\")\n",
    "\n",
    "axes[1].plot(x, x**2, x, x**3)\n",
    "axes[1].axis('tight')\n",
    "axes[1].set_title(\"tight\")\n",
    "\n",
    "axes[2].plot(x, x**2, x, x**3)\n",
    "axes[2].set_ylim([0, 60])\n",
    "axes[2].set_xlim([2, 5])\n",
    "axes[2].set_title(\"custom range\");"
   ]
  },
  {
   "cell_type": "markdown",
   "metadata": {
    "slideshow": {
     "slide_type": "slide"
    }
   },
   "source": [
    "## 틱과 틱 레이블"
   ]
  },
  {
   "cell_type": "code",
   "execution_count": null,
   "metadata": {
    "slideshow": {
     "slide_type": "fragment"
    }
   },
   "outputs": [],
   "source": [
    "import numpy as np\n",
    "\n",
    "fig, ax = subplots(figsize=(10, 4))\n",
    "\n",
    "ax.plot(np.arange(1,6), np.random.randint(1,150,5))\n",
    "\n",
    "ax.set_xticks([1, 2, 3, 4, 5])\n",
    "ax.set_xticklabels('ABCDE', fontsize=18)\n",
    "\n",
    "yticks = [0, 50, 100, 150]\n",
    "ax.set_yticks(yticks)\n",
    "ax.set_yticklabels([\"%.1f\" % y for y in yticks], fontsize=18)\n",
    "\n",
    "plt.show()"
   ]
  },
  {
   "cell_type": "markdown",
   "metadata": {
    "slideshow": {
     "slide_type": "slide"
    }
   },
   "source": [
    "## 그리드"
   ]
  },
  {
   "cell_type": "code",
   "execution_count": null,
   "metadata": {
    "slideshow": {
     "slide_type": "fragment"
    }
   },
   "outputs": [],
   "source": [
    "fig, axes = subplots(1, 2, figsize=(10,3))\n",
    "\n",
    "# default grid appearance\n",
    "axes[0].plot(x, x**2, x, x**3, lw=2)\n",
    "axes[0].grid(True)\n",
    "\n",
    "# custom grid appearance\n",
    "axes[1].plot(x, x**2, x, x**3, lw=2)\n",
    "axes[1].grid(color='b', alpha=0.5, linestyle='dashed', linewidth=0.5)"
   ]
  },
  {
   "cell_type": "code",
   "execution_count": null,
   "metadata": {},
   "outputs": [],
   "source": []
  }
 ],
 "metadata": {
  "anaconda-cloud": {},
  "kernelspec": {
   "display_name": "Python 3",
   "language": "python",
   "name": "python3"
  },
  "language_info": {
   "codemirror_mode": {
    "name": "ipython",
    "version": 3
   },
   "file_extension": ".py",
   "mimetype": "text/x-python",
   "name": "python",
   "nbconvert_exporter": "python",
   "pygments_lexer": "ipython3",
   "version": "3.7.3"
  }
 },
 "nbformat": 4,
 "nbformat_minor": 1
}
