{
 "cells": [
  {
   "cell_type": "code",
   "execution_count": 3,
   "metadata": {},
   "outputs": [
    {
     "name": "stdout",
     "output_type": "stream",
     "text": [
      "47.3\n"
     ]
    }
   ],
   "source": [
    "#절대값을 리턴하는 함수\n",
    "abs(-50)\n",
    "abs(-55123)\n",
    "def led(a):\n",
    "    if a<0:\n",
    "        a*=-1\n",
    "    return a\n",
    "        \n",
    "led(-47.3)"
   ]
  },
  {
   "cell_type": "code",
   "execution_count": 6,
   "metadata": {},
   "outputs": [
    {
     "data": {
      "text/plain": [
       "12.56"
      ]
     },
     "execution_count": 6,
     "metadata": {},
     "output_type": "execute_result"
    }
   ],
   "source": [
    "#반지름을 받아서 원의 면적을 리턴하는 함수\n",
    "pi = 3.14\n",
    "def area(a):\n",
    "    return a*a*pi\n",
    "area(2)"
   ]
  },
  {
   "cell_type": "code",
   "execution_count": 9,
   "metadata": {},
   "outputs": [
    {
     "name": "stdout",
     "output_type": "stream",
     "text": [
      "------------------------------\n",
      "Name: 민호\n",
      "E-mail: fastz123@naver.com\n",
      "Office Address: seoul\n",
      "------------------------------\n"
     ]
    }
   ],
   "source": [
    "#이름 주소 이메일을 받고 명함을 출력하는 함수\n",
    "def print_namecard(a,b,c):\n",
    "    print('-'*30)\n",
    "    print('Name: {}'.format(a))\n",
    "    print('E-mail: {}'.format(b))\n",
    "    print('Office Address: {}'.format(c))\n",
    "    print('-'*30)\n",
    "print_namecard('민호','fastz123@naver.com','seoul')"
   ]
  },
  {
   "cell_type": "code",
   "execution_count": 18,
   "metadata": {},
   "outputs": [
    {
     "data": {
      "text/plain": [
       "120"
      ]
     },
     "execution_count": 18,
     "metadata": {},
     "output_type": "execute_result"
    }
   ],
   "source": [
    "#일반 매개변수 ('sum','mul')와 가변매개변수를 받고, 리턴\n",
    "def sum_mul(a,*b):\n",
    "    if a=='sum':\n",
    "        return sum(b)\n",
    "    elif a=='mul':\n",
    "        multi=1\n",
    "        for i in b:\n",
    "            multi*=i\n",
    "        return multi\n",
    "sum_mul('mul',2,3,4,5)"
   ]
  },
  {
   "cell_type": "code",
   "execution_count": 24,
   "metadata": {},
   "outputs": [
    {
     "data": {
      "text/plain": [
       "'goodmorning minho'"
      ]
     },
     "execution_count": 24,
     "metadata": {},
     "output_type": "execute_result"
    }
   ],
   "source": [
    "#기본값이 있는 함수\n",
    "\n",
    "def report(a,b='Everyone'):\n",
    "    return a+' '+b\n",
    "\n",
    "#report('Goodmorning')\n",
    "report('goodmorning','minho')"
   ]
  },
  {
   "cell_type": "code",
   "execution_count": 32,
   "metadata": {},
   "outputs": [
    {
     "data": {
      "text/plain": [
       "[2, 4]"
      ]
     },
     "execution_count": 32,
     "metadata": {},
     "output_type": "execute_result"
    }
   ],
   "source": [
    "#가변매개변수로 값을 받아서 짝수만 출력하는 함수\n",
    "lis=[]\n",
    "def select_even(*a):\n",
    "    lis = [i for i in a if i%2==0]   \n",
    "    return lis \n",
    "select_even(1,2,3,4)"
   ]
  },
  {
   "cell_type": "code",
   "execution_count": 34,
   "metadata": {},
   "outputs": [
    {
     "data": {
      "text/plain": [
       "(1, 5)"
      ]
     },
     "execution_count": 34,
     "metadata": {},
     "output_type": "execute_result"
    }
   ],
   "source": [
    "#가변매개변수를 받고 최대 최소를 출력하는 함수\n",
    "\n",
    "def find_min_max(*a):\n",
    "    maxi=mini=a[0]\n",
    "    for i in a:\n",
    "        if mini>i:\n",
    "            mini=i\n",
    "        if maxi<i:\n",
    "            maxi=i\n",
    "    return mini,maxi\n",
    "find_min_max(1,2,3,4,5)"
   ]
  },
  {
   "cell_type": "code",
   "execution_count": 36,
   "metadata": {},
   "outputs": [
    {
     "data": {
      "text/plain": [
       "(1, 5)"
      ]
     },
     "execution_count": 36,
     "metadata": {},
     "output_type": "execute_result"
    }
   ],
   "source": [
    "def find_min_max(*a):\n",
    "    return min(a),max(a)\n",
    "find_min_max(1,2,3,4,5)"
   ]
  },
  {
   "cell_type": "code",
   "execution_count": 37,
   "metadata": {},
   "outputs": [
    {
     "data": {
      "text/plain": [
       "(15, 60)"
      ]
     },
     "execution_count": 37,
     "metadata": {},
     "output_type": "execute_result"
    }
   ],
   "source": [
    "#가변매개변수와 keyword매개변수를 받은 후 가변매개변수의 합과 keyword변수의 합을 구하라\n",
    "def varSum(*a,**b):\n",
    "    return sum(a),sum(b.values())\n",
    "varSum(1,2,3,4,5,a=10,b=20,c=30)"
   ]
  },
  {
   "cell_type": "code",
   "execution_count": 101,
   "metadata": {},
   "outputs": [
    {
     "data": {
      "text/plain": [
       "[('b', 2), ('a', 3), ('c', 4)]"
      ]
     },
     "execution_count": 101,
     "metadata": {},
     "output_type": "execute_result"
    }
   ],
   "source": [
    "#kw 매개변수를 받은 후 kw값 올림차순으로 정렬해서 리턴\n",
    "def values_sort(**a):\n",
    "    return sorted(a.items(),key=lambda x:x[1])\n",
    "values_sort(a=3,b=2,c=4)"
   ]
  },
  {
   "cell_type": "markdown",
   "metadata": {},
   "source": [
    "# class"
   ]
  },
  {
   "cell_type": "code",
   "execution_count": 99,
   "metadata": {},
   "outputs": [
    {
     "name": "stdout",
     "output_type": "stream",
     "text": [
      "28.26\n",
      "18.84\n"
     ]
    }
   ],
   "source": [
    "#attribute(속성) - 반지름\n",
    "# method - init, 원의 넓이 구하기, 원의 둘레길이 구하기\n",
    "class circle:\n",
    "    def __init__(self, radius):\n",
    "        self.radius = radius\n",
    "    def area(self):\n",
    "        return pow(self.radius,2)*3.14\n",
    "    def perimeter(self):\n",
    "        return self.radius*2*3.14\n",
    "aa=circle(3)\n",
    "print(aa.area())\n",
    "print(aa.perimeter())"
   ]
  },
  {
   "cell_type": "code",
   "execution_count": 19,
   "metadata": {},
   "outputs": [
    {
     "name": "stdout",
     "output_type": "stream",
     "text": [
      "------------------------------\n",
      "Name:  Minho\n",
      "email:  fastz123@naver.com\n",
      "address:  seoul\n",
      "------------------------------\n"
     ]
    }
   ],
   "source": [
    "#attribute - name,email,addr\n",
    "#method - init, setinfo, 명함인쇄하기\n",
    "\n",
    "class Person:\n",
    "    def __init__(self,name,email,addr):\n",
    "        self.name=name\n",
    "        self.email=email\n",
    "        self.addr = addr\n",
    "    def setinfo(self,name,email,addr):\n",
    "        self.name=name\n",
    "        self.email=email\n",
    "        self.addr = addr\n",
    "    def print_info(self):\n",
    "        print('-'*30)\n",
    "        print('Name: ' , self.name)\n",
    "        print('email: ',self.email)\n",
    "        print('address: ',self.addr)\n",
    "        print('-'*30)\n",
    "        \n",
    "Minho=Person('Minho','fastz123@naver.com','seoul')\n",
    "Minho.print_info()"
   ]
  },
  {
   "cell_type": "code",
   "execution_count": 12,
   "metadata": {},
   "outputs": [
    {
     "data": {
      "text/plain": [
       "0.5"
      ]
     },
     "execution_count": 12,
     "metadata": {},
     "output_type": "execute_result"
    }
   ],
   "source": [
    "#사칙연산 클래스 구현\n",
    "# attribute - first, second\n",
    "# method - init,sum,mul,sub,div\n",
    "class FourCal:\n",
    "    def __init__(self,first,second):\n",
    "        self.first = first\n",
    "        self.second = second\n",
    "    def setinfo(self,first,second):\n",
    "        self.first = first\n",
    "        self.second = second\n",
    "    def summ(self):\n",
    "        return self.first+self.second\n",
    "    def mul(self):\n",
    "        return self.first*self.second\n",
    "    def sub(self):\n",
    "        return self.first-self.second\n",
    "    def div(self):\n",
    "        return self.first/self.second\n",
    "    \n",
    "Cal = FourCal(10 , 20)\n",
    "Cal.div()"
   ]
  },
  {
   "cell_type": "code",
   "execution_count": 13,
   "metadata": {},
   "outputs": [
    {
     "name": "stdout",
     "output_type": "stream",
     "text": [
      "6\n",
      "16\n"
     ]
    }
   ],
   "source": [
    "#상속받아 지수계산 연산 추가\n",
    "class child_FourCal(FourCal):\n",
    "    def wins(self):\n",
    "        return pow(self.first,self.second)\n",
    "\n",
    "child = child_FourCal(2,4)\n",
    "print(child.summ())\n",
    "print(child.wins())"
   ]
  },
  {
   "cell_type": "code",
   "execution_count": 20,
   "metadata": {},
   "outputs": [
    {
     "data": {
      "text/plain": [
       "0"
      ]
     },
     "execution_count": 20,
     "metadata": {},
     "output_type": "execute_result"
    }
   ],
   "source": [
    "#Overriding - div() error\n",
    "class SafeFourCal(FourCal):\n",
    "    def div(self):\n",
    "        if self.second == 0:\n",
    "            return 0\n",
    "aa = SafeFourCal(2,0)\n",
    "aa.div()"
   ]
  },
  {
   "cell_type": "code",
   "execution_count": null,
   "metadata": {},
   "outputs": [],
   "source": []
  }
 ],
 "metadata": {
  "kernelspec": {
   "display_name": "Python 3",
   "language": "python",
   "name": "python3"
  },
  "language_info": {
   "codemirror_mode": {
    "name": "ipython",
    "version": 3
   },
   "file_extension": ".py",
   "mimetype": "text/x-python",
   "name": "python",
   "nbconvert_exporter": "python",
   "pygments_lexer": "ipython3",
   "version": "3.7.3"
  }
 },
 "nbformat": 4,
 "nbformat_minor": 2
}
