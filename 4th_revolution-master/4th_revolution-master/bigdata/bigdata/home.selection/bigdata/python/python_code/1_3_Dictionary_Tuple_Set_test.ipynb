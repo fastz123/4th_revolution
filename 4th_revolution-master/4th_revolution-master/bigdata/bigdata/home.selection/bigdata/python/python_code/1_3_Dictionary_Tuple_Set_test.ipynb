{
 "cells": [
  {
   "cell_type": "markdown",
   "metadata": {},
   "source": [
    "## Dictionary_Tuple_Set"
   ]
  },
  {
   "cell_type": "markdown",
   "metadata": {},
   "source": [
    "### Tuple"
   ]
  },
  {
   "cell_type": "code",
   "execution_count": 4,
   "metadata": {},
   "outputs": [
    {
     "name": "stdout",
     "output_type": "stream",
     "text": [
      "tuple\n",
      "3\n",
      "[4, 5]\n",
      "4\n",
      "(1, 2, 3)\n"
     ]
    }
   ],
   "source": [
    "myTuple = (\"tuple\", (1, 2, 3), [4, 5, 6])\n",
    "\n",
    "\n",
    "# 'tuple'을 출력하시오\n",
    "print(myTuple[0])\n",
    "# 3을 출력하세요\n",
    "print(myTuple[1][2])\n",
    "# 4, 5를 출력하세요\n",
    "print(myTuple[2][:2])\n",
    "# 4를 출력하세요\n",
    "print(myTuple[2][0])\n",
    "# (1, 2, 3)을 출력하세요\n",
    "print(myTuple[1])\n"
   ]
  },
  {
   "cell_type": "code",
   "execution_count": 10,
   "metadata": {},
   "outputs": [
    {
     "name": "stdout",
     "output_type": "stream",
     "text": [
      "(1, 2, 3, 3, 2, 1, 4, 5, 6)\n",
      "(1, 2, 3, 3, 2, 1, 1, 2, 3, 3, 2, 1, 1, 2, 3, 3, 2, 1)\n",
      "2\n",
      "2\n",
      "3\n"
     ]
    }
   ],
   "source": [
    "my_tuple = (1, 2, 3, 3, 2, 1)\n",
    "your_tuple = (4, 5, 6)\n",
    "\n",
    "# 튜플 연산\n",
    "# our_tuple과 your_tuple을 연결하세요\n",
    "print(my_tuple+your_tuple)\n",
    "# mytuple을 3번 반복하세요\n",
    "print(my_tuple*3)\n",
    "# mytuple에 3이 있는지 확인하세요\n",
    "print(my_tuple.index(3))\n",
    "# mytuple에 5가 있는지 확인하세요\n",
    "#print(my_tuple.index(5))\n",
    "# mytuple에서 1의 갯수를 출력하세요\n",
    "print(my_tuple.count(1))\n",
    "# mytuple에서 index 2자리의 값을 출력하세요\n",
    "print(my_tuple[2])\n"
   ]
  },
  {
   "cell_type": "code",
   "execution_count": 17,
   "metadata": {},
   "outputs": [
    {
     "name": "stdout",
     "output_type": "stream",
     "text": [
      "3\n",
      "120.09\n",
      "2.8\n",
      "132.0\n",
      "44.0\n",
      "[2.8, 9.11, 120.09]\n"
     ]
    }
   ],
   "source": [
    "t_float = (120.09, 9.11, 2.8)\n",
    "L_int = [1, 2, 3]\n",
    "\n",
    "# t_float의 길이를 출력하세요\n",
    "print(len(t_float))\n",
    "# t_float의 최대값을 출력하세요\n",
    "print(max(t_float))\n",
    "# t_float의 최소값을 출력하세요\n",
    "print(min(t_float))\n",
    "# t_float의 합을 출력하세요.\n",
    "print(sum(t_float))\n",
    "# t_float의 평균을 출력하세요.\n",
    "print(sum(t_float)/len(t_float))\n",
    "# t_float를 오름차순 정렬하세요\n",
    "print(sorted(t_float))"
   ]
  },
  {
   "cell_type": "markdown",
   "metadata": {},
   "source": [
    "### Set"
   ]
  },
  {
   "cell_type": "code",
   "execution_count": 26,
   "metadata": {},
   "outputs": [
    {
     "data": {
      "text/plain": [
       "dict"
      ]
     },
     "execution_count": 26,
     "metadata": {},
     "output_type": "execute_result"
    }
   ],
   "source": [
    "\n",
    "# my_set이라는 빈 집합을 만들고 타입을 출력하세요..\n",
    "t={}\n",
    "type(t)"
   ]
  },
  {
   "cell_type": "code",
   "execution_count": 31,
   "metadata": {},
   "outputs": [
    {
     "data": {
      "text/plain": [
       "'earth'"
      ]
     },
     "execution_count": 31,
     "metadata": {},
     "output_type": "execute_result"
    }
   ],
   "source": [
    "# 'sky'와 'sea'를 요소로 하는 set을 만드세요\n",
    "t={'sky','sea'}\n",
    "# 'earth' 요소를 추가하세요\n",
    "t.add('earth')\n",
    "# ('1', '2') 요소를 추가하세요\n",
    "t.add('1')\n",
    "t.add('2')\n",
    "# 무작위로 요소 하나를 삭제하세요\n",
    "t.pop()"
   ]
  },
  {
   "cell_type": "code",
   "execution_count": 44,
   "metadata": {},
   "outputs": [
    {
     "name": "stdout",
     "output_type": "stream",
     "text": [
      "{'천왕성', '토성', '해왕성', '수성', '목성', '화성', '지구'}\n",
      "{'토성', '해왕성', '수성', '목성', '화성', '지구'}\n",
      "set()\n"
     ]
    }
   ],
   "source": [
    "s_planet = {'수성', '금성', '지구', '화성', '목성', '토성', '천왕성', '해왕성'}\n",
    "#print(s_planet)\n",
    "#print()\n",
    "\n",
    "# '금성' 을 삭제하세요\n",
    "s_planet.remove('금성')\n",
    "print(s_planet)\n",
    "# 위와 다른 함수를 사용해서 '천왕성'을 삭제하세요\n",
    "s_planet.discard('천왕성')\n",
    "print(s_planet)\n",
    "# 모든 항목을 지우세요\n",
    "s_planet.clear()\n",
    "print(s_planet)"
   ]
  },
  {
   "cell_type": "code",
   "execution_count": 53,
   "metadata": {},
   "outputs": [
    {
     "name": "stdout",
     "output_type": "stream",
     "text": [
      "{1, 2, 3, 4, 5, 6, 7, 8, 9}\n",
      "{1, 2, 3}\n",
      "{4, 5, 6}\n",
      "{4, 5, 6, 7, 8, 9}\n",
      "True\n",
      "True\n"
     ]
    }
   ],
   "source": [
    "A = {1, 2, 3, 4, 5, 6}\n",
    "B = {1, 2, 3, 7, 8, 9}\n",
    "\n",
    "# 합집합을 구하세요\n",
    "print(A.union(B))\n",
    "# 교집합을 구하세요\n",
    "print(A.intersection(B))\n",
    "# 차집합을 구하세요\n",
    "print(A.difference(B))\n",
    "# 대칭차집합을 구하세요\n",
    "print(A.symmetric_difference(B))\n",
    "# 부분집합\n",
    "# {4, 5, 6}가 A의 부분집합인지 확인하세요\n",
    "print({4,5,6}.issubset(A))\n",
    "# A가 {4, 5, 6}을 포함하닌지 확인하세요\n",
    "print(A.issuperset({4,5,6}))"
   ]
  },
  {
   "cell_type": "code",
   "execution_count": 60,
   "metadata": {},
   "outputs": [
    {
     "name": "stdout",
     "output_type": "stream",
     "text": [
      "{10.0, 1.0, 2.0, 3.0}\n",
      "\n",
      "4\n",
      "[1.0, 2.0, 3.0, 10.0]\n",
      "True\n"
     ]
    }
   ],
   "source": [
    "s_float = {1.0, 3.0, 2.0, 10.0}\n",
    "print(s_float)\n",
    "print()\n",
    "\n",
    "# s_float의 길이를 구하세요\n",
    "print(len(s_float))\n",
    "# s_float를 올림차순 정렬하세요\n",
    "print(sorted(s_float))\n",
    "# s_float에 2.0이 포함되는지 확인하세요\n",
    "print({2.0}.issubset(s_float))"
   ]
  },
  {
   "cell_type": "markdown",
   "metadata": {},
   "source": [
    "### Dictionary"
   ]
  },
  {
   "cell_type": "code",
   "execution_count": 64,
   "metadata": {},
   "outputs": [
    {
     "name": "stdout",
     "output_type": "stream",
     "text": [
      "{'태양': 'Sun', '수성': 'Mercury', '금성': 'Venus', '지구': 'Earth', '화성': 'Mars', '목성': 'Jupiter', '토성': 'Saturn', '천왕성': 'Uranus', '해왕성': 'Neptune'}\n"
     ]
    }
   ],
   "source": [
    "solar1 = ['태양', '수성', '금성', '지구', '화성', '목성', '토성', '천왕성', '해왕성']\n",
    "solar2 = ['Sun', 'Mercury', 'Venus', 'Earth', 'Mars', 'Jupiter', 'Saturn', 'Uranus', 'Neptune']\n",
    "solardict = {}\n",
    "\n",
    "# 아래와 같이 출력되도록 코딩하세요.\n",
    "# for문을 사용하세요.\n",
    "# \n",
    "# {'태양': 'Sun', '수성': 'Mercury', '금성': 'Venus', '지구': 'Earth', \n",
    "#  '화성': 'Mars', '목성': 'Jupiter', '토성': 'Saturn', '천왕성': 'Uranus', '해왕성': 'Neptune'}\n",
    "\n",
    "for i in range(len(solar1)):\n",
    "    solardict[solar1[i]]=solar2[i]\n",
    "print(solardict)"
   ]
  },
  {
   "cell_type": "code",
   "execution_count": 72,
   "metadata": {},
   "outputs": [
    {
     "name": "stdout",
     "output_type": "stream",
     "text": [
      "{'Mary': 10999, 'Sams': 2111, 'Aimy': 10000, 'Tom': 20245, 'Michale': 27115, 'Bob': 5887, 'Kelly': 7855}\n"
     ]
    }
   ],
   "source": [
    "names = {'Mary':10999, 'Sams':2111, 'Aimy':9778, 'Tom':20245, \n",
    "'Michale':27115, 'Bob':5887, 'Kelly':7855}\n",
    "\n",
    "# Aimy의 value를 10000으로 수정하세요\n",
    "names['Aimy']=10000\n",
    "print(names)"
   ]
  },
  {
   "cell_type": "code",
   "execution_count": 95,
   "metadata": {},
   "outputs": [
    {
     "name": "stdout",
     "output_type": "stream",
     "text": [
      "{'Mary': 10999, 'Aimy': 9778, 'Tom': 20245, 'Michale': 27115, 'Bob': 5887, 'Kelly': 7855}\n",
      "81879\n",
      "27115\n",
      "dict_keys(['Mary', 'Aimy', 'Tom', 'Michale', 'Bob', 'Kelly'])\n",
      "dict_values([10999, 9778, 20245, 27115, 5887, 7855])\n",
      "{}\n"
     ]
    }
   ],
   "source": [
    "names = {'Mary':10999, 'Sams':2111, 'Aimy':9778, 'Tom':20245, \n",
    "'Michale':27115, 'Bob':5887, 'Kelly':7855}\n",
    "\n",
    "# 'Sams'를 삭제하세요\n",
    "del names['Sams']\n",
    "print(names)\n",
    "# value 값들의 합을 구하세요\n",
    "print(sum(names.values()))\n",
    "# value 값들의 최대값을 구하세요\n",
    "print(max(names.values()))\n",
    "# key값들을 출력하세요\n",
    "print(names.keys())\n",
    "# value값들을 출력하세요\n",
    "print(names.values())\n",
    "# 모든 요소를 삭제하세요\n",
    "names.clear()\n",
    "print(names)"
   ]
  },
  {
   "cell_type": "code",
   "execution_count": 97,
   "metadata": {},
   "outputs": [
    {
     "name": "stdout",
     "output_type": "stream",
     "text": [
      "이름을 입력하세요: Mary\n",
      "10999\n"
     ]
    }
   ],
   "source": [
    "names = {'Mary':10999, 'Sams':2111, 'Aimy':9778, 'Tom':20245, \n",
    "'Michale':27115, 'Bob':5887, 'Kelly':7855}\n",
    "k = input('이름을 입력하세요: ')\n",
    "\n",
    "# 이름을 입력받고, 이름의 value값을 출력하도록 코딩하세요\n",
    "print(names.get(k))"
   ]
  },
  {
   "cell_type": "code",
   "execution_count": 2,
   "metadata": {},
   "outputs": [
    {
     "data": {
      "text/plain": [
       "[('Aimy', 9778),\n",
       " ('Bob', 5887),\n",
       " ('Kelly', 7855),\n",
       " ('Mary', 10999),\n",
       " ('Michale', 27115),\n",
       " ('Sams', 2111),\n",
       " ('Tom', 20245)]"
      ]
     },
     "execution_count": 2,
     "metadata": {},
     "output_type": "execute_result"
    }
   ],
   "source": [
    "names = {'Mary':10999, 'Sams':2111, 'Aimy':9778, 'Tom':20245, \n",
    "'Michale':27115, 'Bob':5887, 'Kelly':7855}\n",
    "\n",
    "# key를 기준으로 올림차순 정렬하세요\n",
    "#sorted(names.keys())\n",
    "sorted(names.items(),key= lambda x:x[0])"
   ]
  },
  {
   "cell_type": "code",
   "execution_count": 104,
   "metadata": {},
   "outputs": [
    {
     "name": "stdout",
     "output_type": "stream",
     "text": [
      "18\n",
      "singer\n",
      "{'name': '수지', 'age': 18, 'job': 'singer'}\n",
      "{'name': '수지', 'age': 18, 'job': 'singer', 'birth': '1994-07-07'}\n",
      "{'name': '수지', 'age': 18, 'job': 'singer', 'birth': '1994-07-07', 'manager': 'JYP'}\n"
     ]
    }
   ],
   "source": [
    "my_idol = {\"name\": \"쯔위\", \"age\": 18, \"job\": \"singer\"}\n",
    "\n",
    "# age의 값을 출력하시오\n",
    "print(my_idol.get('age'))\n",
    "# job의 값을 출력하시오\n",
    "print(my_idol.get('job'))\n",
    "# name의 값을 '수지'로 수정하시오\n",
    "my_idol['name']='수지'\n",
    "print(my_idol)\n",
    "# 'birth' 의 값을 '1994-07-07'로 추가하시오\n",
    "my_idol['birth']='1994-07-07'\n",
    "print(my_idol)\n",
    "# 'manager'의 값을 'JYP'로 추가하시오\n",
    "my_idol['manager']='JYP'\n",
    "print(my_idol)"
   ]
  },
  {
   "cell_type": "code",
   "execution_count": 112,
   "metadata": {},
   "outputs": [
    {
     "name": "stdout",
     "output_type": "stream",
     "text": [
      "{'job': 'singer', 'age': 18, 'name': '수지', 'birth': '1994-10-10'}\n",
      "\n",
      "{'job': 'singer', 'age': 18, 'name': '수지'}\n",
      "{'job': 'singer', 'name': '수지'}\n",
      "{'job': 'singer'}\n",
      "{}\n"
     ]
    }
   ],
   "source": [
    "my_idol = {'job': 'singer', 'age': 18, 'name': '수지', 'birth': '1994-10-10'}\n",
    "print(my_idol)\n",
    "print()\n",
    "\n",
    "# 'birth' 항목 가져오고 삭제하기\n",
    "my_idol.pop('birth')\n",
    "print(my_idol)\n",
    "# 'age' 항목 삭제하기\n",
    "my_idol.pop('age')\n",
    "print(my_idol)\n",
    "# 임의의 항목 가져오면서 삭제하기\n",
    "my_idol.popitem()\n",
    "print(my_idol)\n",
    "# 사전 비우기\n",
    "my_idol.clear()\n",
    "print(my_idol)\n",
    "# my_idol 사전 삭제하기\n",
    "del my_idol"
   ]
  },
  {
   "cell_type": "code",
   "execution_count": null,
   "metadata": {},
   "outputs": [],
   "source": []
  }
 ],
 "metadata": {
  "kernelspec": {
   "display_name": "Python 3",
   "language": "python",
   "name": "python3"
  },
  "language_info": {
   "codemirror_mode": {
    "name": "ipython",
    "version": 3
   },
   "file_extension": ".py",
   "mimetype": "text/x-python",
   "name": "python",
   "nbconvert_exporter": "python",
   "pygments_lexer": "ipython3",
   "version": "3.7.3"
  }
 },
 "nbformat": 4,
 "nbformat_minor": 2
}
