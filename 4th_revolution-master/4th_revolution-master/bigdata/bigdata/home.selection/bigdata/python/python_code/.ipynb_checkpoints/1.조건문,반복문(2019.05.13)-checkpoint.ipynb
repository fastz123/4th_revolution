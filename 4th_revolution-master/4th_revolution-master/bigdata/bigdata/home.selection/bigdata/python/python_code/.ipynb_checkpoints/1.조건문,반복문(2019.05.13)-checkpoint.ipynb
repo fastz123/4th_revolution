{
 "cells": [
  {
   "cell_type": "code",
   "execution_count": 3,
   "metadata": {},
   "outputs": [
    {
     "name": "stdout",
     "output_type": "stream",
     "text": [
      "패스워드를 입력하세요:1234\n",
      "환영합니다.\n"
     ]
    }
   ],
   "source": [
    "#password = 1234 /\n",
    "password = 1234\n",
    "k = int(input(\"패스워드를 입력하세요:\"))\n",
    "if k == password:\n",
    "    print(\"환영합니다.\")\n",
    "else:\n",
    "    print(\"죄송합니다. 패스워드가 틀립니다.\")"
   ]
  },
  {
   "cell_type": "code",
   "execution_count": 6,
   "metadata": {},
   "outputs": [
    {
     "name": "stdout",
     "output_type": "stream",
     "text": [
      "x를 입력하세요:1\n",
      "y를 입력하세요:50\n",
      "y가 더 크다\n"
     ]
    }
   ],
   "source": [
    "# x,y 두수를 받은 다음, 크고, 작고 같다를 출력\n",
    "\n",
    "x = int(input(\"x를 입력하세요:\"))\n",
    "y = int(input(\"y를 입력하세요:\"))\n",
    "\n",
    "if(x>y):\n",
    "    print(\"x가 더 크다\")\n",
    "elif(x==y):\n",
    "    print(\"같다\")\n",
    "else:\n",
    "    print(\"y가 더 크다\")"
   ]
  },
  {
   "cell_type": "code",
   "execution_count": 10,
   "metadata": {},
   "outputs": [
    {
     "name": "stdout",
     "output_type": "stream",
     "text": [
      "점수를 입력하세요:0\n",
      "F\n"
     ]
    }
   ],
   "source": [
    "# A,B,C\n",
    "score = int(input(\"점수를 입력하세요:\"))\n",
    "if score>=90:\n",
    "    print(\"A\")\n",
    "elif score>=80 and score<90:\n",
    "    print(\"B\")\n",
    "elif score>=70 and score<80:\n",
    "    print(\"C\")\n",
    "elif score>=60 and score<70:\n",
    "    print(\"D\")\n",
    "else:\n",
    "    print(\"F\")"
   ]
  },
  {
   "cell_type": "code",
   "execution_count": 19,
   "metadata": {},
   "outputs": [
    {
     "name": "stdout",
     "output_type": "stream",
     "text": [
      "이름을 입력하세요:Jane\n",
      "25\n"
     ]
    }
   ],
   "source": [
    "names = {'Mary':12 , 'Jane':25, 'Tom':20}\n",
    "#이름을 받고, names에 없으면 0으로 names에 추가\n",
    "#있으면 값 출력\n",
    "k = input(\"이름을 입력하세요:\")\n",
    "if k in names:\n",
    "    print(names[k])\n",
    "else:\n",
    "    names.setdefault(k,0000)\n",
    "    print(names)"
   ]
  },
  {
   "cell_type": "code",
   "execution_count": 23,
   "metadata": {},
   "outputs": [
    {
     "name": "stdout",
     "output_type": "stream",
     "text": [
      "가위,바위,보 중 하나를 입력하세요:가위\n",
      "가위,바위,보 중 하나를 입력하세요:가위\n",
      "비겼습니다.\n"
     ]
    }
   ],
   "source": [
    "# 가위,바위,보 게임\n",
    "#mine, yours\n",
    "mine = input(\"가위,바위,보 중 하나를 입력하세요:\")\n",
    "yours = input(\"가위,바위,보 중 하나를 입력하세요:\")\n",
    "\n",
    "if mine==yours:\n",
    "    print(\"비겼습니다.\")\n",
    "elif mine=='가위':\n",
    "    if yours=='바위':\n",
    "        print(\"졌습니다.\")\n",
    "    else:\n",
    "        print(\"이겼습니다.\")\n",
    "elif mine=='바위':\n",
    "    if yours=='보':\n",
    "        print(\"졌습니다.\")\n",
    "    else:\n",
    "        print(\"이겼습니다.\")\n",
    "elif mine=='보':\n",
    "    if yours=='바위':\n",
    "        print(\"졌습니다.\")\n",
    "    else:\n",
    "        print(\"이겼습니다.\")"
   ]
  },
  {
   "cell_type": "markdown",
   "metadata": {},
   "source": [
    "### 반복문"
   ]
  },
  {
   "cell_type": "code",
   "execution_count": 30,
   "metadata": {},
   "outputs": [
    {
     "name": "stdout",
     "output_type": "stream",
     "text": [
      "55\n"
     ]
    }
   ],
   "source": [
    "#1~10 합계\n",
    "sum=0\n",
    "for i in range(1,11):\n",
    "    sum+=i\n",
    "print(sum)\n"
   ]
  },
  {
   "cell_type": "code",
   "execution_count": 33,
   "metadata": {},
   "outputs": [
    {
     "name": "stdout",
     "output_type": "stream",
     "text": [
      "55\n"
     ]
    }
   ],
   "source": [
    "i=1\n",
    "sum=0\n",
    "while i<=10:\n",
    "    sum+=i\n",
    "    i+=1\n",
    "print(sum)"
   ]
  },
  {
   "cell_type": "code",
   "execution_count": 48,
   "metadata": {},
   "outputs": [
    {
     "name": "stdout",
     "output_type": "stream",
     "text": [
      "o\n",
      "u\n",
      "a\n",
      "i\n",
      "o\n",
      "a\n",
      "i\n",
      "i\n",
      "['o', 'u', 'a', 'i', 'o', 'a', 'i', 'i']\n"
     ]
    }
   ],
   "source": [
    "#computational thinking에서 모음만 출력\n",
    "ct = 'computational thinking'\n",
    "letters=[]\n",
    "for i in range(len(ct)):\n",
    "    if(ct[i] in 'aeiou'):\n",
    "        print(ct[i])\n",
    "        letters.append(ct[i])\n",
    "print(letters)"
   ]
  },
  {
   "cell_type": "code",
   "execution_count": 46,
   "metadata": {},
   "outputs": [
    {
     "name": "stdout",
     "output_type": "stream",
     "text": [
      "8\n",
      "['o', 'u', 'a', 'i', 'o', 'a', 'i', 'i']\n"
     ]
    }
   ],
   "source": [
    "ct = 'computational thinking'\n",
    "count=0\n",
    "letters=[]\n",
    "for i in ct:\n",
    "    if(i in 'aeiou'):\n",
    "        count+=1\n",
    "        letters.append(i)\n",
    "print(count)\n",
    "print(letters)"
   ]
  },
  {
   "cell_type": "code",
   "execution_count": 50,
   "metadata": {},
   "outputs": [
    {
     "name": "stdout",
     "output_type": "stream",
     "text": [
      "[(0, 5), (0, 6), (0, 7), (0, 8), (0, 9), (0, 10), (1, 5), (1, 6), (1, 7), (1, 8), (1, 9), (1, 10), (2, 5), (2, 6), (2, 7), (2, 8), (2, 9), (2, 10), (3, 5), (3, 6), (3, 7), (3, 8), (3, 9), (3, 10), (4, 5), (4, 6), (4, 7), (4, 8), (4, 9), (4, 10)]\n"
     ]
    }
   ],
   "source": [
    "# list comprehension으로 숫자조합출력\n",
    "x = [0,1,2,3,4]\n",
    "y = [5,6,7,8,9,10]\n",
    "\n",
    "lis = [(k,j) for k in x for j in y]\n",
    "print(lis)"
   ]
  },
  {
   "cell_type": "code",
   "execution_count": 51,
   "metadata": {},
   "outputs": [
    {
     "data": {
      "text/plain": [
       "[2, 4, 6, 8, 10]"
      ]
     },
     "execution_count": 51,
     "metadata": {},
     "output_type": "execute_result"
    }
   ],
   "source": [
    "#list comprehension으로 짝수만 출력 (<10)\n",
    "[x for x in range(1,11) if x%2==0]"
   ]
  },
  {
   "cell_type": "code",
   "execution_count": 55,
   "metadata": {},
   "outputs": [
    {
     "data": {
      "text/plain": [
       "[('BE', 'be', 2),\n",
       " ('AS', 'as', 2),\n",
       " ('PROUD', 'proud', 5),\n",
       " ('OF', 'of', 2),\n",
       " ('SOGANG', 'sogang', 6),\n",
       " ('IS', 'is', 2),\n",
       " ('PROUD', 'proud', 5),\n",
       " ('OF', 'of', 2),\n",
       " ('YOU', 'you', 3)]"
      ]
     },
     "execution_count": 55,
     "metadata": {},
     "output_type": "execute_result"
    }
   ],
   "source": [
    "#phrase = 'Be as proud of Sogang is proud of you'\n",
    "phrase = 'Be as proud of Sogang is proud of you'\n",
    "phrase=phrase.split()\n",
    "#list comprehension 으로 다음과 같이 출력\n",
    "[(x.upper(),x.lower(),len(x)) for x in phrase ]"
   ]
  },
  {
   "cell_type": "code",
   "execution_count": 63,
   "metadata": {},
   "outputs": [
    {
     "name": "stdout",
     "output_type": "stream",
     "text": [
      "[5, 6, 7]\n"
     ]
    }
   ],
   "source": [
    "#1에서 10까지 숫자에서 for문과 continue와 break이용 // 5,6,7 만 출력\n",
    "lis = []\n",
    "for i in range(1,11):\n",
    "    if i<=4:\n",
    "        continue\n",
    "    else:\n",
    "        lis.append(i)\n",
    "        if i==7:\n",
    "            break\n",
    "print(lis)"
   ]
  },
  {
   "cell_type": "code",
   "execution_count": 8,
   "metadata": {},
   "outputs": [
    {
     "name": "stdout",
     "output_type": "stream",
     "text": [
      "점수를 입력하세요:90\n",
      "점수를 입력하세요:90\n",
      "점수를 입력하세요:100\n",
      "점수를 입력하세요:95\n",
      "점수를 입력하세요:100\n",
      "Class average is 95.0\n"
     ]
    }
   ],
   "source": [
    "#5과목 점수의 평균을 계산 - 5과목의 점수를 5번 받는다\n",
    "total=0\n",
    "count=0\n",
    "for i in range(5):\n",
    "    total+=int(input(\"점수를 입력하세요:\"))\n",
    "    #count+=1\n",
    "avrg =total/(i+1)\n",
    "print(\"Class average is {}\".format(avrg))"
   ]
  },
  {
   "cell_type": "code",
   "execution_count": 17,
   "metadata": {},
   "outputs": [
    {
     "name": "stdout",
     "output_type": "stream",
     "text": [
      "Enter number:5\n",
      "120\n"
     ]
    }
   ],
   "source": [
    "#팩토리얼 while문으로\n",
    "cnt=1\n",
    "mul =1;\n",
    "num = int(input(\"Enter number:\"))\n",
    "while cnt<=num:\n",
    "    mul = mul*cnt\n",
    "    cnt+=1\n",
    "print(mul)"
   ]
  },
  {
   "cell_type": "code",
   "execution_count": 21,
   "metadata": {},
   "outputs": [
    {
     "name": "stdout",
     "output_type": "stream",
     "text": [
      "Enter number:5\n",
      "120\n"
     ]
    }
   ],
   "source": [
    "mul=1\n",
    "k = int(input(\"Enter number:\"))\n",
    "for i in range(1,k+1):\n",
    "    mul *= i\n",
    "print(mul)"
   ]
  },
  {
   "cell_type": "code",
   "execution_count": 22,
   "metadata": {},
   "outputs": [
    {
     "name": "stdout",
     "output_type": "stream",
     "text": [
      "1\n",
      "3\n",
      "5\n",
      "7\n",
      "9\n"
     ]
    }
   ],
   "source": [
    "#continue이용 홀수만 출력\n",
    "scope = [1,2,3,4,5,6,7,8,9]\n",
    "for i in scope:\n",
    "    if i%2==1:\n",
    "        print(i)\n",
    "    else:\n",
    "        continue"
   ]
  },
  {
   "cell_type": "code",
   "execution_count": 24,
   "metadata": {},
   "outputs": [
    {
     "name": "stdout",
     "output_type": "stream",
     "text": [
      "Enter number10\n",
      "짝수합: 30 홀수합: 25\n"
     ]
    }
   ],
   "source": [
    "#입력받은 수까지 홀수합 짝수합\n",
    "k = int(input(\"Enter number\"))\n",
    "oddsum=0\n",
    "evensum=0\n",
    "for i in range(1,k+1):\n",
    "    if i%2==0:\n",
    "        evensum+=i\n",
    "    else:\n",
    "        oddsum+=i\n",
    "print(\"짝수합: {} 홀수합: {}\".format(evensum,oddsum))"
   ]
  },
  {
   "cell_type": "code",
   "execution_count": 28,
   "metadata": {},
   "outputs": [
    {
     "name": "stdout",
     "output_type": "stream",
     "text": [
      "min: 60 max: 100\n"
     ]
    }
   ],
   "source": [
    "#최대값 최소값 출력\n",
    "L = [70,100,80,60,90]\n",
    "min = max = L[0]\n",
    "\n",
    "for i in L:\n",
    "    if max<i:\n",
    "        max=i\n",
    "    if min>i:\n",
    "        min=i\n",
    "print(\"min: {} max: {}\".format(min,max))"
   ]
  },
  {
   "cell_type": "code",
   "execution_count": 36,
   "metadata": {},
   "outputs": [
    {
     "name": "stdout",
     "output_type": "stream",
     "text": [
      "\n",
      "\n",
      "1 x 1 =  1 1 x 2 =  2 1 x 3 =  3 1 x 4 =  4 1 x 5 =  5 1 x 6 =  6 1 x 7 =  7 1 x 8 =  8 1 x 9 =  9 \n",
      "\n",
      "2 x 1 =  2 2 x 2 =  4 2 x 3 =  6 2 x 4 =  8 2 x 5 = 10 2 x 6 = 12 2 x 7 = 14 2 x 8 = 16 2 x 9 = 18 \n",
      "\n",
      "3 x 1 =  3 3 x 2 =  6 3 x 3 =  9 3 x 4 = 12 3 x 5 = 15 3 x 6 = 18 3 x 7 = 21 3 x 8 = 24 3 x 9 = 27 \n",
      "\n",
      "4 x 1 =  4 4 x 2 =  8 4 x 3 = 12 4 x 4 = 16 4 x 5 = 20 4 x 6 = 24 4 x 7 = 28 4 x 8 = 32 4 x 9 = 36 \n",
      "\n",
      "5 x 1 =  5 5 x 2 = 10 5 x 3 = 15 5 x 4 = 20 5 x 5 = 25 5 x 6 = 30 5 x 7 = 35 5 x 8 = 40 5 x 9 = 45 \n",
      "\n",
      "6 x 1 =  6 6 x 2 = 12 6 x 3 = 18 6 x 4 = 24 6 x 5 = 30 6 x 6 = 36 6 x 7 = 42 6 x 8 = 48 6 x 9 = 54 \n",
      "\n",
      "7 x 1 =  7 7 x 2 = 14 7 x 3 = 21 7 x 4 = 28 7 x 5 = 35 7 x 6 = 42 7 x 7 = 49 7 x 8 = 56 7 x 9 = 63 \n",
      "\n",
      "8 x 1 =  8 8 x 2 = 16 8 x 3 = 24 8 x 4 = 32 8 x 5 = 40 8 x 6 = 48 8 x 7 = 56 8 x 8 = 64 8 x 9 = 72 \n",
      "\n",
      "9 x 1 =  9 9 x 2 = 18 9 x 3 = 27 9 x 4 = 36 9 x 5 = 45 9 x 6 = 54 9 x 7 = 63 9 x 8 = 72 9 x 9 = 81 "
     ]
    }
   ],
   "source": [
    "#구구단 출력\n",
    "for i in range(1,10):\n",
    "    print(\"\\n\")\n",
    "    for j in range(1,10):\n",
    "        print(\"{} x {} = {:>2}\".format(i,j,i*j),end=' ')"
   ]
  },
  {
   "cell_type": "code",
   "execution_count": 49,
   "metadata": {},
   "outputs": [
    {
     "name": "stdout",
     "output_type": "stream",
     "text": [
      "Enter number:11\n",
      "소수입니다.\n"
     ]
    }
   ],
   "source": [
    "#받은수가 소수인지 판별하기\n",
    "k = int(input(\"Enter number:\"))\n",
    "flag=1\n",
    "for i in range(2,k):\n",
    "    if k%i == 0:\n",
    "        flag=0\n",
    "        break\n",
    "if(flag):\n",
    "    print(\"소수입니다.\")\n",
    "else:\n",
    "    print(\"소수가 아닙니다.\")"
   ]
  },
  {
   "cell_type": "code",
   "execution_count": 55,
   "metadata": {},
   "outputs": [
    {
     "name": "stdout",
     "output_type": "stream",
     "text": [
      "\n",
      "*\n",
      "**\n",
      "***\n",
      "****\n",
      "*****\n",
      "******\n",
      "*******\n",
      "********\n",
      "*********\n"
     ]
    }
   ],
   "source": [
    "#별찍기\n",
    "for i in range(10):\n",
    "    print(\"*\"*i)"
   ]
  },
  {
   "cell_type": "code",
   "execution_count": 57,
   "metadata": {},
   "outputs": [
    {
     "name": "stdout",
     "output_type": "stream",
     "text": [
      "**********\n",
      "*********\n",
      "********\n",
      "*******\n",
      "******\n",
      "*****\n",
      "****\n",
      "***\n",
      "**\n",
      "*\n"
     ]
    }
   ],
   "source": [
    "for i in range(10,0,-1):\n",
    "    print(\"*\"*i)"
   ]
  },
  {
   "cell_type": "code",
   "execution_count": 61,
   "metadata": {},
   "outputs": [
    {
     "name": "stdout",
     "output_type": "stream",
     "text": [
      " **********\n",
      "  *********\n",
      "   ********\n",
      "    *******\n",
      "     ******\n",
      "      *****\n",
      "       ****\n",
      "        ***\n",
      "         **\n",
      "          *\n"
     ]
    }
   ],
   "source": [
    "for i in range(10,0,-1):\n",
    "    print(' '*(10-i),\"*\"*i)"
   ]
  },
  {
   "cell_type": "code",
   "execution_count": 66,
   "metadata": {},
   "outputs": [
    {
     "name": "stdout",
     "output_type": "stream",
     "text": [
      "     *     \n",
      "    ***    \n",
      "   *****   \n",
      "  *******  \n",
      " ********* \n"
     ]
    }
   ],
   "source": [
    "for i in range(1,10,2):\n",
    "    print(' '*((10-i)//2),\"*\"*i,' '*((10-i)//2))"
   ]
  },
  {
   "cell_type": "code",
   "execution_count": null,
   "metadata": {},
   "outputs": [],
   "source": []
  }
 ],
 "metadata": {
  "kernelspec": {
   "display_name": "Python 3",
   "language": "python",
   "name": "python3"
  },
  "language_info": {
   "codemirror_mode": {
    "name": "ipython",
    "version": 3
   },
   "file_extension": ".py",
   "mimetype": "text/x-python",
   "name": "python",
   "nbconvert_exporter": "python",
   "pygments_lexer": "ipython3",
   "version": "3.7.3"
  }
 },
 "nbformat": 4,
 "nbformat_minor": 2
}
