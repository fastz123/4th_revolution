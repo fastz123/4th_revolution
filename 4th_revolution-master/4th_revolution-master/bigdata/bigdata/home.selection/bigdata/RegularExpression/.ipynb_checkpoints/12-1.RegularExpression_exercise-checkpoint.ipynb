{
 "cells": [
  {
   "cell_type": "markdown",
   "metadata": {},
   "source": [
    "## RegularExpression"
   ]
  },
  {
   "cell_type": "markdown",
   "metadata": {},
   "source": [
    "### 1. re.compile\n"
   ]
  },
  {
   "cell_type": "code",
   "execution_count": 1,
   "metadata": {},
   "outputs": [],
   "source": [
    "import re"
   ]
  },
  {
   "cell_type": "code",
   "execution_count": 2,
   "metadata": {},
   "outputs": [],
   "source": [
    "\n",
    "phoneNumRegex = re.compile(r'\\d\\d\\d-\\d\\d\\d-\\d\\d\\d\\d')\n"
   ]
  },
  {
   "cell_type": "code",
   "execution_count": 3,
   "metadata": {},
   "outputs": [
    {
     "name": "stdout",
     "output_type": "stream",
     "text": [
      "415-555-4242\n",
      "Phone number found: 415-555-4242\n"
     ]
    }
   ],
   "source": [
    "\n",
    "phoneNumRegex = re.compile(r'\\d\\d\\d-\\d\\d\\d-\\d\\d\\d\\d')\n",
    "mo = phoneNumRegex.search('My number is 415-555-4242.')\n",
    "print(mo.group())\n",
    "print('Phone number found: ' + mo.group())\n"
   ]
  },
  {
   "cell_type": "markdown",
   "metadata": {},
   "source": [
    "### 2. Search()\n"
   ]
  },
  {
   "cell_type": "code",
   "execution_count": 4,
   "metadata": {},
   "outputs": [
    {
     "data": {
      "text/plain": [
       "'415-555-4242'"
      ]
     },
     "execution_count": 4,
     "metadata": {},
     "output_type": "execute_result"
    }
   ],
   "source": [
    ">>> phoneNumRegex = re.compile(r'(\\d\\d\\d)-(\\d\\d\\d-\\d\\d\\d\\d)')\n",
    ">>> mo = phoneNumRegex.search('My number is 415-555-4242.')\n",
    ">>> mo.group(1)\n",
    "'415'\n",
    ">>> mo.group(2)\n",
    "'555-4242'\n",
    ">>> mo.group(0)\n",
    "'415-555-4242'\n",
    ">>> mo.group()\n",
    "'415-555-4242'"
   ]
  },
  {
   "cell_type": "code",
   "execution_count": null,
   "metadata": {},
   "outputs": [],
   "source": [
    "mo.groups()"
   ]
  },
  {
   "cell_type": "code",
   "execution_count": null,
   "metadata": {},
   "outputs": [],
   "source": [
    "areaCode, mainNumber = mo.groups()"
   ]
  },
  {
   "cell_type": "code",
   "execution_count": null,
   "metadata": {},
   "outputs": [],
   "source": [
    "print(areaCode)"
   ]
  },
  {
   "cell_type": "code",
   "execution_count": null,
   "metadata": {},
   "outputs": [],
   "source": [
    "print(mainNumber)"
   ]
  },
  {
   "cell_type": "code",
   "execution_count": null,
   "metadata": {},
   "outputs": [],
   "source": [
    ">>> phoneNumRegex = re.compile(r'(\\(\\d\\d\\d\\)) (\\d\\d\\d-\\d\\d\\d\\d)')\n",
    ">>> mo = phoneNumRegex.search('My phone number is (415) 555-4242.')\n",
    ">>> print(mo.group(1))\n",
    ">>> print(mo.group(2))\n",
    "print(mo.group())\n",
    "print(mo)"
   ]
  },
  {
   "cell_type": "code",
   "execution_count": null,
   "metadata": {},
   "outputs": [],
   "source": []
  },
  {
   "cell_type": "code",
   "execution_count": null,
   "metadata": {},
   "outputs": [],
   "source": [
    ">>> heroRegex = re.compile (r'Batman|Tina Fey')\n",
    ">>> mo1 = heroRegex.search('Batman and Tina Fey.')\n",
    ">>> print(mo1.group())\n",
    "print(mo1)\n"
   ]
  },
  {
   "cell_type": "code",
   "execution_count": null,
   "metadata": {},
   "outputs": [],
   "source": [
    ">>> mo2 = heroRegex.search('Tina Fey and Batman.')\n",
    ">>> mo2.group()"
   ]
  },
  {
   "cell_type": "code",
   "execution_count": null,
   "metadata": {},
   "outputs": [],
   "source": [
    ">>> batRegex = re.compile(r'Bat(man|mobile|copter|bat)')\n",
    ">>> mo = batRegex.search('Batmobile lost a wheel')\n",
    ">>> print(mo.group())\n",
    ">>> print(mo.group(1))\n",
    "print(mo)"
   ]
  },
  {
   "cell_type": "code",
   "execution_count": null,
   "metadata": {},
   "outputs": [],
   "source": []
  },
  {
   "cell_type": "code",
   "execution_count": null,
   "metadata": {},
   "outputs": [],
   "source": [
    ">>> batRegex = re.compile(r'Bat(wo)?man')\n",
    ">>> mo1 = batRegex.search('The Adventures of Batman')\n",
    ">>> mo1.group()\n"
   ]
  },
  {
   "cell_type": "code",
   "execution_count": null,
   "metadata": {},
   "outputs": [],
   "source": [
    ">>> mo2 = batRegex.search('The Adventures of Batwoman')\n",
    ">>> mo2.group()\n"
   ]
  },
  {
   "cell_type": "code",
   "execution_count": null,
   "metadata": {
    "scrolled": true
   },
   "outputs": [],
   "source": [
    ">>> mo3 = batRegex.search('The Adventures of Batwowowowoman')\n",
    ">>> mo3.group()\n",
    "print(mo3)"
   ]
  },
  {
   "cell_type": "code",
   "execution_count": null,
   "metadata": {},
   "outputs": [],
   "source": [
    ">>> batRegex = re.compile(r'Bat(wo)*man')\n"
   ]
  },
  {
   "cell_type": "code",
   "execution_count": null,
   "metadata": {
    "scrolled": true
   },
   "outputs": [],
   "source": [
    ">>> mo3 = batRegex.search('The Adventures of Batwowowowoman')\n",
    "print(mo3.group())\n",
    "print(mo3)"
   ]
  },
  {
   "cell_type": "code",
   "execution_count": null,
   "metadata": {},
   "outputs": [],
   "source": [
    ">>> phoneRegex = re.compile(r'(\\d\\d\\d-)?\\d\\d\\d-\\d\\d\\d\\d')\n",
    ">>> mo1 = phoneRegex.search('My number is 415-555-4242')\n",
    ">>> mo1.group()"
   ]
  },
  {
   "cell_type": "code",
   "execution_count": null,
   "metadata": {},
   "outputs": [],
   "source": [
    ">>> mo2 = phoneRegex.search('My number is 555-4242')\n",
    ">>> mo2.group()"
   ]
  },
  {
   "cell_type": "code",
   "execution_count": null,
   "metadata": {},
   "outputs": [],
   "source": [
    "\n",
    "batRegex = re.compile(r'Bat(wo)*man')\n",
    "mo1 = batRegex.search('The Adventures of Batman')\n",
    "mo1.group()"
   ]
  },
  {
   "cell_type": "code",
   "execution_count": null,
   "metadata": {},
   "outputs": [],
   "source": [
    ">>> mo2 = batRegex.search('The Adventures of Batwoman')\n",
    ">>> mo2.group()"
   ]
  },
  {
   "cell_type": "code",
   "execution_count": null,
   "metadata": {},
   "outputs": [],
   "source": [
    ">>> mo3 = batRegex.search('The Adventures of Batwowowowoman')\n",
    ">>> mo3.group()"
   ]
  },
  {
   "cell_type": "code",
   "execution_count": null,
   "metadata": {},
   "outputs": [],
   "source": []
  },
  {
   "cell_type": "code",
   "execution_count": null,
   "metadata": {},
   "outputs": [],
   "source": [
    "\n",
    "batRegex = re.compile(r'Bat(wo)+man')\n",
    "mo1 = batRegex.search('The Adventures of Batwoman')\n",
    "mo1.group()\n"
   ]
  },
  {
   "cell_type": "code",
   "execution_count": null,
   "metadata": {},
   "outputs": [],
   "source": [
    ">>> mo2 = batRegex.search('The Adventures of Batwowowowoman')\n",
    ">>> mo2.group()"
   ]
  },
  {
   "cell_type": "code",
   "execution_count": null,
   "metadata": {},
   "outputs": [],
   "source": [
    ">>> mo2 = batRegex.search('The Adventures of Batwowowowoman')\n",
    ">>> mo2"
   ]
  },
  {
   "cell_type": "code",
   "execution_count": null,
   "metadata": {},
   "outputs": [],
   "source": [
    ">>> mo3 = batRegex.search('The Adventures of Batman')\n",
    ">>> mo3 == None"
   ]
  },
  {
   "cell_type": "code",
   "execution_count": null,
   "metadata": {},
   "outputs": [],
   "source": []
  },
  {
   "cell_type": "code",
   "execution_count": null,
   "metadata": {},
   "outputs": [],
   "source": [
    ">>> haRegex = re.compile(r'(Ha){3}')\n",
    ">>> mo1 = haRegex.search('HaHaHa')\n",
    ">>> mo1.group()\n"
   ]
  },
  {
   "cell_type": "code",
   "execution_count": null,
   "metadata": {},
   "outputs": [],
   "source": [
    ">>> haRegex = re.compile(r'(Ha){3}')\n",
    ">>> mo1 = haRegex.search('HaHaHa')\n",
    ">>> mo1.group()"
   ]
  },
  {
   "cell_type": "code",
   "execution_count": null,
   "metadata": {},
   "outputs": [],
   "source": [
    ">>> mo2 = haRegex.search('Ha')\n",
    ">>> mo2 == None"
   ]
  },
  {
   "cell_type": "code",
   "execution_count": null,
   "metadata": {},
   "outputs": [],
   "source": [
    ">>> greedyHaRegex = re.compile(r'(Ha){3,5}')\n",
    ">>> mo1 = greedyHaRegex.search('HaHaHaHaHaHaHa')\n",
    ">>> mo1.group()\n",
    "\n"
   ]
  },
  {
   "cell_type": "code",
   "execution_count": null,
   "metadata": {},
   "outputs": [],
   "source": [
    ">>> nongreedyHaRegex = re.compile(r'(Ha){3,5}?')\n",
    ">>> mo2 = nongreedyHaRegex.search('HaHaHaHaHa')\n",
    ">>> mo2.group()\n",
    "\n"
   ]
  },
  {
   "cell_type": "markdown",
   "metadata": {},
   "source": [
    "### 3.  findall() \n"
   ]
  },
  {
   "cell_type": "code",
   "execution_count": null,
   "metadata": {},
   "outputs": [],
   "source": [
    ">>> phoneNumRegex = re.compile(r'\\d\\d\\d-\\d\\d\\d-\\d\\d\\d\\d')\n",
    ">>> mo = phoneNumRegex.search('Cell: 415-555-9999 Work: 212-555-0000')\n",
    ">>> mo.group()"
   ]
  },
  {
   "cell_type": "code",
   "execution_count": null,
   "metadata": {},
   "outputs": [],
   "source": [
    ">>> phoneNumRegex = re.compile(r'\\d\\d\\d-\\d\\d\\d-\\d\\d\\d\\d') \n",
    "# has no groups\n",
    ">>> phoneNumRegex.findall('Cell: 415-555-9999 Work: 212-555-0000')"
   ]
  },
  {
   "cell_type": "code",
   "execution_count": null,
   "metadata": {},
   "outputs": [],
   "source": [
    ">>> phoneNumRegex = re.compile(r'(\\d\\d\\d)-(\\d\\d\\d)-(\\d\\d\\d\\d)') \n",
    "# has groups => tuple\n",
    ">>> phoneNumRegex.findall('Cell: 415-555-9999 Work: 212-555-0000')"
   ]
  },
  {
   "cell_type": "markdown",
   "metadata": {},
   "source": [
    "##### *   \\d - 0~9    vs        \\D - 0~9\n",
    "##### *   \\w     vs                \\W \n",
    "##### *   \\s     vs                 \\S "
   ]
  },
  {
   "cell_type": "code",
   "execution_count": null,
   "metadata": {},
   "outputs": [],
   "source": [
    ">>> xmasRegex = re.compile(r'\\d+\\s\\w+')\n",
    ">>> xmasRegex.findall('12 drummers, 11 pipers, 10 lords, 9 ladies,\\ \n",
    "8 maids, 7swans, 6 geese, 5 rings, 4 birds, 3 hens, 2 doves, 1 partridge')"
   ]
  },
  {
   "cell_type": "markdown",
   "metadata": {},
   "source": [
    "### User Define =>  [ ]\n",
    "* [aeiouAEIOU] \n",
    "* [a-zA-Z0-9] \n",
    "* ^ "
   ]
  },
  {
   "cell_type": "code",
   "execution_count": null,
   "metadata": {},
   "outputs": [],
   "source": [
    "import re\n",
    "\n",
    "vowelRegex = re.compile(r'[aeiouAEIOU]')\n",
    "vowelRegex.findall('RoboCop eats baby food BABY FOOD.')"
   ]
  },
  {
   "cell_type": "code",
   "execution_count": null,
   "metadata": {},
   "outputs": [],
   "source": [
    "consonantRegex = re.compile(r'[^aeiouAEIOU]')\n",
    "consonantRegex.findall('RoboCop eats baby food. BABY FOOD.')"
   ]
  },
  {
   "cell_type": "code",
   "execution_count": null,
   "metadata": {},
   "outputs": [],
   "source": [
    ">>> beginsWithHello = re.compile(r'^Hello')\n",
    ">>> bw = beginsWithHello.search('Hello world!')\n",
    "bw.group()"
   ]
  },
  {
   "cell_type": "code",
   "execution_count": null,
   "metadata": {},
   "outputs": [],
   "source": [
    ">>> beginsWithHello = re.compile(r'^Hello')\n",
    ">>> bw = beginsWithHello.findall('Hello world!')\n",
    "bw"
   ]
  },
  {
   "cell_type": "code",
   "execution_count": null,
   "metadata": {},
   "outputs": [],
   "source": [
    ">>> beginsWithHello.search('He said hello.') == None"
   ]
  },
  {
   "cell_type": "code",
   "execution_count": null,
   "metadata": {},
   "outputs": [],
   "source": [
    ">>> bw = beginsWithHello.search('He said hello.')\n",
    "bw"
   ]
  },
  {
   "cell_type": "code",
   "execution_count": null,
   "metadata": {},
   "outputs": [],
   "source": [
    ">>> bw = beginsWithHello.findall('He said hello.')\n",
    "bw"
   ]
  },
  {
   "cell_type": "code",
   "execution_count": null,
   "metadata": {},
   "outputs": [],
   "source": [
    ">>> endsWithNumber = re.compile(r'\\d$')\n",
    ">>> ew = endsWithNumber.search('Your number5 is 42')\n",
    "ew.group()"
   ]
  },
  {
   "cell_type": "code",
   "execution_count": null,
   "metadata": {},
   "outputs": [],
   "source": [
    ">>> endsWithNumber = re.compile(r'\\d+')\n",
    ">>> ew = endsWithNumber.search('Your number5 is 42')\n",
    "ew.group()"
   ]
  },
  {
   "cell_type": "code",
   "execution_count": null,
   "metadata": {},
   "outputs": [],
   "source": [
    ">>> endsWithNumber = re.compile(r'\\d+')\n",
    ">>> ew = endsWithNumber.findall('Your number5 is 42')\n",
    "ew"
   ]
  },
  {
   "cell_type": "code",
   "execution_count": null,
   "metadata": {},
   "outputs": [],
   "source": [
    ">>> endsWithNumber.search('Your number is forty two')  == None"
   ]
  },
  {
   "cell_type": "code",
   "execution_count": null,
   "metadata": {},
   "outputs": [],
   "source": [
    ">>> ew = endsWithNumber.search('Your2 number is forty two')\n",
    "ew.group()"
   ]
  },
  {
   "cell_type": "code",
   "execution_count": null,
   "metadata": {},
   "outputs": [],
   "source": [
    ">>> endsWithNumber = re.compile(r'\\w*\\d+')\n",
    ">>> ew = endsWithNumber.findall('Your number5 is 42')\n",
    "ew"
   ]
  },
  {
   "cell_type": "code",
   "execution_count": null,
   "metadata": {},
   "outputs": [],
   "source": [
    ">>> ew = endsWithNumber.findall('Your2 number is forty two7')\n",
    "ew"
   ]
  },
  {
   "cell_type": "code",
   "execution_count": null,
   "metadata": {},
   "outputs": [],
   "source": [
    ">>> wholeStringIsNum = re.compile(r'^\\d+$')  \n",
    ">>> ws = wholeStringIsNum.search('1234567890')\n",
    "ws.group()"
   ]
  },
  {
   "cell_type": "code",
   "execution_count": null,
   "metadata": {},
   "outputs": [],
   "source": [
    ">>> wholeStringIsNum.search('12345xyz67890') == None "
   ]
  },
  {
   "cell_type": "markdown",
   "metadata": {},
   "source": [
    "### '.'    vs  '*'  vs   '?'\n"
   ]
  },
  {
   "cell_type": "code",
   "execution_count": null,
   "metadata": {},
   "outputs": [],
   "source": [
    ">>> atRegex = re.compile(r'.at')\n",
    ">>> atRegex.findall('The cat in the hat sat on the flat mat.')"
   ]
  },
  {
   "cell_type": "code",
   "execution_count": null,
   "metadata": {},
   "outputs": [],
   "source": [
    ">>> nameRegex = re.compile(r'First Name: (.*) Last Name: (.*)')  \n",
    ">>> mo = nameRegex.search('First Name: Al Last Name: Sweigart')\n",
    ">>> print(mo.group(1))\n",
    ">>> print(mo.group(2))"
   ]
  },
  {
   "cell_type": "code",
   "execution_count": null,
   "metadata": {},
   "outputs": [],
   "source": [
    ">>> nameRegex = re.compile(r'First Name: (.*) Last Name: (.*)')  \n",
    ">>> mo = nameRegex.findall('First Name: Al Last Name: Sweigart')\n",
    "mo"
   ]
  },
  {
   "cell_type": "code",
   "execution_count": null,
   "metadata": {},
   "outputs": [],
   "source": [
    ">>> nongreedyRegex = re.compile(r'<.*?>')  \n",
    ">>> mo = nongreedyRegex.search('<To serve man> for dinner.>')\n",
    ">>> mo.group()"
   ]
  },
  {
   "cell_type": "code",
   "execution_count": null,
   "metadata": {},
   "outputs": [],
   "source": [
    ">>> greedyRegex = re.compile(r'<.*>')   \n",
    ">>> mo = greedyRegex.search('<To serve man> for dinner.>')\n",
    ">>> mo.group()"
   ]
  },
  {
   "cell_type": "code",
   "execution_count": null,
   "metadata": {},
   "outputs": [],
   "source": []
  },
  {
   "cell_type": "code",
   "execution_count": null,
   "metadata": {},
   "outputs": [],
   "source": [
    "# re.DOTALL "
   ]
  },
  {
   "cell_type": "code",
   "execution_count": null,
   "metadata": {},
   "outputs": [],
   "source": [
    "nonewlineregrex = re.compile('.*')\n",
    "nonewlineregrex.search('serve the public trust. \\n protect the \\\n",
    "innocent. \\nuphold the law.').group()"
   ]
  },
  {
   "cell_type": "code",
   "execution_count": null,
   "metadata": {},
   "outputs": [],
   "source": [
    "nonewlineregrex = re.compile('.*', re.DOTALL)\n",
    "nonewlineregrex.search('serve the public trust. \\n protect the \\\n",
    "innocent. \\nuphold the law.').group()"
   ]
  },
  {
   "cell_type": "code",
   "execution_count": null,
   "metadata": {},
   "outputs": [],
   "source": []
  },
  {
   "cell_type": "code",
   "execution_count": null,
   "metadata": {},
   "outputs": [],
   "source": [
    "# re.I "
   ]
  },
  {
   "cell_type": "code",
   "execution_count": null,
   "metadata": {},
   "outputs": [],
   "source": []
  },
  {
   "cell_type": "code",
   "execution_count": null,
   "metadata": {},
   "outputs": [],
   "source": [
    ">>> robocop = re.compile(r'robocop', re.I)\n",
    ">>> robocop.search('Robocop is part man, part machine, \\\n",
    "all cop.').group()"
   ]
  },
  {
   "cell_type": "code",
   "execution_count": null,
   "metadata": {},
   "outputs": [],
   "source": [
    ">>> robocop.search('ROBOCOP protects the innocent.').group()"
   ]
  },
  {
   "cell_type": "code",
   "execution_count": null,
   "metadata": {},
   "outputs": [],
   "source": [
    ">>> robocop.search('Al, why does your programming book talk \\\n",
    "about robocop so much?').group()"
   ]
  },
  {
   "cell_type": "code",
   "execution_count": null,
   "metadata": {},
   "outputs": [],
   "source": [
    ">>> robocop.findall('ROBOCOP, why does your programming book \\\n",
    "talk about robocop so much?')"
   ]
  },
  {
   "cell_type": "code",
   "execution_count": null,
   "metadata": {},
   "outputs": [],
   "source": []
  },
  {
   "cell_type": "markdown",
   "metadata": {},
   "source": [
    "### 4. sub() "
   ]
  },
  {
   "cell_type": "code",
   "execution_count": null,
   "metadata": {},
   "outputs": [],
   "source": [
    ">>> namesRegex = re.compile(r'Agent \\w+')\n",
    ">>> namesRegex.sub('CENSORED', 'Agent Alice gave the secret \\\n",
    "documents to Agent Bob.')"
   ]
  },
  {
   "cell_type": "code",
   "execution_count": null,
   "metadata": {},
   "outputs": [],
   "source": [
    ">>> agentNamesRegex = re.compile(r'Agent (\\w)\\w*') \n",
    ">>> agentNamesRegex.sub(r'\\1****', 'Agent Alice told Agent \\\n",
    "Carol that Agent Eve knew Agent Bob was a \\\n",
    "double agent.') "
   ]
  },
  {
   "cell_type": "code",
   "execution_count": null,
   "metadata": {},
   "outputs": [],
   "source": []
  },
  {
   "cell_type": "code",
   "execution_count": null,
   "metadata": {},
   "outputs": [],
   "source": []
  },
  {
   "cell_type": "markdown",
   "metadata": {},
   "source": [
    "### 5. User Define"
   ]
  },
  {
   "cell_type": "code",
   "execution_count": null,
   "metadata": {},
   "outputs": [],
   "source": [
    "#####  [ ] "
   ]
  },
  {
   "cell_type": "code",
   "execution_count": null,
   "metadata": {},
   "outputs": [],
   "source": [
    ">>> vowelRegex = re.compile(r'[aeiouAEIOU]')\n",
    ">>> vowelRegex.findall('Robocop eats baby food. BABY FOOD.')"
   ]
  },
  {
   "cell_type": "code",
   "execution_count": null,
   "metadata": {},
   "outputs": [],
   "source": [
    ">>> consonantRegex = re.compile(r'[^aeiouAEIOU]')\n",
    ">>> consonantRegex.findall('Robocop eats baby food. BABY FOOD.')"
   ]
  },
  {
   "cell_type": "code",
   "execution_count": null,
   "metadata": {},
   "outputs": [],
   "source": [
    "# re.DOTALL "
   ]
  },
  {
   "cell_type": "code",
   "execution_count": null,
   "metadata": {},
   "outputs": [],
   "source": [
    ">>> noNewlineRegex = re.compile('.*')\n",
    ">>> noNewlineRegex.search('Serve the public trust.\\nProtect \\\n",
    "the innocent.nUphold the law.').group()"
   ]
  },
  {
   "cell_type": "code",
   "execution_count": null,
   "metadata": {},
   "outputs": [],
   "source": [
    ">>> newlineRegex = re.compile('.*', re.DOTALL)\n",
    ">>> newlineRegex.search('Serve the public trust.\\nProtect \\\n",
    "the innocent.nUphold the law.').group()"
   ]
  },
  {
   "cell_type": "markdown",
   "metadata": {},
   "source": [
    "** Summary\n",
    "\n",
    "The ? matches zero or one of the preceding group.\n",
    "\n",
    "The * matches zero or more of the preceding group.\n",
    "\n",
    "The + matches one or more of the preceding group.\n",
    "\n",
    "The {n} matches exactly n of the preceding group.\n",
    "\n",
    "The {n,} matches n or more of the preceding group.\n",
    "\n",
    "The {,m} matches 0 to m of the preceding group.\n",
    "\n",
    "The {n,m} matches at least n and at most m of the preceding group.\n",
    "\n",
    "{n,m}? or *? or +? performs a nongreedy match of the preceding group.\n",
    "\n",
    "^spam means the string must begin with spam.\n",
    "\n",
    "spam$ means the string must end with spam.\n",
    "\n",
    "The . matches any character, except newline characters.\n",
    "\n",
    "\\d, \\w, and \\s match a digit, word, or space character, respectively.\n",
    "\n",
    "\\D, \\W, and \\S match anything except a digit, word, or space character, respectively.\n",
    "\n",
    "[abc] matches any character between the brackets (such as a, b, or c).\n",
    "\n",
    "[^abc] matches any character that isn’t between the brackets."
   ]
  },
  {
   "cell_type": "code",
   "execution_count": null,
   "metadata": {},
   "outputs": [],
   "source": []
  }
 ],
 "metadata": {
  "kernelspec": {
   "display_name": "Python 3",
   "language": "python",
   "name": "python3"
  },
  "language_info": {
   "codemirror_mode": {
    "name": "ipython",
    "version": 3
   },
   "file_extension": ".py",
   "mimetype": "text/x-python",
   "name": "python",
   "nbconvert_exporter": "python",
   "pygments_lexer": "ipython3",
   "version": "3.7.3"
  }
 },
 "nbformat": 4,
 "nbformat_minor": 2
}
