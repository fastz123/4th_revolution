{
 "cells": [
  {
   "cell_type": "code",
   "execution_count": 41,
   "metadata": {},
   "outputs": [],
   "source": [
    "import pandas as pd\n",
    "import glob\n",
    "from afinn import Afinn\n",
    "from nltk.corpus import stopwords \n",
    "from nltk.stem.porter import PorterStemmer\n",
    "from nltk.tokenize import RegexpTokenizer\n",
    "import numpy as np\n",
    "import matplotlib.pyplot as plt"
   ]
  },
  {
   "cell_type": "code",
   "execution_count": 42,
   "metadata": {},
   "outputs": [],
   "source": [
    "# 감성사전 - Afinn"
   ]
  },
  {
   "cell_type": "code",
   "execution_count": 43,
   "metadata": {},
   "outputs": [
    {
     "data": {
      "text/plain": [
       "['data\\\\aclimdb\\\\train\\\\pos\\\\0_9.txt',\n",
       " 'data\\\\aclimdb\\\\train\\\\pos\\\\10000_8.txt',\n",
       " 'data\\\\aclimdb\\\\train\\\\pos\\\\10001_10.txt',\n",
       " 'data\\\\aclimdb\\\\train\\\\pos\\\\10002_7.txt',\n",
       " 'data\\\\aclimdb\\\\train\\\\pos\\\\10003_8.txt',\n",
       " 'data\\\\aclimdb\\\\train\\\\pos\\\\10004_8.txt',\n",
       " 'data\\\\aclimdb\\\\train\\\\pos\\\\10005_7.txt',\n",
       " 'data\\\\aclimdb\\\\train\\\\pos\\\\10006_7.txt',\n",
       " 'data\\\\aclimdb\\\\train\\\\pos\\\\10007_7.txt',\n",
       " 'data\\\\aclimdb\\\\train\\\\pos\\\\10008_7.txt',\n",
       " 'data\\\\aclimdb\\\\train\\\\pos\\\\10009_9.txt',\n",
       " 'data\\\\aclimdb\\\\train\\\\pos\\\\1000_8.txt',\n",
       " 'data\\\\aclimdb\\\\train\\\\pos\\\\10010_7.txt',\n",
       " 'data\\\\aclimdb\\\\train\\\\pos\\\\10011_9.txt',\n",
       " 'data\\\\aclimdb\\\\train\\\\pos\\\\10012_8.txt',\n",
       " 'data\\\\aclimdb\\\\train\\\\pos\\\\10013_7.txt',\n",
       " 'data\\\\aclimdb\\\\train\\\\pos\\\\10014_8.txt',\n",
       " 'data\\\\aclimdb\\\\train\\\\pos\\\\10015_8.txt',\n",
       " 'data\\\\aclimdb\\\\train\\\\pos\\\\10016_8.txt',\n",
       " 'data\\\\aclimdb\\\\train\\\\pos\\\\10017_9.txt',\n",
       " 'data\\\\aclimdb\\\\train\\\\pos\\\\10018_8.txt',\n",
       " 'data\\\\aclimdb\\\\train\\\\pos\\\\10019_8.txt',\n",
       " 'data\\\\aclimdb\\\\train\\\\pos\\\\1001_8.txt',\n",
       " 'data\\\\aclimdb\\\\train\\\\pos\\\\10020_8.txt',\n",
       " 'data\\\\aclimdb\\\\train\\\\pos\\\\10021_8.txt',\n",
       " 'data\\\\aclimdb\\\\train\\\\pos\\\\10022_7.txt',\n",
       " 'data\\\\aclimdb\\\\train\\\\pos\\\\10023_9.txt',\n",
       " 'data\\\\aclimdb\\\\train\\\\pos\\\\10024_9.txt',\n",
       " 'data\\\\aclimdb\\\\train\\\\pos\\\\10025_9.txt',\n",
       " 'data\\\\aclimdb\\\\train\\\\pos\\\\10026_7.txt',\n",
       " 'data\\\\aclimdb\\\\train\\\\pos\\\\10027_7.txt',\n",
       " 'data\\\\aclimdb\\\\train\\\\pos\\\\10028_10.txt',\n",
       " 'data\\\\aclimdb\\\\train\\\\pos\\\\10029_10.txt',\n",
       " 'data\\\\aclimdb\\\\train\\\\pos\\\\1002_7.txt',\n",
       " 'data\\\\aclimdb\\\\train\\\\pos\\\\10030_10.txt',\n",
       " 'data\\\\aclimdb\\\\train\\\\pos\\\\10031_10.txt',\n",
       " 'data\\\\aclimdb\\\\train\\\\pos\\\\10032_10.txt',\n",
       " 'data\\\\aclimdb\\\\train\\\\pos\\\\10033_10.txt',\n",
       " 'data\\\\aclimdb\\\\train\\\\pos\\\\10034_8.txt',\n",
       " 'data\\\\aclimdb\\\\train\\\\pos\\\\10035_9.txt',\n",
       " 'data\\\\aclimdb\\\\train\\\\pos\\\\10036_8.txt',\n",
       " 'data\\\\aclimdb\\\\train\\\\pos\\\\10037_9.txt',\n",
       " 'data\\\\aclimdb\\\\train\\\\pos\\\\10038_10.txt',\n",
       " 'data\\\\aclimdb\\\\train\\\\pos\\\\10039_10.txt',\n",
       " 'data\\\\aclimdb\\\\train\\\\pos\\\\1003_10.txt',\n",
       " 'data\\\\aclimdb\\\\train\\\\pos\\\\10040_10.txt',\n",
       " 'data\\\\aclimdb\\\\train\\\\pos\\\\10041_10.txt',\n",
       " 'data\\\\aclimdb\\\\train\\\\pos\\\\10042_10.txt',\n",
       " 'data\\\\aclimdb\\\\train\\\\pos\\\\10043_10.txt',\n",
       " 'data\\\\aclimdb\\\\train\\\\pos\\\\10044_9.txt',\n",
       " 'data\\\\aclimdb\\\\train\\\\pos\\\\10045_10.txt',\n",
       " 'data\\\\aclimdb\\\\train\\\\pos\\\\10046_9.txt',\n",
       " 'data\\\\aclimdb\\\\train\\\\pos\\\\10047_10.txt',\n",
       " 'data\\\\aclimdb\\\\train\\\\pos\\\\10048_10.txt',\n",
       " 'data\\\\aclimdb\\\\train\\\\pos\\\\10049_8.txt',\n",
       " 'data\\\\aclimdb\\\\train\\\\pos\\\\1004_7.txt',\n",
       " 'data\\\\aclimdb\\\\train\\\\pos\\\\10050_10.txt',\n",
       " 'data\\\\aclimdb\\\\train\\\\pos\\\\10051_10.txt',\n",
       " 'data\\\\aclimdb\\\\train\\\\pos\\\\10052_10.txt',\n",
       " 'data\\\\aclimdb\\\\train\\\\pos\\\\10053_8.txt',\n",
       " 'data\\\\aclimdb\\\\train\\\\pos\\\\10054_10.txt',\n",
       " 'data\\\\aclimdb\\\\train\\\\pos\\\\10055_7.txt',\n",
       " 'data\\\\aclimdb\\\\train\\\\pos\\\\10056_8.txt',\n",
       " 'data\\\\aclimdb\\\\train\\\\pos\\\\10057_9.txt',\n",
       " 'data\\\\aclimdb\\\\train\\\\pos\\\\10058_7.txt',\n",
       " 'data\\\\aclimdb\\\\train\\\\pos\\\\10059_10.txt',\n",
       " 'data\\\\aclimdb\\\\train\\\\pos\\\\1005_10.txt',\n",
       " 'data\\\\aclimdb\\\\train\\\\pos\\\\10060_9.txt',\n",
       " 'data\\\\aclimdb\\\\train\\\\pos\\\\10061_8.txt',\n",
       " 'data\\\\aclimdb\\\\train\\\\pos\\\\10062_10.txt',\n",
       " 'data\\\\aclimdb\\\\train\\\\pos\\\\10063_9.txt',\n",
       " 'data\\\\aclimdb\\\\train\\\\pos\\\\10064_10.txt',\n",
       " 'data\\\\aclimdb\\\\train\\\\pos\\\\10065_9.txt',\n",
       " 'data\\\\aclimdb\\\\train\\\\pos\\\\10066_10.txt',\n",
       " 'data\\\\aclimdb\\\\train\\\\pos\\\\10067_9.txt',\n",
       " 'data\\\\aclimdb\\\\train\\\\pos\\\\10068_8.txt',\n",
       " 'data\\\\aclimdb\\\\train\\\\pos\\\\10069_8.txt',\n",
       " 'data\\\\aclimdb\\\\train\\\\pos\\\\1006_8.txt',\n",
       " 'data\\\\aclimdb\\\\train\\\\pos\\\\10070_9.txt',\n",
       " 'data\\\\aclimdb\\\\train\\\\pos\\\\10071_9.txt',\n",
       " 'data\\\\aclimdb\\\\train\\\\pos\\\\10072_9.txt',\n",
       " 'data\\\\aclimdb\\\\train\\\\pos\\\\10073_10.txt',\n",
       " 'data\\\\aclimdb\\\\train\\\\pos\\\\10074_9.txt',\n",
       " 'data\\\\aclimdb\\\\train\\\\pos\\\\10075_9.txt',\n",
       " 'data\\\\aclimdb\\\\train\\\\pos\\\\10076_9.txt',\n",
       " 'data\\\\aclimdb\\\\train\\\\pos\\\\10077_10.txt',\n",
       " 'data\\\\aclimdb\\\\train\\\\pos\\\\10078_8.txt',\n",
       " 'data\\\\aclimdb\\\\train\\\\pos\\\\10079_8.txt',\n",
       " 'data\\\\aclimdb\\\\train\\\\pos\\\\1007_10.txt',\n",
       " 'data\\\\aclimdb\\\\train\\\\pos\\\\10080_10.txt',\n",
       " 'data\\\\aclimdb\\\\train\\\\pos\\\\10081_9.txt',\n",
       " 'data\\\\aclimdb\\\\train\\\\pos\\\\10082_10.txt',\n",
       " 'data\\\\aclimdb\\\\train\\\\pos\\\\10083_7.txt',\n",
       " 'data\\\\aclimdb\\\\train\\\\pos\\\\10084_10.txt',\n",
       " 'data\\\\aclimdb\\\\train\\\\pos\\\\10085_10.txt',\n",
       " 'data\\\\aclimdb\\\\train\\\\pos\\\\10086_7.txt',\n",
       " 'data\\\\aclimdb\\\\train\\\\pos\\\\10087_10.txt',\n",
       " 'data\\\\aclimdb\\\\train\\\\pos\\\\10088_10.txt',\n",
       " 'data\\\\aclimdb\\\\train\\\\pos\\\\10089_7.txt',\n",
       " 'data\\\\aclimdb\\\\train\\\\pos\\\\1008_10.txt',\n",
       " 'data\\\\aclimdb\\\\train\\\\pos\\\\10090_8.txt',\n",
       " 'data\\\\aclimdb\\\\train\\\\pos\\\\10091_7.txt',\n",
       " 'data\\\\aclimdb\\\\train\\\\pos\\\\10092_8.txt',\n",
       " 'data\\\\aclimdb\\\\train\\\\pos\\\\10093_7.txt',\n",
       " 'data\\\\aclimdb\\\\train\\\\pos\\\\10094_7.txt',\n",
       " 'data\\\\aclimdb\\\\train\\\\pos\\\\10095_7.txt',\n",
       " 'data\\\\aclimdb\\\\train\\\\pos\\\\10096_7.txt',\n",
       " 'data\\\\aclimdb\\\\train\\\\pos\\\\10097_9.txt',\n",
       " 'data\\\\aclimdb\\\\train\\\\pos\\\\10098_10.txt',\n",
       " 'data\\\\aclimdb\\\\train\\\\pos\\\\10099_10.txt',\n",
       " 'data\\\\aclimdb\\\\train\\\\pos\\\\1009_8.txt',\n",
       " 'data\\\\aclimdb\\\\train\\\\pos\\\\100_7.txt',\n",
       " 'data\\\\aclimdb\\\\train\\\\pos\\\\10100_10.txt',\n",
       " 'data\\\\aclimdb\\\\train\\\\pos\\\\10101_8.txt',\n",
       " 'data\\\\aclimdb\\\\train\\\\pos\\\\10102_7.txt',\n",
       " 'data\\\\aclimdb\\\\train\\\\pos\\\\10103_8.txt',\n",
       " 'data\\\\aclimdb\\\\train\\\\pos\\\\10104_10.txt',\n",
       " 'data\\\\aclimdb\\\\train\\\\pos\\\\10105_8.txt',\n",
       " 'data\\\\aclimdb\\\\train\\\\pos\\\\10106_8.txt',\n",
       " 'data\\\\aclimdb\\\\train\\\\pos\\\\10107_8.txt',\n",
       " 'data\\\\aclimdb\\\\train\\\\pos\\\\10108_10.txt',\n",
       " 'data\\\\aclimdb\\\\train\\\\pos\\\\10109_10.txt',\n",
       " 'data\\\\aclimdb\\\\train\\\\pos\\\\1010_10.txt',\n",
       " 'data\\\\aclimdb\\\\train\\\\pos\\\\10110_10.txt',\n",
       " 'data\\\\aclimdb\\\\train\\\\pos\\\\10111_7.txt',\n",
       " 'data\\\\aclimdb\\\\train\\\\pos\\\\10112_7.txt',\n",
       " 'data\\\\aclimdb\\\\train\\\\pos\\\\10113_10.txt',\n",
       " 'data\\\\aclimdb\\\\train\\\\pos\\\\10114_10.txt',\n",
       " 'data\\\\aclimdb\\\\train\\\\pos\\\\10115_10.txt',\n",
       " 'data\\\\aclimdb\\\\train\\\\pos\\\\10116_10.txt',\n",
       " 'data\\\\aclimdb\\\\train\\\\pos\\\\10117_8.txt',\n",
       " 'data\\\\aclimdb\\\\train\\\\pos\\\\10118_7.txt',\n",
       " 'data\\\\aclimdb\\\\train\\\\pos\\\\10119_7.txt',\n",
       " 'data\\\\aclimdb\\\\train\\\\pos\\\\1011_10.txt',\n",
       " 'data\\\\aclimdb\\\\train\\\\pos\\\\10120_7.txt',\n",
       " 'data\\\\aclimdb\\\\train\\\\pos\\\\10121_8.txt',\n",
       " 'data\\\\aclimdb\\\\train\\\\pos\\\\10122_7.txt',\n",
       " 'data\\\\aclimdb\\\\train\\\\pos\\\\10123_10.txt',\n",
       " 'data\\\\aclimdb\\\\train\\\\pos\\\\10124_8.txt',\n",
       " 'data\\\\aclimdb\\\\train\\\\pos\\\\10125_8.txt',\n",
       " 'data\\\\aclimdb\\\\train\\\\pos\\\\10126_10.txt',\n",
       " 'data\\\\aclimdb\\\\train\\\\pos\\\\10127_8.txt',\n",
       " 'data\\\\aclimdb\\\\train\\\\pos\\\\10128_9.txt',\n",
       " 'data\\\\aclimdb\\\\train\\\\pos\\\\10129_7.txt',\n",
       " 'data\\\\aclimdb\\\\train\\\\pos\\\\1012_10.txt',\n",
       " 'data\\\\aclimdb\\\\train\\\\pos\\\\10130_10.txt',\n",
       " 'data\\\\aclimdb\\\\train\\\\pos\\\\10131_10.txt',\n",
       " 'data\\\\aclimdb\\\\train\\\\pos\\\\10132_9.txt',\n",
       " 'data\\\\aclimdb\\\\train\\\\pos\\\\10133_7.txt',\n",
       " 'data\\\\aclimdb\\\\train\\\\pos\\\\10134_7.txt',\n",
       " 'data\\\\aclimdb\\\\train\\\\pos\\\\10135_7.txt',\n",
       " 'data\\\\aclimdb\\\\train\\\\pos\\\\10136_7.txt',\n",
       " 'data\\\\aclimdb\\\\train\\\\pos\\\\10137_7.txt',\n",
       " 'data\\\\aclimdb\\\\train\\\\pos\\\\10138_8.txt',\n",
       " 'data\\\\aclimdb\\\\train\\\\pos\\\\10139_8.txt',\n",
       " 'data\\\\aclimdb\\\\train\\\\pos\\\\1013_9.txt',\n",
       " 'data\\\\aclimdb\\\\train\\\\pos\\\\10140_8.txt',\n",
       " 'data\\\\aclimdb\\\\train\\\\pos\\\\10141_9.txt',\n",
       " 'data\\\\aclimdb\\\\train\\\\pos\\\\10142_8.txt',\n",
       " 'data\\\\aclimdb\\\\train\\\\pos\\\\10143_8.txt',\n",
       " 'data\\\\aclimdb\\\\train\\\\pos\\\\10144_8.txt',\n",
       " 'data\\\\aclimdb\\\\train\\\\pos\\\\10145_8.txt',\n",
       " 'data\\\\aclimdb\\\\train\\\\pos\\\\10146_7.txt',\n",
       " 'data\\\\aclimdb\\\\train\\\\pos\\\\10147_10.txt',\n",
       " 'data\\\\aclimdb\\\\train\\\\pos\\\\10148_10.txt',\n",
       " 'data\\\\aclimdb\\\\train\\\\pos\\\\10149_9.txt',\n",
       " 'data\\\\aclimdb\\\\train\\\\pos\\\\1014_9.txt',\n",
       " 'data\\\\aclimdb\\\\train\\\\pos\\\\10150_9.txt',\n",
       " 'data\\\\aclimdb\\\\train\\\\pos\\\\10151_8.txt',\n",
       " 'data\\\\aclimdb\\\\train\\\\pos\\\\10152_9.txt',\n",
       " 'data\\\\aclimdb\\\\train\\\\pos\\\\10153_9.txt',\n",
       " 'data\\\\aclimdb\\\\train\\\\pos\\\\10154_8.txt',\n",
       " 'data\\\\aclimdb\\\\train\\\\pos\\\\10155_9.txt',\n",
       " 'data\\\\aclimdb\\\\train\\\\pos\\\\10156_10.txt',\n",
       " 'data\\\\aclimdb\\\\train\\\\pos\\\\10157_10.txt',\n",
       " 'data\\\\aclimdb\\\\train\\\\pos\\\\10158_7.txt',\n",
       " 'data\\\\aclimdb\\\\train\\\\pos\\\\10159_7.txt',\n",
       " 'data\\\\aclimdb\\\\train\\\\pos\\\\1015_10.txt',\n",
       " 'data\\\\aclimdb\\\\train\\\\pos\\\\10160_7.txt',\n",
       " 'data\\\\aclimdb\\\\train\\\\pos\\\\10161_9.txt',\n",
       " 'data\\\\aclimdb\\\\train\\\\pos\\\\10162_9.txt',\n",
       " 'data\\\\aclimdb\\\\train\\\\pos\\\\10163_8.txt',\n",
       " 'data\\\\aclimdb\\\\train\\\\pos\\\\10164_7.txt',\n",
       " 'data\\\\aclimdb\\\\train\\\\pos\\\\10165_7.txt',\n",
       " 'data\\\\aclimdb\\\\train\\\\pos\\\\10166_7.txt',\n",
       " 'data\\\\aclimdb\\\\train\\\\pos\\\\10167_7.txt',\n",
       " 'data\\\\aclimdb\\\\train\\\\pos\\\\10168_8.txt',\n",
       " 'data\\\\aclimdb\\\\train\\\\pos\\\\10169_7.txt',\n",
       " 'data\\\\aclimdb\\\\train\\\\pos\\\\1016_8.txt',\n",
       " 'data\\\\aclimdb\\\\train\\\\pos\\\\10170_8.txt',\n",
       " 'data\\\\aclimdb\\\\train\\\\pos\\\\10171_7.txt',\n",
       " 'data\\\\aclimdb\\\\train\\\\pos\\\\10172_8.txt',\n",
       " 'data\\\\aclimdb\\\\train\\\\pos\\\\10173_8.txt',\n",
       " 'data\\\\aclimdb\\\\train\\\\pos\\\\10174_7.txt',\n",
       " 'data\\\\aclimdb\\\\train\\\\pos\\\\10175_10.txt',\n",
       " 'data\\\\aclimdb\\\\train\\\\pos\\\\10176_7.txt',\n",
       " 'data\\\\aclimdb\\\\train\\\\pos\\\\10177_9.txt',\n",
       " 'data\\\\aclimdb\\\\train\\\\pos\\\\10178_10.txt',\n",
       " 'data\\\\aclimdb\\\\train\\\\pos\\\\10179_9.txt',\n",
       " 'data\\\\aclimdb\\\\train\\\\pos\\\\1017_8.txt',\n",
       " 'data\\\\aclimdb\\\\train\\\\pos\\\\10180_7.txt',\n",
       " 'data\\\\aclimdb\\\\train\\\\pos\\\\10181_8.txt',\n",
       " 'data\\\\aclimdb\\\\train\\\\pos\\\\10182_8.txt',\n",
       " 'data\\\\aclimdb\\\\train\\\\pos\\\\10183_7.txt',\n",
       " 'data\\\\aclimdb\\\\train\\\\pos\\\\10184_9.txt',\n",
       " 'data\\\\aclimdb\\\\train\\\\pos\\\\10185_10.txt',\n",
       " 'data\\\\aclimdb\\\\train\\\\pos\\\\10186_8.txt',\n",
       " 'data\\\\aclimdb\\\\train\\\\pos\\\\10187_7.txt',\n",
       " 'data\\\\aclimdb\\\\train\\\\pos\\\\10188_8.txt',\n",
       " 'data\\\\aclimdb\\\\train\\\\pos\\\\10189_7.txt',\n",
       " 'data\\\\aclimdb\\\\train\\\\pos\\\\1018_8.txt',\n",
       " 'data\\\\aclimdb\\\\train\\\\pos\\\\10190_7.txt',\n",
       " 'data\\\\aclimdb\\\\train\\\\pos\\\\10191_10.txt',\n",
       " 'data\\\\aclimdb\\\\train\\\\pos\\\\10192_8.txt',\n",
       " 'data\\\\aclimdb\\\\train\\\\pos\\\\10193_9.txt',\n",
       " 'data\\\\aclimdb\\\\train\\\\pos\\\\10194_10.txt',\n",
       " 'data\\\\aclimdb\\\\train\\\\pos\\\\10195_8.txt',\n",
       " 'data\\\\aclimdb\\\\train\\\\pos\\\\10196_10.txt',\n",
       " 'data\\\\aclimdb\\\\train\\\\pos\\\\10197_7.txt',\n",
       " 'data\\\\aclimdb\\\\train\\\\pos\\\\10198_8.txt',\n",
       " 'data\\\\aclimdb\\\\train\\\\pos\\\\10199_7.txt',\n",
       " 'data\\\\aclimdb\\\\train\\\\pos\\\\1019_10.txt',\n",
       " 'data\\\\aclimdb\\\\train\\\\pos\\\\101_8.txt',\n",
       " 'data\\\\aclimdb\\\\train\\\\pos\\\\10200_10.txt',\n",
       " 'data\\\\aclimdb\\\\train\\\\pos\\\\10201_10.txt',\n",
       " 'data\\\\aclimdb\\\\train\\\\pos\\\\10202_10.txt',\n",
       " 'data\\\\aclimdb\\\\train\\\\pos\\\\10203_10.txt',\n",
       " 'data\\\\aclimdb\\\\train\\\\pos\\\\10204_8.txt',\n",
       " 'data\\\\aclimdb\\\\train\\\\pos\\\\10205_10.txt',\n",
       " 'data\\\\aclimdb\\\\train\\\\pos\\\\10206_10.txt',\n",
       " 'data\\\\aclimdb\\\\train\\\\pos\\\\10207_10.txt',\n",
       " 'data\\\\aclimdb\\\\train\\\\pos\\\\10208_7.txt',\n",
       " 'data\\\\aclimdb\\\\train\\\\pos\\\\10209_7.txt',\n",
       " 'data\\\\aclimdb\\\\train\\\\pos\\\\1020_10.txt',\n",
       " 'data\\\\aclimdb\\\\train\\\\pos\\\\10210_7.txt',\n",
       " 'data\\\\aclimdb\\\\train\\\\pos\\\\10211_7.txt',\n",
       " 'data\\\\aclimdb\\\\train\\\\pos\\\\10212_8.txt',\n",
       " 'data\\\\aclimdb\\\\train\\\\pos\\\\10213_8.txt',\n",
       " 'data\\\\aclimdb\\\\train\\\\pos\\\\10214_10.txt',\n",
       " 'data\\\\aclimdb\\\\train\\\\pos\\\\10215_10.txt',\n",
       " 'data\\\\aclimdb\\\\train\\\\pos\\\\10216_8.txt',\n",
       " 'data\\\\aclimdb\\\\train\\\\pos\\\\10217_9.txt',\n",
       " 'data\\\\aclimdb\\\\train\\\\pos\\\\10218_8.txt',\n",
       " 'data\\\\aclimdb\\\\train\\\\pos\\\\10219_10.txt',\n",
       " 'data\\\\aclimdb\\\\train\\\\pos\\\\1021_10.txt',\n",
       " 'data\\\\aclimdb\\\\train\\\\pos\\\\10220_7.txt',\n",
       " 'data\\\\aclimdb\\\\train\\\\pos\\\\10221_8.txt',\n",
       " 'data\\\\aclimdb\\\\train\\\\pos\\\\10222_9.txt',\n",
       " 'data\\\\aclimdb\\\\train\\\\pos\\\\10223_10.txt',\n",
       " 'data\\\\aclimdb\\\\train\\\\pos\\\\10224_10.txt',\n",
       " 'data\\\\aclimdb\\\\train\\\\pos\\\\10225_9.txt',\n",
       " 'data\\\\aclimdb\\\\train\\\\pos\\\\10226_10.txt',\n",
       " 'data\\\\aclimdb\\\\train\\\\pos\\\\10227_10.txt',\n",
       " 'data\\\\aclimdb\\\\train\\\\pos\\\\10228_8.txt',\n",
       " 'data\\\\aclimdb\\\\train\\\\pos\\\\10229_8.txt',\n",
       " 'data\\\\aclimdb\\\\train\\\\pos\\\\1022_10.txt',\n",
       " 'data\\\\aclimdb\\\\train\\\\pos\\\\10230_9.txt',\n",
       " 'data\\\\aclimdb\\\\train\\\\pos\\\\10231_10.txt',\n",
       " 'data\\\\aclimdb\\\\train\\\\pos\\\\10232_10.txt',\n",
       " 'data\\\\aclimdb\\\\train\\\\pos\\\\10233_7.txt',\n",
       " 'data\\\\aclimdb\\\\train\\\\pos\\\\10234_10.txt',\n",
       " 'data\\\\aclimdb\\\\train\\\\pos\\\\10235_8.txt',\n",
       " 'data\\\\aclimdb\\\\train\\\\pos\\\\10236_8.txt',\n",
       " 'data\\\\aclimdb\\\\train\\\\pos\\\\10237_10.txt',\n",
       " 'data\\\\aclimdb\\\\train\\\\pos\\\\10238_10.txt',\n",
       " 'data\\\\aclimdb\\\\train\\\\pos\\\\10239_10.txt',\n",
       " 'data\\\\aclimdb\\\\train\\\\pos\\\\1023_10.txt',\n",
       " 'data\\\\aclimdb\\\\train\\\\pos\\\\10240_8.txt',\n",
       " 'data\\\\aclimdb\\\\train\\\\pos\\\\10241_8.txt',\n",
       " 'data\\\\aclimdb\\\\train\\\\pos\\\\10242_8.txt',\n",
       " 'data\\\\aclimdb\\\\train\\\\pos\\\\10243_10.txt',\n",
       " 'data\\\\aclimdb\\\\train\\\\pos\\\\10244_7.txt',\n",
       " 'data\\\\aclimdb\\\\train\\\\pos\\\\10245_10.txt',\n",
       " 'data\\\\aclimdb\\\\train\\\\pos\\\\10246_10.txt',\n",
       " 'data\\\\aclimdb\\\\train\\\\pos\\\\10247_10.txt',\n",
       " 'data\\\\aclimdb\\\\train\\\\pos\\\\10248_7.txt',\n",
       " 'data\\\\aclimdb\\\\train\\\\pos\\\\10249_7.txt',\n",
       " 'data\\\\aclimdb\\\\train\\\\pos\\\\1024_9.txt',\n",
       " 'data\\\\aclimdb\\\\train\\\\pos\\\\10250_10.txt',\n",
       " 'data\\\\aclimdb\\\\train\\\\pos\\\\10251_10.txt',\n",
       " 'data\\\\aclimdb\\\\train\\\\pos\\\\10252_9.txt',\n",
       " 'data\\\\aclimdb\\\\train\\\\pos\\\\10253_10.txt',\n",
       " 'data\\\\aclimdb\\\\train\\\\pos\\\\10254_8.txt',\n",
       " 'data\\\\aclimdb\\\\train\\\\pos\\\\10255_9.txt',\n",
       " 'data\\\\aclimdb\\\\train\\\\pos\\\\10256_8.txt',\n",
       " 'data\\\\aclimdb\\\\train\\\\pos\\\\10257_8.txt',\n",
       " 'data\\\\aclimdb\\\\train\\\\pos\\\\10258_10.txt',\n",
       " 'data\\\\aclimdb\\\\train\\\\pos\\\\10259_8.txt',\n",
       " 'data\\\\aclimdb\\\\train\\\\pos\\\\1025_8.txt',\n",
       " 'data\\\\aclimdb\\\\train\\\\pos\\\\10260_10.txt',\n",
       " 'data\\\\aclimdb\\\\train\\\\pos\\\\10261_8.txt',\n",
       " 'data\\\\aclimdb\\\\train\\\\pos\\\\10262_10.txt',\n",
       " 'data\\\\aclimdb\\\\train\\\\pos\\\\10263_10.txt',\n",
       " 'data\\\\aclimdb\\\\train\\\\pos\\\\10264_10.txt',\n",
       " 'data\\\\aclimdb\\\\train\\\\pos\\\\10265_9.txt',\n",
       " 'data\\\\aclimdb\\\\train\\\\pos\\\\10266_9.txt',\n",
       " 'data\\\\aclimdb\\\\train\\\\pos\\\\10267_8.txt',\n",
       " 'data\\\\aclimdb\\\\train\\\\pos\\\\10268_9.txt',\n",
       " 'data\\\\aclimdb\\\\train\\\\pos\\\\10269_7.txt',\n",
       " 'data\\\\aclimdb\\\\train\\\\pos\\\\1026_9.txt',\n",
       " 'data\\\\aclimdb\\\\train\\\\pos\\\\10270_9.txt',\n",
       " 'data\\\\aclimdb\\\\train\\\\pos\\\\10271_10.txt',\n",
       " 'data\\\\aclimdb\\\\train\\\\pos\\\\10272_10.txt',\n",
       " 'data\\\\aclimdb\\\\train\\\\pos\\\\10273_8.txt',\n",
       " 'data\\\\aclimdb\\\\train\\\\pos\\\\10274_8.txt',\n",
       " 'data\\\\aclimdb\\\\train\\\\pos\\\\10275_10.txt',\n",
       " 'data\\\\aclimdb\\\\train\\\\pos\\\\10276_10.txt',\n",
       " 'data\\\\aclimdb\\\\train\\\\pos\\\\10277_9.txt',\n",
       " 'data\\\\aclimdb\\\\train\\\\pos\\\\10278_7.txt',\n",
       " 'data\\\\aclimdb\\\\train\\\\pos\\\\10279_8.txt',\n",
       " 'data\\\\aclimdb\\\\train\\\\pos\\\\1027_8.txt',\n",
       " 'data\\\\aclimdb\\\\train\\\\pos\\\\10280_10.txt',\n",
       " 'data\\\\aclimdb\\\\train\\\\pos\\\\10281_7.txt',\n",
       " 'data\\\\aclimdb\\\\train\\\\pos\\\\10282_8.txt',\n",
       " 'data\\\\aclimdb\\\\train\\\\pos\\\\10283_10.txt',\n",
       " 'data\\\\aclimdb\\\\train\\\\pos\\\\10284_9.txt',\n",
       " 'data\\\\aclimdb\\\\train\\\\pos\\\\10285_10.txt',\n",
       " 'data\\\\aclimdb\\\\train\\\\pos\\\\10286_9.txt',\n",
       " 'data\\\\aclimdb\\\\train\\\\pos\\\\10287_8.txt',\n",
       " 'data\\\\aclimdb\\\\train\\\\pos\\\\10288_10.txt',\n",
       " 'data\\\\aclimdb\\\\train\\\\pos\\\\10289_10.txt',\n",
       " 'data\\\\aclimdb\\\\train\\\\pos\\\\1028_10.txt',\n",
       " 'data\\\\aclimdb\\\\train\\\\pos\\\\10290_8.txt',\n",
       " 'data\\\\aclimdb\\\\train\\\\pos\\\\10291_7.txt',\n",
       " 'data\\\\aclimdb\\\\train\\\\pos\\\\10292_7.txt',\n",
       " 'data\\\\aclimdb\\\\train\\\\pos\\\\10293_8.txt',\n",
       " 'data\\\\aclimdb\\\\train\\\\pos\\\\10294_8.txt',\n",
       " 'data\\\\aclimdb\\\\train\\\\pos\\\\10295_7.txt',\n",
       " 'data\\\\aclimdb\\\\train\\\\pos\\\\10296_8.txt',\n",
       " 'data\\\\aclimdb\\\\train\\\\pos\\\\10297_8.txt',\n",
       " 'data\\\\aclimdb\\\\train\\\\pos\\\\10298_9.txt',\n",
       " 'data\\\\aclimdb\\\\train\\\\pos\\\\10299_9.txt',\n",
       " 'data\\\\aclimdb\\\\train\\\\pos\\\\1029_9.txt',\n",
       " 'data\\\\aclimdb\\\\train\\\\pos\\\\102_10.txt',\n",
       " 'data\\\\aclimdb\\\\train\\\\pos\\\\10300_10.txt',\n",
       " 'data\\\\aclimdb\\\\train\\\\pos\\\\10301_8.txt',\n",
       " 'data\\\\aclimdb\\\\train\\\\pos\\\\10302_9.txt',\n",
       " 'data\\\\aclimdb\\\\train\\\\pos\\\\10303_7.txt',\n",
       " 'data\\\\aclimdb\\\\train\\\\pos\\\\10304_7.txt',\n",
       " 'data\\\\aclimdb\\\\train\\\\pos\\\\10305_8.txt',\n",
       " 'data\\\\aclimdb\\\\train\\\\pos\\\\10306_8.txt',\n",
       " 'data\\\\aclimdb\\\\train\\\\pos\\\\10307_8.txt',\n",
       " 'data\\\\aclimdb\\\\train\\\\pos\\\\10308_8.txt',\n",
       " 'data\\\\aclimdb\\\\train\\\\pos\\\\10309_7.txt',\n",
       " 'data\\\\aclimdb\\\\train\\\\pos\\\\1030_10.txt',\n",
       " 'data\\\\aclimdb\\\\train\\\\pos\\\\10310_9.txt',\n",
       " 'data\\\\aclimdb\\\\train\\\\pos\\\\10311_9.txt',\n",
       " 'data\\\\aclimdb\\\\train\\\\pos\\\\10312_10.txt',\n",
       " 'data\\\\aclimdb\\\\train\\\\pos\\\\10313_7.txt',\n",
       " 'data\\\\aclimdb\\\\train\\\\pos\\\\10314_8.txt',\n",
       " 'data\\\\aclimdb\\\\train\\\\pos\\\\10315_8.txt',\n",
       " 'data\\\\aclimdb\\\\train\\\\pos\\\\10316_8.txt',\n",
       " 'data\\\\aclimdb\\\\train\\\\pos\\\\10317_7.txt',\n",
       " 'data\\\\aclimdb\\\\train\\\\pos\\\\10318_7.txt',\n",
       " 'data\\\\aclimdb\\\\train\\\\pos\\\\10319_7.txt',\n",
       " 'data\\\\aclimdb\\\\train\\\\pos\\\\1031_10.txt',\n",
       " 'data\\\\aclimdb\\\\train\\\\pos\\\\10320_7.txt',\n",
       " 'data\\\\aclimdb\\\\train\\\\pos\\\\10321_10.txt',\n",
       " 'data\\\\aclimdb\\\\train\\\\pos\\\\10322_7.txt',\n",
       " 'data\\\\aclimdb\\\\train\\\\pos\\\\10323_10.txt',\n",
       " 'data\\\\aclimdb\\\\train\\\\pos\\\\10324_9.txt',\n",
       " 'data\\\\aclimdb\\\\train\\\\pos\\\\10325_10.txt',\n",
       " 'data\\\\aclimdb\\\\train\\\\pos\\\\10326_10.txt',\n",
       " 'data\\\\aclimdb\\\\train\\\\pos\\\\10327_7.txt',\n",
       " 'data\\\\aclimdb\\\\train\\\\pos\\\\10328_8.txt',\n",
       " 'data\\\\aclimdb\\\\train\\\\pos\\\\10329_8.txt',\n",
       " 'data\\\\aclimdb\\\\train\\\\pos\\\\1032_7.txt',\n",
       " 'data\\\\aclimdb\\\\train\\\\pos\\\\10330_8.txt',\n",
       " 'data\\\\aclimdb\\\\train\\\\pos\\\\10331_10.txt',\n",
       " 'data\\\\aclimdb\\\\train\\\\pos\\\\10332_8.txt',\n",
       " 'data\\\\aclimdb\\\\train\\\\pos\\\\10333_8.txt',\n",
       " 'data\\\\aclimdb\\\\train\\\\pos\\\\10334_8.txt',\n",
       " 'data\\\\aclimdb\\\\train\\\\pos\\\\10335_8.txt',\n",
       " 'data\\\\aclimdb\\\\train\\\\pos\\\\10336_8.txt',\n",
       " 'data\\\\aclimdb\\\\train\\\\pos\\\\10337_9.txt',\n",
       " 'data\\\\aclimdb\\\\train\\\\pos\\\\10338_9.txt',\n",
       " 'data\\\\aclimdb\\\\train\\\\pos\\\\10339_7.txt',\n",
       " 'data\\\\aclimdb\\\\train\\\\pos\\\\1033_10.txt',\n",
       " 'data\\\\aclimdb\\\\train\\\\pos\\\\10340_9.txt',\n",
       " 'data\\\\aclimdb\\\\train\\\\pos\\\\10341_7.txt',\n",
       " 'data\\\\aclimdb\\\\train\\\\pos\\\\10342_7.txt',\n",
       " 'data\\\\aclimdb\\\\train\\\\pos\\\\10343_7.txt',\n",
       " 'data\\\\aclimdb\\\\train\\\\pos\\\\10344_7.txt',\n",
       " 'data\\\\aclimdb\\\\train\\\\pos\\\\10345_7.txt',\n",
       " 'data\\\\aclimdb\\\\train\\\\pos\\\\10346_9.txt',\n",
       " 'data\\\\aclimdb\\\\train\\\\pos\\\\10347_9.txt',\n",
       " 'data\\\\aclimdb\\\\train\\\\pos\\\\10348_8.txt',\n",
       " 'data\\\\aclimdb\\\\train\\\\pos\\\\10349_10.txt',\n",
       " 'data\\\\aclimdb\\\\train\\\\pos\\\\1034_7.txt',\n",
       " 'data\\\\aclimdb\\\\train\\\\pos\\\\10350_10.txt',\n",
       " 'data\\\\aclimdb\\\\train\\\\pos\\\\10351_8.txt',\n",
       " 'data\\\\aclimdb\\\\train\\\\pos\\\\10352_10.txt',\n",
       " 'data\\\\aclimdb\\\\train\\\\pos\\\\10353_9.txt',\n",
       " 'data\\\\aclimdb\\\\train\\\\pos\\\\10354_9.txt',\n",
       " 'data\\\\aclimdb\\\\train\\\\pos\\\\10355_9.txt',\n",
       " 'data\\\\aclimdb\\\\train\\\\pos\\\\10356_9.txt',\n",
       " 'data\\\\aclimdb\\\\train\\\\pos\\\\10357_8.txt',\n",
       " 'data\\\\aclimdb\\\\train\\\\pos\\\\10358_9.txt',\n",
       " 'data\\\\aclimdb\\\\train\\\\pos\\\\10359_7.txt',\n",
       " 'data\\\\aclimdb\\\\train\\\\pos\\\\1035_7.txt',\n",
       " 'data\\\\aclimdb\\\\train\\\\pos\\\\10360_8.txt',\n",
       " 'data\\\\aclimdb\\\\train\\\\pos\\\\10361_7.txt',\n",
       " 'data\\\\aclimdb\\\\train\\\\pos\\\\10362_8.txt',\n",
       " 'data\\\\aclimdb\\\\train\\\\pos\\\\10363_9.txt',\n",
       " 'data\\\\aclimdb\\\\train\\\\pos\\\\10364_10.txt',\n",
       " 'data\\\\aclimdb\\\\train\\\\pos\\\\10365_8.txt',\n",
       " 'data\\\\aclimdb\\\\train\\\\pos\\\\10366_10.txt',\n",
       " 'data\\\\aclimdb\\\\train\\\\pos\\\\10367_8.txt',\n",
       " 'data\\\\aclimdb\\\\train\\\\pos\\\\10368_7.txt',\n",
       " 'data\\\\aclimdb\\\\train\\\\pos\\\\10369_8.txt',\n",
       " 'data\\\\aclimdb\\\\train\\\\pos\\\\1036_9.txt',\n",
       " 'data\\\\aclimdb\\\\train\\\\pos\\\\10370_9.txt',\n",
       " 'data\\\\aclimdb\\\\train\\\\pos\\\\10371_8.txt',\n",
       " 'data\\\\aclimdb\\\\train\\\\pos\\\\10372_7.txt',\n",
       " 'data\\\\aclimdb\\\\train\\\\pos\\\\10373_7.txt',\n",
       " 'data\\\\aclimdb\\\\train\\\\pos\\\\10374_8.txt',\n",
       " 'data\\\\aclimdb\\\\train\\\\pos\\\\10375_10.txt',\n",
       " 'data\\\\aclimdb\\\\train\\\\pos\\\\10376_7.txt',\n",
       " 'data\\\\aclimdb\\\\train\\\\pos\\\\10377_9.txt',\n",
       " 'data\\\\aclimdb\\\\train\\\\pos\\\\10378_8.txt',\n",
       " 'data\\\\aclimdb\\\\train\\\\pos\\\\10379_10.txt',\n",
       " 'data\\\\aclimdb\\\\train\\\\pos\\\\1037_8.txt',\n",
       " 'data\\\\aclimdb\\\\train\\\\pos\\\\10380_10.txt',\n",
       " 'data\\\\aclimdb\\\\train\\\\pos\\\\10381_10.txt',\n",
       " 'data\\\\aclimdb\\\\train\\\\pos\\\\10382_10.txt',\n",
       " 'data\\\\aclimdb\\\\train\\\\pos\\\\10383_10.txt',\n",
       " 'data\\\\aclimdb\\\\train\\\\pos\\\\10384_10.txt',\n",
       " 'data\\\\aclimdb\\\\train\\\\pos\\\\10385_10.txt',\n",
       " 'data\\\\aclimdb\\\\train\\\\pos\\\\10386_8.txt',\n",
       " 'data\\\\aclimdb\\\\train\\\\pos\\\\10387_7.txt',\n",
       " 'data\\\\aclimdb\\\\train\\\\pos\\\\10388_7.txt',\n",
       " 'data\\\\aclimdb\\\\train\\\\pos\\\\10389_10.txt',\n",
       " 'data\\\\aclimdb\\\\train\\\\pos\\\\1038_7.txt',\n",
       " 'data\\\\aclimdb\\\\train\\\\pos\\\\10390_10.txt',\n",
       " 'data\\\\aclimdb\\\\train\\\\pos\\\\10391_10.txt',\n",
       " 'data\\\\aclimdb\\\\train\\\\pos\\\\10392_10.txt',\n",
       " 'data\\\\aclimdb\\\\train\\\\pos\\\\10393_9.txt',\n",
       " 'data\\\\aclimdb\\\\train\\\\pos\\\\10394_10.txt',\n",
       " 'data\\\\aclimdb\\\\train\\\\pos\\\\10395_8.txt',\n",
       " 'data\\\\aclimdb\\\\train\\\\pos\\\\10396_8.txt',\n",
       " 'data\\\\aclimdb\\\\train\\\\pos\\\\10397_8.txt',\n",
       " 'data\\\\aclimdb\\\\train\\\\pos\\\\10398_8.txt',\n",
       " 'data\\\\aclimdb\\\\train\\\\pos\\\\10399_10.txt',\n",
       " 'data\\\\aclimdb\\\\train\\\\pos\\\\1039_9.txt',\n",
       " 'data\\\\aclimdb\\\\train\\\\pos\\\\103_7.txt',\n",
       " 'data\\\\aclimdb\\\\train\\\\pos\\\\10400_10.txt',\n",
       " 'data\\\\aclimdb\\\\train\\\\pos\\\\10401_10.txt',\n",
       " 'data\\\\aclimdb\\\\train\\\\pos\\\\10402_10.txt',\n",
       " 'data\\\\aclimdb\\\\train\\\\pos\\\\10403_7.txt',\n",
       " 'data\\\\aclimdb\\\\train\\\\pos\\\\10404_9.txt',\n",
       " 'data\\\\aclimdb\\\\train\\\\pos\\\\10405_8.txt',\n",
       " 'data\\\\aclimdb\\\\train\\\\pos\\\\10406_10.txt',\n",
       " 'data\\\\aclimdb\\\\train\\\\pos\\\\10407_8.txt',\n",
       " 'data\\\\aclimdb\\\\train\\\\pos\\\\10408_10.txt',\n",
       " 'data\\\\aclimdb\\\\train\\\\pos\\\\10409_10.txt',\n",
       " 'data\\\\aclimdb\\\\train\\\\pos\\\\1040_10.txt',\n",
       " 'data\\\\aclimdb\\\\train\\\\pos\\\\10410_10.txt',\n",
       " 'data\\\\aclimdb\\\\train\\\\pos\\\\10411_9.txt',\n",
       " 'data\\\\aclimdb\\\\train\\\\pos\\\\10412_8.txt',\n",
       " 'data\\\\aclimdb\\\\train\\\\pos\\\\10413_10.txt',\n",
       " 'data\\\\aclimdb\\\\train\\\\pos\\\\10414_10.txt',\n",
       " 'data\\\\aclimdb\\\\train\\\\pos\\\\10415_7.txt',\n",
       " 'data\\\\aclimdb\\\\train\\\\pos\\\\10416_9.txt',\n",
       " 'data\\\\aclimdb\\\\train\\\\pos\\\\10417_8.txt',\n",
       " 'data\\\\aclimdb\\\\train\\\\pos\\\\10418_9.txt',\n",
       " 'data\\\\aclimdb\\\\train\\\\pos\\\\10419_10.txt',\n",
       " 'data\\\\aclimdb\\\\train\\\\pos\\\\1041_9.txt',\n",
       " 'data\\\\aclimdb\\\\train\\\\pos\\\\10420_10.txt',\n",
       " 'data\\\\aclimdb\\\\train\\\\pos\\\\10421_7.txt',\n",
       " 'data\\\\aclimdb\\\\train\\\\pos\\\\10422_7.txt',\n",
       " 'data\\\\aclimdb\\\\train\\\\pos\\\\10423_9.txt',\n",
       " 'data\\\\aclimdb\\\\train\\\\pos\\\\10424_9.txt',\n",
       " 'data\\\\aclimdb\\\\train\\\\pos\\\\10425_9.txt',\n",
       " 'data\\\\aclimdb\\\\train\\\\pos\\\\10426_9.txt',\n",
       " 'data\\\\aclimdb\\\\train\\\\pos\\\\10427_8.txt',\n",
       " 'data\\\\aclimdb\\\\train\\\\pos\\\\10428_10.txt',\n",
       " 'data\\\\aclimdb\\\\train\\\\pos\\\\10429_10.txt',\n",
       " 'data\\\\aclimdb\\\\train\\\\pos\\\\1042_10.txt',\n",
       " 'data\\\\aclimdb\\\\train\\\\pos\\\\10430_9.txt',\n",
       " 'data\\\\aclimdb\\\\train\\\\pos\\\\10431_10.txt',\n",
       " 'data\\\\aclimdb\\\\train\\\\pos\\\\10432_10.txt',\n",
       " 'data\\\\aclimdb\\\\train\\\\pos\\\\10433_9.txt',\n",
       " 'data\\\\aclimdb\\\\train\\\\pos\\\\10434_10.txt',\n",
       " 'data\\\\aclimdb\\\\train\\\\pos\\\\10435_7.txt',\n",
       " 'data\\\\aclimdb\\\\train\\\\pos\\\\10436_8.txt',\n",
       " 'data\\\\aclimdb\\\\train\\\\pos\\\\10437_7.txt',\n",
       " 'data\\\\aclimdb\\\\train\\\\pos\\\\10438_9.txt',\n",
       " 'data\\\\aclimdb\\\\train\\\\pos\\\\10439_8.txt',\n",
       " 'data\\\\aclimdb\\\\train\\\\pos\\\\1043_10.txt',\n",
       " 'data\\\\aclimdb\\\\train\\\\pos\\\\10440_9.txt',\n",
       " 'data\\\\aclimdb\\\\train\\\\pos\\\\10441_10.txt',\n",
       " 'data\\\\aclimdb\\\\train\\\\pos\\\\10442_10.txt',\n",
       " 'data\\\\aclimdb\\\\train\\\\pos\\\\10443_9.txt',\n",
       " 'data\\\\aclimdb\\\\train\\\\pos\\\\10444_9.txt',\n",
       " 'data\\\\aclimdb\\\\train\\\\pos\\\\10445_10.txt',\n",
       " 'data\\\\aclimdb\\\\train\\\\pos\\\\10446_10.txt',\n",
       " 'data\\\\aclimdb\\\\train\\\\pos\\\\10447_10.txt',\n",
       " 'data\\\\aclimdb\\\\train\\\\pos\\\\10448_10.txt',\n",
       " 'data\\\\aclimdb\\\\train\\\\pos\\\\10449_9.txt',\n",
       " 'data\\\\aclimdb\\\\train\\\\pos\\\\1044_8.txt',\n",
       " 'data\\\\aclimdb\\\\train\\\\pos\\\\10450_10.txt',\n",
       " 'data\\\\aclimdb\\\\train\\\\pos\\\\10451_10.txt',\n",
       " 'data\\\\aclimdb\\\\train\\\\pos\\\\10452_10.txt',\n",
       " 'data\\\\aclimdb\\\\train\\\\pos\\\\10453_10.txt',\n",
       " 'data\\\\aclimdb\\\\train\\\\pos\\\\10454_9.txt',\n",
       " 'data\\\\aclimdb\\\\train\\\\pos\\\\10455_10.txt',\n",
       " 'data\\\\aclimdb\\\\train\\\\pos\\\\10456_10.txt',\n",
       " 'data\\\\aclimdb\\\\train\\\\pos\\\\10457_8.txt',\n",
       " 'data\\\\aclimdb\\\\train\\\\pos\\\\10458_10.txt',\n",
       " 'data\\\\aclimdb\\\\train\\\\pos\\\\10459_9.txt',\n",
       " 'data\\\\aclimdb\\\\train\\\\pos\\\\1045_8.txt',\n",
       " 'data\\\\aclimdb\\\\train\\\\pos\\\\10460_10.txt',\n",
       " 'data\\\\aclimdb\\\\train\\\\pos\\\\10461_9.txt',\n",
       " 'data\\\\aclimdb\\\\train\\\\pos\\\\10462_7.txt',\n",
       " 'data\\\\aclimdb\\\\train\\\\pos\\\\10463_10.txt',\n",
       " 'data\\\\aclimdb\\\\train\\\\pos\\\\10464_7.txt',\n",
       " 'data\\\\aclimdb\\\\train\\\\pos\\\\10465_8.txt',\n",
       " 'data\\\\aclimdb\\\\train\\\\pos\\\\10466_8.txt',\n",
       " 'data\\\\aclimdb\\\\train\\\\pos\\\\10467_10.txt',\n",
       " 'data\\\\aclimdb\\\\train\\\\pos\\\\10468_9.txt',\n",
       " 'data\\\\aclimdb\\\\train\\\\pos\\\\10469_10.txt',\n",
       " 'data\\\\aclimdb\\\\train\\\\pos\\\\1046_10.txt',\n",
       " 'data\\\\aclimdb\\\\train\\\\pos\\\\10470_9.txt',\n",
       " 'data\\\\aclimdb\\\\train\\\\pos\\\\10471_10.txt',\n",
       " 'data\\\\aclimdb\\\\train\\\\pos\\\\10472_7.txt',\n",
       " 'data\\\\aclimdb\\\\train\\\\pos\\\\10473_10.txt',\n",
       " 'data\\\\aclimdb\\\\train\\\\pos\\\\10474_9.txt',\n",
       " 'data\\\\aclimdb\\\\train\\\\pos\\\\10475_8.txt',\n",
       " 'data\\\\aclimdb\\\\train\\\\pos\\\\10476_9.txt',\n",
       " 'data\\\\aclimdb\\\\train\\\\pos\\\\10477_9.txt',\n",
       " 'data\\\\aclimdb\\\\train\\\\pos\\\\10478_8.txt',\n",
       " 'data\\\\aclimdb\\\\train\\\\pos\\\\10479_10.txt',\n",
       " 'data\\\\aclimdb\\\\train\\\\pos\\\\1047_8.txt',\n",
       " 'data\\\\aclimdb\\\\train\\\\pos\\\\10480_10.txt',\n",
       " 'data\\\\aclimdb\\\\train\\\\pos\\\\10481_8.txt',\n",
       " 'data\\\\aclimdb\\\\train\\\\pos\\\\10482_10.txt',\n",
       " 'data\\\\aclimdb\\\\train\\\\pos\\\\10483_8.txt',\n",
       " 'data\\\\aclimdb\\\\train\\\\pos\\\\10484_8.txt',\n",
       " 'data\\\\aclimdb\\\\train\\\\pos\\\\10485_8.txt',\n",
       " 'data\\\\aclimdb\\\\train\\\\pos\\\\10486_7.txt',\n",
       " 'data\\\\aclimdb\\\\train\\\\pos\\\\10487_7.txt',\n",
       " 'data\\\\aclimdb\\\\train\\\\pos\\\\10488_10.txt',\n",
       " 'data\\\\aclimdb\\\\train\\\\pos\\\\10489_10.txt',\n",
       " 'data\\\\aclimdb\\\\train\\\\pos\\\\1048_8.txt',\n",
       " 'data\\\\aclimdb\\\\train\\\\pos\\\\10490_7.txt',\n",
       " 'data\\\\aclimdb\\\\train\\\\pos\\\\10491_7.txt',\n",
       " 'data\\\\aclimdb\\\\train\\\\pos\\\\10492_10.txt',\n",
       " 'data\\\\aclimdb\\\\train\\\\pos\\\\10493_9.txt',\n",
       " 'data\\\\aclimdb\\\\train\\\\pos\\\\10494_10.txt',\n",
       " 'data\\\\aclimdb\\\\train\\\\pos\\\\10495_7.txt',\n",
       " 'data\\\\aclimdb\\\\train\\\\pos\\\\10496_10.txt',\n",
       " 'data\\\\aclimdb\\\\train\\\\pos\\\\10497_8.txt',\n",
       " 'data\\\\aclimdb\\\\train\\\\pos\\\\10498_10.txt',\n",
       " 'data\\\\aclimdb\\\\train\\\\pos\\\\10499_10.txt',\n",
       " 'data\\\\aclimdb\\\\train\\\\pos\\\\1049_7.txt',\n",
       " 'data\\\\aclimdb\\\\train\\\\pos\\\\104_10.txt',\n",
       " 'data\\\\aclimdb\\\\train\\\\pos\\\\10500_10.txt',\n",
       " 'data\\\\aclimdb\\\\train\\\\pos\\\\10501_10.txt',\n",
       " 'data\\\\aclimdb\\\\train\\\\pos\\\\10502_9.txt',\n",
       " 'data\\\\aclimdb\\\\train\\\\pos\\\\10503_10.txt',\n",
       " 'data\\\\aclimdb\\\\train\\\\pos\\\\10504_9.txt',\n",
       " 'data\\\\aclimdb\\\\train\\\\pos\\\\10505_10.txt',\n",
       " 'data\\\\aclimdb\\\\train\\\\pos\\\\10506_10.txt',\n",
       " 'data\\\\aclimdb\\\\train\\\\pos\\\\10507_10.txt',\n",
       " 'data\\\\aclimdb\\\\train\\\\pos\\\\10508_10.txt',\n",
       " 'data\\\\aclimdb\\\\train\\\\pos\\\\10509_7.txt',\n",
       " 'data\\\\aclimdb\\\\train\\\\pos\\\\1050_9.txt',\n",
       " 'data\\\\aclimdb\\\\train\\\\pos\\\\10510_7.txt',\n",
       " 'data\\\\aclimdb\\\\train\\\\pos\\\\10511_7.txt',\n",
       " 'data\\\\aclimdb\\\\train\\\\pos\\\\10512_10.txt',\n",
       " 'data\\\\aclimdb\\\\train\\\\pos\\\\10513_7.txt',\n",
       " 'data\\\\aclimdb\\\\train\\\\pos\\\\10514_8.txt',\n",
       " 'data\\\\aclimdb\\\\train\\\\pos\\\\10515_9.txt',\n",
       " 'data\\\\aclimdb\\\\train\\\\pos\\\\10516_7.txt',\n",
       " 'data\\\\aclimdb\\\\train\\\\pos\\\\10517_8.txt',\n",
       " 'data\\\\aclimdb\\\\train\\\\pos\\\\10518_9.txt',\n",
       " 'data\\\\aclimdb\\\\train\\\\pos\\\\10519_9.txt',\n",
       " 'data\\\\aclimdb\\\\train\\\\pos\\\\1051_9.txt',\n",
       " 'data\\\\aclimdb\\\\train\\\\pos\\\\10520_9.txt',\n",
       " 'data\\\\aclimdb\\\\train\\\\pos\\\\10521_9.txt',\n",
       " 'data\\\\aclimdb\\\\train\\\\pos\\\\10522_7.txt',\n",
       " 'data\\\\aclimdb\\\\train\\\\pos\\\\10523_9.txt',\n",
       " 'data\\\\aclimdb\\\\train\\\\pos\\\\10524_10.txt',\n",
       " 'data\\\\aclimdb\\\\train\\\\pos\\\\10525_10.txt',\n",
       " 'data\\\\aclimdb\\\\train\\\\pos\\\\10526_9.txt',\n",
       " 'data\\\\aclimdb\\\\train\\\\pos\\\\10527_10.txt',\n",
       " 'data\\\\aclimdb\\\\train\\\\pos\\\\10528_10.txt',\n",
       " 'data\\\\aclimdb\\\\train\\\\pos\\\\10529_10.txt',\n",
       " 'data\\\\aclimdb\\\\train\\\\pos\\\\1052_8.txt',\n",
       " 'data\\\\aclimdb\\\\train\\\\pos\\\\10530_10.txt',\n",
       " 'data\\\\aclimdb\\\\train\\\\pos\\\\10531_10.txt',\n",
       " 'data\\\\aclimdb\\\\train\\\\pos\\\\10532_8.txt',\n",
       " 'data\\\\aclimdb\\\\train\\\\pos\\\\10533_10.txt',\n",
       " 'data\\\\aclimdb\\\\train\\\\pos\\\\10534_7.txt',\n",
       " 'data\\\\aclimdb\\\\train\\\\pos\\\\10535_7.txt',\n",
       " 'data\\\\aclimdb\\\\train\\\\pos\\\\10536_10.txt',\n",
       " 'data\\\\aclimdb\\\\train\\\\pos\\\\10537_10.txt',\n",
       " 'data\\\\aclimdb\\\\train\\\\pos\\\\10538_8.txt',\n",
       " 'data\\\\aclimdb\\\\train\\\\pos\\\\10539_10.txt',\n",
       " 'data\\\\aclimdb\\\\train\\\\pos\\\\1053_8.txt',\n",
       " 'data\\\\aclimdb\\\\train\\\\pos\\\\10540_10.txt',\n",
       " 'data\\\\aclimdb\\\\train\\\\pos\\\\10541_10.txt',\n",
       " 'data\\\\aclimdb\\\\train\\\\pos\\\\10542_7.txt',\n",
       " 'data\\\\aclimdb\\\\train\\\\pos\\\\10543_8.txt',\n",
       " 'data\\\\aclimdb\\\\train\\\\pos\\\\10544_8.txt',\n",
       " 'data\\\\aclimdb\\\\train\\\\pos\\\\10545_7.txt',\n",
       " 'data\\\\aclimdb\\\\train\\\\pos\\\\10546_9.txt',\n",
       " 'data\\\\aclimdb\\\\train\\\\pos\\\\10547_9.txt',\n",
       " 'data\\\\aclimdb\\\\train\\\\pos\\\\10548_7.txt',\n",
       " 'data\\\\aclimdb\\\\train\\\\pos\\\\10549_9.txt',\n",
       " 'data\\\\aclimdb\\\\train\\\\pos\\\\1054_8.txt',\n",
       " 'data\\\\aclimdb\\\\train\\\\pos\\\\10550_8.txt',\n",
       " 'data\\\\aclimdb\\\\train\\\\pos\\\\10551_7.txt',\n",
       " 'data\\\\aclimdb\\\\train\\\\pos\\\\10552_9.txt',\n",
       " 'data\\\\aclimdb\\\\train\\\\pos\\\\10553_8.txt',\n",
       " 'data\\\\aclimdb\\\\train\\\\pos\\\\10554_7.txt',\n",
       " 'data\\\\aclimdb\\\\train\\\\pos\\\\10555_8.txt',\n",
       " 'data\\\\aclimdb\\\\train\\\\pos\\\\10556_10.txt',\n",
       " 'data\\\\aclimdb\\\\train\\\\pos\\\\10557_9.txt',\n",
       " 'data\\\\aclimdb\\\\train\\\\pos\\\\10558_10.txt',\n",
       " 'data\\\\aclimdb\\\\train\\\\pos\\\\10559_8.txt',\n",
       " 'data\\\\aclimdb\\\\train\\\\pos\\\\1055_10.txt',\n",
       " 'data\\\\aclimdb\\\\train\\\\pos\\\\10560_9.txt',\n",
       " 'data\\\\aclimdb\\\\train\\\\pos\\\\10561_8.txt',\n",
       " 'data\\\\aclimdb\\\\train\\\\pos\\\\10562_9.txt',\n",
       " 'data\\\\aclimdb\\\\train\\\\pos\\\\10563_7.txt',\n",
       " 'data\\\\aclimdb\\\\train\\\\pos\\\\10564_10.txt',\n",
       " 'data\\\\aclimdb\\\\train\\\\pos\\\\10565_9.txt',\n",
       " 'data\\\\aclimdb\\\\train\\\\pos\\\\10566_8.txt',\n",
       " 'data\\\\aclimdb\\\\train\\\\pos\\\\10567_9.txt',\n",
       " 'data\\\\aclimdb\\\\train\\\\pos\\\\10568_10.txt',\n",
       " 'data\\\\aclimdb\\\\train\\\\pos\\\\10569_10.txt',\n",
       " 'data\\\\aclimdb\\\\train\\\\pos\\\\1056_10.txt',\n",
       " 'data\\\\aclimdb\\\\train\\\\pos\\\\10570_8.txt',\n",
       " 'data\\\\aclimdb\\\\train\\\\pos\\\\10571_8.txt',\n",
       " 'data\\\\aclimdb\\\\train\\\\pos\\\\10572_8.txt',\n",
       " 'data\\\\aclimdb\\\\train\\\\pos\\\\10573_10.txt',\n",
       " 'data\\\\aclimdb\\\\train\\\\pos\\\\10574_10.txt',\n",
       " 'data\\\\aclimdb\\\\train\\\\pos\\\\10575_9.txt',\n",
       " 'data\\\\aclimdb\\\\train\\\\pos\\\\10576_7.txt',\n",
       " 'data\\\\aclimdb\\\\train\\\\pos\\\\10577_10.txt',\n",
       " 'data\\\\aclimdb\\\\train\\\\pos\\\\10578_7.txt',\n",
       " 'data\\\\aclimdb\\\\train\\\\pos\\\\10579_10.txt',\n",
       " 'data\\\\aclimdb\\\\train\\\\pos\\\\1057_9.txt',\n",
       " 'data\\\\aclimdb\\\\train\\\\pos\\\\10580_8.txt',\n",
       " 'data\\\\aclimdb\\\\train\\\\pos\\\\10581_10.txt',\n",
       " 'data\\\\aclimdb\\\\train\\\\pos\\\\10582_10.txt',\n",
       " 'data\\\\aclimdb\\\\train\\\\pos\\\\10583_10.txt',\n",
       " 'data\\\\aclimdb\\\\train\\\\pos\\\\10584_10.txt',\n",
       " 'data\\\\aclimdb\\\\train\\\\pos\\\\10585_9.txt',\n",
       " 'data\\\\aclimdb\\\\train\\\\pos\\\\10586_10.txt',\n",
       " 'data\\\\aclimdb\\\\train\\\\pos\\\\10587_8.txt',\n",
       " 'data\\\\aclimdb\\\\train\\\\pos\\\\10588_10.txt',\n",
       " 'data\\\\aclimdb\\\\train\\\\pos\\\\10589_10.txt',\n",
       " 'data\\\\aclimdb\\\\train\\\\pos\\\\1058_10.txt',\n",
       " 'data\\\\aclimdb\\\\train\\\\pos\\\\10590_8.txt',\n",
       " 'data\\\\aclimdb\\\\train\\\\pos\\\\10591_10.txt',\n",
       " 'data\\\\aclimdb\\\\train\\\\pos\\\\10592_8.txt',\n",
       " 'data\\\\aclimdb\\\\train\\\\pos\\\\10593_8.txt',\n",
       " 'data\\\\aclimdb\\\\train\\\\pos\\\\10594_8.txt',\n",
       " 'data\\\\aclimdb\\\\train\\\\pos\\\\10595_10.txt',\n",
       " 'data\\\\aclimdb\\\\train\\\\pos\\\\10596_8.txt',\n",
       " 'data\\\\aclimdb\\\\train\\\\pos\\\\10597_9.txt',\n",
       " 'data\\\\aclimdb\\\\train\\\\pos\\\\10598_8.txt',\n",
       " 'data\\\\aclimdb\\\\train\\\\pos\\\\10599_8.txt',\n",
       " 'data\\\\aclimdb\\\\train\\\\pos\\\\1059_10.txt',\n",
       " 'data\\\\aclimdb\\\\train\\\\pos\\\\105_7.txt',\n",
       " 'data\\\\aclimdb\\\\train\\\\pos\\\\10600_9.txt',\n",
       " 'data\\\\aclimdb\\\\train\\\\pos\\\\10601_10.txt',\n",
       " 'data\\\\aclimdb\\\\train\\\\pos\\\\10602_10.txt',\n",
       " 'data\\\\aclimdb\\\\train\\\\pos\\\\10603_10.txt',\n",
       " 'data\\\\aclimdb\\\\train\\\\pos\\\\10604_7.txt',\n",
       " 'data\\\\aclimdb\\\\train\\\\pos\\\\10605_7.txt',\n",
       " 'data\\\\aclimdb\\\\train\\\\pos\\\\10606_10.txt',\n",
       " 'data\\\\aclimdb\\\\train\\\\pos\\\\10607_10.txt',\n",
       " 'data\\\\aclimdb\\\\train\\\\pos\\\\10608_10.txt',\n",
       " 'data\\\\aclimdb\\\\train\\\\pos\\\\10609_10.txt',\n",
       " 'data\\\\aclimdb\\\\train\\\\pos\\\\1060_10.txt',\n",
       " 'data\\\\aclimdb\\\\train\\\\pos\\\\10610_8.txt',\n",
       " 'data\\\\aclimdb\\\\train\\\\pos\\\\10611_8.txt',\n",
       " 'data\\\\aclimdb\\\\train\\\\pos\\\\10612_7.txt',\n",
       " 'data\\\\aclimdb\\\\train\\\\pos\\\\10613_8.txt',\n",
       " 'data\\\\aclimdb\\\\train\\\\pos\\\\10614_7.txt',\n",
       " 'data\\\\aclimdb\\\\train\\\\pos\\\\10615_8.txt',\n",
       " 'data\\\\aclimdb\\\\train\\\\pos\\\\10616_7.txt',\n",
       " 'data\\\\aclimdb\\\\train\\\\pos\\\\10617_8.txt',\n",
       " 'data\\\\aclimdb\\\\train\\\\pos\\\\10618_8.txt',\n",
       " 'data\\\\aclimdb\\\\train\\\\pos\\\\10619_8.txt',\n",
       " 'data\\\\aclimdb\\\\train\\\\pos\\\\1061_10.txt',\n",
       " 'data\\\\aclimdb\\\\train\\\\pos\\\\10620_10.txt',\n",
       " 'data\\\\aclimdb\\\\train\\\\pos\\\\10621_10.txt',\n",
       " 'data\\\\aclimdb\\\\train\\\\pos\\\\10622_10.txt',\n",
       " 'data\\\\aclimdb\\\\train\\\\pos\\\\10623_8.txt',\n",
       " 'data\\\\aclimdb\\\\train\\\\pos\\\\10624_7.txt',\n",
       " 'data\\\\aclimdb\\\\train\\\\pos\\\\10625_7.txt',\n",
       " 'data\\\\aclimdb\\\\train\\\\pos\\\\10626_7.txt',\n",
       " 'data\\\\aclimdb\\\\train\\\\pos\\\\10627_10.txt',\n",
       " 'data\\\\aclimdb\\\\train\\\\pos\\\\10628_7.txt',\n",
       " 'data\\\\aclimdb\\\\train\\\\pos\\\\10629_10.txt',\n",
       " 'data\\\\aclimdb\\\\train\\\\pos\\\\1062_10.txt',\n",
       " 'data\\\\aclimdb\\\\train\\\\pos\\\\10630_8.txt',\n",
       " 'data\\\\aclimdb\\\\train\\\\pos\\\\10631_8.txt',\n",
       " 'data\\\\aclimdb\\\\train\\\\pos\\\\10632_10.txt',\n",
       " 'data\\\\aclimdb\\\\train\\\\pos\\\\10633_9.txt',\n",
       " 'data\\\\aclimdb\\\\train\\\\pos\\\\10634_10.txt',\n",
       " 'data\\\\aclimdb\\\\train\\\\pos\\\\10635_8.txt',\n",
       " 'data\\\\aclimdb\\\\train\\\\pos\\\\10636_8.txt',\n",
       " 'data\\\\aclimdb\\\\train\\\\pos\\\\10637_10.txt',\n",
       " 'data\\\\aclimdb\\\\train\\\\pos\\\\10638_8.txt',\n",
       " 'data\\\\aclimdb\\\\train\\\\pos\\\\10639_7.txt',\n",
       " 'data\\\\aclimdb\\\\train\\\\pos\\\\1063_10.txt',\n",
       " 'data\\\\aclimdb\\\\train\\\\pos\\\\10640_8.txt',\n",
       " 'data\\\\aclimdb\\\\train\\\\pos\\\\10641_7.txt',\n",
       " 'data\\\\aclimdb\\\\train\\\\pos\\\\10642_8.txt',\n",
       " 'data\\\\aclimdb\\\\train\\\\pos\\\\10643_8.txt',\n",
       " 'data\\\\aclimdb\\\\train\\\\pos\\\\10644_8.txt',\n",
       " 'data\\\\aclimdb\\\\train\\\\pos\\\\10645_8.txt',\n",
       " 'data\\\\aclimdb\\\\train\\\\pos\\\\10646_8.txt',\n",
       " 'data\\\\aclimdb\\\\train\\\\pos\\\\10647_8.txt',\n",
       " 'data\\\\aclimdb\\\\train\\\\pos\\\\10648_8.txt',\n",
       " 'data\\\\aclimdb\\\\train\\\\pos\\\\10649_7.txt',\n",
       " 'data\\\\aclimdb\\\\train\\\\pos\\\\1064_10.txt',\n",
       " 'data\\\\aclimdb\\\\train\\\\pos\\\\10650_8.txt',\n",
       " 'data\\\\aclimdb\\\\train\\\\pos\\\\10651_7.txt',\n",
       " 'data\\\\aclimdb\\\\train\\\\pos\\\\10652_9.txt',\n",
       " 'data\\\\aclimdb\\\\train\\\\pos\\\\10653_10.txt',\n",
       " 'data\\\\aclimdb\\\\train\\\\pos\\\\10654_7.txt',\n",
       " 'data\\\\aclimdb\\\\train\\\\pos\\\\10655_9.txt',\n",
       " 'data\\\\aclimdb\\\\train\\\\pos\\\\10656_7.txt',\n",
       " 'data\\\\aclimdb\\\\train\\\\pos\\\\10657_8.txt',\n",
       " 'data\\\\aclimdb\\\\train\\\\pos\\\\10658_10.txt',\n",
       " 'data\\\\aclimdb\\\\train\\\\pos\\\\10659_8.txt',\n",
       " 'data\\\\aclimdb\\\\train\\\\pos\\\\1065_10.txt',\n",
       " 'data\\\\aclimdb\\\\train\\\\pos\\\\10660_10.txt',\n",
       " 'data\\\\aclimdb\\\\train\\\\pos\\\\10661_9.txt',\n",
       " 'data\\\\aclimdb\\\\train\\\\pos\\\\10662_7.txt',\n",
       " 'data\\\\aclimdb\\\\train\\\\pos\\\\10663_8.txt',\n",
       " 'data\\\\aclimdb\\\\train\\\\pos\\\\10664_8.txt',\n",
       " 'data\\\\aclimdb\\\\train\\\\pos\\\\10665_8.txt',\n",
       " 'data\\\\aclimdb\\\\train\\\\pos\\\\10666_8.txt',\n",
       " 'data\\\\aclimdb\\\\train\\\\pos\\\\10667_8.txt',\n",
       " 'data\\\\aclimdb\\\\train\\\\pos\\\\10668_7.txt',\n",
       " 'data\\\\aclimdb\\\\train\\\\pos\\\\10669_10.txt',\n",
       " 'data\\\\aclimdb\\\\train\\\\pos\\\\1066_10.txt',\n",
       " 'data\\\\aclimdb\\\\train\\\\pos\\\\10670_10.txt',\n",
       " 'data\\\\aclimdb\\\\train\\\\pos\\\\10671_10.txt',\n",
       " 'data\\\\aclimdb\\\\train\\\\pos\\\\10672_9.txt',\n",
       " 'data\\\\aclimdb\\\\train\\\\pos\\\\10673_10.txt',\n",
       " 'data\\\\aclimdb\\\\train\\\\pos\\\\10674_8.txt',\n",
       " 'data\\\\aclimdb\\\\train\\\\pos\\\\10675_8.txt',\n",
       " 'data\\\\aclimdb\\\\train\\\\pos\\\\10676_9.txt',\n",
       " 'data\\\\aclimdb\\\\train\\\\pos\\\\10677_8.txt',\n",
       " 'data\\\\aclimdb\\\\train\\\\pos\\\\10678_9.txt',\n",
       " 'data\\\\aclimdb\\\\train\\\\pos\\\\10679_10.txt',\n",
       " 'data\\\\aclimdb\\\\train\\\\pos\\\\1067_7.txt',\n",
       " 'data\\\\aclimdb\\\\train\\\\pos\\\\10680_8.txt',\n",
       " 'data\\\\aclimdb\\\\train\\\\pos\\\\10681_10.txt',\n",
       " 'data\\\\aclimdb\\\\train\\\\pos\\\\10682_10.txt',\n",
       " 'data\\\\aclimdb\\\\train\\\\pos\\\\10683_7.txt',\n",
       " 'data\\\\aclimdb\\\\train\\\\pos\\\\10684_9.txt',\n",
       " 'data\\\\aclimdb\\\\train\\\\pos\\\\10685_7.txt',\n",
       " 'data\\\\aclimdb\\\\train\\\\pos\\\\10686_8.txt',\n",
       " 'data\\\\aclimdb\\\\train\\\\pos\\\\10687_10.txt',\n",
       " 'data\\\\aclimdb\\\\train\\\\pos\\\\10688_9.txt',\n",
       " 'data\\\\aclimdb\\\\train\\\\pos\\\\10689_8.txt',\n",
       " 'data\\\\aclimdb\\\\train\\\\pos\\\\1068_10.txt',\n",
       " 'data\\\\aclimdb\\\\train\\\\pos\\\\10690_10.txt',\n",
       " 'data\\\\aclimdb\\\\train\\\\pos\\\\10691_7.txt',\n",
       " 'data\\\\aclimdb\\\\train\\\\pos\\\\10692_8.txt',\n",
       " 'data\\\\aclimdb\\\\train\\\\pos\\\\10693_8.txt',\n",
       " 'data\\\\aclimdb\\\\train\\\\pos\\\\10694_7.txt',\n",
       " 'data\\\\aclimdb\\\\train\\\\pos\\\\10695_8.txt',\n",
       " 'data\\\\aclimdb\\\\train\\\\pos\\\\10696_7.txt',\n",
       " 'data\\\\aclimdb\\\\train\\\\pos\\\\10697_8.txt',\n",
       " 'data\\\\aclimdb\\\\train\\\\pos\\\\10698_9.txt',\n",
       " 'data\\\\aclimdb\\\\train\\\\pos\\\\10699_9.txt',\n",
       " 'data\\\\aclimdb\\\\train\\\\pos\\\\1069_10.txt',\n",
       " 'data\\\\aclimdb\\\\train\\\\pos\\\\106_10.txt',\n",
       " 'data\\\\aclimdb\\\\train\\\\pos\\\\10700_8.txt',\n",
       " 'data\\\\aclimdb\\\\train\\\\pos\\\\10701_10.txt',\n",
       " 'data\\\\aclimdb\\\\train\\\\pos\\\\10702_10.txt',\n",
       " 'data\\\\aclimdb\\\\train\\\\pos\\\\10703_7.txt',\n",
       " 'data\\\\aclimdb\\\\train\\\\pos\\\\10704_10.txt',\n",
       " 'data\\\\aclimdb\\\\train\\\\pos\\\\10705_7.txt',\n",
       " 'data\\\\aclimdb\\\\train\\\\pos\\\\10706_7.txt',\n",
       " 'data\\\\aclimdb\\\\train\\\\pos\\\\10707_8.txt',\n",
       " 'data\\\\aclimdb\\\\train\\\\pos\\\\10708_8.txt',\n",
       " 'data\\\\aclimdb\\\\train\\\\pos\\\\10709_10.txt',\n",
       " 'data\\\\aclimdb\\\\train\\\\pos\\\\1070_8.txt',\n",
       " 'data\\\\aclimdb\\\\train\\\\pos\\\\10710_9.txt',\n",
       " 'data\\\\aclimdb\\\\train\\\\pos\\\\10711_10.txt',\n",
       " 'data\\\\aclimdb\\\\train\\\\pos\\\\10712_8.txt',\n",
       " 'data\\\\aclimdb\\\\train\\\\pos\\\\10713_9.txt',\n",
       " 'data\\\\aclimdb\\\\train\\\\pos\\\\10714_8.txt',\n",
       " 'data\\\\aclimdb\\\\train\\\\pos\\\\10715_8.txt',\n",
       " 'data\\\\aclimdb\\\\train\\\\pos\\\\10716_7.txt',\n",
       " 'data\\\\aclimdb\\\\train\\\\pos\\\\10717_10.txt',\n",
       " 'data\\\\aclimdb\\\\train\\\\pos\\\\10718_10.txt',\n",
       " 'data\\\\aclimdb\\\\train\\\\pos\\\\10719_10.txt',\n",
       " 'data\\\\aclimdb\\\\train\\\\pos\\\\1071_8.txt',\n",
       " 'data\\\\aclimdb\\\\train\\\\pos\\\\10720_9.txt',\n",
       " 'data\\\\aclimdb\\\\train\\\\pos\\\\10721_9.txt',\n",
       " 'data\\\\aclimdb\\\\train\\\\pos\\\\10722_10.txt',\n",
       " 'data\\\\aclimdb\\\\train\\\\pos\\\\10723_8.txt',\n",
       " 'data\\\\aclimdb\\\\train\\\\pos\\\\10724_8.txt',\n",
       " 'data\\\\aclimdb\\\\train\\\\pos\\\\10725_9.txt',\n",
       " 'data\\\\aclimdb\\\\train\\\\pos\\\\10726_7.txt',\n",
       " 'data\\\\aclimdb\\\\train\\\\pos\\\\10727_7.txt',\n",
       " 'data\\\\aclimdb\\\\train\\\\pos\\\\10728_10.txt',\n",
       " 'data\\\\aclimdb\\\\train\\\\pos\\\\10729_8.txt',\n",
       " 'data\\\\aclimdb\\\\train\\\\pos\\\\1072_10.txt',\n",
       " 'data\\\\aclimdb\\\\train\\\\pos\\\\10730_10.txt',\n",
       " 'data\\\\aclimdb\\\\train\\\\pos\\\\10731_7.txt',\n",
       " 'data\\\\aclimdb\\\\train\\\\pos\\\\10732_8.txt',\n",
       " 'data\\\\aclimdb\\\\train\\\\pos\\\\10733_7.txt',\n",
       " 'data\\\\aclimdb\\\\train\\\\pos\\\\10734_10.txt',\n",
       " 'data\\\\aclimdb\\\\train\\\\pos\\\\10735_10.txt',\n",
       " 'data\\\\aclimdb\\\\train\\\\pos\\\\10736_10.txt',\n",
       " 'data\\\\aclimdb\\\\train\\\\pos\\\\10737_10.txt',\n",
       " 'data\\\\aclimdb\\\\train\\\\pos\\\\10738_9.txt',\n",
       " 'data\\\\aclimdb\\\\train\\\\pos\\\\10739_10.txt',\n",
       " 'data\\\\aclimdb\\\\train\\\\pos\\\\1073_9.txt',\n",
       " 'data\\\\aclimdb\\\\train\\\\pos\\\\10740_8.txt',\n",
       " 'data\\\\aclimdb\\\\train\\\\pos\\\\10741_10.txt',\n",
       " 'data\\\\aclimdb\\\\train\\\\pos\\\\10742_9.txt',\n",
       " 'data\\\\aclimdb\\\\train\\\\pos\\\\10743_9.txt',\n",
       " 'data\\\\aclimdb\\\\train\\\\pos\\\\10744_8.txt',\n",
       " 'data\\\\aclimdb\\\\train\\\\pos\\\\10745_10.txt',\n",
       " 'data\\\\aclimdb\\\\train\\\\pos\\\\10746_10.txt',\n",
       " 'data\\\\aclimdb\\\\train\\\\pos\\\\10747_10.txt',\n",
       " 'data\\\\aclimdb\\\\train\\\\pos\\\\10748_10.txt',\n",
       " 'data\\\\aclimdb\\\\train\\\\pos\\\\10749_8.txt',\n",
       " 'data\\\\aclimdb\\\\train\\\\pos\\\\1074_10.txt',\n",
       " 'data\\\\aclimdb\\\\train\\\\pos\\\\10750_8.txt',\n",
       " 'data\\\\aclimdb\\\\train\\\\pos\\\\10751_10.txt',\n",
       " 'data\\\\aclimdb\\\\train\\\\pos\\\\10752_10.txt',\n",
       " 'data\\\\aclimdb\\\\train\\\\pos\\\\10753_10.txt',\n",
       " 'data\\\\aclimdb\\\\train\\\\pos\\\\10754_10.txt',\n",
       " 'data\\\\aclimdb\\\\train\\\\pos\\\\10755_10.txt',\n",
       " 'data\\\\aclimdb\\\\train\\\\pos\\\\10756_8.txt',\n",
       " 'data\\\\aclimdb\\\\train\\\\pos\\\\10757_10.txt',\n",
       " 'data\\\\aclimdb\\\\train\\\\pos\\\\10758_8.txt',\n",
       " 'data\\\\aclimdb\\\\train\\\\pos\\\\10759_9.txt',\n",
       " 'data\\\\aclimdb\\\\train\\\\pos\\\\1075_10.txt',\n",
       " 'data\\\\aclimdb\\\\train\\\\pos\\\\10760_8.txt',\n",
       " 'data\\\\aclimdb\\\\train\\\\pos\\\\10761_10.txt',\n",
       " 'data\\\\aclimdb\\\\train\\\\pos\\\\10762_10.txt',\n",
       " 'data\\\\aclimdb\\\\train\\\\pos\\\\10763_8.txt',\n",
       " 'data\\\\aclimdb\\\\train\\\\pos\\\\10764_9.txt',\n",
       " 'data\\\\aclimdb\\\\train\\\\pos\\\\10765_10.txt',\n",
       " 'data\\\\aclimdb\\\\train\\\\pos\\\\10766_7.txt',\n",
       " 'data\\\\aclimdb\\\\train\\\\pos\\\\10767_10.txt',\n",
       " 'data\\\\aclimdb\\\\train\\\\pos\\\\10768_7.txt',\n",
       " 'data\\\\aclimdb\\\\train\\\\pos\\\\10769_10.txt',\n",
       " 'data\\\\aclimdb\\\\train\\\\pos\\\\1076_8.txt',\n",
       " 'data\\\\aclimdb\\\\train\\\\pos\\\\10770_7.txt',\n",
       " 'data\\\\aclimdb\\\\train\\\\pos\\\\10771_10.txt',\n",
       " 'data\\\\aclimdb\\\\train\\\\pos\\\\10772_10.txt',\n",
       " 'data\\\\aclimdb\\\\train\\\\pos\\\\10773_9.txt',\n",
       " 'data\\\\aclimdb\\\\train\\\\pos\\\\10774_8.txt',\n",
       " 'data\\\\aclimdb\\\\train\\\\pos\\\\10775_8.txt',\n",
       " 'data\\\\aclimdb\\\\train\\\\pos\\\\10776_8.txt',\n",
       " 'data\\\\aclimdb\\\\train\\\\pos\\\\10777_9.txt',\n",
       " 'data\\\\aclimdb\\\\train\\\\pos\\\\10778_8.txt',\n",
       " 'data\\\\aclimdb\\\\train\\\\pos\\\\10779_10.txt',\n",
       " 'data\\\\aclimdb\\\\train\\\\pos\\\\1077_8.txt',\n",
       " 'data\\\\aclimdb\\\\train\\\\pos\\\\10780_10.txt',\n",
       " 'data\\\\aclimdb\\\\train\\\\pos\\\\10781_10.txt',\n",
       " 'data\\\\aclimdb\\\\train\\\\pos\\\\10782_7.txt',\n",
       " 'data\\\\aclimdb\\\\train\\\\pos\\\\10783_10.txt',\n",
       " 'data\\\\aclimdb\\\\train\\\\pos\\\\10784_10.txt',\n",
       " 'data\\\\aclimdb\\\\train\\\\pos\\\\10785_10.txt',\n",
       " 'data\\\\aclimdb\\\\train\\\\pos\\\\10786_10.txt',\n",
       " 'data\\\\aclimdb\\\\train\\\\pos\\\\10787_10.txt',\n",
       " 'data\\\\aclimdb\\\\train\\\\pos\\\\10788_10.txt',\n",
       " 'data\\\\aclimdb\\\\train\\\\pos\\\\10789_10.txt',\n",
       " 'data\\\\aclimdb\\\\train\\\\pos\\\\1078_8.txt',\n",
       " 'data\\\\aclimdb\\\\train\\\\pos\\\\10790_8.txt',\n",
       " 'data\\\\aclimdb\\\\train\\\\pos\\\\10791_9.txt',\n",
       " 'data\\\\aclimdb\\\\train\\\\pos\\\\10792_9.txt',\n",
       " 'data\\\\aclimdb\\\\train\\\\pos\\\\10793_10.txt',\n",
       " 'data\\\\aclimdb\\\\train\\\\pos\\\\10794_10.txt',\n",
       " 'data\\\\aclimdb\\\\train\\\\pos\\\\10795_7.txt',\n",
       " 'data\\\\aclimdb\\\\train\\\\pos\\\\10796_9.txt',\n",
       " 'data\\\\aclimdb\\\\train\\\\pos\\\\10797_8.txt',\n",
       " 'data\\\\aclimdb\\\\train\\\\pos\\\\10798_8.txt',\n",
       " 'data\\\\aclimdb\\\\train\\\\pos\\\\10799_7.txt',\n",
       " 'data\\\\aclimdb\\\\train\\\\pos\\\\1079_7.txt',\n",
       " 'data\\\\aclimdb\\\\train\\\\pos\\\\107_10.txt',\n",
       " 'data\\\\aclimdb\\\\train\\\\pos\\\\10800_8.txt',\n",
       " 'data\\\\aclimdb\\\\train\\\\pos\\\\10801_8.txt',\n",
       " 'data\\\\aclimdb\\\\train\\\\pos\\\\10802_8.txt',\n",
       " 'data\\\\aclimdb\\\\train\\\\pos\\\\10803_8.txt',\n",
       " 'data\\\\aclimdb\\\\train\\\\pos\\\\10804_10.txt',\n",
       " 'data\\\\aclimdb\\\\train\\\\pos\\\\10805_10.txt',\n",
       " 'data\\\\aclimdb\\\\train\\\\pos\\\\10806_9.txt',\n",
       " 'data\\\\aclimdb\\\\train\\\\pos\\\\10807_9.txt',\n",
       " 'data\\\\aclimdb\\\\train\\\\pos\\\\10808_10.txt',\n",
       " 'data\\\\aclimdb\\\\train\\\\pos\\\\10809_10.txt',\n",
       " 'data\\\\aclimdb\\\\train\\\\pos\\\\1080_9.txt',\n",
       " 'data\\\\aclimdb\\\\train\\\\pos\\\\10810_8.txt',\n",
       " 'data\\\\aclimdb\\\\train\\\\pos\\\\10811_7.txt',\n",
       " 'data\\\\aclimdb\\\\train\\\\pos\\\\10812_8.txt',\n",
       " 'data\\\\aclimdb\\\\train\\\\pos\\\\10813_10.txt',\n",
       " 'data\\\\aclimdb\\\\train\\\\pos\\\\10814_7.txt',\n",
       " 'data\\\\aclimdb\\\\train\\\\pos\\\\10815_10.txt',\n",
       " 'data\\\\aclimdb\\\\train\\\\pos\\\\10816_10.txt',\n",
       " 'data\\\\aclimdb\\\\train\\\\pos\\\\10817_10.txt',\n",
       " 'data\\\\aclimdb\\\\train\\\\pos\\\\10818_10.txt',\n",
       " 'data\\\\aclimdb\\\\train\\\\pos\\\\10819_10.txt',\n",
       " 'data\\\\aclimdb\\\\train\\\\pos\\\\1081_10.txt',\n",
       " 'data\\\\aclimdb\\\\train\\\\pos\\\\10820_10.txt',\n",
       " 'data\\\\aclimdb\\\\train\\\\pos\\\\10821_8.txt',\n",
       " 'data\\\\aclimdb\\\\train\\\\pos\\\\10822_10.txt',\n",
       " 'data\\\\aclimdb\\\\train\\\\pos\\\\10823_8.txt',\n",
       " 'data\\\\aclimdb\\\\train\\\\pos\\\\10824_10.txt',\n",
       " 'data\\\\aclimdb\\\\train\\\\pos\\\\10825_9.txt',\n",
       " 'data\\\\aclimdb\\\\train\\\\pos\\\\10826_10.txt',\n",
       " 'data\\\\aclimdb\\\\train\\\\pos\\\\10827_10.txt',\n",
       " 'data\\\\aclimdb\\\\train\\\\pos\\\\10828_10.txt',\n",
       " 'data\\\\aclimdb\\\\train\\\\pos\\\\10829_10.txt',\n",
       " 'data\\\\aclimdb\\\\train\\\\pos\\\\1082_10.txt',\n",
       " 'data\\\\aclimdb\\\\train\\\\pos\\\\10830_10.txt',\n",
       " 'data\\\\aclimdb\\\\train\\\\pos\\\\10831_7.txt',\n",
       " 'data\\\\aclimdb\\\\train\\\\pos\\\\10832_10.txt',\n",
       " 'data\\\\aclimdb\\\\train\\\\pos\\\\10833_10.txt',\n",
       " 'data\\\\aclimdb\\\\train\\\\pos\\\\10834_7.txt',\n",
       " 'data\\\\aclimdb\\\\train\\\\pos\\\\10835_10.txt',\n",
       " 'data\\\\aclimdb\\\\train\\\\pos\\\\10836_10.txt',\n",
       " 'data\\\\aclimdb\\\\train\\\\pos\\\\10837_10.txt',\n",
       " 'data\\\\aclimdb\\\\train\\\\pos\\\\10838_10.txt',\n",
       " 'data\\\\aclimdb\\\\train\\\\pos\\\\10839_10.txt',\n",
       " 'data\\\\aclimdb\\\\train\\\\pos\\\\1083_10.txt',\n",
       " 'data\\\\aclimdb\\\\train\\\\pos\\\\10840_9.txt',\n",
       " 'data\\\\aclimdb\\\\train\\\\pos\\\\10841_10.txt',\n",
       " 'data\\\\aclimdb\\\\train\\\\pos\\\\10842_7.txt',\n",
       " 'data\\\\aclimdb\\\\train\\\\pos\\\\10843_7.txt',\n",
       " 'data\\\\aclimdb\\\\train\\\\pos\\\\10844_9.txt',\n",
       " 'data\\\\aclimdb\\\\train\\\\pos\\\\10845_10.txt',\n",
       " 'data\\\\aclimdb\\\\train\\\\pos\\\\10846_9.txt',\n",
       " 'data\\\\aclimdb\\\\train\\\\pos\\\\10847_10.txt',\n",
       " 'data\\\\aclimdb\\\\train\\\\pos\\\\10848_10.txt',\n",
       " 'data\\\\aclimdb\\\\train\\\\pos\\\\10849_10.txt',\n",
       " 'data\\\\aclimdb\\\\train\\\\pos\\\\1084_9.txt',\n",
       " 'data\\\\aclimdb\\\\train\\\\pos\\\\10850_10.txt',\n",
       " 'data\\\\aclimdb\\\\train\\\\pos\\\\10851_9.txt',\n",
       " 'data\\\\aclimdb\\\\train\\\\pos\\\\10852_10.txt',\n",
       " 'data\\\\aclimdb\\\\train\\\\pos\\\\10853_10.txt',\n",
       " 'data\\\\aclimdb\\\\train\\\\pos\\\\10854_10.txt',\n",
       " 'data\\\\aclimdb\\\\train\\\\pos\\\\10855_9.txt',\n",
       " 'data\\\\aclimdb\\\\train\\\\pos\\\\10856_8.txt',\n",
       " 'data\\\\aclimdb\\\\train\\\\pos\\\\10857_8.txt',\n",
       " 'data\\\\aclimdb\\\\train\\\\pos\\\\10858_8.txt',\n",
       " 'data\\\\aclimdb\\\\train\\\\pos\\\\10859_7.txt',\n",
       " 'data\\\\aclimdb\\\\train\\\\pos\\\\1085_7.txt',\n",
       " 'data\\\\aclimdb\\\\train\\\\pos\\\\10860_7.txt',\n",
       " 'data\\\\aclimdb\\\\train\\\\pos\\\\10861_7.txt',\n",
       " 'data\\\\aclimdb\\\\train\\\\pos\\\\10862_9.txt',\n",
       " 'data\\\\aclimdb\\\\train\\\\pos\\\\10863_8.txt',\n",
       " 'data\\\\aclimdb\\\\train\\\\pos\\\\10864_8.txt',\n",
       " 'data\\\\aclimdb\\\\train\\\\pos\\\\10865_7.txt',\n",
       " 'data\\\\aclimdb\\\\train\\\\pos\\\\10866_7.txt',\n",
       " 'data\\\\aclimdb\\\\train\\\\pos\\\\10867_7.txt',\n",
       " 'data\\\\aclimdb\\\\train\\\\pos\\\\10868_8.txt',\n",
       " 'data\\\\aclimdb\\\\train\\\\pos\\\\10869_7.txt',\n",
       " 'data\\\\aclimdb\\\\train\\\\pos\\\\1086_7.txt',\n",
       " 'data\\\\aclimdb\\\\train\\\\pos\\\\10870_8.txt',\n",
       " 'data\\\\aclimdb\\\\train\\\\pos\\\\10871_7.txt',\n",
       " 'data\\\\aclimdb\\\\train\\\\pos\\\\10872_7.txt',\n",
       " 'data\\\\aclimdb\\\\train\\\\pos\\\\10873_8.txt',\n",
       " 'data\\\\aclimdb\\\\train\\\\pos\\\\10874_10.txt',\n",
       " 'data\\\\aclimdb\\\\train\\\\pos\\\\10875_8.txt',\n",
       " 'data\\\\aclimdb\\\\train\\\\pos\\\\10876_7.txt',\n",
       " 'data\\\\aclimdb\\\\train\\\\pos\\\\10877_10.txt',\n",
       " 'data\\\\aclimdb\\\\train\\\\pos\\\\10878_7.txt',\n",
       " 'data\\\\aclimdb\\\\train\\\\pos\\\\10879_10.txt',\n",
       " 'data\\\\aclimdb\\\\train\\\\pos\\\\1087_10.txt',\n",
       " 'data\\\\aclimdb\\\\train\\\\pos\\\\10880_8.txt',\n",
       " 'data\\\\aclimdb\\\\train\\\\pos\\\\10881_7.txt',\n",
       " 'data\\\\aclimdb\\\\train\\\\pos\\\\10882_8.txt',\n",
       " 'data\\\\aclimdb\\\\train\\\\pos\\\\10883_7.txt',\n",
       " 'data\\\\aclimdb\\\\train\\\\pos\\\\10884_8.txt',\n",
       " 'data\\\\aclimdb\\\\train\\\\pos\\\\10885_7.txt',\n",
       " 'data\\\\aclimdb\\\\train\\\\pos\\\\10886_10.txt',\n",
       " 'data\\\\aclimdb\\\\train\\\\pos\\\\10887_7.txt',\n",
       " 'data\\\\aclimdb\\\\train\\\\pos\\\\10888_8.txt',\n",
       " 'data\\\\aclimdb\\\\train\\\\pos\\\\10889_10.txt',\n",
       " 'data\\\\aclimdb\\\\train\\\\pos\\\\1088_9.txt',\n",
       " 'data\\\\aclimdb\\\\train\\\\pos\\\\10890_9.txt',\n",
       " 'data\\\\aclimdb\\\\train\\\\pos\\\\10891_7.txt',\n",
       " 'data\\\\aclimdb\\\\train\\\\pos\\\\10892_7.txt',\n",
       " 'data\\\\aclimdb\\\\train\\\\pos\\\\10893_8.txt',\n",
       " 'data\\\\aclimdb\\\\train\\\\pos\\\\10894_8.txt',\n",
       " 'data\\\\aclimdb\\\\train\\\\pos\\\\10895_7.txt',\n",
       " 'data\\\\aclimdb\\\\train\\\\pos\\\\10896_8.txt',\n",
       " 'data\\\\aclimdb\\\\train\\\\pos\\\\10897_9.txt',\n",
       " 'data\\\\aclimdb\\\\train\\\\pos\\\\10898_7.txt',\n",
       " 'data\\\\aclimdb\\\\train\\\\pos\\\\10899_10.txt',\n",
       " 'data\\\\aclimdb\\\\train\\\\pos\\\\1089_10.txt',\n",
       " 'data\\\\aclimdb\\\\train\\\\pos\\\\108_10.txt',\n",
       " ...]"
      ]
     },
     "execution_count": 43,
     "metadata": {},
     "output_type": "execute_result"
    }
   ],
   "source": [
    "glob.glob(\"data\\\\aclimdb\\\\train\\\\pos\\\\*.txt\")"
   ]
  },
  {
   "cell_type": "code",
   "execution_count": 44,
   "metadata": {
    "scrolled": true
   },
   "outputs": [],
   "source": [
    "pos_review=(glob.glob(\"data\\\\aclimdb\\\\train\\\\pos\\\\*.txt\"))[20]"
   ]
  },
  {
   "cell_type": "code",
   "execution_count": 45,
   "metadata": {},
   "outputs": [
    {
     "data": {
      "text/plain": [
       "'data\\\\aclimdb\\\\train\\\\pos\\\\10018_8.txt'"
      ]
     },
     "execution_count": 45,
     "metadata": {},
     "output_type": "execute_result"
    }
   ],
   "source": [
    "pos_review"
   ]
  },
  {
   "cell_type": "code",
   "execution_count": 46,
   "metadata": {},
   "outputs": [],
   "source": [
    "f = open(pos_review, 'r')\n",
    "lines1 = f.readlines()[0]\n",
    "f.close()"
   ]
  },
  {
   "cell_type": "code",
   "execution_count": 47,
   "metadata": {},
   "outputs": [],
   "source": [
    "afinn = Afinn()"
   ]
  },
  {
   "cell_type": "code",
   "execution_count": 48,
   "metadata": {},
   "outputs": [
    {
     "data": {
      "text/plain": [
       "8.0"
      ]
     },
     "execution_count": 48,
     "metadata": {},
     "output_type": "execute_result"
    }
   ],
   "source": [
    "afinn.score(lines1) # -15 ~ 20"
   ]
  },
  {
   "cell_type": "code",
   "execution_count": 51,
   "metadata": {},
   "outputs": [],
   "source": [
    "neg_review=(glob.glob(\"data\\\\aclimdb\\\\train\\\\neg\\\\*.txt\"))[20]"
   ]
  },
  {
   "cell_type": "code",
   "execution_count": 52,
   "metadata": {},
   "outputs": [],
   "source": [
    "f = open(neg_review, 'r')\n",
    "lines2 = f.readlines()[0]\n",
    "f.close()"
   ]
  },
  {
   "cell_type": "code",
   "execution_count": 53,
   "metadata": {},
   "outputs": [
    {
     "data": {
      "text/plain": [
       "-4.0"
      ]
     },
     "execution_count": 53,
     "metadata": {},
     "output_type": "execute_result"
    }
   ],
   "source": [
    "afinn.score(lines2)"
   ]
  },
  {
   "cell_type": "code",
   "execution_count": 54,
   "metadata": {},
   "outputs": [],
   "source": [
    "# 감성사전 - NRC"
   ]
  },
  {
   "cell_type": "code",
   "execution_count": 55,
   "metadata": {},
   "outputs": [
    {
     "data": {
      "text/html": [
       "<div>\n",
       "<style scoped>\n",
       "    .dataframe tbody tr th:only-of-type {\n",
       "        vertical-align: middle;\n",
       "    }\n",
       "\n",
       "    .dataframe tbody tr th {\n",
       "        vertical-align: top;\n",
       "    }\n",
       "\n",
       "    .dataframe thead th {\n",
       "        text-align: right;\n",
       "    }\n",
       "</style>\n",
       "<table border=\"1\" class=\"dataframe\">\n",
       "  <thead>\n",
       "    <tr style=\"text-align: right;\">\n",
       "      <th></th>\n",
       "      <th>0</th>\n",
       "      <th>1</th>\n",
       "      <th>2</th>\n",
       "    </tr>\n",
       "  </thead>\n",
       "  <tbody>\n",
       "    <tr>\n",
       "      <th>0</th>\n",
       "      <td>aback</td>\n",
       "      <td>anger</td>\n",
       "      <td>0</td>\n",
       "    </tr>\n",
       "    <tr>\n",
       "      <th>1</th>\n",
       "      <td>aback</td>\n",
       "      <td>anticipation</td>\n",
       "      <td>0</td>\n",
       "    </tr>\n",
       "    <tr>\n",
       "      <th>2</th>\n",
       "      <td>aback</td>\n",
       "      <td>disgust</td>\n",
       "      <td>0</td>\n",
       "    </tr>\n",
       "    <tr>\n",
       "      <th>3</th>\n",
       "      <td>aback</td>\n",
       "      <td>fear</td>\n",
       "      <td>0</td>\n",
       "    </tr>\n",
       "    <tr>\n",
       "      <th>4</th>\n",
       "      <td>aback</td>\n",
       "      <td>joy</td>\n",
       "      <td>0</td>\n",
       "    </tr>\n",
       "  </tbody>\n",
       "</table>\n",
       "</div>"
      ],
      "text/plain": [
       "       0             1  2\n",
       "0  aback         anger  0\n",
       "1  aback  anticipation  0\n",
       "2  aback       disgust  0\n",
       "3  aback          fear  0\n",
       "4  aback           joy  0"
      ]
     },
     "execution_count": 55,
     "metadata": {},
     "output_type": "execute_result"
    }
   ],
   "source": [
    "NRC=pd.read_csv('data\\\\nrc.txt',engine=\"python\",header=None,sep=\"\\t\")\n",
    "NRC.head()"
   ]
  },
  {
   "cell_type": "code",
   "execution_count": 56,
   "metadata": {},
   "outputs": [
    {
     "data": {
      "text/plain": [
       "anger           14182\n",
       "disgust         14182\n",
       "positive        14182\n",
       "anticipation    14182\n",
       "surprise        14182\n",
       "negative        14182\n",
       "fear            14182\n",
       "joy             14182\n",
       "sadness         14182\n",
       "trust           14182\n",
       "Name: 1, dtype: int64"
      ]
     },
     "execution_count": 56,
     "metadata": {},
     "output_type": "execute_result"
    }
   ],
   "source": [
    "NRC.iloc[:,1].value_counts()"
   ]
  },
  {
   "cell_type": "code",
   "execution_count": 57,
   "metadata": {},
   "outputs": [],
   "source": [
    "NRC = NRC[(NRC != 0).all(1)]"
   ]
  },
  {
   "cell_type": "code",
   "execution_count": 58,
   "metadata": {},
   "outputs": [
    {
     "data": {
      "text/html": [
       "<div>\n",
       "<style scoped>\n",
       "    .dataframe tbody tr th:only-of-type {\n",
       "        vertical-align: middle;\n",
       "    }\n",
       "\n",
       "    .dataframe tbody tr th {\n",
       "        vertical-align: top;\n",
       "    }\n",
       "\n",
       "    .dataframe thead th {\n",
       "        text-align: right;\n",
       "    }\n",
       "</style>\n",
       "<table border=\"1\" class=\"dataframe\">\n",
       "  <thead>\n",
       "    <tr style=\"text-align: right;\">\n",
       "      <th></th>\n",
       "      <th>0</th>\n",
       "      <th>1</th>\n",
       "      <th>2</th>\n",
       "    </tr>\n",
       "  </thead>\n",
       "  <tbody>\n",
       "    <tr>\n",
       "      <th>57871</th>\n",
       "      <td>happy</td>\n",
       "      <td>anticipation</td>\n",
       "      <td>1</td>\n",
       "    </tr>\n",
       "    <tr>\n",
       "      <th>57874</th>\n",
       "      <td>happy</td>\n",
       "      <td>joy</td>\n",
       "      <td>1</td>\n",
       "    </tr>\n",
       "    <tr>\n",
       "      <th>57876</th>\n",
       "      <td>happy</td>\n",
       "      <td>positive</td>\n",
       "      <td>1</td>\n",
       "    </tr>\n",
       "    <tr>\n",
       "      <th>57879</th>\n",
       "      <td>happy</td>\n",
       "      <td>trust</td>\n",
       "      <td>1</td>\n",
       "    </tr>\n",
       "  </tbody>\n",
       "</table>\n",
       "</div>"
      ],
      "text/plain": [
       "           0             1  2\n",
       "57871  happy  anticipation  1\n",
       "57874  happy           joy  1\n",
       "57876  happy      positive  1\n",
       "57879  happy         trust  1"
      ]
     },
     "execution_count": 58,
     "metadata": {},
     "output_type": "execute_result"
    }
   ],
   "source": [
    "NRC[NRC[0] == 'happy']"
   ]
  },
  {
   "cell_type": "code",
   "execution_count": 59,
   "metadata": {},
   "outputs": [
    {
     "data": {
      "text/html": [
       "<div>\n",
       "<style scoped>\n",
       "    .dataframe tbody tr th:only-of-type {\n",
       "        vertical-align: middle;\n",
       "    }\n",
       "\n",
       "    .dataframe tbody tr th {\n",
       "        vertical-align: top;\n",
       "    }\n",
       "\n",
       "    .dataframe thead th {\n",
       "        text-align: right;\n",
       "    }\n",
       "</style>\n",
       "<table border=\"1\" class=\"dataframe\">\n",
       "  <thead>\n",
       "    <tr style=\"text-align: right;\">\n",
       "      <th></th>\n",
       "      <th>0</th>\n",
       "      <th>1</th>\n",
       "      <th>2</th>\n",
       "    </tr>\n",
       "  </thead>\n",
       "  <tbody>\n",
       "    <tr>\n",
       "      <th>36260</th>\n",
       "      <td>disaster</td>\n",
       "      <td>anger</td>\n",
       "      <td>1</td>\n",
       "    </tr>\n",
       "    <tr>\n",
       "      <th>36262</th>\n",
       "      <td>disaster</td>\n",
       "      <td>disgust</td>\n",
       "      <td>1</td>\n",
       "    </tr>\n",
       "    <tr>\n",
       "      <th>36263</th>\n",
       "      <td>disaster</td>\n",
       "      <td>fear</td>\n",
       "      <td>1</td>\n",
       "    </tr>\n",
       "    <tr>\n",
       "      <th>36265</th>\n",
       "      <td>disaster</td>\n",
       "      <td>negative</td>\n",
       "      <td>1</td>\n",
       "    </tr>\n",
       "    <tr>\n",
       "      <th>36267</th>\n",
       "      <td>disaster</td>\n",
       "      <td>sadness</td>\n",
       "      <td>1</td>\n",
       "    </tr>\n",
       "    <tr>\n",
       "      <th>36268</th>\n",
       "      <td>disaster</td>\n",
       "      <td>surprise</td>\n",
       "      <td>1</td>\n",
       "    </tr>\n",
       "  </tbody>\n",
       "</table>\n",
       "</div>"
      ],
      "text/plain": [
       "              0         1  2\n",
       "36260  disaster     anger  1\n",
       "36262  disaster   disgust  1\n",
       "36263  disaster      fear  1\n",
       "36265  disaster  negative  1\n",
       "36267  disaster   sadness  1\n",
       "36268  disaster  surprise  1"
      ]
     },
     "execution_count": 59,
     "metadata": {},
     "output_type": "execute_result"
    }
   ],
   "source": [
    "NRC[NRC[0] == 'disaster']"
   ]
  },
  {
   "cell_type": "code",
   "execution_count": 60,
   "metadata": {},
   "outputs": [],
   "source": [
    "NRC=NRC.reset_index(drop=True)"
   ]
  },
  {
   "cell_type": "code",
   "execution_count": null,
   "metadata": {},
   "outputs": [],
   "source": []
  },
  {
   "cell_type": "code",
   "execution_count": 61,
   "metadata": {},
   "outputs": [],
   "source": [
    "tokenizer = RegexpTokenizer('[\\w]+')"
   ]
  },
  {
   "cell_type": "code",
   "execution_count": 62,
   "metadata": {},
   "outputs": [],
   "source": [
    "stop_words = stopwords.words('english')\n"
   ]
  },
  {
   "cell_type": "code",
   "execution_count": 63,
   "metadata": {},
   "outputs": [],
   "source": [
    "p_stemmer = PorterStemmer()\n"
   ]
  },
  {
   "cell_type": "code",
   "execution_count": 64,
   "metadata": {},
   "outputs": [],
   "source": [
    "raw = lines1.lower()\n",
    "tokens = tokenizer.tokenize(raw)\n",
    "stopped_tokens = [i for i in tokens if not i in stop_words]"
   ]
  },
  {
   "cell_type": "code",
   "execution_count": 65,
   "metadata": {},
   "outputs": [],
   "source": [
    "match_words = [x for x in stopped_tokens if x in list(NRC[0])]\n"
   ]
  },
  {
   "cell_type": "code",
   "execution_count": 66,
   "metadata": {},
   "outputs": [
    {
     "data": {
      "text/plain": [
       "['crisis',\n",
       " 'doubt',\n",
       " 'friend',\n",
       " 'friend',\n",
       " 'ghost',\n",
       " 'complaint',\n",
       " 'deliberate',\n",
       " 'possibility',\n",
       " 'real',\n",
       " 'forget',\n",
       " 'good',\n",
       " 'terrific',\n",
       " 'avatar',\n",
       " 'shot',\n",
       " 'content',\n",
       " 'top',\n",
       " 'coming']"
      ]
     },
     "execution_count": 66,
     "metadata": {},
     "output_type": "execute_result"
    }
   ],
   "source": [
    "match_words"
   ]
  },
  {
   "cell_type": "code",
   "execution_count": 76,
   "metadata": {},
   "outputs": [],
   "source": [
    "# emotion=[]\n",
    "# for i in match_words:\n",
    "#     temp=list(NRC.iloc[np.where(NRC[0] == i)[0],1])\n",
    "#     for j in temp:\n",
    "#         emotion.append(j)"
   ]
  },
  {
   "cell_type": "code",
   "execution_count": 77,
   "metadata": {},
   "outputs": [
    {
     "data": {
      "text/plain": [
       "['positive',\n",
       " 'anger',\n",
       " 'disgust',\n",
       " 'fear',\n",
       " 'negative',\n",
       " 'sadness',\n",
       " 'disgust',\n",
       " 'negative']"
      ]
     },
     "execution_count": 77,
     "metadata": {},
     "output_type": "execute_result"
    }
   ],
   "source": [
    "emotion = []\n",
    "for i in match_words:\n",
    "    temp = NRC[NRC[0] == i][1].values\n",
    "    for j in list(temp):\n",
    "        emotion.append(j)\n",
    "emotion"
   ]
  },
  {
   "cell_type": "code",
   "execution_count": 78,
   "metadata": {},
   "outputs": [],
   "source": [
    "sentiment_result1=pd.Series(emotion).value_counts()"
   ]
  },
  {
   "cell_type": "code",
   "execution_count": 79,
   "metadata": {},
   "outputs": [
    {
     "data": {
      "text/plain": [
       "negative    2\n",
       "disgust     2\n",
       "fear        1\n",
       "positive    1\n",
       "sadness     1\n",
       "anger       1\n",
       "dtype: int64"
      ]
     },
     "execution_count": 79,
     "metadata": {},
     "output_type": "execute_result"
    }
   ],
   "source": [
    "sentiment_result1"
   ]
  },
  {
   "cell_type": "code",
   "execution_count": 80,
   "metadata": {},
   "outputs": [
    {
     "data": {
      "text/plain": [
       "<matplotlib.axes._subplots.AxesSubplot at 0x1c3006fcf28>"
      ]
     },
     "execution_count": 80,
     "metadata": {},
     "output_type": "execute_result"
    },
    {
     "data": {
      "image/png": "[encoded data removed]",
      "text/plain": [
       "<Figure size 432x288 with 1 Axes>"
      ]
     },
     "metadata": {
      "needs_background": "light"
     },
     "output_type": "display_data"
    }
   ],
   "source": [
    "sentiment_result1.plot.bar()\n"
   ]
  },
  {
   "cell_type": "code",
   "execution_count": 81,
   "metadata": {},
   "outputs": [],
   "source": [
    "def emotionf(*s1):\n",
    "\n",
    "# 감정점수를 계산하는 함수 작성\n",
    "    \n",
    "    score=0\n",
    "    for i in s1:\n",
    "        if i in ('positive','anticipate','trust','joy','happy'):\n",
    "            score+=1\n",
    "        else:\n",
    "            score-=1\n",
    "    return score"
   ]
  },
  {
   "cell_type": "code",
   "execution_count": 82,
   "metadata": {},
   "outputs": [
    {
     "data": {
      "text/plain": [
       "-1"
      ]
     },
     "execution_count": 82,
     "metadata": {},
     "output_type": "execute_result"
    }
   ],
   "source": [
    "emotionf(('positive', 'anticipation','trust','joy','surprise'))"
   ]
  },
  {
   "cell_type": "code",
   "execution_count": 83,
   "metadata": {},
   "outputs": [],
   "source": [
    "raw = lines2.lower()\n",
    "tokens = tokenizer.tokenize(raw)\n",
    "stopped_tokens = [i for i in tokens if not i in stop_words]"
   ]
  },
  {
   "cell_type": "code",
   "execution_count": 84,
   "metadata": {},
   "outputs": [],
   "source": [
    "match_words = [x for x in stopped_tokens if x in list(NRC[0])]\n"
   ]
  },
  {
   "cell_type": "code",
   "execution_count": 85,
   "metadata": {},
   "outputs": [],
   "source": [
    "# emotion=[]\n",
    "# for i in match_words:\n",
    "#     temp=list(NRC.iloc[np.where(NRC[0] == i)[0],1])\n",
    "#     for j in temp:\n",
    "#         emotion.append(j)"
   ]
  },
  {
   "cell_type": "code",
   "execution_count": 86,
   "metadata": {},
   "outputs": [
    {
     "data": {
      "text/plain": [
       "['positive',\n",
       " 'anger',\n",
       " 'disgust',\n",
       " 'fear',\n",
       " 'negative',\n",
       " 'sadness',\n",
       " 'disgust',\n",
       " 'negative']"
      ]
     },
     "execution_count": 86,
     "metadata": {},
     "output_type": "execute_result"
    }
   ],
   "source": [
    "emotion1 = []\n",
    "for i in match_words:\n",
    "    temp = NRC[NRC[0] == i][1].values\n",
    "    for j in list(temp):\n",
    "        emotion1.append(j)\n",
    "emotion1"
   ]
  },
  {
   "cell_type": "code",
   "execution_count": 87,
   "metadata": {},
   "outputs": [
    {
     "data": {
      "text/plain": [
       "negative    2\n",
       "disgust     2\n",
       "fear        1\n",
       "positive    1\n",
       "sadness     1\n",
       "anger       1\n",
       "dtype: int64"
      ]
     },
     "execution_count": 87,
     "metadata": {},
     "output_type": "execute_result"
    }
   ],
   "source": [
    "sentiment_result2=pd.Series(emotion1).value_counts()\n",
    "sentiment_result2"
   ]
  },
  {
   "cell_type": "code",
   "execution_count": 88,
   "metadata": {},
   "outputs": [
    {
     "data": {
      "text/plain": [
       "<matplotlib.axes._subplots.AxesSubplot at 0x1c3005103c8>"
      ]
     },
     "execution_count": 88,
     "metadata": {},
     "output_type": "execute_result"
    },
    {
     "data": {
      "image/png": "[encoded data removed]",
      "text/plain": [
       "<Figure size 432x288 with 1 Axes>"
      ]
     },
     "metadata": {
      "needs_background": "light"
     },
     "output_type": "display_data"
    }
   ],
   "source": [
    "sentiment_result2.plot.bar()\n"
   ]
  },
  {
   "cell_type": "code",
   "execution_count": 89,
   "metadata": {},
   "outputs": [
    {
     "data": {
      "text/plain": [
       "-1"
      ]
     },
     "execution_count": 89,
     "metadata": {},
     "output_type": "execute_result"
    }
   ],
   "source": [
    "emotionf(emotion1)"
   ]
  },
  {
   "cell_type": "code",
   "execution_count": null,
   "metadata": {},
   "outputs": [],
   "source": []
  },
  {
   "cell_type": "code",
   "execution_count": null,
   "metadata": {},
   "outputs": [],
   "source": []
  },
  {
   "cell_type": "code",
   "execution_count": null,
   "metadata": {},
   "outputs": [],
   "source": [
    "# machine learning"
   ]
  },
  {
   "cell_type": "code",
   "execution_count": 90,
   "metadata": {},
   "outputs": [],
   "source": [
    "import pandas as pd\n",
    "import glob\n",
    "from afinn import Afinn\n",
    "from nltk.corpus import stopwords \n",
    "import numpy as np\n",
    "from sklearn.feature_extraction.text import TfidfVectorizer"
   ]
  },
  {
   "cell_type": "code",
   "execution_count": 91,
   "metadata": {},
   "outputs": [],
   "source": [
    "pos_review=(glob.glob(\"data\\\\aclimdb\\\\train\\\\pos\\\\*.txt\"))[:20]"
   ]
  },
  {
   "cell_type": "code",
   "execution_count": 92,
   "metadata": {},
   "outputs": [],
   "source": [
    "# f = open(pos_review, 'r')\n",
    "# pos_review = f.readlines()[0]\n",
    "# f.close()"
   ]
  },
  {
   "cell_type": "code",
   "execution_count": 93,
   "metadata": {},
   "outputs": [],
   "source": [
    "lines_pos=[]\n",
    "for i in pos_review:\n",
    "    try:\n",
    "        f = open(i, 'r')\n",
    "        temp = f.readlines()[0]\n",
    "        lines_pos.append(temp)\n",
    "        f.close()\n",
    "    except Exception as e:\n",
    "        continue"
   ]
  },
  {
   "cell_type": "code",
   "execution_count": 94,
   "metadata": {},
   "outputs": [
    {
     "data": {
      "text/plain": [
       "20"
      ]
     },
     "execution_count": 94,
     "metadata": {},
     "output_type": "execute_result"
    }
   ],
   "source": [
    "len(lines_pos)"
   ]
  },
  {
   "cell_type": "code",
   "execution_count": 95,
   "metadata": {},
   "outputs": [],
   "source": [
    "# f = open(pos_review, 'r')\n",
    "# pos_lines = f.readlines()[0]\n",
    "# f.close()"
   ]
  },
  {
   "cell_type": "code",
   "execution_count": 97,
   "metadata": {},
   "outputs": [],
   "source": [
    "neg_review=(glob.glob(\"data\\\\aclimdb\\\\train\\\\neg\\\\*.txt\"))[:20]"
   ]
  },
  {
   "cell_type": "code",
   "execution_count": 384,
   "metadata": {},
   "outputs": [],
   "source": [
    "# f = open(neg_review, 'r')\n",
    "# neg_review = f.readlines()[0]\n",
    "# f.close()"
   ]
  },
  {
   "cell_type": "code",
   "execution_count": 98,
   "metadata": {},
   "outputs": [],
   "source": [
    "\n",
    "lines_neg=[]\n",
    "for i in neg_review:\n",
    "    try:\n",
    "        f = open(i, 'r')\n",
    "        temp = f.readlines()[0]\n",
    "        lines_neg.append(temp)\n",
    "        f.close()\n",
    "    except Exception as e:\n",
    "        continue"
   ]
  },
  {
   "cell_type": "code",
   "execution_count": 99,
   "metadata": {},
   "outputs": [
    {
     "data": {
      "text/plain": [
       "20"
      ]
     },
     "execution_count": 99,
     "metadata": {},
     "output_type": "execute_result"
    }
   ],
   "source": [
    "len(lines_neg)"
   ]
  },
  {
   "cell_type": "code",
   "execution_count": 100,
   "metadata": {},
   "outputs": [],
   "source": [
    "total_text = lines_neg + lines_pos"
   ]
  },
  {
   "cell_type": "code",
   "execution_count": 101,
   "metadata": {},
   "outputs": [
    {
     "data": {
      "text/plain": [
       "[\"Story of a man who has unnatural feelings for a pig. Starts out with a opening scene that is a terrific example of absurd comedy. A formal orchestra audience is turned into an insane, violent mob by the crazy chantings of it's singers. Unfortunately it stays absurd the WHOLE time with no general narrative eventually making it just too off putting. Even those from the era should be turned off. The cryptic dialogue would make Shakespeare seem easy to a third grader. On a technical level it's better than you might think with some good cinematography by future great Vilmos Zsigmond. Future stars Sally Kirkland and Frederic Forrest can be seen briefly.\",\n",
       " \"Airport '77 starts as a brand new luxury 747 plane is loaded up with valuable paintings & such belonging to rich businessman Philip Stevens (James Stewart) who is flying them & a bunch of VIP's to his estate in preparation of it being opened to the public as a museum, also on board is Stevens daughter Julie (Kathleen Quinlan) & her son. The luxury jetliner takes off as planned but mid-air the plane is hi-jacked by the co-pilot Chambers (Robert Foxworth) & his two accomplice's Banker (Monte Markham) & Wilson (Michael Pataki) who knock the passengers & crew out with sleeping gas, they plan to steal the valuable cargo & land on a disused plane strip on an isolated island but while making his descent Chambers almost hits an oil rig in the Ocean & loses control of the plane sending it crashing into the sea where it sinks to the bottom right bang in the middle of the Bermuda Triangle. With air in short supply, water leaking in & having flown over 200 miles off course the problems mount for the survivor's as they await help with time fast running out...<br /><br />Also known under the slightly different tile Airport 1977 this second sequel to the smash-hit disaster thriller Airport (1970) was directed by Jerry Jameson & while once again like it's predecessors I can't say Airport '77 is any sort of forgotten classic it is entertaining although not necessarily for the right reasons. Out of the three Airport films I have seen so far I actually liked this one the best, just. It has my favourite plot of the three with a nice mid-air hi-jacking & then the crashing (didn't he see the oil rig?) & sinking of the 747 (maybe the makers were trying to cross the original Airport with another popular disaster flick of the period The Poseidon Adventure (1972)) & submerged is where it stays until the end with a stark dilemma facing those trapped inside, either suffocate when the air runs out or drown as the 747 floods or if any of the doors are opened & it's a decent idea that could have made for a great little disaster flick but bad unsympathetic character's, dull dialogue, lethargic set-pieces & a real lack of danger or suspense or tension means this is a missed opportunity. While the rather sluggish plot keeps one entertained for 108 odd minutes not that much happens after the plane sinks & there's not as much urgency as I thought there should have been. Even when the Navy become involved things don't pick up that much with a few shots of huge ships & helicopters flying about but there's just something lacking here. George Kennedy as the jinxed airline worker Joe Patroni is back but only gets a couple of scenes & barely even says anything preferring to just look worried in the background.<br /><br />The home video & theatrical version of Airport '77 run 108 minutes while the US TV versions add an extra hour of footage including a new opening credits sequence, many more scenes with George Kennedy as Patroni, flashbacks to flesh out character's, longer rescue scenes & the discovery or another couple of dead bodies including the navigator. While I would like to see this extra footage I am not sure I could sit through a near three hour cut of Airport '77. As expected the film has dated badly with horrible fashions & interior design choices, I will say no more other than the toy plane model effects aren't great either. Along with the other two Airport sequels this takes pride of place in the Razzie Award's Hall of Shame although I can think of lots of worse films than this so I reckon that's a little harsh. The action scenes are a little dull unfortunately, the pace is slow & not much excitement or tension is generated which is a shame as I reckon this could have been a pretty good film if made properly.<br /><br />The production values are alright if nothing spectacular. The acting isn't great, two time Oscar winner Jack Lemmon has said since it was a mistake to star in this, one time Oscar winner James Stewart looks old & frail, also one time Oscar winner Lee Grant looks drunk while Sir Christopher Lee is given little to do & there are plenty of other familiar faces to look out for too.<br /><br />Airport '77 is the most disaster orientated of the three Airport films so far & I liked the ideas behind it even if they were a bit silly, the production & bland direction doesn't help though & a film about a sunken plane just shouldn't be this boring or lethargic. Followed by The Concorde ... Airport '79 (1979).\",\n",
       " \"This film lacked something I couldn't put my finger on at first: charisma on the part of the leading actress. This inevitably translated to lack of chemistry when she shared the screen with her leading man. Even the romantic scenes came across as being merely the actors at play. It could very well have been the director who miscalculated what he needed from the actors. I just don't know.<br /><br />But could it have been the screenplay? Just exactly who was the chef in love with? He seemed more enamored of his culinary skills and restaurant, and ultimately of himself and his youthful exploits, than of anybody or anything else. He never convinced me he was in love with the princess.<br /><br />I was disappointed in this movie. But, don't forget it was nominated for an Oscar, so judge for yourself.\",\n",
       " 'Sorry everyone,,, I know this is supposed to be an \"art\" film,, but wow, they should have handed out guns at the screening so people could blow their brains out and not watch. Although the scene design and photographic direction was excellent, this story is too painful to watch. The absence of a sound track was brutal. The loooonnnnng shots were too long. How long can you watch two people just sitting there and talking? Especially when the dialogue is two people complaining. I really had a hard time just getting through this film. The performances were excellent, but how much of that dark, sombre, uninspired, stuff can you take? The only thing i liked was Maureen Stapleton and her red dress and dancing scene. Otherwise this was a ripoff of Bergman. And i\\'m no fan f his either. I think anyone who says they enjoyed 1 1/2 hours of this is,, well, lying.',\n",
       " 'When I was little my parents took me along to the theater to see Interiors. It was one of many movies I watched with my parents, but this was the only one we walked out of. Since then I had never seen Interiors until just recently, and I could have lived out the rest of my life without it. What a pretentious, ponderous, and painfully boring piece of 70\\'s wine and cheese tripe. Woody Allen is one of my favorite directors but Interiors is by far the worst piece of crap of his career. In the unmistakable style of Ingmar Berman, Allen gives us a dark, angular, muted, insight in to the lives of a family wrought by the psychological damage caused by divorce, estrangement, career, love, non-love, halitosis, whatever. The film, intentionally, has no comic relief, no music, and is drenched in shadowy pathos. This film style can be best defined as expressionist in nature, using an improvisational method of dialogue to illicit a \"more pronounced depth of meaning and truth\". But Woody Allen is no Ingmar Bergman. The film is painfully slow and dull. But beyond that, I simply had no connection with or sympathy for any of the characters. Instead I felt only contempt for this parade of shuffling, whining, nicotine stained, martyrs in a perpetual quest for identity. Amid a backdrop of cosmopolitan affluence and baked Brie intelligentsia the story looms like a fart in the room. Everyone speaks in affected platitudes and elevated language between cigarettes. Everyone is \"lost\" and \"struggling\", desperate to find direction or understanding or whatever and it just goes on and on to the point where you just want to slap all of them. It\\'s never about resolution, it\\'s only about interminable introspective babble. It is nothing more than a psychological drama taken to an extreme beyond the audience\\'s ability to connect. Woody Allen chose to make characters so immersed in themselves we feel left out. And for that reason I found this movie painfully self indulgent and spiritually draining. I see what he was going for but his insistence on promoting his message through Prozac prose and distorted film techniques jettisons it past the point of relevance. I highly recommend this one if you\\'re feeling a little too happy and need something to remind you of death. Otherwise, let\\'s just pretend this film never happened.',\n",
       " '\"It appears that many critics find the idea of a Woody Allen drama unpalatable.\" And for good reason: they are unbearably wooden and pretentious imitations of Bergman. And let\\'s not kid ourselves: critics were mostly supportive of Allen\\'s Bergman pretensions, Allen\\'s whining accusations to the contrary notwithstanding. What I don\\'t get is this: why was Allen generally applauded for his originality in imitating Bergman, but the contemporaneous Brian DePalma was excoriated for \"ripping off\" Hitchcock in his suspense/horror films? In Robin Wood\\'s view, it\\'s a strange form of cultural snobbery. I would have to agree with that.',\n",
       " 'The second attempt by a New York intellectual in less than 10 years to make a \"Swedish\" film - the first being Susan Sontag\\'s \"Brother Carl\" (which was made in Sweden, with Swedish actors, no less!) The results? Oscar Wilde said it best, in reference to Dickens\\' \"The Old Curiosity Shop\": \"One would have to have a heart of stone not to laugh out loud at the death of Little Nell.\" Pretty much the same thing here. \"Interiors\" is chock full of solemnly intoned howlers. (\"I\\'m afraid of my anger.\" Looking into the middle distance: \"I don\\'t like who I\\'m becoming.\") The directorial quotations (to use a polite term) from Bergman are close to parody. The incredibly self-involved family keep reminding us of how brilliant and talented they are, to the point of strangulation. (\"I read a poem of yours the other day. It was in - I don\\'t know - The New Yorker.\" \"Oh. That was an old poem. I reworked it.\") Far from not caring about these people, however, I found them quite hilarious. Much of the dialog is exactly like the funny stuff from Allen\\'s earlier films - only he\\'s directed his actors to play the lines straight. Having not cast himself in the movie, he has poor Mary Beth Hurt copy all of his thespian tics, intonations, and neurotic habits, turning her into an embarrassing surrogate (much like Kenneth Branagh in \"Celebrity\").<br /><br />The basic plot - dysfunctional family with quietly domineering mother - seems to be lifted more or less from Bergman\\'s \"Winter Light,\" the basic family melodrama tricked up with a lot of existential angst. It all comes through in the shopworn visual/aural tricks: the deafening scratching of a pencil on paper, the towering surf that dwarfs the people walking on the beach. etc, etc.<br /><br />Allen\\'s later \"serious\" films are less embarrassing, but also far less entertaining. I\\'ll take \"Interiors.\" Woody\\'s rarely made a funnier movie.',\n",
       " \"I don't know who to blame, the timid writers or the clueless director. It seemed to be one of those movies where so much was paid to the stars (Angie, Charlie, Denise, Rosanna and Jon) that there wasn't enough left to really make a movie. This could have been very entertaining, but there was a veil of timidity, even cowardice, that hung over each scene. Since it got an R rating anyway why was the ubiquitous bubble bath scene shot with a 70-year-old woman and not Angie Harmon? Why does Sheen sleepwalk through potentially hot relationships WITH TWO OF THE MOST BEAUTIFUL AND SEXY ACTRESSES in the world? If they were only looking for laughs why not cast Whoopi Goldberg and Judy Tenuta instead? This was so predictable I was surprised to find that the director wasn't a five year old. What a waste, not just for the viewers but for the actors as well.\",\n",
       " 'This film is mediocre at best. Angie Harmon is as funny as a bag of hammers. Her bitchy demeanor from \"Law and Order\" carries over in a failed attempt at comedy. Charlie Sheen is the only one to come out unscathed in this horrible anti-comedy. The only positive thing to come out of this mess is Charlie and Denise\\'s marriage. Hopefully that effort produces better results.',\n",
       " 'The film is bad. There is no other way to say it. The story is weak and outdated, especially for this country. I don\\'t think most people know what a \"walker\" is or will really care. I felt as if I was watching a movie from the 70\\'s. The subject was just not believable for the year 2007, even being set in DC. I think this rang true for everyone else who watched it too as the applause were low and quick at the end. Most didn\\'t stay for the Q&A either.<br /><br />I don\\'t think Schrader really thought the film out ahead of time. Many of the scenes seemed to be cut short as if they were never finished or he just didn\\'t know how to finish them. He jumped from one scene to the next and you had to try and figure out or guess what was going on. I really didn\\'t get Woody\\'s (Carter) private life or boyfriend either. What were all the \"artistic\" male bondage and torture pictures (from Iraq prisons) about? What was he thinking? I think it was his very poor attempt at trying to create this dark private subculture life for Woody\\'s character (Car). It didn\\'t work. It didn\\'t even seem to make sense really.<br /><br />The only good thing about this film was Woody Harrelson. He played his character (Car) flawlessly. You really did get a great sense of what a \"walker\" may have been like (say twenty years ago). He was great and most likely will never get recognized for it. <br /><br />As for Lauren, Lily and Kristin... Boring.<br /><br />Don\\'t see it! It is painful! Unless you are a true Harrelson fan.',\n",
       " 'This film is one giant pant load. Paul Schrader is utterly lost in his own bad screenplay. And his directing is about as comatose as it can be without his actually having been sleepwalking during the process. <br /><br />The worst though is Woody Harrelson, whom I ordinarily like when he\\'s properly cast. He plays \"the walker\", a homosexual man in D.C. who plays social companion to the bored wives of the Washington elite. He couldn\\'t have been more one dimensional if he had been cut out of a magazine and bounced around in front of the camera on a popsicle stick. His \"southern accent\" is that \"off the rack\" version that decrescendos from the beginning to the end of every line he delivers, as though the heat and humidity of the South is still draining him of every ounce of energy he has. It is monotonous. But, his is not the worst accent in the movie. His \"boyfriend\", played by Moritz Bleibtreau, attempts to affect some kind of a Mid East accent that is so clumsy he can barely deliver the bad lines written for him. He is incapable of rolling his r\\'s in spite of the fact that in real life he is German, and speaks several languages - one of them being Italian! That\\'s kind of a good reason to cast someone else don\\'t ya think? <br /><br />From the story, to the screenplay, to the directing, to the camera work, to the performances by the leads, this movie is bad from beginning to end. The only tolerable moments in this film came from three supporting actresses: Lily Tomlin, Lauren Bacall, and Kristin Scott Thomas. Only these three managed to make it through this movie with their dignity in tact. In fact, all three are excellent, in spite of being trapped in a really bad film. Ufortunately, no one could ever be good enough to redeem this endless series of flaws. If you like these three actresses, watch them in something else. This movie is not worth your time.',\n",
       " 'The plot for Descent, if it actually can be called a plot, has two noteworthy events. One near the beginning - one at the end. Together these events make up maybe 5% of the total movie time. Everything (and I mean _everything_) in between is basically the director\\'s desperate effort to fill in the minutes. I like disturbing movies, I like dark movies and I don\\'t get troubled by gritty scenes - but if you expect me to sit through 60 minutes of hazy/dark (literally) scenes with NO storyline you have another thing coming. Rosario Dawson, one of my favorite actresses is completely wasted here. And no, she doesn\\'t get naked, not even in the NC-17 version, which I saw.<br /><br />If you have a couple of hours to throw away and want to watch \"Descent\", take a nap instead - you\\'ll probably have more interesting dreams.',\n",
       " 'Plot is not worth discussion even if it hints at corruption, murder, power and the rest of thriller related topics. Characters are interesting though sometimes. Not realistic but interesting nevertheless.<br /><br />Development is slow like tea drinking ceremony. Visuals not stunning, but good enough to ease the eye strain. Good movie to watch after dinner before going to bed - nothing shocking too much, nothing overexciting. Movie sitcom style.<br /><br />I liked Woody - excellent performance. Had to fight the plot inadequacy and did the job pretty good. The rest are bearable though very predictable. The whole is watchable and better than most TV shows.',\n",
       " 'This film is about a male escort getting involved in a murder investigation that happened in the circle of powerful men\\'s wives.<br /><br />I thought \"The Walker\" would be thrilling and engaging, but I was so wrong. The pacing is painfully and excruciatingly slow, that even after 40 minutes of the film nothing happens much. Seriously, the first hour could be condensed into ten minutes. That\\'s how slow it is.<br /><br />The fact that it lacks any thrills or action scenes aggravates the boredom. It\\'s almost shocking that even argument scenes are so plain and devoid of emotion. Maybe it is because of the stiff upper lip of the higher social class? <br /><br />It\\'s sad that \"The Walker\" becomes such a boring mess, despite such a strong cast. Blame it on the poor plot and even worse pacing.',\n",
       " 'This movie must be in line for the most boring movie in years. Not even woody Harrison can save this movie from sinking to the bottom.<br /><br />The murder in this movie are supposed to be the point of interest in this movie but is not, nothing is of any interest. The cast are not to bad but the script are just plain awful , I just sat in utter amazement during this movie, thinking how on earth can anyone find this movie entertaining <br /><br />The producers of this movie were very clever. They made a boring movie but hid it well with the names of good actors and actresses on their cast. People will go to the blockbuster and probably see this movie and think, Woody Harrison ,Kristin Scott Thomas and Willem Dafoe this must be good and rent this movie.(boy are they in for a horrible time)<br /><br />If you like getting ripped off go and rent this movie, some people actually did enjoyed this movie but I like to watch a movie with meaning',\n",
       " 'A worn-out plot of a man who takes the rap for a woman in a murder case + the equally worn-out plot of an outsider on the inside who eventually is shut out.<br /><br />With such an outstanding case, one would think the film would rise above its hackneyed origins. But scene after scene drones by with no change in intensity, no character arcs, and inexplicable behavior.<br /><br />The homosexuality theme was completely unnecessary -- or on the other hand, completely unexplored. It seemed to be included only to titillate the viewers. When will Hollywood learn that having gay characters does not automatically make a more compelling picture?<br /><br />A regrettably dreadful movie. When will Lauren Bacall pick a good one? I expected better of her and Kristin Scott Thomas. This one is definitely one to miss.',\n",
       " 'I saw this movie at a drive-in in 1959. Until \"Howard the Duck\" I considered this the worst movie I had ever seen. This movie tried to combine all the genera in one; comedy, horror, teenage angst, and the hot rod that must have sired \"My Mother, The Car.\" Maybe it deserves a second viewing to see if it is an accurate reflection of it\\'s time.',\n",
       " 'Ghost of Dragstrip Hollow is a typical 1950\\'s teens in turmoil movie. It is not a horror or science fiction movie. Plot concerns a group of teens who are about to get kicked out of their \"hot rod\" club because they cannot meet the rent. Once kicked out, they decide to try an old Haunted House. The only saving grace for the film is that the \"ghost\" (Paul Blaisdell in the She Creature suit) turns out to be an out of work movie monster played by Blaisdell.',\n",
       " '\"Ghost of Dragstrip Hollow\" was one of the many \\'50s movies about hot-rodding teens encountering the supernatural. In this case, the teens can\\'t pay the rent for their hangout and get evicted. With nowhere else to go, they decide on an apparently haunted house. As you may have guessed, once they arrive, some weird things start happening. And there\\'s a twist at the end.<br /><br />There\\'s nothing in this movie that you haven\\'t seen in other movies, but it\\'s nice entertainment nonetheless. My favorite character was the foul-mouthed parrot. Well, let me rephrase that: he didn\\'t talk like a character in a Quentin Tarantino movie, but he said things that we don\\'t expect out of a bird. The movie\\'s pure hokum, but harmless.',\n",
       " '\"Ghost of Dragstrip Hollow\" appears to take place in a spotless netherworld, an era long gone by, where the biggest sin a kid could commit would be in defying the law and getting a traffic ticket. It opens with a young female auto fanatic getting the business from her arch rival, who pressures her into a car race. That\\'s about it for the drag-racing--this B-flick is mostly concerned with rock \\'n roll, man! The folks at American International were obviously fond of decent, square teens who liked to party and yet didn\\'t mind an adult chaperone. There are a few amusing double entendres and fruity exchanges (Necking Kid: \"We thought we\\'d come out for some fresh air\"...Dad: \"Where did you think you\\'d find it, down her throat?\"), but the ghost is a little late in arriving. Brief at 65 minutes, the movie cheats us with a climactic car race that actually takes place off-screen and a pre-\"Scooby Doo\"-styled unmasking which makes no sense. However, for nostalgia buffs, some mindless fun. ** from ****',\n",
       " 'Bromwell High is a cartoon comedy. It ran at the same time as some other programs about school life, such as \"Teachers\". My 35 years in the teaching profession lead me to believe that Bromwell High\\'s satire is much closer to reality than is \"Teachers\". The scramble to survive financially, the insightful students who can see right through their pathetic teachers\\' pomp, the pettiness of the whole situation, all remind me of the schools I knew and their students. When I saw the episode in which a student repeatedly tried to burn down the school, I immediately recalled ......... at .......... High. A classic line: INSPECTOR: I\\'m here to sack one of your teachers. STUDENT: Welcome to Bromwell High. I expect that many adults of my age think that Bromwell High is far fetched. What a pity that it isn\\'t!',\n",
       " 'Homelessness (or Houselessness as George Carlin stated) has been an issue for years but never a plan to help those on the street that were once considered human who did everything from going to school, work, or vote for the matter. Most people think of the homeless as just a lost cause while worrying about things such as racism, the war on Iraq, pressuring kids to succeed, technology, the elections, inflation, or worrying if they\\'ll be next to end up on the streets.<br /><br />But what if you were given a bet to live on the streets for a month without the luxuries you once had from a home, the entertainment sets, a bathroom, pictures on the wall, a computer, and everything you once treasure to see what it\\'s like to be homeless? That is Goddard Bolt\\'s lesson.<br /><br />Mel Brooks (who directs) who stars as Bolt plays a rich man who has everything in the world until deciding to make a bet with a sissy rival (Jeffery Tambor) to see if he can live in the streets for thirty days without the luxuries; if Bolt succeeds, he can do what he wants with a future project of making more buildings. The bet\\'s on where Bolt is thrown on the street with a bracelet on his leg to monitor his every move where he can\\'t step off the sidewalk. He\\'s given the nickname Pepto by a vagrant after it\\'s written on his forehead where Bolt meets other characters including a woman by the name of Molly (Lesley Ann Warren) an ex-dancer who got divorce before losing her home, and her pals Sailor (Howard Morris) and Fumes (Teddy Wilson) who are already used to the streets. They\\'re survivors. Bolt isn\\'t. He\\'s not used to reaching mutual agreements like he once did when being rich where it\\'s fight or flight, kill or be killed.<br /><br />While the love connection between Molly and Bolt wasn\\'t necessary to plot, I found \"Life Stinks\" to be one of Mel Brooks\\' observant films where prior to being a comedy, it shows a tender side compared to his slapstick work such as Blazing Saddles, Young Frankenstein, or Spaceballs for the matter, to show what it\\'s like having something valuable before losing it the next day or on the other hand making a stupid bet like all rich people do when they don\\'t know what to do with their money. Maybe they should give it to the homeless instead of using it like Monopoly money.<br /><br />Or maybe this film will inspire you to help others.',\n",
       " 'Brilliant over-acting by Lesley Ann Warren. Best dramatic hobo lady I have ever seen, and love scenes in clothes warehouse are second to none. The corn on face is a classic, as good as anything in Blazing Saddles. The take on lawyers is also superb. After being accused of being a turncoat, selling out his boss, and being dishonest the lawyer of Pepto Bolt shrugs indifferently \"I\\'m a lawyer\" he says. Three funny words. Jeffrey Tambor, a favorite from the later Larry Sanders show, is fantastic here too as a mad millionaire who wants to crush the ghetto. His character is more malevolent than usual. The hospital scene, and the scene where the homeless invade a demolition site, are all-time classics. Look for the legs scene and the two big diggers fighting (one bleeds). This movie gets better each time I see it (which is quite often).',\n",
       " 'This is easily the most underrated film inn the Brooks cannon. Sure, its flawed. It does not give a realistic view of homelessness (unlike, say, how Citizen Kane gave a realistic view of lounge singers, or Titanic gave a realistic view of Italians YOU IDIOTS). Many of the jokes fall flat. But still, this film is very lovable in a way many comedies are not, and to pull that off in a story about some of the most traditionally reviled members of society is truly impressive. Its not The Fisher King, but its not crap, either. My only complaint is that Brooks should have cast someone else in the lead (I love Mel as a Director and Writer, not so much as a lead).',\n",
       " 'This is not the typical Mel Brooks film. It was much less slapstick than most of his movies and actually had a plot that was followable. Leslie Ann Warren made the movie, she is such a fantastic, under-rated actress. There were some moments that could have been fleshed out a bit more, and some scenes that could probably have been cut to make the room to do so, but all in all, this is worth the price to rent and see it. The acting was good overall, Brooks himself did a good job without his characteristic speaking to directly to the audience. Again, Warren was the best actor in the movie, but \"Fume\" and \"Sailor\" both played their parts well.',\n",
       " \"This isn't the comedic Robin Williams, nor is it the quirky/insane Robin Williams of recent thriller fame. This is a hybrid of the classic drama without over-dramatization, mixed with Robin's new love of the thriller. But this isn't a thriller, per se. This is more a mystery/suspense vehicle through which Williams attempts to locate a sick boy and his keeper.<br /><br />Also starring Sandra Oh and Rory Culkin, this Suspense Drama plays pretty much like a news report, until William's character gets close to achieving his goal.<br /><br />I must say that I was highly entertained, though this movie fails to teach, guide, inspect, or amuse. It felt more like I was watching a guy (Williams), as he was actually performing the actions, from a third person perspective. In other words, it felt real, and I was able to subscribe to the premise of the story.<br /><br />All in all, it's worth a watch, though it's definitely not Friday/Saturday night fare.<br /><br />It rates a 7.7/10 from...<br /><br />the Fiend :.\",\n",
       " \"Yes its an art... to successfully make a slow paced thriller.<br /><br />The story unfolds in nice volumes while you don't even notice it happening.<br /><br />Fine performance by Robin Williams. The sexuality angles in the film can seem unnecessary and can probably affect how much you enjoy the film. However, the core plot is very engaging. The movie doesn't rush onto you and still grips you enough to keep you wondering. The direction is good. Use of lights to achieve desired affects of suspense and unexpectedness is good.<br /><br />Very nice 1 time watch if you are looking to lay back and hear a thrilling short story!\",\n",
       " 'In this \"critically acclaimed psychological thriller based on true events, Gabriel (Robin Williams), a celebrated writer and late-night talk show host, becomes captivated by the harrowing story of a young listener and his adoptive mother (Toni Collette). When troubling questions arise about this boy\\'s (story), however, Gabriel finds himself drawn into a widening mystery that hides a deadly secret혚\" according to film\\'s official synopsis.<br /><br />You really should STOP reading these comments, and watch the film NOW...<br /><br />The \"How did he lose his leg?\" ending, with Ms. Collette planning her new life, should be chopped off, and sent to \"deleted scenes\" land. It\\'s overkill. The true nature of her physical and mental ailments should be obvious, by the time Mr. Williams returns to New York. Possibly, her blindness could be in question - but a revelation could have be made certain in either the \"highway\" or \"video tape\" scenes. The film would benefit from a re-editing - how about a \"director\\'s cut\"? <br /><br />Williams and Bobby Cannavale (as Jess) don\\'t seem, initially, believable as a couple. A scene or two establishing their relationship might have helped set the stage. Otherwise, the cast is exemplary. Williams offers an exceptionally strong characterization, and not a \"gay impersonation\". Sandra Oh (as Anna), Joe Morton (as Ashe), and Rory Culkin (Pete Logand) are all perfect.<br /><br />Best of all, Collette\\'s \"Donna\" belongs in the creepy hall of fame. Ms. Oh is correct in saying Collette might be, \"you know, like that guy from \\'Psycho\\'.\" There have been several years when organizations giving acting awards seemed to reach for women, due to a slighter dispersion of roles; certainly, they could have noticed Collette with some award consideration. She is that good. And, director Patrick Stettner definitely evokes Hitchcock - he even makes getting a sandwich from a vending machine suspenseful.<br /><br />Finally, writers Stettner, Armistead Maupin, and Terry Anderson deserve gratitude from flight attendants everywhere.<br /><br />******* The Night Listener (1/21/06) Patrick Stettner ~ Robin Williams, Toni Collette, Sandra Oh, Rory Culkin',\n",
       " \"THE NIGHT LISTENER (2006) **1/2 Robin Williams, Toni Collette, Bobby Cannavale, Rory Culkin, Joe Morton, Sandra Oh, John Cullum, Lisa Emery, Becky Ann Baker. (Dir: Patrick Stettner) <br /><br />Hitchcockian suspenser gives Williams a stand-out low-key performance.<br /><br />What is it about celebrities and fans? What is the near paranoia one associates with the other and why is it almost the norm? <br /><br />In the latest derange fan scenario, based on true events no less, Williams stars as a talk-radio personality named Gabriel No one, who reads stories he's penned over the airwaves and has accumulated an interesting fan in the form of a young boy named Pete Logand (Culkin) who has submitted a manuscript about the travails of his troubled youth to No one's editor Ashe (Morton) who gives it to No one to read for himself. <br /><br />No one is naturally disturbed but ultimately intrigued about the nightmarish existence of Pete being abducted and sexually abused for years until he was finally rescued by a nurse named Donna (Collette giving an excellent performance) who has adopted the boy but her correspondence with No one reveals that Pete is dying from AIDS. Naturally No one wants to meet the fans but is suddenly in doubt to their possibly devious ulterior motives when the seed is planted by his estranged lover Jess (Cannavale) whose sudden departure from their New York City apartment has No one in an emotional tailspin that has only now grown into a tempest in a teacup when he decides to do some investigating into Donna and Pete's backgrounds discovering some truths that he didn't anticipate.<br /><br />Written by Armistead Maupin (who co-wrote the screenplay with his former lover Terry Anderson and the film's novice director Stettner) and based on a true story about a fan's hoax found out has some Hitchcockian moments that run on full tilt like any good old fashioned pot-boiler does. It helps that Williams gives a stand-out, low-key performance as the conflicted good-hearted personality who genuinely wants to believe that his number one fan is in fact real and does love him (the one thing that has escaped his own reality) and has some unsettling dreadful moments with the creepy Collette whose one physical trait I will leave unmentioned but underlines the desperation of her character that can rattle you to the core.<br /><br />However the film runs out of gas and eventually becomes a bit repetitive and predictable despite a finely directed piece of hoodwink and mystery by Stettner, it pays to listen to your own inner voice: be careful of what you hope for.\",\n",
       " 'You know, Robin Williams, God bless him, is constantly shooting himself in the foot lately with all these dumb comedies he has done this decade (with perhaps the exception of \"Death To Smoochy\", which bombed when it came out but is now a cult classic). The dramas he has made lately have been fantastic, especially \"Insomnia\" and \"One Hour Photo\". \"The Night Listener\", despite mediocre reviews and a quick DVD release, is among his best work, period.<br /><br />This is a very chilling story, even though it doesn\\'t include a serial killer or anyone that physically dangerous for that matter. The concept of the film is based on an actual case of fraud that still has yet to be officially confirmed. In high school, I read an autobiography by a child named Anthony Godby Johnson, who suffered horrific abuse and eventually contracted AIDS as a result. I was moved by the story until I read reports online that Johnson may not actually exist. When I saw this movie, the confused feelings that Robin Williams so brilliantly portrayed resurfaced in my mind.<br /><br />Toni Collette probably gives her best dramatic performance too as the ultimately sociopathic \"caretaker\". Her role was a far cry from those she had in movies like \"Little Miss Sunshine\". There were even times she looked into the camera where I thought she was staring right at me. It takes a good actress to play that sort of role, and it\\'s this understated (yet well reviewed) role that makes Toni Collette probably one of the best actresses of this generation not to have even been nominated for an Academy Award (as of 2008). It\\'s incredible that there is at least one woman in this world who is like this, and it\\'s scary too.<br /><br />This is a good, dark film that I highly recommend. Be prepared to be unsettled, though, because this movie leaves you with a strange feeling at the end.',\n",
       " 'When I first read Armistead Maupins story I was taken in by the human drama displayed by Gabriel No one and those he cares about and loves. That being said, we have now been given the film version of an excellent story and are expected to see past the gloss of Hollywood...<br /><br />Writer Armistead Maupin and director Patrick Stettner have truly succeeded! <br /><br />With just the right amount of restraint Robin Williams captures the fragile essence of Gabriel and lets us see his struggle with issues of trust both in his personnel life(Jess) and the world around him(Donna).<br /><br />As we are introduced to the players in this drama we are reminded that nothing is ever as it seems and that the smallest event can change our lives irrevocably. The request to review a book written by a young man turns into a life changing event that helps Gabriel find the strength within himself to carry on and move forward.<br /><br />It\\'s to bad that most people will avoid this film. I only say that because the average American will probably think \"Robin Williams in a serious role? That didn\\'t work before!\" PLEASE GIVE THIS MOVIE A CHANCE! Robin Williams touches the darkness we all must find and go through in ourselves to be better people. Like his movie One Hour Photo he has stepped up as an actor and made another quality piece of art.<br /><br />Oh and before I forget, I believe Bobby Cannavale as Jess steals every scene he is in. He has the 1940\\'s leading man looks and screen presence. It\\'s this hacks opinion he could carry his own movie right now!!<br /><br />S~',\n",
       " \"I liked the film. Some of the action scenes were very interesting, tense and well done. I especially liked the opening scene which had a semi truck in it. A very tense action scene that seemed well done.<br /><br />Some of the transitional scenes were filmed in interesting ways such as time lapse photography, unusual colors, or interesting angles. Also the film is funny is several parts. I also liked how the evil guy was portrayed too. I'd give the film an 8 out of 10.\",\n",
       " 'There are many illnesses born in the mind of man which have been given life in modern times. Constant vigilance or accrued information in the realm of Pyschosis, have kept psychologists, counselors and psychiatrists busy with enough work to last them decades. Occasionally, some of these mental phenomenon are discover by those with no knowledge of their remedy or even of their existence. That is the premise of the film entitled \" The Night Listner.\" It tells the story of a popular radio host called Gabriel Noon (Robin Williams) who spends his evenings enthralling his audiences with vivid stories about Gay lifestyles. Perhaps its because his show is losing it\\'s authentic veneer which causes Noon to admit he is no longer himself. Feeling abandoned by both his lover Jess (Bobby Cannavale) and his and best friend (Joe Morton), he seeks shelter in his deepening despair and isolation. It is here, a mysterious voice in the night asks him for help. Noon needs to feel useful and reaches out to the desperate voice which belongs to a 14 year old boy called Peter (Rory Culkin). In reading the boy\\'s harrowing manuscript which depicts the early life and sexual abuse at the hands of his brutal parents, Noon is captivated and wants to help. However, things are not what they seem and Noon soon finds himself en-wrapped in an elusive and bizarre tale torn right out of a medical nightmare. This movie is pure Robin Williams and were it not for Toni Collette who plays Donna D. Logand, Sandra Oh as Anna and John Cullum as pop, this might be comical. Instead, this may prove to be one of William\\'s more serious performances. ***',\n",
       " \"I enjoyed The Night Listener very much. It's one of the better movies of the summer.<br /><br />Robin Williams gives one of his best performances. In fact, the entire cast was very good. All played just the right notes for their characters - not too much and not too little. Sandra Oh adds a wonderful comic touch. Toni Collette is great as the Mom, and never goes over the top. Everyone is very believable.<br /><br />It's a short movie, just under an hour and a half. I noticed the general release version is nine minutes shorter than the Sundance version. I wonder if some of the more disturbing images were cut from the movie.<br /><br />The director told a story and did it in straightforward fashion, which is a refreshing change from many directors these days who seem to think their job is to impress the audience rather than tell a story and tell it well.<br /><br />Do not be sucker punched by the previews and ads. It is not a Hitchcockian thriller. See The Night Listener because you want to see a good story told well. If you go expecting Hitchcock you will be disappointed.<br /><br />My only complaint with the movie was the ending. The director could have left a little more to the audience's imagination, but this is a minor quibble.\",\n",
       " \"The Night Listener is probably not one of William's best roles, but he makes a very interesting character in a somewhat odd but very different movie. I can guarantee you that you have never seen this kind of movie before. Some people maybe won't like the slow pacing of this movie, but I think it's the great plus of the movie. It is definitely one of the top movies that have come out the year 2006. It has a intriguing performance in a movie with a great content, dramatic feeling. This is no americanized movie. Neither is it a predictable movie. You just feel that it is a movie that has secrets which you have a hard time to determine what the outcome of it may be. This is no excellent movie that has everything, but hell, it's a damn good and very original movie.\",\n",
       " 'Like one of the previous commenters said, this had the foundations of a great movie but something happened on the way to delivery. Such a waste because Collette\\'s performance was eerie and Williams was believable. I just kept waiting for it to get better. I don\\'t think it was bad editing or needed another director, it could have just been the film. It came across as a Canadian movie, something like the first few seasons of X-Files. Not cheap, just hokey. Also, it needed a little more suspense. Something that makes you jump off your seat. The movie reached that moment then faded away; kind of like a false climax. I can see how being too suspenseful would have taken away from the \"reality\" of the story but I thought that part was reached when Gabriel was in the hospital looking for the boy. This movie needs to have a Director\\'s cut that tries to fix these problems.',\n",
       " \"The Night Listener held my attention, with Robin Williams shining as a New York City radio host who becomes enamored with his friendship with a 14 year old boy (Rory Culkin) who is very ill. Williams has never met the boy in person, as they have only been in contact by talking on the telephone. However, Williams' ex-boyfriend (nice job from Bobby Cannavale) raises doubt about the boy, which prompts Williams to arrange a meeting with him in person. What follows makes a permanent impact on Williams in a way he does not expect. I will leave it at that. Toni Collette also stars.<br /><br />I enjoyed this film, with Toni Collette giving a memorable portrayal of Culkin's adoptive mother. Sandra Oh also starred as Williams' friend. The Night Listener is inspired by actual events, and it has a somber, almost creepy silence throughout. At times it is predictable, no thanks to some of the reviews I read before seeing the movie and just due to logic, but I liked it anyway. I enjoy Williams in roles like this, more so than his comedic characters so that was an added bonus for me. Recommended. 8/10\",\n",
       " \"Popular radio storyteller Gabriel No one(Robin Williams,scraggy and speaking in hushed,hypnotic tones) becomes acquainted and friends with a fourteen-year-old boy from Wisconsin named Pete Logand(Rory Culkin),who has written a book detailing sexual abuse from his parents. To boot,Pete has AIDS and this compels Gabriel further still,since his partner Jess(Bobby Cannavale,good)happens to be a survivor of HIV himself. <br /><br />He also acquaints himself with Pete's guardian,a woman named Donna(Toni Collette,brilliant!)and when Gabriel decides he wants to meet and talk to the two of them in person and goes to Wisconsin,he discovers some secrets he was(naturally)not prepared to find.<br /><br />Based on real events that happened to Armistead Maupin(who co-wrote the screenplay with Terry Anderson)and directed by Patrick Stetner,this film moves a lot faster(90 min.,maybe a few minutes longer)than one might think a movie of this genre would run. That's good in that it keeps the action and storyline lean and clear. It's bad in that it leaves various holes in the plot and doesn't sew-up any of the plot openings or back-story. I'd rather not go into any great detail except to say that,if you are not familiar with Mr.Maupin's works or his personal story,you feel a little bit out of the loop here. Still,the performances by Williams( I would've loved to heard more of his narration,personally),Collette,Cannavale,Culkin and much of the supporting cast(the Waitress at the restaurant Collete's Donna frequents does a great job with what small part she has!)are top-notch and the mood established here--namely,the chilly,lonely dark exteriors of Wisconsin and New York--give a terrific framing for this story. It may have ends that don't tie together particularly well,but it's still a compelling enough story to stick with.\",\n",
       " \"If there is one thing to recommend about this film is that it is intriguing. The premise certainly draws the audience in because it is a mystery, and throughout the film there are hints that there is something dark lurking about. However, there is not much tension, and Williams' mild mannered portrayal doesn't do much to makes us relate to his obsession with the boy.<br /><br />Collete fares much better as the woman whose true nature and intentions are not very clear. The production felt rushed and holes are apparent. It certainly feels like a preview for a much more complete and better effort. The book is probably better.<br /><br />One thing is certain: Taupin must have written something truly good to have inspired at least one commendable effort.\",\n",
       " 'I absolutely LOVED this film! I do not at all relate to all the other comments I have read about it. I was COMPLETELY enthralled through every second! <br /><br />I found the story gripping, the acting intense, and the direction spot-on. I would literally jump every time the phone would ring close to the end of the movie. Even though there was nothing \"scary\" about the story itself, I was soundly on edge through the whole movie - and for the rest of my evening. <br /><br />I found that there were so many perfect choices made...the casting, the script, the little bits of humor sprinkled in it. There were so many points where the film could\\'ve gone for the cheap thrill, but it never did, and that for me put this movie above so many of the mediocre thrillers that have come out lately...and for the last number of years.']"
      ]
     },
     "execution_count": 101,
     "metadata": {},
     "output_type": "execute_result"
    }
   ],
   "source": [
    "total_text"
   ]
  },
  {
   "cell_type": "code",
   "execution_count": 102,
   "metadata": {},
   "outputs": [
    {
     "data": {
      "text/plain": [
       "40"
      ]
     },
     "execution_count": 102,
     "metadata": {},
     "output_type": "execute_result"
    }
   ],
   "source": [
    "len(total_text)"
   ]
  },
  {
   "cell_type": "code",
   "execution_count": 103,
   "metadata": {},
   "outputs": [
    {
     "data": {
      "text/plain": [
       "\"This isn't the comedic Robin Williams, nor is it the quirky/insane Robin Williams of recent thriller fame. This is a hybrid of the classic drama without over-dramatization, mixed with Robin's new love of the thriller. But this isn't a thriller, per se. This is more a mystery/suspense vehicle through which Williams attempts to locate a sick boy and his keeper.<br /><br />Also starring Sandra Oh and Rory Culkin, this Suspense Drama plays pretty much like a news report, until William's character gets close to achieving his goal.<br /><br />I must say that I was highly entertained, though this movie fails to teach, guide, inspect, or amuse. It felt more like I was watching a guy (Williams), as he was actually performing the actions, from a third person perspective. In other words, it felt real, and I was able to subscribe to the premise of the story.<br /><br />All in all, it's worth a watch, though it's definitely not Friday/Saturday night fare.<br /><br />It rates a 7.7/10 from...<br /><br />the Fiend :.\""
      ]
     },
     "execution_count": 103,
     "metadata": {},
     "output_type": "execute_result"
    }
   ],
   "source": [
    "total_text[25]"
   ]
  },
  {
   "cell_type": "code",
   "execution_count": null,
   "metadata": {},
   "outputs": [],
   "source": []
  },
  {
   "cell_type": "code",
   "execution_count": 104,
   "metadata": {},
   "outputs": [],
   "source": [
    "# x = np.array([\"pos\", \"neg\"])\n",
    "# class_Index = np.repeat(x, [len(lines_pos), len(lines_neg)], axis=0)"
   ]
  },
  {
   "cell_type": "code",
   "execution_count": 105,
   "metadata": {},
   "outputs": [],
   "source": [
    "neg_index = np.repeat('neg', 20)\n",
    "neg_index = list(neg_index)"
   ]
  },
  {
   "cell_type": "code",
   "execution_count": 106,
   "metadata": {},
   "outputs": [],
   "source": [
    " pos_index = np.repeat('pos', 20)\n",
    "pos_index = list(pos_index)"
   ]
  },
  {
   "cell_type": "code",
   "execution_count": 107,
   "metadata": {},
   "outputs": [],
   "source": [
    "class_index = neg_index+pos_index"
   ]
  },
  {
   "cell_type": "code",
   "execution_count": 108,
   "metadata": {},
   "outputs": [
    {
     "name": "stdout",
     "output_type": "stream",
     "text": [
      "['neg', 'neg', 'neg', 'neg', 'neg', 'neg', 'neg', 'neg', 'neg', 'neg', 'neg', 'neg', 'neg', 'neg', 'neg', 'neg', 'neg', 'neg', 'neg', 'neg', 'pos', 'pos', 'pos', 'pos', 'pos', 'pos', 'pos', 'pos', 'pos', 'pos', 'pos', 'pos', 'pos', 'pos', 'pos', 'pos', 'pos', 'pos', 'pos', 'pos']\n"
     ]
    }
   ],
   "source": [
    "print(class_index)"
   ]
  },
  {
   "cell_type": "code",
   "execution_count": 109,
   "metadata": {},
   "outputs": [],
   "source": [
    "stop_words = stopwords.words('english')"
   ]
  },
  {
   "cell_type": "code",
   "execution_count": 110,
   "metadata": {},
   "outputs": [],
   "source": [
    "vect = TfidfVectorizer(stop_words=stop_words).fit(total_text)"
   ]
  },
  {
   "cell_type": "code",
   "execution_count": 405,
   "metadata": {},
   "outputs": [],
   "source": [
    "# df(document frequency) - 전체 문서에서 특정 단어를 포함하는 문서의 빈도\n",
    "# tf(term frequency) - 특정 단어가 하나의 문서에서 나타난 빈도\n",
    "# tfidf - tf/df"
   ]
  },
  {
   "cell_type": "code",
   "execution_count": null,
   "metadata": {},
   "outputs": [],
   "source": []
  },
  {
   "cell_type": "code",
   "execution_count": null,
   "metadata": {},
   "outputs": [],
   "source": []
  },
  {
   "cell_type": "code",
   "execution_count": 115,
   "metadata": {},
   "outputs": [],
   "source": [
    "X_train_vectorized = vect.transform(total_text)\n",
    "\n",
    "# X_train_vectorized.index = class_Index"
   ]
  },
  {
   "cell_type": "code",
   "execution_count": 116,
   "metadata": {},
   "outputs": [
    {
     "data": {
      "text/plain": [
       "<40x2089 sparse matrix of type '<class 'numpy.float64'>'\n",
       "\twith 3704 stored elements in Compressed Sparse Row format>"
      ]
     },
     "execution_count": 116,
     "metadata": {},
     "output_type": "execute_result"
    }
   ],
   "source": [
    "X_train_vectorized"
   ]
  },
  {
   "cell_type": "code",
   "execution_count": 117,
   "metadata": {},
   "outputs": [
    {
     "name": "stderr",
     "output_type": "stream",
     "text": [
      "C:\\Users\\user\\Anaconda3\\lib\\site-packages\\sklearn\\linear_model\\logistic.py:433: FutureWarning: Default solver will be changed to 'lbfgs' in 0.22. Specify a solver to silence this warning.\n",
      "  FutureWarning)\n"
     ]
    },
    {
     "data": {
      "text/plain": [
       "LogisticRegression(C=1.0, class_weight=None, dual=False, fit_intercept=True,\n",
       "          intercept_scaling=1, max_iter=100, multi_class='warn',\n",
       "          n_jobs=None, penalty='l2', random_state=None, solver='warn',\n",
       "          tol=0.0001, verbose=0, warm_start=False)"
      ]
     },
     "execution_count": 117,
     "metadata": {},
     "output_type": "execute_result"
    }
   ],
   "source": [
    "# Logistic 예측모델 작성\n",
    "from sklearn.linear_model import LogisticRegression\n",
    "from sklearn.tree import DecisionTreeClassifier\n",
    "logmodel = LogisticRegression()\n",
    "logmodel.fit(X_train_vectorized,class_index)"
   ]
  },
  {
   "cell_type": "code",
   "execution_count": 125,
   "metadata": {},
   "outputs": [],
   "source": [
    "pos_review_test=(glob.glob(\"data\\\\aclimdb\\\\train\\\\pos\\\\*.txt\"))[55]"
   ]
  },
  {
   "cell_type": "code",
   "execution_count": 126,
   "metadata": {},
   "outputs": [],
   "source": [
    "test = []\n",
    "f = open(pos_review_test,'r')\n",
    "test.append(f.readlines()[0])\n",
    "f.close()"
   ]
  },
  {
   "cell_type": "code",
   "execution_count": 127,
   "metadata": {},
   "outputs": [
    {
     "data": {
      "text/plain": [
       "array(['pos'], dtype='<U3')"
      ]
     },
     "execution_count": 127,
     "metadata": {},
     "output_type": "execute_result"
    }
   ],
   "source": [
    "predictions = logmodel.predict(vect.transform(test))\n",
    "predictions"
   ]
  },
  {
   "cell_type": "code",
   "execution_count": 128,
   "metadata": {},
   "outputs": [
    {
     "data": {
      "text/plain": [
       "array(['neg'], dtype='<U3')"
      ]
     },
     "execution_count": 128,
     "metadata": {},
     "output_type": "execute_result"
    }
   ],
   "source": [
    "dTree = DecisionTreeClassifier()\n",
    "dTree.fit(X_train_vectorized,class_index)\n",
    "prediction2 = dTree.predict(vect.transform(test))\n",
    "prediction2"
   ]
  },
  {
   "cell_type": "code",
   "execution_count": 129,
   "metadata": {},
   "outputs": [],
   "source": [
    "# DecisionTree 감성분석 모델 예측"
   ]
  },
  {
   "cell_type": "code",
   "execution_count": null,
   "metadata": {},
   "outputs": [],
   "source": []
  },
  {
   "cell_type": "code",
   "execution_count": null,
   "metadata": {},
   "outputs": [],
   "source": []
  },
  {
   "cell_type": "code",
   "execution_count": null,
   "metadata": {},
   "outputs": [],
   "source": []
  },
  {
   "cell_type": "code",
   "execution_count": null,
   "metadata": {},
   "outputs": [],
   "source": []
  },
  {
   "cell_type": "code",
   "execution_count": null,
   "metadata": {},
   "outputs": [],
   "source": []
  },
  {
   "cell_type": "code",
   "execution_count": null,
   "metadata": {},
   "outputs": [],
   "source": []
  }
 ],
 "metadata": {
  "kernelspec": {
   "display_name": "Python 3",
   "language": "python",
   "name": "python3"
  },
  "language_info": {
   "codemirror_mode": {
    "name": "ipython",
    "version": 3
   },
   "file_extension": ".py",
   "mimetype": "text/x-python",
   "name": "python",
   "nbconvert_exporter": "python",
   "pygments_lexer": "ipython3",
   "version": "3.7.3"
  }
 },
 "nbformat": 4,
 "nbformat_minor": 2
}
